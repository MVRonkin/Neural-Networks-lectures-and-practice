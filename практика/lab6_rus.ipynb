{
  "nbformat": 4,
  "nbformat_minor": 0,
  "metadata": {
    "kernelspec": {
      "display_name": "Python 3",
      "language": "python",
      "name": "python3"
    },
    "language_info": {
      "codemirror_mode": {
        "name": "ipython",
        "version": 3
      },
      "file_extension": ".py",
      "mimetype": "text/x-python",
      "name": "python",
      "nbconvert_exporter": "python",
      "pygments_lexer": "ipython3",
      "version": "3.7.0"
    },
    "colab": {
      "name": "lab6_rus.ipynb",
      "provenance": []
    }
  },
  "cells": [
    {
      "cell_type": "markdown",
      "metadata": {
        "id": "NGJeybGmqOhe"
      },
      "source": [
        "# Сверточные нейронные сети в PyTorch"
      ]
    },
    {
      "cell_type": "markdown",
      "metadata": {
        "id": "_slzV1gBqOhe"
      },
      "source": [
        "---"
      ]
    },
    {
      "cell_type": "markdown",
      "metadata": {
        "id": "V_s0BkBUqOhe"
      },
      "source": [
        "## Сверточная нейронная сеть классификации изображений"
      ]
    },
    {
      "cell_type": "code",
      "metadata": {
        "id": "1SdD6J7hqOhe"
      },
      "source": [
        "import matplotlib.pyplot as plt\n",
        "import numpy as np"
      ],
      "execution_count": null,
      "outputs": []
    },
    {
      "cell_type": "code",
      "metadata": {
        "id": "LGHI9y6vqOhf"
      },
      "source": [
        "import torch\n",
        "import torch.nn as nn\n",
        "import torch.nn.functional as F\n",
        "import torch.optim as optim\n",
        "\n",
        "import torchvision\n",
        "import torchvision.transforms as transforms\n",
        "\n",
        "try:  \n",
        "  from torchsummary import summary\n",
        "except:\n",
        "  !pip install -U torchsummary\n",
        "  from torchsummary import summary"
      ],
      "execution_count": null,
      "outputs": []
    },
    {
      "cell_type": "markdown",
      "metadata": {
        "id": "9grafA9fqOhf"
      },
      "source": [
        "Рассмотрим задачу классификации для датасета Cifar10 - это классический датасет с изображениями, относящимися к 10 классам.\n",
        "Каждое изображение трех-цветное и имеет размер 32 на 32 пикслея (то есть представляет тензор размером 3х32х32).\n",
        "\n",
        "Например Cifar10 содержит следующие изображения.\n",
        "\n",
        "![](https://debuggercafe.com/wp-content/uploads/2019/10/cifar10_plot.png)"
      ]
    },
    {
      "cell_type": "markdown",
      "metadata": {
        "id": "zMxy_BKBqOhf"
      },
      "source": [
        "Загрузим датасет и проведем его нормализацию"
      ]
    },
    {
      "cell_type": "code",
      "metadata": {
        "id": "TgULYeyyqOhf",
        "outputId": "a755bc09-8fb0-4a50-b228-dd9bb1569a4d"
      },
      "source": [
        "transform =\\\n",
        "    transforms.Compose([transforms.ToTensor(),\n",
        "                        transforms.Normalize( \n",
        "                            mean = (0.5, 0.5, 0.5), \n",
        "                            std  = (0.5, 0.5, 0.5)  )\n",
        "                       ])\n",
        "\n",
        "BATCH_SIZE = 4\n",
        "\n",
        "trainset = torchvision.datasets.CIFAR10(root      = './data', \n",
        "                                        train     = True,\n",
        "                                        download  = True, \n",
        "                                        transform = transform)\n",
        "\n",
        "trainloader = torch.utils.data.DataLoader(trainset, \n",
        "                                          batch_size = BATCH_SIZE,\n",
        "                                          shuffle    = True)\n",
        "\n",
        "testset = torchvision.datasets.CIFAR10(root      = './data', \n",
        "                                       train     = False,\n",
        "                                       download  = True, \n",
        "                                       transform = transform)\n",
        "\n",
        "testloader = torch.utils.data.DataLoader(testset, \n",
        "                                         batch_size = BATCH_SIZE,\n",
        "                                         shuffle    = False)\n",
        "\n",
        "classes = ('plane', 'car', 'bird', 'cat','deer', 'dog', 'frog', 'horse', 'ship', 'truck')"
      ],
      "execution_count": null,
      "outputs": [
        {
          "output_type": "stream",
          "text": [
            "Files already downloaded and verified\n",
            "Files already downloaded and verified\n"
          ],
          "name": "stdout"
        }
      ]
    },
    {
      "cell_type": "markdown",
      "metadata": {
        "id": "bNaSI2HjqOhg"
      },
      "source": [
        "Посмотрим на примеры изображений"
      ]
    },
    {
      "cell_type": "code",
      "metadata": {
        "id": "khfmbrD4qOhg",
        "outputId": "1499ebf6-2fd6-4e18-f48b-61781bf19703"
      },
      "source": [
        "def imshow(img):\n",
        "    img = img / 2 + 0.5     # unnormalize\n",
        "    npimg = img.numpy()\n",
        "    \n",
        "    plt.figure(figsize=(16,4))\n",
        "    plt.imshow(np.transpose(npimg, (1, 2, 0)))\n",
        "    plt.show()\n",
        "\n",
        "batch = trainloader\n",
        "\n",
        "dataiter = iter(trainloader)\n",
        "images, labels = dataiter.next()\n",
        "\n",
        "imshow(torchvision.utils.make_grid(images))\n",
        "\n",
        "print(' '.join('%5s' % classes[labels[j]] for j in range(4)))"
      ],
      "execution_count": null,
      "outputs": [
        {
          "output_type": "display_data",
          "data": {
            "image/png": "[encoded data removed]",
            "text/plain": [
              "<Figure size 1152x288 with 1 Axes>"
            ]
          },
          "metadata": {
            "tags": [],
            "needs_background": "light"
          }
        },
        {
          "output_type": "stream",
          "text": [
            "  dog horse  frog  bird\n"
          ],
          "name": "stdout"
        }
      ]
    },
    {
      "cell_type": "markdown",
      "metadata": {
        "id": "mNkJhfPMqOhg"
      },
      "source": [
        "Теперь опишем класс сети. Будем использовать классическую сеть LeNet. Данная сеть была предложена в 1998 году и является одной из первых попыток разработки современного deep learning. \n",
        "\n",
        "Сеть имеет следующую архитектуру\n",
        "\n",
        "![](https://miro.medium.com/max/3600/1*-NnRGtEsiLHfNnUCSXoa-Q.png)"
      ]
    },
    {
      "cell_type": "markdown",
      "metadata": {
        "id": "KyeP6nBlqOhg"
      },
      "source": [
        "Таким образом сеть имеет:\n",
        " * входной слой для изображений 32х32 ( в нашем случае 3х32х32),\n",
        " * два сверточных слоя, \n",
        " * каждый сверточный слой имеет также макс-пулинг субдискретизацию,\n",
        " * слой векторизации карты признаков (приобразования матрицы в вектор путем ее \"разворачивания\",\n",
        " * два полносвязных внутренних слоя,\n",
        " * выходной слой - слой классификации с 10 выходами.\n",
        "\n",
        "Также особенности архитектуры:\n",
        "* свертка валидная (с уменьшением размера карты признаков на размер ядра - 1)$^*$;\n",
        "* ядро свертки имеет размер 5х5 (размер ядра = 5);\n",
        "* макс-пулин выполняется с шагом 2 по тайлам 2х2;\n",
        "* первый сверточный слой выдает 6 карт признаков 14х14 (после макс-пулинга);\n",
        "* второй сверточный слой выдает 16 карт признаков 5х5 (после макс-пулинга);\n",
        "* слой разворачивания принимает 16 карт признаков 5х5 и выдет вектор $1х16*5*5$ (1х400);\n",
        "* первый полносвязный слой имеет 120 выходов (120 перцептронов);\n",
        "* второй полносвязный слой имеет на выходе 84 перцептрона.\n",
        "\n",
        "$^*$Вобщем случае размер выхода свертки можно расчитать как: W=(W−F+2P)/S+1, where W is input size, F is kernel size, S is stride applied, and P is padding. "
      ]
    },
    {
      "cell_type": "markdown",
      "metadata": {
        "id": "F5CJ8B-wqOhg"
      },
      "source": [
        "**Реализуем сверточную сеть LeNet в виде класса, !Однако, для учебных целей добавим в сеть батч-нормализацию и дроп-ауты**"
      ]
    },
    {
      "cell_type": "code",
      "metadata": {
        "id": "G7lsTeGUqOhg"
      },
      "source": [
        "class CNNModel(nn.Module):\n",
        "    \n",
        "    N_CLASSES = 10  \n",
        "    \n",
        "    def __init__(self):\n",
        "        super(CNNModel, self).__init__()\n",
        "        \n",
        "        # convolution\n",
        "        self.conv1   = nn.Conv2d(in_channels  = 3, \n",
        "                                 out_channels = 6, \n",
        "                                 kernel_size  = 5)       \n",
        "\n",
        "        self.conv2   = nn.Conv2d(in_channels  = 6, \n",
        "                                 out_channels = 16,\n",
        "                                 kernel_size  = 5)\n",
        "        \n",
        "        self.bn  = nn.BatchNorm2d(16)  \n",
        "        self.dropout = nn.Dropout(0.1)\n",
        "        \n",
        "        self.maxpool = nn.MaxPool2d(kernel_size = 2, \n",
        "                                    stride      = 2)\n",
        "        \n",
        "        # classification\n",
        "        self.fc1 = nn.Linear(in_features  = 16 * 5 * 5, \n",
        "                             out_features = 120)\n",
        "        \n",
        "        self.fc2 = nn.Linear(in_features  = 120, \n",
        "                             out_features = 84)\n",
        "        \n",
        "        self.fc_out = nn.Linear(in_features = 84, \n",
        "                                out_features = self.N_CLASSES)\n",
        "    \n",
        "    # specific operation\n",
        "    def flatten(self, x):\n",
        "        return x.view(-1, 16 * 5 * 5)\n",
        "    \n",
        "    def forward(self, x):\n",
        "        \n",
        "        # 1-st layer\n",
        "        x = self.conv1(x)\n",
        "        x = torch.relu(x)        \n",
        "        x = self.maxpool(x)\n",
        "        x = self.dropout(x)\n",
        "        \n",
        "        #2-nd layer\n",
        "        x = self.conv2(x)         \n",
        "        x = self.bn(x)        \n",
        "        x = torch.relu(x)        \n",
        "        x = self.maxpool(x)\n",
        "\n",
        "        #flatten\n",
        "        x = self.flatten(x)\n",
        "        \n",
        "        # 1-st fc layer\n",
        "        x = self.fc1(x)\n",
        "        x = torch.relu(x)\n",
        "        \n",
        "        # 2-nd fc layer\n",
        "        x = self.fc2(x)\n",
        "        x = torch.relu(x)\n",
        "        \n",
        "        # output layer\n",
        "        x = self.fc_out(x)\n",
        "        \n",
        "        return x#torch.softmax(x, dim=1)"
      ],
      "execution_count": null,
      "outputs": []
    },
    {
      "cell_type": "code",
      "metadata": {
        "id": "n1wg_3b1qOhg",
        "outputId": "d4de1382-9559-43ef-f87f-061ed8647c1d"
      },
      "source": [
        "print(images.shape)"
      ],
      "execution_count": null,
      "outputs": [
        {
          "output_type": "stream",
          "text": [
            "torch.Size([4, 3, 32, 32])\n"
          ],
          "name": "stdout"
        }
      ]
    },
    {
      "cell_type": "markdown",
      "metadata": {
        "id": "iY8XZwb6qOhg"
      },
      "source": [
        "**Опишим настрой**"
      ]
    },
    {
      "cell_type": "code",
      "metadata": {
        "id": "AAFRXpK-qOhg"
      },
      "source": [
        "LR = 0.001\n",
        "cnn_net   = CNNModel()\n",
        "criterion = nn.CrossEntropyLoss()\n",
        "optimizer = torch.optim.Adam(cnn_net.parameters(), lr=LR)\n"
      ],
      "execution_count": null,
      "outputs": []
    },
    {
      "cell_type": "markdown",
      "metadata": {
        "id": "TMMEP0FBqOhh"
      },
      "source": [
        "Посмотрим структуру параметров созданной сети"
      ]
    },
    {
      "cell_type": "code",
      "metadata": {
        "id": "Zy9FMZaWqOhh",
        "outputId": "a20acec7-dcec-4df3-c562-37a2b36e7a0e"
      },
      "source": [
        "for name, param in cnn_net.named_parameters():\n",
        "    print(name, '\\t structure =',list(param.size()))"
      ],
      "execution_count": null,
      "outputs": [
        {
          "output_type": "stream",
          "text": [
            "conv1.weight \t structure = [6, 3, 5, 5]\n",
            "conv1.bias \t structure = [6]\n",
            "conv2.weight \t structure = [16, 6, 5, 5]\n",
            "conv2.bias \t structure = [16]\n",
            "bn.weight \t structure = [16]\n",
            "bn.bias \t structure = [16]\n",
            "fc1.weight \t structure = [120, 400]\n",
            "fc1.bias \t structure = [120]\n",
            "fc2.weight \t structure = [84, 120]\n",
            "fc2.bias \t structure = [84]\n",
            "fc_out.weight \t structure = [10, 84]\n",
            "fc_out.bias \t structure = [10]\n"
          ],
          "name": "stdout"
        }
      ]
    },
    {
      "cell_type": "code",
      "metadata": {
        "id": "qP-hu0bHqOhh",
        "outputId": "9b9d44d2-e659-4379-a7b8-7dd5edc7d6fc"
      },
      "source": [
        "summary(cnn_net,input_size=(3, 32, 32))"
      ],
      "execution_count": null,
      "outputs": [
        {
          "output_type": "stream",
          "text": [
            "----------------------------------------------------------------\n",
            "        Layer (type)               Output Shape         Param #\n",
            "================================================================\n",
            "            Conv2d-1            [-1, 6, 28, 28]             456\n",
            "         MaxPool2d-2            [-1, 6, 14, 14]               0\n",
            "           Dropout-3            [-1, 6, 14, 14]               0\n",
            "            Conv2d-4           [-1, 16, 10, 10]           2,416\n",
            "       BatchNorm2d-5           [-1, 16, 10, 10]              32\n",
            "         MaxPool2d-6             [-1, 16, 5, 5]               0\n",
            "            Linear-7                  [-1, 120]          48,120\n",
            "            Linear-8                   [-1, 84]          10,164\n",
            "            Linear-9                   [-1, 10]             850\n",
            "================================================================\n",
            "Total params: 62,038\n",
            "Trainable params: 62,038\n",
            "Non-trainable params: 0\n",
            "----------------------------------------------------------------\n",
            "Input size (MB): 0.01\n",
            "Forward/backward pass size (MB): 0.08\n",
            "Params size (MB): 0.24\n",
            "Estimated Total Size (MB): 0.33\n",
            "----------------------------------------------------------------\n"
          ],
          "name": "stdout"
        }
      ]
    },
    {
      "cell_type": "markdown",
      "metadata": {
        "id": "8Oz5Q80yqOhh"
      },
      "source": [
        "**Процесс обучения**"
      ]
    },
    {
      "cell_type": "code",
      "metadata": {
        "id": "FPyqq-tYqOhh",
        "outputId": "8a50dee9-d05b-4417-f2e2-441247ed3cf5"
      },
      "source": [
        "EPOHS = 5\n",
        "\n",
        "for epoch in range(EPOHS):  # loop over the dataset multiple times\n",
        "    cnn_net.train()\n",
        "    running_loss = 0.0\n",
        "    for i, data in enumerate(trainloader, 0):\n",
        "        \n",
        "        # get the inputs; data is a list of [inputs, labels]\n",
        "        inputs, labels = data\n",
        "\n",
        "        # zero the parameter gradients\n",
        "        optimizer.zero_grad()\n",
        "\n",
        "        # forward + backward + optimize        \n",
        "        outputs = cnn_net(inputs)        \n",
        "        loss    = criterion(outputs, labels)\n",
        "        loss.backward()\n",
        "        optimizer.step()\n",
        "\n",
        "        # print statistics\n",
        "        running_loss += loss.item()\n",
        "        \n",
        "        if i % 2000 == 1999:    # print every 2000 mini-batches\n",
        "            print('[%d, %5d] loss: %.3f' %\n",
        "                  (epoch + 1, i + 1, running_loss / 2000))\n",
        "            running_loss = 0.0\n",
        "\n",
        "print('Finished Training')"
      ],
      "execution_count": null,
      "outputs": [
        {
          "output_type": "stream",
          "text": [
            "[1,  2000] loss: 1.894\n",
            "[1,  4000] loss: 1.706\n",
            "[1,  6000] loss: 1.613\n",
            "[1,  8000] loss: 1.547\n",
            "[1, 10000] loss: 1.502\n",
            "[1, 12000] loss: 1.478\n",
            "[2,  2000] loss: 1.432\n",
            "[2,  4000] loss: 1.392\n",
            "[2,  6000] loss: 1.385\n",
            "[2,  8000] loss: 1.340\n",
            "[2, 10000] loss: 1.351\n",
            "[2, 12000] loss: 1.325\n",
            "[3,  2000] loss: 1.281\n",
            "[3,  4000] loss: 1.275\n",
            "[3,  6000] loss: 1.289\n",
            "[3,  8000] loss: 1.263\n",
            "[3, 10000] loss: 1.246\n",
            "[3, 12000] loss: 1.255\n",
            "[4,  2000] loss: 1.217\n",
            "[4,  4000] loss: 1.226\n",
            "[4,  6000] loss: 1.201\n",
            "[4,  8000] loss: 1.205\n",
            "[4, 10000] loss: 1.205\n",
            "[4, 12000] loss: 1.188\n",
            "[5,  2000] loss: 1.143\n",
            "[5,  4000] loss: 1.150\n",
            "[5,  6000] loss: 1.161\n",
            "[5,  8000] loss: 1.145\n",
            "[5, 10000] loss: 1.166\n",
            "[5, 12000] loss: 1.165\n",
            "Finished Training\n"
          ],
          "name": "stdout"
        }
      ]
    },
    {
      "cell_type": "markdown",
      "metadata": {
        "id": "bxNd7DGJqOhh"
      },
      "source": [
        "**Сохраним результат**"
      ]
    },
    {
      "cell_type": "code",
      "metadata": {
        "id": "c_5GzLrnqOhh"
      },
      "source": [
        "PATH = './cifar_net.pth'\n",
        "torch.save(cnn_net.state_dict(), PATH)"
      ],
      "execution_count": null,
      "outputs": []
    },
    {
      "cell_type": "markdown",
      "metadata": {
        "id": "2SpaMlYiqOhh"
      },
      "source": [
        "**Загрузим результат**"
      ]
    },
    {
      "cell_type": "code",
      "metadata": {
        "id": "vU1W2uZRqOhh",
        "outputId": "4537075e-96ef-4e86-c868-f55e41f97e88"
      },
      "source": [
        "cnn_net = CNNModel()\n",
        "cnn_net.load_state_dict(torch.load(PATH))"
      ],
      "execution_count": null,
      "outputs": [
        {
          "output_type": "execute_result",
          "data": {
            "text/plain": [
              "<All keys matched successfully>"
            ]
          },
          "metadata": {
            "tags": []
          },
          "execution_count": 12
        }
      ]
    },
    {
      "cell_type": "markdown",
      "metadata": {
        "id": "0A7VXC_YqOhh"
      },
      "source": [
        "**Проверим результат на тесте**"
      ]
    },
    {
      "cell_type": "code",
      "metadata": {
        "id": "BoYG-zWHqOhh",
        "outputId": "1f28bae5-9be3-419d-818d-7d4e14d3c5a3"
      },
      "source": [
        "cnn_net.eval()\n",
        "dataiter = iter(testloader)\n",
        "images, labels = dataiter.next()\n",
        "outputs = cnn_net(images)\n",
        "print(outputs)"
      ],
      "execution_count": null,
      "outputs": [
        {
          "output_type": "stream",
          "text": [
            "tensor([[-3.2837, -3.9673, -1.5299,  0.7314, -1.7745, -0.0486, -0.6104, -3.3757,\n",
            "         -0.9014, -3.8526],\n",
            "        [-0.2538,  3.5094, -5.6621, -6.5749, -7.8627, -6.9011, -7.5081, -8.6892,\n",
            "          1.7389, -1.0329],\n",
            "        [ 0.5637,  0.0210, -2.3020, -3.8727, -4.1313, -3.7516, -4.5720, -4.9599,\n",
            "          1.0423, -1.8073],\n",
            "        [ 1.0702, -1.3061, -2.3262, -4.3609, -3.3588, -4.0132, -5.9665, -3.8883,\n",
            "          1.4958, -4.3026]], grad_fn=<AddmmBackward>)\n"
          ],
          "name": "stdout"
        }
      ]
    },
    {
      "cell_type": "markdown",
      "metadata": {
        "id": "QbZHlDMlqOhh"
      },
      "source": [
        "**Приведем результат к более понятному виду**\n",
        "Каждый номер в выходном тензоре будет класс соответствующий картинке батча"
      ]
    },
    {
      "cell_type": "code",
      "metadata": {
        "id": "gjUv3Gy4qOhh",
        "outputId": "646468f2-acd6-43b4-a7aa-e52b5cd1f831"
      },
      "source": [
        "_, predicted = torch.max(outputs, 1)\n",
        "print(predicted)"
      ],
      "execution_count": null,
      "outputs": [
        {
          "output_type": "stream",
          "text": [
            "tensor([3, 1, 8, 8])\n"
          ],
          "name": "stdout"
        }
      ]
    },
    {
      "cell_type": "markdown",
      "metadata": {
        "id": "Y-gpS871qOhh"
      },
      "source": [
        "**Посмотрим, что получилось**"
      ]
    },
    {
      "cell_type": "code",
      "metadata": {
        "id": "QwsWqVNvqOhh",
        "outputId": "33698e96-ff9e-4e95-e816-c8500c9365d9"
      },
      "source": [
        "# print images\n",
        "imshow(torchvision.utils.make_grid(images))\n",
        "print('GroundTruth: ', ' '.join('%5s' % classes[labels[j]] for j in range(4)))\n",
        "print('Predicted :  ', ' '.join('%5s' % classes[predicted[j]] for j in range(4)))"
      ],
      "execution_count": null,
      "outputs": [
        {
          "output_type": "display_data",
          "data": {
            "image/png": "[encoded data removed]",
            "text/plain": [
              "<Figure size 1152x288 with 1 Axes>"
            ]
          },
          "metadata": {
            "tags": [],
            "needs_background": "light"
          }
        },
        {
          "output_type": "stream",
          "text": [
            "GroundTruth:    cat  ship  ship plane\n",
            "Predicted :     cat   car  ship  ship\n"
          ],
          "name": "stdout"
        }
      ]
    },
    {
      "cell_type": "markdown",
      "metadata": {
        "id": "wmCtOCURqOhh"
      },
      "source": [
        "**Попробуем посчитать точность как число правильно классифицированных изобаржений к общему числу изображений**"
      ]
    },
    {
      "cell_type": "code",
      "metadata": {
        "id": "c57o9FL2qOhh",
        "outputId": "553e1be3-6f44-4976-fa1c-b04640b16b78"
      },
      "source": [
        "cnn_net.eval()\n",
        "correct = 0\n",
        "total   = 0\n",
        "with torch.no_grad():\n",
        "    for data in testloader:\n",
        "        images, labels = data\n",
        "        outputs        = cnn_net(images)\n",
        "        _, predicted    = torch.max(outputs.data, 1)\n",
        "        total   += labels.size(0)\n",
        "        correct += (predicted == labels).sum().item()\n",
        "\n",
        "print('Accuracy of the network on the 10000 test images: %d %%' % (\n",
        "    100 * correct / total))"
      ],
      "execution_count": null,
      "outputs": [
        {
          "output_type": "stream",
          "text": [
            "Accuracy of the network on the 10000 test images: 59 %\n"
          ],
          "name": "stdout"
        }
      ]
    },
    {
      "cell_type": "markdown",
      "metadata": {
        "id": "jR1L29PzqOhh"
      },
      "source": [
        "**Проведем анализ по каждому классу**"
      ]
    },
    {
      "cell_type": "code",
      "metadata": {
        "id": "ZWtxDLkgqOhh",
        "outputId": "6158960a-c8ec-4221-deca-41279009117b"
      },
      "source": [
        "cnn_net.eval()\n",
        "class_correct = list(0. for i in range(10))\n",
        "class_total   = list(0. for i in range(10))\n",
        "with torch.no_grad():\n",
        "    for data in testloader:\n",
        "        images, labels = data\n",
        "        outputs = cnn_net(images)\n",
        "        _, predicted = torch.max(outputs, 1)\n",
        "        c = (predicted == labels).squeeze()\n",
        "        for i in range(4):\n",
        "            label = labels[i]\n",
        "            class_correct[label] += c[i].item()\n",
        "            class_total[label]   += 1\n",
        "\n",
        "\n",
        "for i in range(10):\n",
        "    print('Accuracy of %5s : %2d %%' % (\n",
        "        classes[i], 100 * class_correct[i] / class_total[i]))"
      ],
      "execution_count": null,
      "outputs": [
        {
          "output_type": "stream",
          "text": [
            "Accuracy of plane : 76 %\n",
            "Accuracy of   car : 83 %\n",
            "Accuracy of  bird : 52 %\n",
            "Accuracy of   cat : 30 %\n",
            "Accuracy of  deer : 49 %\n",
            "Accuracy of   dog : 43 %\n",
            "Accuracy of  frog : 67 %\n",
            "Accuracy of horse : 70 %\n",
            "Accuracy of  ship : 65 %\n",
            "Accuracy of truck : 57 %\n"
          ],
          "name": "stdout"
        }
      ]
    },
    {
      "cell_type": "markdown",
      "metadata": {
        "id": "E4m8xWrlqOhh"
      },
      "source": [
        "#### Упражнение 1 \n",
        "Добавьте к процессу обучения валидацию и добавьте валидационный датасет."
      ]
    },
    {
      "cell_type": "code",
      "metadata": {
        "id": "hx-i_WrbqOhh"
      },
      "source": [
        ""
      ],
      "execution_count": null,
      "outputs": []
    },
    {
      "cell_type": "markdown",
      "metadata": {
        "id": "inl4hZzFqOhi"
      },
      "source": [
        "#### Упражнение 2\n",
        "Улучшьте архитектуру сети путем использования доп.слоев батч-нормализации, дроп-аутов, добавлением слоев и друхи техник."
      ]
    },
    {
      "cell_type": "code",
      "metadata": {
        "id": "D9v2hFKkqOhi"
      },
      "source": [
        ""
      ],
      "execution_count": null,
      "outputs": []
    },
    {
      "cell_type": "markdown",
      "metadata": {
        "id": "VYEXVFIXqOhi"
      },
      "source": [
        "#### Упражнение 3\n",
        "Проанализируйте полученные результаты, уберите из обучающей выборки класс с наименьшей точностью, проведите повторное обучение.\n"
      ]
    },
    {
      "cell_type": "code",
      "metadata": {
        "id": "DFG8LEkkqOhi"
      },
      "source": [
        ""
      ],
      "execution_count": null,
      "outputs": []
    },
    {
      "cell_type": "markdown",
      "metadata": {
        "id": "uHEAUmWXqOhi"
      },
      "source": [
        "- - -"
      ]
    },
    {
      "cell_type": "markdown",
      "metadata": {
        "id": "W2q3kmAQqOhi"
      },
      "source": [
        "## Оптимизация  обучения модели сверточной сети"
      ]
    },
    {
      "cell_type": "markdown",
      "metadata": {
        "id": "U-JaxWBCqOhi"
      },
      "source": [
        "**Инициализация весов модели**"
      ]
    },
    {
      "cell_type": "code",
      "metadata": {
        "id": "yGhScOO5qOhi"
      },
      "source": [
        "cnn_net = CNNModel()\n",
        "        \n",
        "def init_weights(m):\n",
        "    # for differernt types of layers different initialization could be applied\n",
        "    if type(m) == nn.Linear:\n",
        "        torch.nn.init.kaiming_normal_(m.weight)\n",
        "        m.bias.data.fill_(0.01)\n",
        "    \n",
        "    #same as type(m) == nn.Conv2d, but more correct to use isinstance   \n",
        "    if isinstance(m, nn.Conv2d):  \n",
        "        torch.nn.init.xavier_uniform_(m.weight)\n",
        "        torch.nn.init.zeros_(m.bias)   \n",
        "\n",
        "cnn_net.apply(init_weights);"
      ],
      "execution_count": null,
      "outputs": []
    },
    {
      "cell_type": "code",
      "metadata": {
        "id": "EU6yCJ1lqOhi"
      },
      "source": [
        "criterion = nn.CrossEntropyLoss()\n",
        "optimizer = torch.optim.Adam(cnn_net.parameters(), lr=0.001)"
      ],
      "execution_count": null,
      "outputs": []
    },
    {
      "cell_type": "markdown",
      "metadata": {
        "id": "2woUaaJHqOhi"
      },
      "source": [
        "Проверим как прошла инициализация для значений смещений"
      ]
    },
    {
      "cell_type": "code",
      "metadata": {
        "id": "5XnT1dbqqOhi",
        "outputId": "0ab6b05f-badc-493b-c5ea-e4547ee1e5c0"
      },
      "source": [
        "for name, p in cnn_net.named_parameters():    \n",
        "    if 'bias' in name:\n",
        "        print(p,'\\n')"
      ],
      "execution_count": null,
      "outputs": [
        {
          "output_type": "stream",
          "text": [
            "Parameter containing:\n",
            "tensor([0., 0., 0., 0., 0., 0.], requires_grad=True) \n",
            "\n",
            "Parameter containing:\n",
            "tensor([0., 0., 0., 0., 0., 0., 0., 0., 0., 0., 0., 0., 0., 0., 0., 0.],\n",
            "       requires_grad=True) \n",
            "\n",
            "Parameter containing:\n",
            "tensor([0., 0., 0., 0., 0., 0., 0., 0., 0., 0., 0., 0., 0., 0., 0., 0.],\n",
            "       requires_grad=True) \n",
            "\n",
            "Parameter containing:\n",
            "tensor([0.0100, 0.0100, 0.0100, 0.0100, 0.0100, 0.0100, 0.0100, 0.0100, 0.0100,\n",
            "        0.0100, 0.0100, 0.0100, 0.0100, 0.0100, 0.0100, 0.0100, 0.0100, 0.0100,\n",
            "        0.0100, 0.0100, 0.0100, 0.0100, 0.0100, 0.0100, 0.0100, 0.0100, 0.0100,\n",
            "        0.0100, 0.0100, 0.0100, 0.0100, 0.0100, 0.0100, 0.0100, 0.0100, 0.0100,\n",
            "        0.0100, 0.0100, 0.0100, 0.0100, 0.0100, 0.0100, 0.0100, 0.0100, 0.0100,\n",
            "        0.0100, 0.0100, 0.0100, 0.0100, 0.0100, 0.0100, 0.0100, 0.0100, 0.0100,\n",
            "        0.0100, 0.0100, 0.0100, 0.0100, 0.0100, 0.0100, 0.0100, 0.0100, 0.0100,\n",
            "        0.0100, 0.0100, 0.0100, 0.0100, 0.0100, 0.0100, 0.0100, 0.0100, 0.0100,\n",
            "        0.0100, 0.0100, 0.0100, 0.0100, 0.0100, 0.0100, 0.0100, 0.0100, 0.0100,\n",
            "        0.0100, 0.0100, 0.0100, 0.0100, 0.0100, 0.0100, 0.0100, 0.0100, 0.0100,\n",
            "        0.0100, 0.0100, 0.0100, 0.0100, 0.0100, 0.0100, 0.0100, 0.0100, 0.0100,\n",
            "        0.0100, 0.0100, 0.0100, 0.0100, 0.0100, 0.0100, 0.0100, 0.0100, 0.0100,\n",
            "        0.0100, 0.0100, 0.0100, 0.0100, 0.0100, 0.0100, 0.0100, 0.0100, 0.0100,\n",
            "        0.0100, 0.0100, 0.0100], requires_grad=True) \n",
            "\n",
            "Parameter containing:\n",
            "tensor([0.0100, 0.0100, 0.0100, 0.0100, 0.0100, 0.0100, 0.0100, 0.0100, 0.0100,\n",
            "        0.0100, 0.0100, 0.0100, 0.0100, 0.0100, 0.0100, 0.0100, 0.0100, 0.0100,\n",
            "        0.0100, 0.0100, 0.0100, 0.0100, 0.0100, 0.0100, 0.0100, 0.0100, 0.0100,\n",
            "        0.0100, 0.0100, 0.0100, 0.0100, 0.0100, 0.0100, 0.0100, 0.0100, 0.0100,\n",
            "        0.0100, 0.0100, 0.0100, 0.0100, 0.0100, 0.0100, 0.0100, 0.0100, 0.0100,\n",
            "        0.0100, 0.0100, 0.0100, 0.0100, 0.0100, 0.0100, 0.0100, 0.0100, 0.0100,\n",
            "        0.0100, 0.0100, 0.0100, 0.0100, 0.0100, 0.0100, 0.0100, 0.0100, 0.0100,\n",
            "        0.0100, 0.0100, 0.0100, 0.0100, 0.0100, 0.0100, 0.0100, 0.0100, 0.0100,\n",
            "        0.0100, 0.0100, 0.0100, 0.0100, 0.0100, 0.0100, 0.0100, 0.0100, 0.0100,\n",
            "        0.0100, 0.0100, 0.0100], requires_grad=True) \n",
            "\n",
            "Parameter containing:\n",
            "tensor([0.0100, 0.0100, 0.0100, 0.0100, 0.0100, 0.0100, 0.0100, 0.0100, 0.0100,\n",
            "        0.0100], requires_grad=True) \n",
            "\n"
          ],
          "name": "stdout"
        }
      ]
    },
    {
      "cell_type": "markdown",
      "metadata": {
        "id": "0lE4Hp0fqOhi"
      },
      "source": [
        "Также посмортим веса для одного из слоев"
      ]
    },
    {
      "cell_type": "code",
      "metadata": {
        "id": "4HUFuQNdqOhi",
        "outputId": "62425ea4-cf09-4106-9953-de27d424c6a0"
      },
      "source": [
        "print(cnn_net.fc2.weight)"
      ],
      "execution_count": null,
      "outputs": [
        {
          "output_type": "stream",
          "text": [
            "Parameter containing:\n",
            "tensor([[-0.0049,  0.1568, -0.1938,  ...,  0.0210,  0.2001,  0.0854],\n",
            "        [ 0.2390,  0.1583,  0.1660,  ...,  0.2324, -0.1878, -0.0452],\n",
            "        [-0.1908,  0.0208, -0.0475,  ..., -0.1081, -0.0418,  0.0394],\n",
            "        ...,\n",
            "        [-0.1874, -0.2636,  0.0752,  ...,  0.1175, -0.1062, -0.1552],\n",
            "        [ 0.0119, -0.1899, -0.2029,  ...,  0.1675,  0.0606, -0.0726],\n",
            "        [ 0.2841,  0.1060, -0.0233,  ..., -0.1134, -0.0474,  0.1394]],\n",
            "       requires_grad=True)\n"
          ],
          "name": "stdout"
        }
      ]
    },
    {
      "cell_type": "markdown",
      "metadata": {
        "id": "8bzRkXAFqOhi"
      },
      "source": [
        "**Регуляризаия**"
      ]
    },
    {
      "cell_type": "markdown",
      "metadata": {
        "id": "Girfbs1sqOhi"
      },
      "source": [
        "используем эластическую регуляризацию для весов и для смещения."
      ]
    },
    {
      "cell_type": "code",
      "metadata": {
        "id": "vMCPls8BqOhi",
        "outputId": "4e8ece48-677e-4ee9-a68b-f71785c8f4d7"
      },
      "source": [
        "EPOHS = 5\n",
        "lambda_l1 = 1e-5\n",
        "lambda_l2 = 1e-3\n",
        "for epoch in range(EPOHS):  # loop over the dataset multiple times\n",
        "    cnn_net.train()\n",
        "    running_loss = 0.0\n",
        "    for i, data in enumerate(trainloader, 0):\n",
        "        \n",
        "        # get the inputs; data is a list of [inputs, labels]\n",
        "        inputs, labels = data\n",
        "\n",
        "        # zero the parameter gradients\n",
        "        optimizer.zero_grad()\n",
        "\n",
        "        # forward + backward + optimize        \n",
        "        outputs = cnn_net(inputs)        \n",
        "        loss    = criterion(outputs, labels)\n",
        "        \n",
        "        l1_regularization = 0\n",
        "        l2_regularization = 0\n",
        "        \n",
        "        for p in cnn_net.parameters():\n",
        "            l1_regularization += torch.abs(p).sum()\n",
        "            l2_regularization += torch.pow(p,2).sum()     \n",
        "\n",
        "        loss += lambda_l1*l1_regularization + lambda_l2*l2_regularization\n",
        "        \n",
        "        loss.backward()\n",
        "        optimizer.step()\n",
        "\n",
        "        # print statistics\n",
        "        running_loss += loss.item()\n",
        "        \n",
        "        if i % 2000 == 1999:    # print every 2000 mini-batches\n",
        "            print('[%d, %5d] loss: %.3f' %\n",
        "                  (epoch + 1, i + 1, running_loss / 2000))\n",
        "            running_loss = 0.0\n",
        "\n",
        "\n",
        "print('Finished Training')"
      ],
      "execution_count": null,
      "outputs": [
        {
          "output_type": "stream",
          "text": [
            "[1,  2000] loss: 2.244\n",
            "[1,  4000] loss: 1.931\n",
            "[1,  6000] loss: 1.801\n",
            "[1,  8000] loss: 1.731\n",
            "[1, 10000] loss: 1.704\n",
            "[1, 12000] loss: 1.662\n",
            "[2,  2000] loss: 1.621\n",
            "[2,  4000] loss: 1.619\n",
            "[2,  6000] loss: 1.598\n",
            "[2,  8000] loss: 1.592\n",
            "[2, 10000] loss: 1.588\n"
          ],
          "name": "stdout"
        },
        {
          "output_type": "error",
          "ename": "KeyboardInterrupt",
          "evalue": "",
          "traceback": [
            "\u001b[1;31m---------------------------------------------------------------------------\u001b[0m",
            "\u001b[1;31mKeyboardInterrupt\u001b[0m                         Traceback (most recent call last)",
            "\u001b[1;32m<ipython-input-35-ace0efcf3cc4>\u001b[0m in \u001b[0;36m<module>\u001b[1;34m\u001b[0m\n\u001b[0;32m     21\u001b[0m \u001b[1;33m\u001b[0m\u001b[0m\n\u001b[0;32m     22\u001b[0m         \u001b[1;32mfor\u001b[0m \u001b[0mp\u001b[0m \u001b[1;32min\u001b[0m \u001b[0mcnn_net\u001b[0m\u001b[1;33m.\u001b[0m\u001b[0mparameters\u001b[0m\u001b[1;33m(\u001b[0m\u001b[1;33m)\u001b[0m\u001b[1;33m:\u001b[0m\u001b[1;33m\u001b[0m\u001b[1;33m\u001b[0m\u001b[0m\n\u001b[1;32m---> 23\u001b[1;33m             \u001b[0ml1_regularization\u001b[0m \u001b[1;33m+=\u001b[0m \u001b[0mtorch\u001b[0m\u001b[1;33m.\u001b[0m\u001b[0mabs\u001b[0m\u001b[1;33m(\u001b[0m\u001b[0mp\u001b[0m\u001b[1;33m)\u001b[0m\u001b[1;33m.\u001b[0m\u001b[0msum\u001b[0m\u001b[1;33m(\u001b[0m\u001b[1;33m)\u001b[0m\u001b[1;33m\u001b[0m\u001b[1;33m\u001b[0m\u001b[0m\n\u001b[0m\u001b[0;32m     24\u001b[0m             \u001b[0ml2_regularization\u001b[0m \u001b[1;33m+=\u001b[0m \u001b[0mtorch\u001b[0m\u001b[1;33m.\u001b[0m\u001b[0mpow\u001b[0m\u001b[1;33m(\u001b[0m\u001b[0mp\u001b[0m\u001b[1;33m,\u001b[0m\u001b[1;36m2\u001b[0m\u001b[1;33m)\u001b[0m\u001b[1;33m.\u001b[0m\u001b[0msum\u001b[0m\u001b[1;33m(\u001b[0m\u001b[1;33m)\u001b[0m\u001b[1;33m\u001b[0m\u001b[1;33m\u001b[0m\u001b[0m\n\u001b[0;32m     25\u001b[0m \u001b[1;33m\u001b[0m\u001b[0m\n",
            "\u001b[1;31mKeyboardInterrupt\u001b[0m: "
          ]
        }
      ]
    },
    {
      "cell_type": "markdown",
      "metadata": {
        "id": "U-hO_efaqOhi"
      },
      "source": [
        "посмотрим на результат\n"
      ]
    },
    {
      "cell_type": "code",
      "metadata": {
        "id": "IX81WUTXqOhi"
      },
      "source": [
        "cnn_net.eval()\n",
        "class_correct = list(0. for i in range(10))\n",
        "class_total   = list(0. for i in range(10))\n",
        "with torch.no_grad():\n",
        "    for data in testloader:\n",
        "        images, labels = data\n",
        "        outputs = cnn_net(images)\n",
        "        _, predicted = torch.max(outputs, 1)\n",
        "        c = (predicted == labels).squeeze()\n",
        "        for i in range(4):\n",
        "            label = labels[i]\n",
        "            class_correct[label] += c[i].item()\n",
        "            class_total[label]   += 1\n",
        "\n",
        "for i in range(10):\n",
        "    print('Accuracy of %5s : %2d %%' % (\n",
        "        classes[i], 100 * class_correct[i] / class_total[i]))"
      ],
      "execution_count": null,
      "outputs": []
    },
    {
      "cell_type": "markdown",
      "metadata": {
        "id": "MsXXw8KwqOhi"
      },
      "source": [
        "#### Упрпажнение 1\n",
        "Проведите инициализацию смещения слоя батч-нормализации нулями.\n"
      ]
    },
    {
      "cell_type": "code",
      "metadata": {
        "id": "45wiuEGQqOhi"
      },
      "source": [
        ""
      ],
      "execution_count": null,
      "outputs": []
    },
    {
      "cell_type": "markdown",
      "metadata": {
        "id": "H0LkE75uqOhi"
      },
      "source": [
        "#### Упрпажнение 2\n",
        "1. Исключите из регуляризации слой батч-нормализации.\n",
        "2. Введите особую процедуру регуляризации для выходного слоя сети\n",
        "<details>\n",
        "<summary>Click here for hint</summary>\n",
        "  Обратится к конкретному слою можно\n",
        "```\n",
        "    torch.norm(model.fc1.weight, p=1)\n",
        "```"
      ]
    },
    {
      "cell_type": "code",
      "metadata": {
        "id": "LsX1ODoVqOhi"
      },
      "source": [
        ""
      ],
      "execution_count": null,
      "outputs": []
    },
    {
      "cell_type": "markdown",
      "metadata": {
        "id": "SW2hW1awqOhi"
      },
      "source": [
        "- - -"
      ]
    },
    {
      "cell_type": "markdown",
      "metadata": {
        "id": "YzysK4rIqOhi"
      },
      "source": [
        "## Сегментационные модели сверточных сетей"
      ]
    },
    {
      "cell_type": "markdown",
      "metadata": {
        "id": "ABy_9oDnqOhi"
      },
      "source": [
        "В предыдущих примерах мы рассмотрели задачу классификации. Однако, это не едиственная задача, которую можно решать нейронными сетями.\n",
        "В данном примере рассмотрим задачу семантической сегментации. \n",
        "\n",
        "\n",
        "В таких задачах требуется выделение каких-либо объектов в выходных данных (например, изображении) из входных данных (например, входного изображения).\n",
        "\n",
        "\n",
        "Работу сети можно проиллюстрировать следующим образом.\n",
        "\n",
        "![](https://encrypted-tbn0.gstatic.com/images?q=tbn%3AANd9GcSJqjFWfg48nnHgI8qERMXbsFvHPUuK7EIzSQ&usqp=CAU)"
      ]
    },
    {
      "cell_type": "markdown",
      "metadata": {
        "id": "oM20Oc2mqOhi"
      },
      "source": [
        "Задачу сематической сегментации рассмотрим для модели нейронной сети UNet.\n",
        "Данная сеть, как и большинство сегментационных моделей, состоит из двух частей: энкодера и декодера.\n",
        "\n",
        "Цель первой части (энкодера) - сжатие исходных данных в т.н. \"набор карт латентных признаков\". \n",
        "\n",
        "То есть, по существу, закодировать входную информацию с избыточностью так, чтобы потом можно было раскодировать только то, что нужно - задано выходной маской.\n",
        "\n",
        "Цель второй части (декдера) - раскодирование набора латентных признаков так, чтобы остался выделенным только нужный объект.\n",
        "\n",
        "Особенность сети UNet заключается в том, что при раскодировании используется не только информацию декодера, но и информация из энкода.\n",
        "Это достигается за счет соединения слоев, получаемых в декодере непосредственно и аналогичных по размеру слоев энкодера.\n",
        "\n",
        "Схема данной сети показана на рисунке ниже.\n",
        "\n",
        "![](https://miro.medium.com/max/770/1*XvJffq5FAdDS4FoCqUb76g.png)\n"
      ]
    },
    {
      "cell_type": "markdown",
      "metadata": {
        "id": "mUzh01WmqOhi"
      },
      "source": [
        "**Импорт основных библиотек**"
      ]
    },
    {
      "cell_type": "code",
      "metadata": {
        "id": "uuAAExjFqOhi"
      },
      "source": [
        "import torch\n",
        "import torch.nn as nn\n",
        "import torch.nn.functional as F\n",
        "from torchsummary import summary\n",
        "import torch.optim as optim\n",
        "from torch.optim import lr_scheduler\n",
        "\n",
        "from torch.utils.data import Dataset, DataLoader\n",
        "from torchvision import transforms, datasets, models"
      ],
      "execution_count": null,
      "outputs": []
    },
    {
      "cell_type": "code",
      "metadata": {
        "id": "NP3U8W7oqOhi"
      },
      "source": [
        "import time\n",
        "import copy\n",
        "import numpy as np\n",
        "import random\n",
        "import matplotlib.pyplot as plt\n",
        "\n",
        "from PIL import Image"
      ],
      "execution_count": null,
      "outputs": []
    },
    {
      "cell_type": "markdown",
      "metadata": {
        "id": "w54LaTESqOhi"
      },
      "source": [
        "Создадим датасет - будем использовать готовый пример, взятый [тут](https://github.com/usuyama/pytorch-unet), однако не много измененный. \n",
        "\n",
        "Будем создавать изображения, на которых имеются разные геометрические фигуры.\n",
        "Допустим, что из этих фигур нас интересует треугольник. Поэтому мы будем генерировать изображения с разными фигурами в качестве входных и выходное изображение (т.н. маску) в виде треугольника.\n"
      ]
    },
    {
      "cell_type": "code",
      "metadata": {
        "id": "jGlKVKWpqOhi"
      },
      "source": [
        "# Owned here https://github.com/usuyama/pytorch-unet\n",
        "\n",
        "def generate_random_data(height, width, count):\n",
        "    x, y = zip(*[generate_img_and_mask(height, width) for i in range(0, count)])\n",
        "    X = np.asarray(x) * 255\n",
        "    X = X.transpose([0, 2, 3, 1]).astype(np.uint8)\n",
        "    Y = np.asarray(y)\n",
        "    return X, Y\n",
        "\n",
        "def generate_img_and_mask(height, width):\n",
        "    shape = (height, width)\n",
        "\n",
        "    triangle_location = get_random_location(*shape, zoom = 2)\n",
        "    circle_location1  = get_random_location(*shape, zoom=1)\n",
        "    circle_location2  = get_random_location(*shape, zoom=0.7)\n",
        "    mesh_location     = get_random_location(*shape, zoom=0.7)\n",
        "    square_location   = get_random_location(*shape, zoom=0.4)\n",
        "    plus_location     = get_random_location(*shape, zoom=1.2)\n",
        "\n",
        "    # Create input image\n",
        "    arr = np.zeros(shape, dtype=bool)\n",
        "    arr = add_triangle(arr, *triangle_location)\n",
        "    arr = add_circle(arr, *circle_location1)\n",
        "    arr = add_circle(arr, *circle_location2, fill=True)\n",
        "    arr = add_mesh_square(arr, *mesh_location)\n",
        "    arr = add_filled_square(arr, *square_location)\n",
        "    arr = add_plus(arr, *plus_location)\n",
        "    arr = np.reshape(arr, (1, height, width)).astype(np.float32)\n",
        "\n",
        "    # Create target masks\n",
        "    masks = np.asarray([\n",
        "        add_filled_square(np.zeros(shape, dtype=bool), *square_location),\n",
        "        add_circle(np.zeros(shape, dtype=bool), *circle_location2, fill=True),\n",
        "        add_triangle(np.zeros(shape, dtype=bool), *triangle_location),\n",
        "        add_circle(np.zeros(shape, dtype=bool), *circle_location1),\n",
        "        add_filled_square(np.zeros(shape, dtype=bool), *mesh_location),\n",
        "        add_plus(np.zeros(shape, dtype=bool), *plus_location)]).astype(np.float32)\n",
        "\n",
        "    return arr, masks\n",
        "\n",
        "def add_square(arr, x, y, size):\n",
        "    s = int(size / 2)\n",
        "    arr[x-s,y-s:y+s] = True\n",
        "    arr[x+s,y-s:y+s] = True\n",
        "    arr[x-s:x+s,y-s] = True\n",
        "    arr[x-s:x+s,y+s] = True\n",
        "    return arr\n",
        "\n",
        "def add_filled_square(arr, x, y, size):\n",
        "    s = int(size / 2)\n",
        "    xx, yy = np.mgrid[:arr.shape[0], :arr.shape[1]]\n",
        "    return np.logical_or(arr, logical_and([xx > x - s, xx < x + s, yy > y - s, yy < y + s]))\n",
        "\n",
        "def logical_and(arrays):\n",
        "    new_array = np.ones(arrays[0].shape, dtype=bool)\n",
        "    for a in arrays:\n",
        "        new_array = np.logical_and(new_array, a)\n",
        "    return new_array\n",
        "\n",
        "def add_mesh_square(arr, x, y, size):\n",
        "    s = int(size / 2)\n",
        "    xx, yy = np.mgrid[:arr.shape[0], :arr.shape[1]]\n",
        "    return np.logical_or(arr, logical_and([xx > x - s, xx < x + s, xx % 2 == 1, yy > y - s, yy < y + s, yy % 2 == 1]))\n",
        "\n",
        "def add_triangle(arr, x, y, size):\n",
        "    s = int(size / 2)\n",
        "    triangle = np.tril(4*np.ones((size, size), dtype=bool))\n",
        "    arr[x-s:x-s+triangle.shape[0],y-s:y-s+triangle.shape[1]] = triangle\n",
        "    return arr\n",
        "\n",
        "def add_circle(arr, x, y, size, fill=False):\n",
        "    xx, yy = np.mgrid[:arr.shape[0], :arr.shape[1]]\n",
        "    circle = np.sqrt((xx - x) ** 2 + (yy - y) ** 2)\n",
        "    new_arr = np.logical_or(arr, np.logical_and(circle < size, circle >= size * 0.7 if not fill else True))\n",
        "    return new_arr\n",
        "\n",
        "def add_plus(arr, x, y, size):\n",
        "    s = int(size / 2)\n",
        "    arr[x-1:x+1,y-s:y+s] = True\n",
        "    arr[x-s:x+s,y-1:y+1] = True\n",
        "    return arr\n",
        "\n",
        "def get_random_location(width, height, zoom=1.0):\n",
        "    x = int(width * random.uniform(0.1, 0.9))\n",
        "    y = int(height * random.uniform(0.1, 0.9))\n",
        "    size = int(min(width, height) * random.uniform(0.06, 0.12) * zoom)\n",
        "    return (x, y, size)\n",
        "\n",
        "class SimDataset(Dataset):\n",
        "    def __init__(self, count, transform=None):\n",
        "        self.input_images, self.target_masks = generate_random_data(32, 32, count=count)\n",
        "        self.transform = transform\n",
        "\n",
        "    def __len__(self):\n",
        "        return len(self.input_images)\n",
        "\n",
        "    def __getitem__(self, idx):\n",
        "        image = self.input_images[idx]\n",
        "        mask  = self.target_masks[idx]\n",
        "        \n",
        "        if self.transform:\n",
        "            image = self.transform(image)\n",
        "\n",
        "        return [image, mask[:][2:3]]\n",
        "\n",
        "# use the same transformations for train/val in this example\n",
        "trans = transforms.Compose([\n",
        "        transforms.ToTensor(),\n",
        "        transforms.Normalize([0.5], [ 0.2])])\n",
        "\n",
        "train_set = SimDataset(2000, transform = trans)\n",
        "val_set  = SimDataset(200, transform = trans)\n",
        "\n",
        "image_datasets = {'train': train_set, 'val': val_set}\n",
        "\n",
        "batch_size = 8\n",
        "\n",
        "dataloaders = {\n",
        "    'train': DataLoader(train_set, batch_size=batch_size, shuffle=True, num_workers=0),\n",
        "    'val': DataLoader(val_set, batch_size=batch_size, shuffle=True, num_workers=0)\n",
        "}"
      ],
      "execution_count": null,
      "outputs": []
    },
    {
      "cell_type": "markdown",
      "metadata": {
        "id": "MxUUiE-ZqOhi"
      },
      "source": [
        "**Посмотрим на один минибатч из датасета - входные изображения и маски**"
      ]
    },
    {
      "cell_type": "code",
      "metadata": {
        "id": "ngxGeZRDqOhi",
        "outputId": "e4e0cd4a-ad55-4782-cbfc-a2b57cf67328"
      },
      "source": [
        "images,masks = next(iter(dataloaders['train']))\n",
        "\n",
        "\n",
        "print(images.shape)\n",
        "\n",
        "print(images.shape)\n",
        "print(masks.shape)\n",
        "\n",
        "plt.figure(figsize=(16,4))\n",
        "plt.subplot(141);plt.imshow(images[0][0])\n",
        "plt.subplot(142);plt.imshow(images[1][0])\n",
        "plt.subplot(143);plt.imshow(images[2][0])\n",
        "plt.subplot(144);plt.imshow(images[3][0])\n",
        "\n",
        "print(images.shape)\n",
        "plt.figure(figsize=(16,4))\n",
        "plt.subplot(141);plt.imshow(masks[0][0])\n",
        "plt.subplot(142);plt.imshow(masks[1][0])\n",
        "plt.subplot(143);plt.imshow(masks[2][0])\n",
        "plt.subplot(144);plt.imshow(masks[3][0])"
      ],
      "execution_count": null,
      "outputs": [
        {
          "output_type": "stream",
          "text": [
            "torch.Size([8, 1, 32, 32])\n",
            "torch.Size([8, 1, 32, 32])\n",
            "torch.Size([8, 1, 32, 32])\n",
            "torch.Size([8, 1, 32, 32])\n"
          ],
          "name": "stdout"
        },
        {
          "output_type": "execute_result",
          "data": {
            "text/plain": [
              "<matplotlib.image.AxesImage at 0x1d8ae2720c8>"
            ]
          },
          "metadata": {
            "tags": []
          },
          "execution_count": 157
        },
        {
          "output_type": "display_data",
          "data": {
            "image/png": "[encoded data removed]",
            "text/plain": [
              "<Figure size 1152x288 with 4 Axes>"
            ]
          },
          "metadata": {
            "tags": [],
            "needs_background": "light"
          }
        },
        {
          "output_type": "display_data",
          "data": {
            "image/png": "[encoded data removed]",
            "text/plain": [
              "<Figure size 1152x288 with 4 Axes>"
            ]
          },
          "metadata": {
            "tags": [],
            "needs_background": "light"
          }
        }
      ]
    },
    {
      "cell_type": "markdown",
      "metadata": {
        "id": "HBQb9-6oqOhi"
      },
      "source": [
        "**Создадим класс нейронной сети**\n",
        "* Сеть будет состоять из 4 блоков энкодера и 4 блоков декотора.\n",
        "* Каждый блок будет состоять из двух операций свертки с ядром 3х3 и режмом same.\n",
        "* В энкодере будем использовать макспулин (MaxPool2d).\n",
        "* В декодере операцию, обратную макспулингу - (Upsample) методом билинейного преобразования.\n",
        "* Выберем \"одинарный\" размер (число) карт признаков как SIZE = 32."
      ]
    },
    {
      "cell_type": "code",
      "metadata": {
        "id": "3LZG986kqOhi"
      },
      "source": [
        "def conv_block(in_channels, out_channels):\n",
        "    return nn.Sequential(\n",
        "        nn.Conv2d(in_channels,  out_channels, 3, padding=1),\n",
        "        nn.ReLU(inplace=True),\n",
        "        nn.Conv2d(out_channels, out_channels, 3, padding=1),\n",
        "        nn.ReLU(inplace=True)\n",
        "    )   \n",
        "\n",
        "SIZE = 32\n",
        "\n",
        "class UNet(nn.Module):\n",
        "\n",
        "    def __init__(self, n_class=1):\n",
        "        super().__init__()\n",
        "                \n",
        "        self.down1 = conv_block(1,      SIZE)\n",
        "        self.down2 = conv_block(SIZE,   SIZE*2)\n",
        "        self.down3 = conv_block(SIZE*2, SIZE*4)\n",
        "        self.down4 = conv_block(SIZE*4, SIZE*8)        \n",
        "\n",
        "        self.maxpool  = nn.MaxPool2d(2)\n",
        "        self.upsample = nn.Upsample(scale_factor=2, \n",
        "                                    mode='bilinear', \n",
        "                                    align_corners=True)        \n",
        "        \n",
        "        self.up3 = conv_block(SIZE*4 + SIZE*8, SIZE*4)\n",
        "        self.up2 = conv_block(SIZE*2 + SIZE*4, SIZE*2)\n",
        "        self.up1 = conv_block(SIZE*2 + SIZE,   SIZE)\n",
        "        \n",
        "        self.out = nn.Conv2d(SIZE, n_class, 1)\n",
        "        \n",
        "        \n",
        "    def forward(self, x):\n",
        "        \n",
        "        #ENCODER\n",
        "        conv1 = self.down1(x)\n",
        "        x = self.maxpool(conv1)\n",
        "\n",
        "        conv2 = self.down2(x)\n",
        "        x = self.maxpool(conv2)\n",
        "        \n",
        "        conv3 = self.down3(x)\n",
        "        x = self.maxpool(conv3)   \n",
        "        \n",
        "        x = self.down4(x)\n",
        "        \n",
        "        #DECODER\n",
        "        x = self.upsample(x)        \n",
        "        x = torch.cat([x, conv3], dim=1)\n",
        "        \n",
        "        x = self.up3(x)\n",
        "        x = self.upsample(x)        \n",
        "        x = torch.cat([x, conv2], dim=1)       \n",
        "\n",
        "        x = self.up2(x)\n",
        "        x = self.upsample(x)        \n",
        "        x = torch.cat([x, conv1], dim=1)   \n",
        "        \n",
        "        x = self.up1(x)\n",
        "        \n",
        "        out = self.out(x)\n",
        "        \n",
        "        return out"
      ],
      "execution_count": null,
      "outputs": []
    },
    {
      "cell_type": "markdown",
      "metadata": {
        "id": "L1s5K4JnqOhj"
      },
      "source": [
        "**Создадим экземпляр нейронной сети**"
      ]
    },
    {
      "cell_type": "code",
      "metadata": {
        "id": "6PTE1QBhqOhj",
        "outputId": "c5949e96-60e2-4797-a39f-be549a9a8394"
      },
      "source": [
        "unet_model = UNet()\n",
        "summary(unet_model, input_size=(1, 32, 32),device='cpu')"
      ],
      "execution_count": null,
      "outputs": [
        {
          "output_type": "stream",
          "text": [
            "----------------------------------------------------------------\n",
            "        Layer (type)               Output Shape         Param #\n",
            "================================================================\n",
            "            Conv2d-1           [-1, 32, 32, 32]             320\n",
            "              ReLU-2           [-1, 32, 32, 32]               0\n",
            "            Conv2d-3           [-1, 32, 32, 32]           9,248\n",
            "              ReLU-4           [-1, 32, 32, 32]               0\n",
            "         MaxPool2d-5           [-1, 32, 16, 16]               0\n",
            "            Conv2d-6           [-1, 64, 16, 16]          18,496\n",
            "              ReLU-7           [-1, 64, 16, 16]               0\n",
            "            Conv2d-8           [-1, 64, 16, 16]          36,928\n",
            "              ReLU-9           [-1, 64, 16, 16]               0\n",
            "        MaxPool2d-10             [-1, 64, 8, 8]               0\n",
            "           Conv2d-11            [-1, 128, 8, 8]          73,856\n",
            "             ReLU-12            [-1, 128, 8, 8]               0\n",
            "           Conv2d-13            [-1, 128, 8, 8]         147,584\n",
            "             ReLU-14            [-1, 128, 8, 8]               0\n",
            "        MaxPool2d-15            [-1, 128, 4, 4]               0\n",
            "           Conv2d-16            [-1, 256, 4, 4]         295,168\n",
            "             ReLU-17            [-1, 256, 4, 4]               0\n",
            "           Conv2d-18            [-1, 256, 4, 4]         590,080\n",
            "             ReLU-19            [-1, 256, 4, 4]               0\n",
            "         Upsample-20            [-1, 256, 8, 8]               0\n",
            "           Conv2d-21            [-1, 128, 8, 8]         442,496\n",
            "             ReLU-22            [-1, 128, 8, 8]               0\n",
            "           Conv2d-23            [-1, 128, 8, 8]         147,584\n",
            "             ReLU-24            [-1, 128, 8, 8]               0\n",
            "         Upsample-25          [-1, 128, 16, 16]               0\n",
            "           Conv2d-26           [-1, 64, 16, 16]         110,656\n",
            "             ReLU-27           [-1, 64, 16, 16]               0\n",
            "           Conv2d-28           [-1, 64, 16, 16]          36,928\n",
            "             ReLU-29           [-1, 64, 16, 16]               0\n",
            "         Upsample-30           [-1, 64, 32, 32]               0\n",
            "           Conv2d-31           [-1, 32, 32, 32]          27,680\n",
            "             ReLU-32           [-1, 32, 32, 32]               0\n",
            "           Conv2d-33           [-1, 32, 32, 32]           9,248\n",
            "             ReLU-34           [-1, 32, 32, 32]               0\n",
            "           Conv2d-35            [-1, 1, 32, 32]              33\n",
            "================================================================\n",
            "Total params: 1,946,305\n",
            "Trainable params: 1,946,305\n",
            "Non-trainable params: 0\n",
            "----------------------------------------------------------------\n",
            "Input size (MB): 0.00\n",
            "Forward/backward pass size (MB): 4.62\n",
            "Params size (MB): 7.42\n",
            "Estimated Total Size (MB): 12.05\n",
            "----------------------------------------------------------------\n"
          ],
          "name": "stdout"
        }
      ]
    },
    {
      "cell_type": "markdown",
      "metadata": {
        "id": "bzMqCnuVqOhj"
      },
      "source": [
        "**Обучение будем проводить по двум вариантам функции потерь: бинарная энтропия и т.н. DICE**\n",
        "\n",
        "Dice (Коэффициент Серенса-Дайса) представляет собой метрику, характерную для сегментации - по существу, отношение удвоенной площади пересечения искомого объекта (макси) к сумме площадей искомого объекта и полученного по результатам работы нейронной сети.\n",
        "\n",
        "![](https://miro.medium.com/max/858/1*yUd5ckecHjWZf6hGrdlwzA.png)"
      ]
    },
    {
      "cell_type": "markdown",
      "metadata": {
        "id": "NIX1ItkiqOhj"
      },
      "source": [
        "Если говорить более качественно, то Dice говорит о том, на сколько правильно объект выделен по площади и по его расположению относительно искомого.\n",
        "Иллюстрация плохого, среднего и хорошего DICE приведена на картинке ниже\n",
        "\n",
        "\n",
        "![](https://upload.wikimedia.org/wikipedia/commons/thumb/e/e6/Intersection_over_Union_-_poor%2C_good_and_excellent_score.png/300px-Intersection_over_Union_-_poor%2C_good_and_excellent_score.png)"
      ]
    },
    {
      "cell_type": "markdown",
      "metadata": {
        "id": "JtXO5LwAqOhj"
      },
      "source": [
        "Расстояние, соответствующиее Dice расчитчвается как:\n",
        "\n",
        "$$dice = 1 - \\frac {2\\cdot(A\\cap B)}{|A|+|B|}$$\n",
        "\n",
        "где $A,B$ - это площади полученного и искомого объектов, знак $\\cap$ - это обозначение пересечения площадей\n"
      ]
    },
    {
      "cell_type": "code",
      "metadata": {
        "id": "EK2-z99zqOhj"
      },
      "source": [
        "def dice_loss(pred, target, smooth = 1.):\n",
        "    pred   = pred.contiguous()\n",
        "    target = target.contiguous()    \n",
        "    \n",
        "    intersection   = (pred * target).sum(dim=2).sum(dim=2)\n",
        "    sum_of_squares = pred.sum(dim=2).sum(dim=2) + target.sum(dim=2).sum(dim=2)\n",
        "    \n",
        "    loss = 1 - 2. * intersection / sum_of_squares \n",
        "    \n",
        "    return loss.mean()"
      ],
      "execution_count": null,
      "outputs": []
    },
    {
      "cell_type": "markdown",
      "metadata": {
        "id": "VMMKnnpzqOhj"
      },
      "source": [
        "Таким образом у нас будет две метрики DICE и BCE, а также функция потерь.\n",
        "Будем считать функцию потерь как комбинацию DICE и BCE с рзными весами. \n",
        "\n",
        "Таким образом в функции потерь будет учитываться место объекта и его площадь (DICE), а также особенности формы объекта с точки зрения его параметров, например яркости или особенностей формы (например широховатости краев) (BCE)."
      ]
    },
    {
      "cell_type": "code",
      "metadata": {
        "id": "ptDoQG6MqOhj"
      },
      "source": [
        "METRICS_DEFAULT = {'bce':0.0,'dice':0.0,'loss':0.0}"
      ],
      "execution_count": null,
      "outputs": []
    },
    {
      "cell_type": "markdown",
      "metadata": {
        "id": "o_RkQ33JqOhj"
      },
      "source": [
        "Объеденим расчет метрик и потерь в одну функцию"
      ]
    },
    {
      "cell_type": "code",
      "metadata": {
        "id": "isBIyWDeqOhj"
      },
      "source": [
        "def calc_loss(pred, target, metrics = None, bce_weight=0.5):\n",
        "    \n",
        "    if (metrics is None):\n",
        "        metrics = METRICS_DEFAULT.copy()\n",
        "\n",
        "    bce = F.binary_cross_entropy_with_logits(pred, target)\n",
        "        \n",
        "    pred = torch.sigmoid(pred)    \n",
        "    dice = dice_loss(pred, target)\n",
        "    \n",
        "    loss = bce * bce_weight + dice * (1 - bce_weight)\n",
        "    \n",
        "    metrics['bce']  += bce.data.cpu().numpy()\n",
        "    metrics['dice'] += dice.data.cpu().numpy() \n",
        "    metrics['loss'] += loss.data.cpu().numpy() \n",
        "\n",
        "    return loss, metrics\n"
      ],
      "execution_count": null,
      "outputs": []
    },
    {
      "cell_type": "markdown",
      "metadata": {
        "id": "VwOyZxcjqOhj"
      },
      "source": [
        "**Опишем процедуру тренировки как отдельную функцию**\n",
        "\n",
        "Процедура включает следующие параметры:\n",
        "* модель нейронной сети (unet_model);\n",
        "* словарь двух загрузчиков данных в формате DataLoader (dataloaders) \n",
        "    (для валидации 'valid'; для тренировки 'train');\n",
        "* функцию оптимизатор (optimizer);\n",
        "* функцуию изменения сокрости обучения (scheduler);\n",
        "* число эпох (num_epochs).\n",
        "\n",
        "Выход процедуры - обученная модель.\n",
        "\n",
        "**Особенности процедуры train_model**:\n",
        "* Процедура включает как фазу тренировку, так и фазу валидацию для каждой эпохи.\n",
        "* Каждый раз, когда после обучения эпохи значения метрик ниже чем были до этого, \n",
        "    то результат тренировки записывается.\n",
        "* В итоге возвращается результат на лучшей эпохе.\n",
        "* В процессе каждой эпохи на экран выводится служебная информация.\n"
      ]
    },
    {
      "cell_type": "code",
      "metadata": {
        "id": "F8PFXy15qOhj"
      },
      "source": [
        "def train_model(unet_model, dataloaders, optimizer,  scheduler=None, num_epochs=25):\n",
        "    \n",
        "    #INITIALIZATION OF THE BEST MODEL INITAL STATE\n",
        "    best_model = copy.deepcopy(unet_model.state_dict())\n",
        "    best_loss  = 1e10\n",
        "    best_epoch = 0\n",
        "    \n",
        "    \n",
        "    start_time = time.time()\n",
        "    \n",
        "    #EPOHS OF TRAINING\n",
        "    for epoch in range(num_epochs):\n",
        "        \n",
        "        #SERVICE INFORMATION \n",
        "        print('-' * 10)\n",
        "        since = time.time()        \n",
        "        print('Epoch {}/{}'.format(epoch+1, num_epochs),end=' ')\n",
        "        for param_group in optimizer.param_groups: print(\"LR\", param_group['lr'])  \n",
        "\n",
        "        #TRAINING AND VALIDATION PHASES\n",
        "        for phase in ['train', 'val']:\n",
        "            \n",
        "            #FOR SUCH LAYERS AS DROPOUT AND BATCH NORM\n",
        "            if phase == 'train':               \n",
        "                unet_model.train()  # Set model to training mode\n",
        "            else:\n",
        "                unet_model.eval()   # Set model to evaluate mode\n",
        "         \n",
        "            #COUNTER FOR SAMPLES PROCESSED IN THE EPOCH\n",
        "            epoch_samples = 0  \n",
        "            \n",
        "            #RESET METRICS VALUES FOR EPOCH\n",
        "            metrics       = METRICS_DEFAULT.copy()\n",
        "            \n",
        "            #MINI_BATCHES\n",
        "            for inputs, labels in dataloaders[phase]:\n",
        "                optimizer.zero_grad()\n",
        "                \n",
        "                #IF VAL, THEN NO_GRAD, ELSE GRAD_ENABLE\n",
        "                with torch.set_grad_enabled(phase == 'train'):                  \n",
        "                    outputs       = unet_model.forward(inputs)                    \n",
        "                    loss, metrics = calc_loss(outputs, labels, metrics)                    \n",
        "                    \n",
        "                    if phase == 'train':                        \n",
        "                        loss.backward()                        \n",
        "                        optimizer.step()\n",
        "\n",
        "                #FOR LOSS NORMALIZATION\n",
        "                epoch_samples += inputs.size(0)\n",
        "            \n",
        "            #CHECK FOR THE BEST RESULT            \n",
        "            epoch_loss = metrics['loss'] / epoch_samples            \n",
        "            if phase == 'val' and epoch_loss < best_loss:\n",
        "                print(\"saving best model\")\n",
        "                best_loss  = epoch_loss\n",
        "                best_epoch = epoch\n",
        "                best_model = copy.deepcopy(unet_model.state_dict())\n",
        "            \n",
        "            #LEARNING RATE SCHADULER\n",
        "            if phase == 'train' and scheduler is not None:\n",
        "                scheduler.step()                \n",
        "            \n",
        "            #SERVICE INFORMATION \n",
        "            print(str(phase),\":\",\n",
        "                  'loss:%.5f'%(metrics['loss']),\n",
        "                  'dice:%.5f'%(1-metrics['dice']), #1-DICE IS BETTER TO INTERPRITATE\n",
        "                  'bce:%.5f' %(metrics['bce']))       \n",
        "        \n",
        "        #SERVICE INFORMATION \n",
        "        time_elapsed = time.time() - since\n",
        "        print('Epoch time: {:.0f}m {:.0f}s'.\\\n",
        "              format(time_elapsed // 60, time_elapsed % 60))\n",
        "    \n",
        "    #SERVICE INFORMATION \n",
        "    print('Best val loss: {:4f}'.format(best_loss), \n",
        "          'best epoch: %d'%(best_epoch),\n",
        "          'training_time:{:.0f}m {:.0f}s'.\\\n",
        "              format((time.time()-start_time) // 60, \n",
        "                     (time.time()-start_time) % 60))\n",
        "\n",
        "    #LOAD THE BEST MODEL STATE (WEIGHTS AND BIASES)\n",
        "    unet_model.load_state_dict(best_model)\n",
        "    return unet_model"
      ],
      "execution_count": null,
      "outputs": []
    },
    {
      "cell_type": "markdown",
      "metadata": {
        "id": "Q4fVJ2alqOhj"
      },
      "source": [
        "**Зададим особенности обучения.** \n",
        "* Оптимизатор Adam;\n",
        "* каждые 10 эпох будем снижать скорость обучения с коэффициентом 0.9;\n",
        "* Сделаем возможность выбирать или использовать предобученная модель или инциализировать новую.\n",
        "     То есть сделаем возможность дообучать модели."
      ]
    },
    {
      "cell_type": "code",
      "metadata": {
        "id": "M9Y8SvgaqOhj"
      },
      "source": [
        "EPOCH = 20\n",
        "pretrained = True\n",
        "\n",
        "# Observe that all parameters are being optimized\n",
        "optimizer_ft = optim.Adam(unet_model.parameters(), lr=1e-4)\n",
        "\n",
        "exp_lr_scheduler = lr_scheduler.StepLR(optimizer_ft, step_size=10, gamma=0.9)\n",
        "\n",
        "if pretrained == False: #IF NEW MODEL\n",
        "    unet_model = UNet()"
      ],
      "execution_count": null,
      "outputs": []
    },
    {
      "cell_type": "markdown",
      "metadata": {
        "id": "L8XiVS8FqOhj"
      },
      "source": [
        "**тренировка сети**"
      ]
    },
    {
      "cell_type": "code",
      "metadata": {
        "id": "ckTBW0TvqOhj",
        "outputId": "1c01fc59-89f4-4448-d7f5-9696d0909a8d"
      },
      "source": [
        "unet_model =\\\n",
        "    train_model(unet_model, \n",
        "                dataloaders = dataloaders,\n",
        "                optimizer   = optimizer_ft, \n",
        "                scheduler   = exp_lr_scheduler,  \n",
        "                num_epochs  = EPOCH)    "
      ],
      "execution_count": null,
      "outputs": [
        {
          "output_type": "stream",
          "text": [
            "----------\n",
            "Epoch 1/20 LR 0.0001\n",
            "train : loss:88.99715 dice:-149.26764 bce:27.72667\n",
            "saving best model\n",
            "val : loss:3.41808 dice:-5.21179 bce:0.62436\n",
            "Epoch time: 0m 52s\n",
            "----------\n",
            "Epoch 2/20 LR 0.0001\n",
            "train : loss:23.89559 dice:-43.06356 bce:3.72762\n",
            "saving best model\n",
            "val : loss:0.92763 dice:-0.75036 bce:0.10490\n",
            "Epoch time: 0m 51s\n",
            "----------\n",
            "Epoch 3/20 LR 0.0001\n",
            "train : loss:5.87469 dice:-10.03694 bce:0.71244\n",
            "saving best model\n",
            "val : loss:0.45363 dice:0.17031 bce:0.07757\n",
            "Epoch time: 0m 53s\n",
            "----------\n",
            "Epoch 4/20 LR 0.0001\n",
            "train : loss:3.62841 dice:-5.71953 bce:0.53730\n",
            "val : loss:0.60130 dice:-0.11752 bce:0.08509\n",
            "Epoch time: 0m 52s\n",
            "----------\n",
            "Epoch 5/20 LR 0.0001\n",
            "train : loss:2.92768 dice:-4.38651 bce:0.46885\n",
            "saving best model\n",
            "val : loss:0.37150 dice:0.31172 bce:0.05472\n",
            "Epoch time: 0m 51s\n",
            "----------\n",
            "Epoch 6/20 LR 0.0001\n",
            "train : loss:2.52196 dice:-3.62078 bce:0.42314\n",
            "saving best model\n",
            "val : loss:0.29215 dice:0.45851 bce:0.04282\n",
            "Epoch time: 0m 51s\n",
            "----------\n",
            "Epoch 7/20 LR 0.0001\n",
            "train : loss:2.22964 dice:-3.07948 bce:0.37979\n",
            "val : loss:0.30548 dice:0.43707 bce:0.04803\n",
            "Epoch time: 0m 47s\n",
            "----------\n",
            "Epoch 8/20 LR 0.0001\n",
            "train : loss:1.78023 dice:-2.25253 bce:0.30793\n",
            "saving best model\n",
            "val : loss:0.19300 dice:0.64395 bce:0.02994\n",
            "Epoch time: 0m 47s\n",
            "----------\n",
            "Epoch 9/20 LR 0.0001\n",
            "train : loss:1.84348 dice:-2.36747 bce:0.31949\n",
            "val : loss:0.19622 dice:0.64683 bce:0.03927\n",
            "Epoch time: 0m 49s\n",
            "----------\n",
            "Epoch 10/20 LR 0.0001\n",
            "train : loss:1.32924 dice:-1.42492 bce:0.23356\n",
            "saving best model\n",
            "val : loss:0.13735 dice:0.74777 bce:0.02248\n",
            "Epoch time: 0m 48s\n",
            "----------\n",
            "Epoch 11/20 LR 9e-05\n",
            "train : loss:1.18267 dice:-1.15728 bce:0.20807\n",
            "saving best model\n",
            "val : loss:0.11755 dice:0.78273 bce:0.01783\n",
            "Epoch time: 0m 48s\n",
            "----------\n",
            "Epoch 12/20 LR 9e-05\n",
            "train : loss:1.09013 dice:-0.99314 bce:0.18711\n",
            "val : loss:0.13325 dice:0.75543 bce:0.02192\n",
            "Epoch time: 0m 50s\n",
            "----------\n",
            "Epoch 13/20 LR 9e-05\n",
            "train : loss:0.96682 dice:-0.75825 bce:0.17539\n",
            "saving best model\n",
            "val : loss:0.11375 dice:0.78870 bce:0.01620\n",
            "Epoch time: 1m 2s\n",
            "----------\n",
            "Epoch 14/20 LR 9e-05\n",
            "train : loss:0.87462 dice:-0.58834 bce:0.16090\n",
            "saving best model\n",
            "val : loss:0.09419 dice:0.82631 bce:0.01470\n",
            "Epoch time: 1m 11s\n",
            "----------\n",
            "Epoch 15/20 LR 9e-05\n",
            "train : loss:0.81951 dice:-0.49076 bce:0.14826\n",
            "saving best model\n",
            "val : loss:0.09142 dice:0.83266 bce:0.01550\n",
            "Epoch time: 1m 17s\n",
            "----------\n",
            "Epoch 16/20 LR 9e-05\n",
            "train : loss:0.75647 dice:-0.37521 bce:0.13774\n",
            "saving best model\n",
            "val : loss:0.08263 dice:0.84809 bce:0.01334\n",
            "Epoch time: 1m 28s\n",
            "----------\n",
            "Epoch 17/20 LR 9e-05\n",
            "train : loss:0.77963 dice:-0.41510 bce:0.14417\n",
            "val : loss:0.09227 dice:0.82930 bce:0.01385\n",
            "Epoch time: 1m 31s\n",
            "----------\n",
            "Epoch 18/20 LR 9e-05\n",
            "train : loss:0.65586 dice:-0.19554 bce:0.11618\n",
            "saving best model\n",
            "val : loss:0.07911 dice:0.85659 bce:0.01481\n",
            "Epoch time: 1m 39s\n",
            "----------\n",
            "Epoch 19/20 LR 9e-05\n",
            "train : loss:0.63943 dice:-0.15399 bce:0.12488\n",
            "val : loss:0.09688 dice:0.82597 bce:0.01973\n",
            "Epoch time: 1m 44s\n",
            "----------\n",
            "Epoch 20/20 LR 9e-05\n",
            "train : loss:0.74586 dice:-0.37008 bce:0.12164\n",
            "saving best model\n",
            "val : loss:0.05855 dice:0.89247 bce:0.00957\n",
            "Epoch time: 1m 53s\n",
            "Best val loss: 0.000293 best epoch: 19 training_time:21m 44s\n"
          ],
          "name": "stdout"
        }
      ]
    },
    {
      "cell_type": "markdown",
      "metadata": {
        "id": "34rSrzM_qOhj"
      },
      "source": [
        "**Создадим тестовый дата-сет**"
      ]
    },
    {
      "cell_type": "code",
      "metadata": {
        "id": "r9YLeh6VqOhj"
      },
      "source": [
        "test_dataset = SimDataset(4, transform = trans)\n",
        "test_loader  = DataLoader(test_dataset, batch_size=4, shuffle=False, num_workers=0)"
      ],
      "execution_count": null,
      "outputs": []
    },
    {
      "cell_type": "markdown",
      "metadata": {
        "id": "8jB-5ssgqOhj"
      },
      "source": [
        "**Посмотрим на метрики на тестовом датасете**"
      ]
    },
    {
      "cell_type": "code",
      "metadata": {
        "id": "A1s8N4SJqOhj",
        "outputId": "ce54247f-67c2-45af-ae32-3b241c6808a5"
      },
      "source": [
        "unet_model.eval() \n",
        "inputs, labels = next(iter(test_loader))\n",
        "predicts       = unet_model(inputs)\n",
        "loss, metrics  = calc_loss(predicts, labels)\n",
        "print('loss:%.5f'%(metrics['loss']),\n",
        "                  'dice:%.5f'%(1-metrics['dice']), \n",
        "                  'bce:%.5f' %(metrics['bce']))"
      ],
      "execution_count": null,
      "outputs": [
        {
          "output_type": "stream",
          "text": [
            "loss:0.00043 dice:0.99918 bce:0.00005\n"
          ],
          "name": "stdout"
        }
      ]
    },
    {
      "cell_type": "markdown",
      "metadata": {
        "id": "K7pbFtN-qOhj"
      },
      "source": [
        "**Проверим результат визуально**"
      ]
    },
    {
      "cell_type": "code",
      "metadata": {
        "id": "YuKW4SfDqOhj",
        "outputId": "b2d9c988-2cee-44f0-d005-8989e1d542fa"
      },
      "source": [
        "predicts = predicts.data.cpu().numpy()\n",
        "\n",
        "print(' I N P U T ')\n",
        "plt.figure(figsize=(16,4))\n",
        "plt.subplot(141);plt.imshow(inputs[0][0])\n",
        "plt.subplot(142);plt.imshow(inputs[1][0])\n",
        "plt.subplot(143);plt.imshow(inputs[2][0])\n",
        "plt.subplot(144);plt.imshow(inputs[3][0])\n",
        "plt.show()\n",
        "\n",
        "print(' G R O U N D T R U T H ')\n",
        "plt.figure(figsize=(16,4))\n",
        "plt.subplot(141);plt.imshow(labels[0].sum(0))\n",
        "plt.subplot(142);plt.imshow(labels[1].sum(0))\n",
        "plt.subplot(143);plt.imshow(labels[2].sum(0))\n",
        "plt.subplot(144);plt.imshow(labels[3].sum(0))\n",
        "plt.show()\n",
        "\n",
        "print(' P R E D I C T E D ')\n",
        "plt.figure(figsize=(16,4))\n",
        "plt.subplot(141);plt.imshow(predicts[0][0])\n",
        "plt.subplot(142);plt.imshow(predicts[1][0])\n",
        "plt.subplot(143);plt.imshow(predicts[2][0])\n",
        "plt.subplot(144);plt.imshow(predicts[3][0])\n",
        "plt.show()\n"
      ],
      "execution_count": null,
      "outputs": [
        {
          "output_type": "stream",
          "text": [
            " I N P U T \n"
          ],
          "name": "stdout"
        },
        {
          "output_type": "display_data",
          "data": {
            "image/png": "[encoded data removed]",
            "text/plain": [
              "<Figure size 1152x288 with 4 Axes>"
            ]
          },
          "metadata": {
            "tags": [],
            "needs_background": "light"
          }
        },
        {
          "output_type": "stream",
          "text": [
            " G R O U N D T R U T H \n"
          ],
          "name": "stdout"
        },
        {
          "output_type": "display_data",
          "data": {
            "image/png": "[encoded data removed]",
            "text/plain": [
              "<Figure size 1152x288 with 4 Axes>"
            ]
          },
          "metadata": {
            "tags": [],
            "needs_background": "light"
          }
        },
        {
          "output_type": "stream",
          "text": [
            " P R E D I C T E D \n"
          ],
          "name": "stdout"
        },
        {
          "output_type": "display_data",
          "data": {
            "image/png": "[encoded data removed]",
            "text/plain": [
              "<Figure size 1152x288 with 4 Axes>"
            ]
          },
          "metadata": {
            "tags": [],
            "needs_background": "light"
          }
        }
      ]
    },
    {
      "cell_type": "markdown",
      "metadata": {
        "id": "GFBAdYvyqOhj"
      },
      "source": [
        "#### Упражнение 1\n",
        "Сохраните веса модели в отдельный файл.\n",
        "\n",
        "Дообучите модель (без ее сброса - перезагрузки) на 10 эпохах"
      ]
    },
    {
      "cell_type": "code",
      "metadata": {
        "id": "yLBMNIwIqOhj"
      },
      "source": [
        ""
      ],
      "execution_count": null,
      "outputs": []
    },
    {
      "cell_type": "markdown",
      "metadata": {
        "id": "-IU2sstUqOhj"
      },
      "source": [
        "#### Упражнение 2\n",
        "Добавьте возможность вывода графика функции потерь и метрики DICE по результатам обучения."
      ]
    },
    {
      "cell_type": "code",
      "metadata": {
        "id": "24dT-jZfqOhj"
      },
      "source": [
        ""
      ],
      "execution_count": null,
      "outputs": []
    },
    {
      "cell_type": "markdown",
      "metadata": {
        "id": "jLU4MgODqOhj"
      },
      "source": [
        "#### Упражнение 3\n",
        "Добавьте в процесс обучения метику Jaccard\n",
        "![](https://neo4j.com/docs/graph-algorithms/current/images/jaccard.png)"
      ]
    },
    {
      "cell_type": "code",
      "metadata": {
        "id": "h3w5tGRiqOhj"
      },
      "source": [
        ""
      ],
      "execution_count": null,
      "outputs": []
    },
    {
      "cell_type": "markdown",
      "metadata": {
        "id": "3qeOk6LCqOhj"
      },
      "source": [
        "#### Упражнение 4\n",
        "Добавьте к процессу обучения функцию ранней остановки (остановки по неизменению или росту валидации)"
      ]
    },
    {
      "cell_type": "code",
      "metadata": {
        "id": "hAO4xsSAqOhj"
      },
      "source": [
        ""
      ],
      "execution_count": null,
      "outputs": []
    },
    {
      "cell_type": "markdown",
      "metadata": {
        "id": "M19-8m-9qOhj"
      },
      "source": [
        "#### Упражнение 5\n",
        "Добавьте к архитектуре сети батч-нормализаци, дроп-ауты, а также добавьте инициализацию весов, для случая, если это не дообучение"
      ]
    },
    {
      "cell_type": "code",
      "metadata": {
        "id": "Z8eVDshHqOhj"
      },
      "source": [
        ""
      ],
      "execution_count": null,
      "outputs": []
    },
    {
      "cell_type": "markdown",
      "metadata": {
        "id": "BURrWYCvqOhj"
      },
      "source": [
        "#### Упражнение 6"
      ]
    },
    {
      "cell_type": "markdown",
      "metadata": {
        "id": "eyv60F9GqOhj"
      },
      "source": [
        "Уберите из архитектуры UNet связи энкодера и декодера - то есть преобразуйте UNet в SegNet. \n",
        "Сравните качество обучения сети."
      ]
    },
    {
      "cell_type": "code",
      "metadata": {
        "id": "SI8vZ1G7qOhj"
      },
      "source": [
        ""
      ],
      "execution_count": null,
      "outputs": []
    },
    {
      "cell_type": "code",
      "metadata": {
        "id": "6M4tcPWYqOhj"
      },
      "source": [
        ""
      ],
      "execution_count": null,
      "outputs": []
    },
    {
      "cell_type": "markdown",
      "metadata": {
        "id": "MsoDxYDfqOhj"
      },
      "source": [
        "- - - "
      ]
    },
    {
      "cell_type": "markdown",
      "metadata": {
        "id": "ep3yrvmRqOhj"
      },
      "source": [
        "## Предобучение сверточной сети автоэнкодером"
      ]
    },
    {
      "cell_type": "markdown",
      "metadata": {
        "id": "wuDajb_jqOhj"
      },
      "source": [
        "Часто при обучении модели сети - для поднятия качества ее обучения, особенно для небольших датасетов желательным является предобучение нейронной сети.\n",
        "Такое предобучение может быть произведено или на каком-то близком, но большом датасете или, например, методом автоэнкодера (такой подход? по существу, представляет собой концепцию сетей глубокого доверия - deep belief network). В случае UNet подход глубокого доверия может быть произведен путем обучения нейронной сети для случая, когда ее выход должен повторять ее вход - по сути это обучение без учителя. Стоит отметить, что преобучение и обучение могут быть проведены с разными видами функции потерь или другими параметрами обучения.\n"
      ]
    },
    {
      "cell_type": "markdown",
      "metadata": {
        "id": "JJDwun02qOhj"
      },
      "source": [
        "**Этап автоэнкодера**\n",
        "\n",
        "Выбирем в качестве функции потерь MSE (Minimum Square Error)"
      ]
    },
    {
      "cell_type": "code",
      "metadata": {
        "id": "V0e8ta-7qOhk"
      },
      "source": [
        "AUTOMETRICS_DEFAULT = {'mse':0.0,'dice':0.0,'loss':0.0}"
      ],
      "execution_count": null,
      "outputs": []
    },
    {
      "cell_type": "markdown",
      "metadata": {
        "id": "wccJQUS-qOhk"
      },
      "source": [
        "**Пересоздадим модель**"
      ]
    },
    {
      "cell_type": "code",
      "metadata": {
        "id": "i1HvYl1vqOhk"
      },
      "source": [
        "unet_model = UNet()"
      ],
      "execution_count": null,
      "outputs": []
    },
    {
      "cell_type": "markdown",
      "metadata": {
        "id": "c-faNOWhqOhk"
      },
      "source": [
        "**Пусть функция потерь будет только MSE**"
      ]
    },
    {
      "cell_type": "code",
      "metadata": {
        "id": "gRdfGhEtqOhk"
      },
      "source": [
        "def calc_autoloss(pred, inputs, metrics = None, mce_weight=1):\n",
        "    \n",
        "    if (metrics is None):\n",
        "        metrics = AUTOMETRICS_DEFAULT.copy()\n",
        "\n",
        "    mse = F.mse_loss(pred, inputs)\n",
        "        \n",
        "    pred = torch.sigmoid(pred)    \n",
        "    dice = dice_loss(pred, inputs)\n",
        "    \n",
        "    loss = mse #* mce_weight + dice * (1 - mce_weight)\n",
        "    \n",
        "    metrics['mse']  += mse.data.cpu().numpy()\n",
        "    metrics['dice'] += dice.data.cpu().numpy() \n",
        "    metrics['loss'] += loss.data.cpu().numpy() \n",
        "\n",
        "    return loss, metrics"
      ],
      "execution_count": null,
      "outputs": []
    },
    {
      "cell_type": "markdown",
      "metadata": {
        "id": "4nl7DiiaqOhk"
      },
      "source": [
        "**Перепишем процедуру обучения сети**"
      ]
    },
    {
      "cell_type": "code",
      "metadata": {
        "id": "sAexg6vdqOhk"
      },
      "source": [
        "def train_autoencoder(unet_model, dataloaders, optimizer,  scheduler=None, num_epochs=25):\n",
        "    \n",
        "    #INITIALIZATION OF THE BEST MODEL INITAL STATE\n",
        "    best_model = copy.deepcopy(unet_model.state_dict())\n",
        "    best_loss  = 1e10\n",
        "    best_epoch = 0\n",
        "    \n",
        "    start_time = time.time()\n",
        "    \n",
        "    \n",
        "    #EPOHS OF TRAINING\n",
        "    for epoch in range(num_epochs):\n",
        "        \n",
        "        #SERVICE INFORMATION \n",
        "        print('-' * 10)\n",
        "        since = time.time()        \n",
        "        print('Epoch {}/{}'.format(epoch+1, num_epochs),end=' ')\n",
        "        for param_group in optimizer.param_groups: print(\"LR\", param_group['lr'])  \n",
        "\n",
        "        #TRAINING AND VALIDATION PHASES\n",
        "        for phase in ['train', 'val']:\n",
        "            \n",
        "            #FOR SUCH LAYERS AS DROPOUT  AND BATCH NORM\n",
        "            if phase == 'train':               \n",
        "                unet_model.train()  \n",
        "            else:\n",
        "                unet_model.eval()  \n",
        "         \n",
        "            #COUNTER FOR SAMPLES PROCESSED IN THE EPOCH\n",
        "            epoch_samples = 0  \n",
        "            \n",
        "            #RESET METRICS VALUES FOR EPOCH\n",
        "            metrics       = AUTOMETRICS_DEFAULT.copy()\n",
        "            \n",
        "            #MINI_BATCHES\n",
        "            for inputs, labels in dataloaders[phase]:\n",
        "                optimizer.zero_grad()\n",
        "                \n",
        "                #IF VAL, THEN NO_GRAD, ELSE GRAD_ENABLE\n",
        "                with torch.set_grad_enabled(phase == 'train'):                  \n",
        "                    outputs       = unet_model.forward(inputs)                    \n",
        "                    loss, metrics = calc_autoloss(outputs, inputs, metrics)                    \n",
        "                    \n",
        "                    if phase == 'train':                        \n",
        "                        loss.backward()                        \n",
        "                        optimizer.step()\n",
        "                        \n",
        "                #FOR LOSS NORMALIZATION ON THE BATCH SIZE\n",
        "                epoch_samples += inputs.size(0)\n",
        "            \n",
        "            #CHECK FOR THE BEST RESULT            \n",
        "            epoch_loss = metrics['loss'] / epoch_samples            \n",
        "            if phase == 'val' and epoch_loss < best_loss:\n",
        "                print(\"saving best model\")\n",
        "                best_loss  = epoch_loss\n",
        "                best_epoch = epoch\n",
        "                best_model = copy.deepcopy(unet_model.state_dict())\n",
        "            \n",
        "            #LEARNING RATE SCHADULER\n",
        "            if phase == 'train' and scheduler is not None:\n",
        "                scheduler.step()                \n",
        "            \n",
        "            #SERVICE INFORMATION \n",
        "            print(str(phase),\":\",\n",
        "                  'loss:%.5f'%(metrics['loss']),\n",
        "                  'dice:%.5f'%(1-metrics['dice']), #1-DICE IS BETTER TO INTERPRITATE\n",
        "                  'mse:%.5f' %(metrics['mse']))       \n",
        "        \n",
        "        #SERVICE INFORMATION\n",
        "        time_elapsed = time.time() - since\n",
        "        print('Epoch time: {:.0f}m {:.0f}s'.\\\n",
        "              format(time_elapsed // 60, time_elapsed % 60))\n",
        "    \n",
        "    #SERVICE INFORMATION \n",
        "    print('Best val loss: {:4f}'.format(best_loss), \n",
        "          'best epoch: %d'%(best_epoch),\n",
        "          'training_time:{:.0f}m {:.0f}s'.\\\n",
        "              format((time.time()-start_time) // 60, \n",
        "                     (time.time()-start_time) % 60))\n",
        "\n",
        "    #LOAD THE BEST MODEL STATE (WEIGHTS AND BIASES)\n",
        "    unet_model.load_state_dict(best_model)\n",
        "    return unet_model"
      ],
      "execution_count": null,
      "outputs": []
    },
    {
      "cell_type": "markdown",
      "metadata": {
        "id": "6ObOADS_qOhk"
      },
      "source": [
        "**Параметры обучения**"
      ]
    },
    {
      "cell_type": "code",
      "metadata": {
        "id": "vq3KcSfnqOhk"
      },
      "source": [
        "EPOCH = 20\n",
        "pretrained = True\n",
        "\n",
        "# Observe that all parameters are being optimized\n",
        "optimizer_ft     = optim.Adam(unet_model.parameters(), lr=1e-4)\n",
        "\n",
        "exp_lr_scheduler = lr_scheduler.StepLR(optimizer_ft, step_size=10, gamma=0.9)\n",
        "\n",
        "if pretrained == False:\n",
        "    unet_model = UNet()"
      ],
      "execution_count": null,
      "outputs": []
    },
    {
      "cell_type": "markdown",
      "metadata": {
        "id": "Bs-BIo7OqOhk"
      },
      "source": [
        "**Тренировка автоэнкодера**"
      ]
    },
    {
      "cell_type": "code",
      "metadata": {
        "id": "WkIGLQGNqOhk",
        "outputId": "e149476f-1514-4728-b836-e0f337dc5884"
      },
      "source": [
        "unet_model =\\\n",
        "    train_autoencoder(unet_model, \n",
        "                      dataloaders = dataloaders,\n",
        "                      optimizer   = optimizer_ft, \n",
        "                      scheduler   = exp_lr_scheduler,  \n",
        "                      num_epochs  = EPOCH)    "
      ],
      "execution_count": null,
      "outputs": [
        {
          "output_type": "stream",
          "text": [
            "----------\n",
            "Epoch 1/20 LR 0.0001\n",
            "train : loss:6883.09349 dice:-222.18551 mse:6883.09349\n",
            "saving best model\n",
            "val : loss:3.59113 dice:-21.36611 mse:3.59113\n",
            "Epoch time: 0m 51s\n",
            "----------\n",
            "Epoch 2/20 LR 0.0001\n",
            "train : loss:21.05984 dice:-223.37881 mse:21.05984\n",
            "saving best model\n",
            "val : loss:1.06789 dice:-21.71218 mse:1.06789\n",
            "Epoch time: 0m 52s\n",
            "----------\n",
            "Epoch 3/20 LR 0.0001\n",
            "train : loss:8.54663 dice:-224.59898 mse:8.54663\n",
            "saving best model\n",
            "val : loss:0.70344 dice:-21.56215 mse:0.70344\n",
            "Epoch time: 0m 52s\n",
            "----------\n",
            "Epoch 4/20 LR 0.0001\n",
            "train : loss:6.50161 dice:-224.79586 mse:6.50161\n",
            "saving best model\n",
            "val : loss:0.57155 dice:-21.61425 mse:0.57155\n",
            "Epoch time: 0m 53s\n",
            "----------\n",
            "Epoch 5/20 LR 0.0001\n",
            "train : loss:5.35930 dice:-224.93129 mse:5.35930\n",
            "saving best model\n",
            "val : loss:0.48960 dice:-21.69812 mse:0.48960\n",
            "Epoch time: 0m 54s\n",
            "----------\n",
            "Epoch 6/20 LR 0.0001\n",
            "train : loss:4.46581 dice:-225.03906 mse:4.46581\n",
            "saving best model\n",
            "val : loss:0.41641 dice:-21.51201 mse:0.41641\n",
            "Epoch time: 0m 54s\n",
            "----------\n",
            "Epoch 7/20 LR 0.0001\n",
            "train : loss:3.76241 dice:-225.11954 mse:3.76241\n",
            "saving best model\n",
            "val : loss:0.33634 dice:-21.64234 mse:0.33634\n",
            "Epoch time: 0m 49s\n",
            "----------\n",
            "Epoch 8/20 LR 0.0001\n",
            "train : loss:3.14995 dice:-225.21430 mse:3.14995\n",
            "saving best model\n",
            "val : loss:0.28205 dice:-21.65618 mse:0.28205\n",
            "Epoch time: 0m 52s\n",
            "----------\n",
            "Epoch 9/20 LR 0.0001\n",
            "train : loss:2.63369 dice:-225.28522 mse:2.63369\n",
            "saving best model\n",
            "val : loss:0.23978 dice:-21.62613 mse:0.23978\n",
            "Epoch time: 1m 1s\n",
            "----------\n",
            "Epoch 10/20 LR 0.0001\n",
            "train : loss:2.24799 dice:-225.34018 mse:2.24799\n",
            "saving best model\n",
            "val : loss:0.21747 dice:-21.55528 mse:0.21747\n",
            "Epoch time: 0m 56s\n",
            "----------\n",
            "Epoch 11/20 LR 9e-05\n",
            "train : loss:1.96742 dice:-225.37923 mse:1.96742\n",
            "saving best model\n",
            "val : loss:0.18693 dice:-21.70884 mse:0.18693\n",
            "Epoch time: 0m 53s\n",
            "----------\n",
            "Epoch 12/20 LR 9e-05\n",
            "train : loss:1.71599 dice:-225.41654 mse:1.71599\n",
            "saving best model\n",
            "val : loss:0.15892 dice:-21.62590 mse:0.15892\n",
            "Epoch time: 0m 54s\n",
            "----------\n",
            "Epoch 13/20 LR 9e-05\n",
            "train : loss:1.49813 dice:-225.44695 mse:1.49813\n",
            "saving best model\n",
            "val : loss:0.13960 dice:-21.67564 mse:0.13960\n",
            "Epoch time: 0m 53s\n",
            "----------\n",
            "Epoch 14/20 LR 9e-05\n",
            "train : loss:1.34721 dice:-225.46665 mse:1.34721\n",
            "saving best model\n",
            "val : loss:0.13720 dice:-21.74664 mse:0.13720\n",
            "Epoch time: 0m 54s\n",
            "----------\n",
            "Epoch 15/20 LR 9e-05\n",
            "train : loss:1.16432 dice:-225.49384 mse:1.16432\n",
            "saving best model\n",
            "val : loss:0.11117 dice:-21.69334 mse:0.11117\n",
            "Epoch time: 0m 56s\n",
            "----------\n",
            "Epoch 16/20 LR 9e-05\n",
            "train : loss:1.03199 dice:-225.51186 mse:1.03199\n",
            "saving best model\n",
            "val : loss:0.09675 dice:-21.64275 mse:0.09675\n",
            "Epoch time: 0m 59s\n",
            "----------\n",
            "Epoch 17/20 LR 9e-05\n",
            "train : loss:0.93353 dice:-225.52358 mse:0.93353\n",
            "saving best model\n",
            "val : loss:0.08858 dice:-21.69700 mse:0.08858\n",
            "Epoch time: 0m 51s\n",
            "----------\n",
            "Epoch 18/20 LR 9e-05\n",
            "train : loss:0.82753 dice:-225.53992 mse:0.82753\n",
            "saving best model\n",
            "val : loss:0.07717 dice:-21.65694 mse:0.07717\n",
            "Epoch time: 0m 59s\n",
            "----------\n",
            "Epoch 19/20 LR 9e-05\n",
            "train : loss:0.73902 dice:-225.55331 mse:0.73902\n",
            "saving best model\n",
            "val : loss:0.06993 dice:-21.64289 mse:0.06993\n",
            "Epoch time: 0m 49s\n",
            "----------\n",
            "Epoch 20/20 LR 9e-05\n",
            "train : loss:0.67419 dice:-225.55898 mse:0.67419\n",
            "saving best model\n",
            "val : loss:0.06309 dice:-21.66396 mse:0.06309\n",
            "Epoch time: 0m 50s\n",
            "Best val loss: 0.000315 best epoch: 19 training_time:17m 52s\n"
          ],
          "name": "stdout"
        }
      ]
    },
    {
      "cell_type": "markdown",
      "metadata": {
        "id": "02u0yWcMqOhk"
      },
      "source": [
        "**Посмотрим результат для тестового датасета, созданного ранее**\n",
        "\n",
        "$^*$ Если тестовый датасет не найден, пресоздайте его"
      ]
    },
    {
      "cell_type": "code",
      "metadata": {
        "id": "fKFKTptEqOhk",
        "outputId": "3173664e-32ba-4651-c9af-399639aed396"
      },
      "source": [
        "unet_model.eval() \n",
        "inputs, labels = next(iter(test_loader))\n",
        "predicts       = unet_model(inputs)\n",
        "loss, metrics  = calc_autoloss(predicts, inputs)\n",
        "print('loss:%.5f'%(metrics['loss']),\n",
        "                  'dice:%.5f'%(1-metrics['dice']), \n",
        "                  'mse:%.5f' %(metrics['mse']))\n",
        "\n",
        "predicts = predicts.data.cpu().numpy()\n",
        "\n",
        "print(' I N P U T  =   G R O U N D T R U T H ')\n",
        "plt.figure(figsize=(16,4))\n",
        "plt.subplot(141);plt.imshow(inputs[0][0])\n",
        "plt.subplot(142);plt.imshow(inputs[1][0])\n",
        "plt.subplot(143);plt.imshow(inputs[2][0])\n",
        "plt.subplot(144);plt.imshow(inputs[3][0])\n",
        "plt.show()\n",
        "\n",
        "print(' P R E D I C T E D ')\n",
        "plt.figure(figsize=(16,4))\n",
        "plt.subplot(141);plt.imshow(predicts[0][0])\n",
        "plt.subplot(142);plt.imshow(predicts[1][0])\n",
        "plt.subplot(143);plt.imshow(predicts[2][0])\n",
        "plt.subplot(144);plt.imshow(predicts[3][0])\n",
        "plt.show()"
      ],
      "execution_count": null,
      "outputs": [
        {
          "output_type": "stream",
          "text": [
            "loss:0.00181 dice:0.09802 mse:0.00181\n",
            " I N P U T  = G R O U N D T R U T H \n"
          ],
          "name": "stdout"
        },
        {
          "output_type": "display_data",
          "data": {
            "image/png": "[encoded data removed]",
            "text/plain": [
              "<Figure size 1152x288 with 4 Axes>"
            ]
          },
          "metadata": {
            "tags": [],
            "needs_background": "light"
          }
        },
        {
          "output_type": "stream",
          "text": [
            " P R E D I C T E D \n"
          ],
          "name": "stdout"
        },
        {
          "output_type": "display_data",
          "data": {
            "image/png": "[encoded data removed]",
            "text/plain": [
              "<Figure size 1152x288 with 4 Axes>"
            ]
          },
          "metadata": {
            "tags": [],
            "needs_background": "light"
          }
        }
      ]
    },
    {
      "cell_type": "markdown",
      "metadata": {
        "id": "Rtu4T7k9qOhk"
      },
      "source": [
        "**Попробуем обучить предобученную сеть**"
      ]
    },
    {
      "cell_type": "code",
      "metadata": {
        "id": "ZZNsbjEHqOhk",
        "outputId": "ba6f6a06-eee9-4762-c150-b551305f0406"
      },
      "source": [
        "unet_model =\\\n",
        "    train_model(unet_model, \n",
        "                dataloaders = dataloaders,\n",
        "                optimizer   = optimizer_ft, \n",
        "                scheduler   = exp_lr_scheduler,  \n",
        "                num_epochs  = EPOCH)   "
      ],
      "execution_count": null,
      "outputs": [
        {
          "output_type": "stream",
          "text": [
            "----------\n",
            "Epoch 0/19 LR 8.1e-05\n",
            "train : loss:9.51207 dice:-16.98738 bce:1.03676\n",
            "saving best model\n",
            "val : loss:0.38224 dice:0.26683 bce:0.03131\n",
            "Epoch time: 0m 50s\n",
            "----------\n",
            "Epoch 1/19 LR 8.1e-05\n",
            "train : loss:2.64964 dice:-4.07184 bce:0.22745\n",
            "saving best model\n",
            "val : loss:0.32173 dice:0.38086 bce:0.02432\n",
            "Epoch time: 0m 55s\n",
            "----------\n",
            "Epoch 2/19 LR 8.1e-05\n",
            "train : loss:2.25833 dice:-3.30974 bce:0.20691\n",
            "saving best model\n",
            "val : loss:0.23639 dice:0.54585 bce:0.01863\n",
            "Epoch time: 0m 51s\n",
            "----------\n",
            "Epoch 3/19 LR 8.1e-05\n",
            "train : loss:1.79976 dice:-2.42105 bce:0.17846\n",
            "saving best model\n",
            "val : loss:0.15528 dice:0.70261 bce:0.01317\n",
            "Epoch time: 0m 54s\n",
            "----------\n",
            "Epoch 4/19 LR 8.1e-05\n",
            "train : loss:1.44232 dice:-1.74357 bce:0.14107\n",
            "val : loss:0.20354 dice:0.61138 bce:0.01845\n",
            "Epoch time: 1m 2s\n",
            "----------\n",
            "Epoch 5/19 LR 8.1e-05\n",
            "train : loss:1.16712 dice:-1.22211 bce:0.11212\n",
            "saving best model\n",
            "val : loss:0.10726 dice:0.79581 bce:0.01032\n",
            "Epoch time: 0m 52s\n",
            "----------\n",
            "Epoch 6/19 LR 8.1e-05\n",
            "train : loss:1.04043 dice:-0.97121 bce:0.10965\n",
            "saving best model\n",
            "val : loss:0.08542 dice:0.83869 bce:0.00953\n",
            "Epoch time: 0m 50s\n",
            "----------\n",
            "Epoch 7/19 LR 8.1e-05\n",
            "train : loss:0.86422 dice:-0.63676 bce:0.09168\n",
            "saving best model\n",
            "val : loss:0.08278 dice:0.84506 bce:0.01062\n",
            "Epoch time: 1m 3s\n",
            "----------\n",
            "Epoch 8/19 LR 8.1e-05\n",
            "train : loss:0.77872 dice:-0.47008 bce:0.08737\n",
            "saving best model\n",
            "val : loss:0.07884 dice:0.85203 bce:0.00971\n",
            "Epoch time: 0m 50s\n",
            "----------\n",
            "Epoch 9/19 LR 8.1e-05\n",
            "train : loss:0.74354 dice:-0.40196 bce:0.08512\n",
            "val : loss:0.08282 dice:0.84553 bce:0.01118\n",
            "Epoch time: 0m 52s\n",
            "----------\n",
            "Epoch 10/19 LR 7.290000000000001e-05\n",
            "train : loss:0.69098 dice:-0.30684 bce:0.07512\n",
            "saving best model\n",
            "val : loss:0.07777 dice:0.85418 bce:0.00971\n",
            "Epoch time: 0m 51s\n",
            "----------\n",
            "Epoch 11/19 LR 7.290000000000001e-05\n",
            "train : loss:0.65670 dice:-0.23987 bce:0.07353\n",
            "saving best model\n",
            "val : loss:0.07544 dice:0.85856 bce:0.00945\n",
            "Epoch time: 0m 47s\n",
            "----------\n",
            "Epoch 12/19 LR 7.290000000000001e-05\n",
            "train : loss:0.66858 dice:-0.26030 bce:0.07686\n",
            "saving best model\n",
            "val : loss:0.07081 dice:0.86706 bce:0.00867\n",
            "Epoch time: 0m 55s\n",
            "----------\n",
            "Epoch 13/19 LR 7.290000000000001e-05\n",
            "train : loss:0.56626 dice:-0.07396 bce:0.05855\n",
            "val : loss:0.09558 dice:0.82294 bce:0.01409\n",
            "Epoch time: 0m 49s\n",
            "----------\n",
            "Epoch 14/19 LR 7.290000000000001e-05\n",
            "train : loss:0.61828 dice:-0.17303 bce:0.06353\n",
            "saving best model\n",
            "val : loss:0.06115 dice:0.88546 bce:0.00776\n",
            "Epoch time: 0m 53s\n",
            "----------\n",
            "Epoch 15/19 LR 7.290000000000001e-05\n",
            "train : loss:0.50071 dice:0.05206 bce:0.05349\n",
            "val : loss:0.07338 dice:0.86374 bce:0.01049\n",
            "Epoch time: 0m 52s\n",
            "----------\n",
            "Epoch 16/19 LR 7.290000000000001e-05\n",
            "train : loss:0.50500 dice:0.05003 bce:0.06004\n",
            "val : loss:0.06907 dice:0.87068 bce:0.00882\n",
            "Epoch time: 0m 51s\n",
            "----------\n",
            "Epoch 17/19 LR 7.290000000000001e-05\n",
            "train : loss:0.48522 dice:0.09083 bce:0.06127\n",
            "val : loss:0.10438 dice:0.80642 bce:0.01519\n",
            "Epoch time: 0m 51s\n",
            "----------\n",
            "Epoch 18/19 LR 7.290000000000001e-05\n",
            "train : loss:0.42796 dice:0.19255 bce:0.04848\n",
            "saving best model\n",
            "val : loss:0.05664 dice:0.89400 bce:0.00727\n",
            "Epoch time: 0m 52s\n",
            "----------\n",
            "Epoch 19/19 LR 7.290000000000001e-05\n",
            "train : loss:0.45972 dice:0.13232 bce:0.05176\n",
            "saving best model\n",
            "val : loss:0.05570 dice:0.89581 bce:0.00720\n",
            "Epoch time: 0m 51s\n",
            "Best val loss: 0.000278 best epoch: 19 training_time:17m 31s\n"
          ],
          "name": "stdout"
        }
      ]
    },
    {
      "cell_type": "code",
      "metadata": {
        "id": "ZqcyrN4mqOhk",
        "outputId": "5c919ee5-0687-4fa9-99a7-9d850720464c"
      },
      "source": [
        "unet_model.eval() \n",
        "inputs, labels = next(iter(test_loader))\n",
        "predicts       = unet_model(inputs)\n",
        "loss, metrics  = calc_loss(predicts, labels)\n",
        "print('loss:%.5f'%(metrics['loss']),\n",
        "                  'dice:%.5f'%(1-metrics['dice']), \n",
        "                  'bce:%.5f' %(metrics['bce']))\n",
        "\n",
        "predicts = predicts.data.cpu().numpy()\n",
        "\n",
        "print(' I N P U T  = G R O U N D T R U T H ')\n",
        "plt.figure(figsize=(16,4))\n",
        "plt.subplot(141);plt.imshow(inputs[0][0])\n",
        "plt.subplot(142);plt.imshow(inputs[1][0])\n",
        "plt.subplot(143);plt.imshow(inputs[2][0])\n",
        "plt.subplot(144);plt.imshow(inputs[3][0])\n",
        "plt.show()\n",
        "\n",
        "print(' P R E D I C T E D ')\n",
        "plt.figure(figsize=(16,4))\n",
        "plt.subplot(141);plt.imshow(predicts[0][0])\n",
        "plt.subplot(142);plt.imshow(predicts[1][0])\n",
        "plt.subplot(143);plt.imshow(predicts[2][0])\n",
        "plt.subplot(144);plt.imshow(predicts[3][0])\n",
        "plt.show()"
      ],
      "execution_count": null,
      "outputs": [
        {
          "output_type": "stream",
          "text": [
            "loss:0.00000 dice:0.99999 bce:0.00000\n",
            " I N P U T  = G R O U N D T R U T H \n"
          ],
          "name": "stdout"
        },
        {
          "output_type": "display_data",
          "data": {
            "image/png": "[encoded data removed]",
            "text/plain": [
              "<Figure size 1152x288 with 4 Axes>"
            ]
          },
          "metadata": {
            "tags": [],
            "needs_background": "light"
          }
        },
        {
          "output_type": "stream",
          "text": [
            " P R E D I C T E D \n"
          ],
          "name": "stdout"
        },
        {
          "output_type": "display_data",
          "data": {
            "image/png": "[encoded data removed]",
            "text/plain": [
              "<Figure size 1152x288 with 4 Axes>"
            ]
          },
          "metadata": {
            "tags": [],
            "needs_background": "light"
          }
        }
      ]
    },
    {
      "cell_type": "markdown",
      "metadata": {
        "id": "K0ZA63MbqOhk"
      },
      "source": [
        "#### Упражнение 1\n",
        "Сравните результат работы предобученной сети и сети с произвольной инициализацией параметров.\n",
        "Для этого загрузите и тот и другой в разные модели и проведите оценку функции потерь, метрик качества, а также проведите визуальное сравнение.\n"
      ]
    },
    {
      "cell_type": "code",
      "metadata": {
        "id": "vSpUv8cMqOhk"
      },
      "source": [
        ""
      ],
      "execution_count": null,
      "outputs": []
    },
    {
      "cell_type": "markdown",
      "metadata": {
        "id": "omYX6wWCqOhk"
      },
      "source": [
        "#### Упражнение 2\n",
        "\n",
        "На самом деле процедура тренировки автоэнкодера без учителя не требует процедуры валидации.\n",
        "Перепишите процедуру тренировки автоэнкодра так, чтобы исключить из нее валидацию."
      ]
    },
    {
      "cell_type": "code",
      "metadata": {
        "id": "iPLJgSlNqOhk"
      },
      "source": [
        ""
      ],
      "execution_count": null,
      "outputs": []
    }
  ]
}