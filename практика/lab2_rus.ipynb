{
  "nbformat": 4,
  "nbformat_minor": 0,
  "metadata": {
    "kernelspec": {
      "display_name": "Python 3",
      "language": "python",
      "name": "python3"
    },
    "language_info": {
      "codemirror_mode": {
        "name": "ipython",
        "version": 3
      },
      "file_extension": ".py",
      "mimetype": "text/x-python",
      "name": "python",
      "nbconvert_exporter": "python",
      "pygments_lexer": "ipython3",
      "version": "3.7.4"
    },
    "colab": {
      "name": "lab2_rus.ipynb",
      "provenance": []
    }
  },
  "cells": [
    {
      "cell_type": "markdown",
      "metadata": {
        "id": "tbjwMUbvon8-"
      },
      "source": [
        "# NUMPY"
      ]
    },
    {
      "cell_type": "markdown",
      "metadata": {
        "id": "ll6HxfQWon9G"
      },
      "source": [
        "<font size=4 face = 'Calibri' > \n",
        "NumPy - стандартная библиотека Python для научных расчетов, машинного обучения и других прекладных задач:\n",
        "\n",
        "основной тип данных - N размерные массивы. \n",
        "\n",
        "Библиотека написана на C/C++ и предоставляет в python только api, по этому расчеты в ней выполняются быстрее, чем в стандартном питоне.\n",
        "\n"
      ]
    },
    {
      "cell_type": "code",
      "metadata": {
        "id": "8JiZsJ6aon9H",
        "outputId": "bbee879d-cdc0-449b-97ab-0189c3d7d119"
      },
      "source": [
        "!pip install numpy "
      ],
      "execution_count": null,
      "outputs": [
        {
          "output_type": "stream",
          "text": [
            "Requirement already satisfied: numpy in c:\\users\\ronkin\\anaconda3\\lib\\site-packages (1.16.5)\n"
          ],
          "name": "stdout"
        }
      ]
    },
    {
      "cell_type": "code",
      "metadata": {
        "id": "sWfuF0Muon9M"
      },
      "source": [
        "# Import the numpy package as np\n",
        "import numpy as np"
      ],
      "execution_count": null,
      "outputs": []
    },
    {
      "cell_type": "markdown",
      "metadata": {
        "id": "-Z1MRtcCon9P"
      },
      "source": [
        "<font size=4 face = 'Calibri' > пример получения numpy array из литса - нативного типа данных"
      ]
    },
    {
      "cell_type": "code",
      "metadata": {
        "id": "eQKxKhYCon9Q"
      },
      "source": [
        "import numpy as np\n",
        "# Create 2 new lists a and b\n",
        "a = [1.87,  1.87, 1.82, 1.91, 1.90, 1.85]\n",
        "b = [81.65, 97.52, 95.25, 92.98, 86.18, 88.45]\n",
        "\n",
        "\n",
        "\n",
        "# Create 2 numpy arrays from height and weight\n",
        "np_a = np.array(a)\n",
        "np_b = np.array(b)"
      ],
      "execution_count": null,
      "outputs": []
    },
    {
      "cell_type": "code",
      "metadata": {
        "id": "fjpYWAxeon9a",
        "outputId": "f48e06be-ffa9-44c7-a4f5-a5a44e89b1f1"
      },
      "source": [
        "print(type(np_a))\n",
        "print(type(a))"
      ],
      "execution_count": null,
      "outputs": [
        {
          "output_type": "stream",
          "text": [
            "<class 'numpy.ndarray'>\n",
            "<class 'list'>\n"
          ],
          "name": "stdout"
        }
      ]
    },
    {
      "cell_type": "markdown",
      "metadata": {
        "id": "Maqf8zecon9d"
      },
      "source": [
        "<font size=4 face = 'Calibri' > проверка типа"
      ]
    },
    {
      "cell_type": "code",
      "metadata": {
        "id": "xRYzNBG-on9e",
        "outputId": "02173585-18da-4ccb-a8c5-a77d4232ce5b"
      },
      "source": [
        "print(np_a.dtype)"
      ],
      "execution_count": null,
      "outputs": [
        {
          "output_type": "stream",
          "text": [
            "float64\n"
          ],
          "name": "stdout"
        }
      ]
    },
    {
      "cell_type": "markdown",
      "metadata": {
        "id": "OcQiQJDzon9h"
      },
      "source": [
        "<font size=4 face = 'Calibri' > Также имеется возможность создания специальных типов массивов"
      ]
    },
    {
      "cell_type": "code",
      "metadata": {
        "id": "xdnb12IXon9h",
        "outputId": "9a16736b-1f06-452c-c914-46271885b838"
      },
      "source": [
        "a = np.array([15,25,14,78,96],dtype = \"int32\")\n",
        "print(a.dtype)"
      ],
      "execution_count": null,
      "outputs": [
        {
          "output_type": "stream",
          "text": [
            "int32\n"
          ],
          "name": "stdout"
        }
      ]
    },
    {
      "cell_type": "markdown",
      "metadata": {
        "id": "ZpJiDErqon9n"
      },
      "source": [
        "<font size=4 face = 'Calibri' > массивы numpy поддерживают поэлеметные операции"
      ]
    },
    {
      "cell_type": "code",
      "metadata": {
        "id": "23I346skon9o",
        "outputId": "87186cc7-fd16-4910-bc7d-bedafb94e992"
      },
      "source": [
        "# Calculate the \n",
        "cc = 2*np_a/ (np_b**2+np_a)\n",
        "\n",
        "# Print the result\n",
        "print(cc)"
      ],
      "execution_count": null,
      "outputs": [
        {
          "output_type": "stream",
          "text": [
            "[0.00056084 0.00039319 0.00040113 0.00044176 0.00051152 0.00047283]\n"
          ],
          "name": "stdout"
        }
      ]
    },
    {
      "cell_type": "markdown",
      "metadata": {
        "id": "YrRLsLZWon9s"
      },
      "source": [
        "<font size=4 face = 'Calibri' > Также поддежривается доступ к элементам по условию."
      ]
    },
    {
      "cell_type": "code",
      "metadata": {
        "id": "L8psfijron9s",
        "outputId": "eea32b42-b513-468f-a706-68884c7a8e97"
      },
      "source": [
        "# Print only those observations above 23\n",
        "print(a[a > 23])\n",
        "print ('conditional slices '+str(a[np.where(a>28)]))"
      ],
      "execution_count": null,
      "outputs": [
        {
          "output_type": "stream",
          "text": [
            "[25 78 96]\n",
            "conditional slices [78 96]\n"
          ],
          "name": "stdout"
        }
      ]
    },
    {
      "cell_type": "markdown",
      "metadata": {
        "id": "l89iA2Nnon9v"
      },
      "source": [
        "### Упражнение"
      ]
    },
    {
      "cell_type": "markdown",
      "metadata": {
        "id": "EFvqSm2con9v"
      },
      "source": [
        "<font size=4 face = 'Calibri' > преобразовать лист в массив \n",
        "и преобразовать лист весов из кг в тонны\n"
      ]
    },
    {
      "cell_type": "code",
      "metadata": {
        "id": "wIT9u5-eon9w"
      },
      "source": [
        "weight_kg = [81.65, 97.52, 95.25, 92.98, 86.18, 88.45]\n",
        "\n",
        "import numpy as np\n",
        "\n",
        "# Create a numpy array np_weight_kg from weight_kg\n",
        "    \n",
        "\n",
        "# Create np_weight_ton from np_weight_kg\n",
        "\n",
        "# Print out np_weight_ton\n"
      ],
      "execution_count": null,
      "outputs": []
    },
    {
      "cell_type": "markdown",
      "metadata": {
        "id": "34fmUb_Von91"
      },
      "source": [
        "# масивы в Numpy"
      ]
    },
    {
      "cell_type": "markdown",
      "metadata": {
        "id": "LyJaTXghon92"
      },
      "source": [
        "<font size=4 face = 'Calibri' >  Ниже приведены методы объявления массивов в numpy"
      ]
    },
    {
      "cell_type": "code",
      "metadata": {
        "id": "EHM4YjXEon93",
        "outputId": "63060701-e534-435b-8c64-bf6a07f2b054"
      },
      "source": [
        "b = np.arange(start = 20,stop = 30)  \n",
        "print(b)"
      ],
      "execution_count": null,
      "outputs": [
        {
          "output_type": "stream",
          "text": [
            "[20 21 22 23 24 25 26 27 28 29]\n"
          ],
          "name": "stdout"
        }
      ]
    },
    {
      "cell_type": "markdown",
      "metadata": {
        "id": "rqKCUUXhon95"
      },
      "source": [
        "<font size=4 face = 'Calibri' > \n",
        "    также методы вызова"
      ]
    },
    {
      "cell_type": "code",
      "metadata": {
        "id": "kHYhHrh8on95",
        "outputId": "595373af-06ce-410b-f0bb-fab9219b9a31"
      },
      "source": [
        "c = np.arange(10)# same as range\n",
        "d = np.arange(10,30,4 )# #start = 10, stop = 30, step = 4\n",
        "e = np.linspace(10,30,4) #start = 10, stop = 30, number of elemets = 4\n",
        "f = np.repeat([1,10],3)\n",
        "\n",
        "\n",
        "print(c)\n",
        "print(d)\n",
        "print(e)\n",
        "print(f)"
      ],
      "execution_count": null,
      "outputs": [
        {
          "output_type": "stream",
          "text": [
            "[0 1 2 3 4 5 6 7 8 9]\n",
            "[10 14 18 22 26]\n",
            "[10.         16.66666667 23.33333333 30.        ]\n",
            "[ 1  1  1 10 10 10]\n"
          ],
          "name": "stdout"
        }
      ]
    },
    {
      "cell_type": "markdown",
      "metadata": {
        "id": "v5FYcw9von98"
      },
      "source": [
        "###### использование метода reshape позволяет менять форму массивы\n"
      ]
    },
    {
      "cell_type": "code",
      "metadata": {
        "id": "tBsfB9ivon99",
        "outputId": "97fac75f-79e9-423f-8802-e63d267fcb84"
      },
      "source": [
        "e = np.linspace(0,8,9, dtype=int)\n",
        "print(e)\n",
        "\n",
        "print('after reshape ')\n",
        "e.resize(3,3)\n",
        "print(e)"
      ],
      "execution_count": null,
      "outputs": [
        {
          "output_type": "stream",
          "text": [
            "[0 1 2 3 4 5 6 7 8]\n",
            "after reshape \n",
            "[[0 1 2]\n",
            " [3 4 5]\n",
            " [6 7 8]]\n"
          ],
          "name": "stdout"
        }
      ]
    },
    {
      "cell_type": "markdown",
      "metadata": {
        "id": "pV2XOwj8on-A"
      },
      "source": [
        "###### специальные типы массивов"
      ]
    },
    {
      "cell_type": "code",
      "metadata": {
        "id": "J4A_sS3von-A",
        "outputId": "5ca141eb-6e94-4344-a560-b2b1df52e685"
      },
      "source": [
        "a=np.zeros(10)\n",
        "print(a)\n",
        "a=np.zeros([3,3])\n",
        "print(a)"
      ],
      "execution_count": null,
      "outputs": [
        {
          "output_type": "stream",
          "text": [
            "[0. 0. 0. 0. 0. 0. 0. 0. 0. 0.]\n",
            "[[0. 0. 0.]\n",
            " [0. 0. 0.]\n",
            " [0. 0. 0.]]\n"
          ],
          "name": "stdout"
        }
      ]
    },
    {
      "cell_type": "code",
      "metadata": {
        "id": "I4zSrvwvon-D",
        "outputId": "a6b06315-20a4-4988-e3f1-e2f200320f8c"
      },
      "source": [
        "a=np.ones(10)\n",
        "print(a)\n",
        "a=np.ones([3,3])\n",
        "print(a)"
      ],
      "execution_count": null,
      "outputs": [
        {
          "output_type": "stream",
          "text": [
            "[1. 1. 1. 1. 1. 1. 1. 1. 1. 1.]\n",
            "[[1. 1. 1.]\n",
            " [1. 1. 1.]\n",
            " [1. 1. 1.]]\n"
          ],
          "name": "stdout"
        }
      ]
    },
    {
      "cell_type": "code",
      "metadata": {
        "id": "ESUYHtWBon-H",
        "outputId": "a164cf2c-6867-4dfa-8406-bec04899671b"
      },
      "source": [
        "a=np.full([2,2],3.14)\n",
        "print(a)"
      ],
      "execution_count": null,
      "outputs": [
        {
          "output_type": "stream",
          "text": [
            "[[3.14 3.14]\n",
            " [3.14 3.14]]\n"
          ],
          "name": "stdout"
        }
      ]
    },
    {
      "cell_type": "code",
      "metadata": {
        "id": "kszD4HBQon-K",
        "outputId": "32d80243-9505-4962-dabb-20779c19f580"
      },
      "source": [
        "c=np.empty(12) #Return a new array of given shape and type, without initializing entries.\n",
        "print(c)"
      ],
      "execution_count": null,
      "outputs": [
        {
          "output_type": "stream",
          "text": [
            "[7.7e-322 0.0e+000 0.0e+000 0.0e+000 0.0e+000 0.0e+000 0.0e+000 0.0e+000\n",
            " 0.0e+000 0.0e+000 0.0e+000 0.0e+000]\n"
          ],
          "name": "stdout"
        }
      ]
    },
    {
      "cell_type": "markdown",
      "metadata": {
        "id": "7-6wGKRaon-M"
      },
      "source": [
        "###### примеры объявления многомерных массивов"
      ]
    },
    {
      "cell_type": "code",
      "metadata": {
        "id": "w18UNnHWon-N",
        "outputId": "5421f677-73b2-4b99-b728-7ca0266b8cbe"
      },
      "source": [
        "a2 = np.array([[11,12,13],[21,22,22],[31,32,33]])\n",
        "print(a2)\n",
        "\n",
        "#Alternatively\n",
        "b2 = np.array([(11,12,13),(21,22,22),(31,32,33)])\n",
        "print(b2)"
      ],
      "execution_count": null,
      "outputs": [
        {
          "output_type": "stream",
          "text": [
            "[[11 12 13]\n",
            " [21 22 22]\n",
            " [31 32 33]]\n",
            "[[11 12 13]\n",
            " [21 22 22]\n",
            " [31 32 33]]\n"
          ],
          "name": "stdout"
        }
      ]
    },
    {
      "cell_type": "code",
      "metadata": {
        "id": "K2IKRDCSon-P",
        "outputId": "f68642f9-df17-4638-f7fd-28186d724bdb"
      },
      "source": [
        "\n",
        "a = np.diag([14,15,16,17])\n",
        "print(a)"
      ],
      "execution_count": null,
      "outputs": [
        {
          "output_type": "stream",
          "text": [
            "[[14  0  0  0]\n",
            " [ 0 15  0  0]\n",
            " [ 0  0 16  0]\n",
            " [ 0  0  0 17]]\n"
          ],
          "name": "stdout"
        }
      ]
    },
    {
      "cell_type": "code",
      "metadata": {
        "id": "9ailj6-ton-U",
        "outputId": "8fedb352-f642-4c1b-cde9-e443cf0c5c03"
      },
      "source": [
        "a=np.eye(3,dtype = \"int\")\n",
        "print(a)\n"
      ],
      "execution_count": null,
      "outputs": [
        {
          "output_type": "stream",
          "text": [
            "[[1 0 0]\n",
            " [0 1 0]\n",
            " [0 0 1]]\n"
          ],
          "name": "stdout"
        }
      ]
    },
    {
      "cell_type": "code",
      "metadata": {
        "id": "Yy0qD0-ron-Z",
        "outputId": "2bd5fe79-ac03-4bd6-fb61-95d89f5f5e45"
      },
      "source": [
        "Z = np.random.random((3,3))\n",
        "print(Z)\n",
        "\n",
        "print('\\n normally distributed values \\n')\n",
        "Z=np.random.normal(loc=0, scale = 3, size=(2,2))\n",
        "print(Z)"
      ],
      "execution_count": null,
      "outputs": [
        {
          "output_type": "stream",
          "text": [
            "[[0.04731916 0.99437322 0.30899559]\n",
            " [0.28557615 0.67301719 0.80568254]\n",
            " [0.67831135 0.94012776 0.95893417]]\n",
            "\n",
            " normally distributed values \n",
            "\n",
            "[[-3.07668839 -7.04473802]\n",
            " [ 4.35839822 -3.1533923 ]]\n"
          ],
          "name": "stdout"
        }
      ]
    },
    {
      "cell_type": "markdown",
      "metadata": {
        "id": "lXd5vHihon-b"
      },
      "source": [
        "<font size=4 face = 'Calibri' >   операция перемножения матриц: dot( ) "
      ]
    },
    {
      "cell_type": "code",
      "metadata": {
        "id": "qNyxX5cjon-b",
        "outputId": "b0211c00-e6ab-4e72-f2c5-d662cac8bba5"
      },
      "source": [
        "print('\\n A \\n')\n",
        "a = np.full([2,2],2)\n",
        "print(a)\n",
        "\n",
        "print('\\n B \\n')\n",
        "b = np.array([(1,3),(4,5)])\n",
        "print(b)\n",
        "\n",
        "print('\\n A*B \\n')\n",
        "c=a.dot(b)\n",
        "print(c)\n",
        "\n",
        "print('\\n B*A \\n')\n",
        "d=b.dot(a)\n",
        "print(d)"
      ],
      "execution_count": null,
      "outputs": [
        {
          "output_type": "stream",
          "text": [
            "\n",
            " A \n",
            "\n",
            "[[2 2]\n",
            " [2 2]]\n",
            "\n",
            " B \n",
            "\n",
            "[[1 3]\n",
            " [4 5]]\n",
            "\n",
            " A*B \n",
            "\n",
            "[[10 16]\n",
            " [10 16]]\n",
            "\n",
            " B*A \n",
            "\n",
            "[[ 8  8]\n",
            " [18 18]]\n"
          ],
          "name": "stdout"
        }
      ]
    },
    {
      "cell_type": "code",
      "metadata": {
        "id": "INDvCTVSon-d",
        "outputId": "2512b4b5-fce8-4ce8-d3f1-766bcf3b0a61"
      },
      "source": [
        "print('\\n A \\n')\n",
        "a = np.array([(1,3),(4,5)])\n",
        "print(a)\n",
        "\n",
        "print('\\n vecotr V \\n')\n",
        "v = np.array([[2],[2]])\n",
        "print(v)\n",
        "print('\\n transposed vecotr VT \\n')\n",
        "vt = np.array([2,2])\n",
        "print(vt)\n",
        "\n",
        "\n",
        "print('\\n A*V \\n')\n",
        "c=a.dot(v)\n",
        "print(c)\n",
        "\n",
        "print('\\n VT*A \\n')\n",
        "d=vt.dot(a)\n",
        "print(d)\n",
        "\n",
        "\n",
        "print('\\n VT*A*V \\n')\n",
        "e=vt.dot(a)\n",
        "e = e.dot(v)\n",
        "print(e)"
      ],
      "execution_count": null,
      "outputs": [
        {
          "output_type": "stream",
          "text": [
            "\n",
            " A \n",
            "\n",
            "[[1 3]\n",
            " [4 5]]\n",
            "\n",
            " vecotr V \n",
            "\n",
            "[[2]\n",
            " [2]]\n",
            "\n",
            " transposed vecotr VT \n",
            "\n",
            "[2 2]\n",
            "\n",
            " A*V \n",
            "\n",
            "[[ 8]\n",
            " [18]]\n",
            "\n",
            " VT*A \n",
            "\n",
            "[10 16]\n",
            "\n",
            " VT*A*V \n",
            "\n",
            "[52]\n"
          ],
          "name": "stdout"
        }
      ]
    },
    {
      "cell_type": "markdown",
      "metadata": {
        "id": "xzWnCGHuon-h"
      },
      "source": [
        "###### операции с двумерными массивами"
      ]
    },
    {
      "cell_type": "code",
      "metadata": {
        "id": "S2il7TVvon-j",
        "outputId": "6e01151f-c7da-43e2-c8c5-137d2e8c735b"
      },
      "source": [
        "a=np.array([(1,2,3),(3,2,6),(8,7,8)])\n",
        "\n",
        "#for the first we should check the determinant on non zero value\n",
        "print(np.linalg.det(a) )\n",
        "\n",
        "print('\\n  transpose matrix \\n')\n",
        "at = a.transpose()\n",
        "print(at)\n",
        "\n",
        "print('\\n  inverse matrix \\n')\n",
        "ainv = np.linalg.inv(a)\n",
        "print(ainv)\n",
        "\n",
        "print('\\n multiplications of straight and inverse matrices \\n')\n",
        "print(ainv.dot(a))"
      ],
      "execution_count": null,
      "outputs": [
        {
          "output_type": "stream",
          "text": [
            "36.99999999999998\n",
            "\n",
            "  transpose matrix \n",
            "\n",
            "[[1 3 8]\n",
            " [2 2 7]\n",
            " [3 6 8]]\n",
            "\n",
            "  inverse matrix \n",
            "\n",
            "[[-0.7027027   0.13513514  0.16216216]\n",
            " [ 0.64864865 -0.43243243  0.08108108]\n",
            " [ 0.13513514  0.24324324 -0.10810811]]\n",
            "\n",
            " multiplications of straight and inverse matrices \n",
            "\n",
            "[[1.0000000e+00 0.0000000e+00 4.4408921e-16]\n",
            " [0.0000000e+00 1.0000000e+00 0.0000000e+00]\n",
            " [0.0000000e+00 0.0000000e+00 1.0000000e+00]]\n"
          ],
          "name": "stdout"
        }
      ]
    },
    {
      "cell_type": "markdown",
      "metadata": {
        "id": "oXYWXWXVon-p"
      },
      "source": [
        "### Упражнение"
      ]
    },
    {
      "cell_type": "markdown",
      "metadata": {
        "id": "km3R45Xvon-q"
      },
      "source": [
        "в приведенном премере функция делает из входной матрицы верхнюю триугольную \n",
        "###### задание: по образу приведенного примера написать функции, позволяющие получить следующие типы матриц:"
      ]
    },
    {
      "cell_type": "code",
      "metadata": {
        "id": "6zJnbNrDon-r",
        "outputId": "60ec22cf-b8dc-428e-d6ff-ea7191065e24"
      },
      "source": [
        "b=np.array([(1,2,3),(3,2,6),(8,7,8)])\n",
        "c=np.array([(1,2),(53,26),(3,20)])\n",
        "print(c.shape)\n",
        "\n",
        "def up_triangle(a):    \n",
        "    # we solve the task by moving throgh rows and columns in 2 nested loops\n",
        "    for row_ind in range(a.shape[0]):        \n",
        "        for column_ind in range(a.shape[1]):\n",
        "            # check the condition \n",
        "            if(row_ind>column_ind):                \n",
        "                a[row_ind,column_ind]=0\n",
        "    return a\n",
        "\n",
        "print(up_triangle(b))\n",
        "print(up_triangle(c))\n"
      ],
      "execution_count": null,
      "outputs": [
        {
          "output_type": "error",
          "ename": "NameError",
          "evalue": "name 'np' is not defined",
          "traceback": [
            "\u001b[1;31m---------------------------------------------------------------------------\u001b[0m",
            "\u001b[1;31mNameError\u001b[0m                                 Traceback (most recent call last)",
            "\u001b[1;32m<ipython-input-1-4c14c7869c7e>\u001b[0m in \u001b[0;36m<module>\u001b[1;34m\u001b[0m\n\u001b[1;32m----> 1\u001b[1;33m \u001b[0mb\u001b[0m\u001b[1;33m=\u001b[0m\u001b[0mnp\u001b[0m\u001b[1;33m.\u001b[0m\u001b[0marray\u001b[0m\u001b[1;33m(\u001b[0m\u001b[1;33m[\u001b[0m\u001b[1;33m(\u001b[0m\u001b[1;36m1\u001b[0m\u001b[1;33m,\u001b[0m\u001b[1;36m2\u001b[0m\u001b[1;33m,\u001b[0m\u001b[1;36m3\u001b[0m\u001b[1;33m)\u001b[0m\u001b[1;33m,\u001b[0m\u001b[1;33m(\u001b[0m\u001b[1;36m3\u001b[0m\u001b[1;33m,\u001b[0m\u001b[1;36m2\u001b[0m\u001b[1;33m,\u001b[0m\u001b[1;36m6\u001b[0m\u001b[1;33m)\u001b[0m\u001b[1;33m,\u001b[0m\u001b[1;33m(\u001b[0m\u001b[1;36m8\u001b[0m\u001b[1;33m,\u001b[0m\u001b[1;36m7\u001b[0m\u001b[1;33m,\u001b[0m\u001b[1;36m8\u001b[0m\u001b[1;33m)\u001b[0m\u001b[1;33m]\u001b[0m\u001b[1;33m)\u001b[0m\u001b[1;33m\u001b[0m\u001b[0m\n\u001b[0m\u001b[0;32m      2\u001b[0m \u001b[0mc\u001b[0m\u001b[1;33m=\u001b[0m\u001b[0mnp\u001b[0m\u001b[1;33m.\u001b[0m\u001b[0marray\u001b[0m\u001b[1;33m(\u001b[0m\u001b[1;33m[\u001b[0m\u001b[1;33m(\u001b[0m\u001b[1;36m1\u001b[0m\u001b[1;33m,\u001b[0m\u001b[1;36m2\u001b[0m\u001b[1;33m)\u001b[0m\u001b[1;33m,\u001b[0m\u001b[1;33m(\u001b[0m\u001b[1;36m53\u001b[0m\u001b[1;33m,\u001b[0m\u001b[1;36m26\u001b[0m\u001b[1;33m)\u001b[0m\u001b[1;33m,\u001b[0m\u001b[1;33m(\u001b[0m\u001b[1;36m3\u001b[0m\u001b[1;33m,\u001b[0m\u001b[1;36m20\u001b[0m\u001b[1;33m)\u001b[0m\u001b[1;33m]\u001b[0m\u001b[1;33m)\u001b[0m\u001b[1;33m\u001b[0m\u001b[0m\n\u001b[0;32m      3\u001b[0m \u001b[0mprint\u001b[0m\u001b[1;33m(\u001b[0m\u001b[0mc\u001b[0m\u001b[1;33m.\u001b[0m\u001b[0mshape\u001b[0m\u001b[1;33m)\u001b[0m\u001b[1;33m\u001b[0m\u001b[0m\n\u001b[0;32m      4\u001b[0m \u001b[1;33m\u001b[0m\u001b[0m\n\u001b[0;32m      5\u001b[0m \u001b[1;32mdef\u001b[0m \u001b[0mup_triangle\u001b[0m\u001b[1;33m(\u001b[0m\u001b[0ma\u001b[0m\u001b[1;33m)\u001b[0m\u001b[1;33m:\u001b[0m\u001b[1;33m\u001b[0m\u001b[0m\n",
            "\u001b[1;31mNameError\u001b[0m: name 'np' is not defined"
          ]
        }
      ]
    },
    {
      "cell_type": "markdown",
      "metadata": {
        "id": "B4UrBpX0on-t"
      },
      "source": [
        "\n",
        "<font size=4 face = 'Calibri' >  \n",
        "\n",
        "1. low-triangle element matrix \n",
        "\n",
        "входные данные - матрица\n",
        "\n",
        "\\begin{equation}\n",
        "A = \n",
        "\\begin{bmatrix}\n",
        "a_{11}, a_{12}, a_{13}\\\\\n",
        "a_{21},a_{22},a_{23}\\\\\n",
        "a_{31},a_{32},a_{33}\n",
        "\\end{bmatrix}\n",
        "\\end{equation}\n",
        "\n",
        "\n",
        "output matrix\n",
        "\n",
        "\\begin{equation}\n",
        "A = \n",
        "\\begin{bmatrix}\n",
        "a_{11},  0,  0\\\\\n",
        "a_{21},a_{22}, 0\\\\\n",
        "a_{31},a_{32},a_{33}\n",
        "\\end{bmatrix}\n",
        "\\end{equation}"
      ]
    },
    {
      "cell_type": "markdown",
      "metadata": {
        "id": "IPZG6anron-t"
      },
      "source": [
        "<font size=4 face = 'Calibri' >  \n",
        "2. симитричная матрица $A^T=A$ ( $ {\\displaystyle \\forall i,j:a_{ij}=a_{ji}}$))\n",
        "\n",
        "input matrix with triangle elements\n",
        "\n",
        "output matrix\n",
        "\n",
        "\\begin{equation}\n",
        "A = \n",
        "\\begin{bmatrix}\n",
        "a_{11}, a_{21}, a_{31}\\\\\n",
        "a_{21},a_{22},a_{32}\\\\\n",
        "a_{31},a_{32},a_{33}\n",
        "\\end{bmatrix}\n",
        "\\end{equation}\n",
        "\n",
        "\n",
        "3. матрица Ганкиля\n",
        "\n",
        " input array $a_0, a_1,...$ \n",
        " \n",
        " output\n",
        "\n",
        "\\begin{equation}\n",
        "A = \n",
        "\\begin{bmatrix}\n",
        "a_0, a_1, a_2\\\\\n",
        "a_1,a_2,a_3\\\\\n",
        "a_2,a_3,a_4\n",
        "\\end{bmatrix}\n",
        "\\end{equation}\n",
        "\n",
        "4. Типлицова матрица (${\\displaystyle a_{i,\\,j}=a_{i-1,\\,j-1}.}$)\n",
        "\n",
        " input array $a_0, a_1,...$\n",
        " \n",
        "  output\n",
        "\n",
        "\\begin{equation}\n",
        "A = \n",
        "\\begin{bmatrix}\n",
        "a_0, a_1, a_2\\\\\n",
        "a_1,a_0,a_1\\\\\n",
        "a_2,a_1,a_0\n",
        "\\end{bmatrix}\n",
        "\\end{equation}\n",
        "\n"
      ]
    },
    {
      "cell_type": "code",
      "metadata": {
        "id": "25o20RTjon-u"
      },
      "source": [
        "# place your answers here\n",
        "\n",
        "\n",
        "\n",
        "\n"
      ],
      "execution_count": null,
      "outputs": []
    },
    {
      "cell_type": "markdown",
      "metadata": {
        "id": "WO48dmZ8on-w"
      },
      "source": [
        "# линейная алгибра в  numpy"
      ]
    },
    {
      "cell_type": "markdown",
      "metadata": {
        "id": "FQX8YDkHon-w"
      },
      "source": [
        "<font size=4 face = 'Calibri' >  модуль numpy имеет библиотеки для реализации процедур линейной алгебры"
      ]
    },
    {
      "cell_type": "markdown",
      "metadata": {
        "id": "L_EfE4Sron-x"
      },
      "source": [
        "<font size=4 face = 'Calibri' >  for solving equations $Ax=b$\n",
        "\n",
        "\\begin{equation}\n",
        "    \\begin{cases}\n",
        "        1x_1+2x_2=3 \\\\\n",
        "        3x_1+2x_2=4\n",
        "        \\end{cases} -> AX=B->X=A^{-1}B, \n",
        "        \\end{equation}\n",
        "        \n",
        "\\begin{equation}        \n",
        " A=\\begin{bmatrix}\n",
        "1,2\\\\\n",
        "3,2\\\\\n",
        "\\end{bmatrix}, \n",
        "\\end{equation}\n",
        "\n",
        "\\begin{equation}  \n",
        "X=\\begin{bmatrix}\n",
        "x_1\\\\\n",
        "x_2\\\\\n",
        "\\end{bmatrix}\n",
        "\\end{equation}\n",
        "\n",
        "\n",
        "\\begin{equation}  \n",
        "B=\\begin{bmatrix}\n",
        "3\\\\\n",
        "4\\\\\n",
        "\\end{bmatrix}\n",
        "\\end{equation}"
      ]
    },
    {
      "cell_type": "code",
      "metadata": {
        "id": "RCltuFQRon-x",
        "outputId": "266391c0-0c9b-462e-81a2-c2454dc0e3c0"
      },
      "source": [
        "a=np.array([[1,2],[3,2]])\n",
        "b=np.array([[3],[4]])\n",
        "x=np.linalg.solve(a,b)\n",
        "print(x)"
      ],
      "execution_count": null,
      "outputs": [
        {
          "output_type": "stream",
          "text": [
            "[[0.5 ]\n",
            " [1.25]]\n"
          ],
          "name": "stdout"
        }
      ]
    },
    {
      "cell_type": "markdown",
      "metadata": {
        "id": "oMeZEizBon-0"
      },
      "source": [
        "<font size=4 face = 'Calibri' >  детерминант"
      ]
    },
    {
      "cell_type": "code",
      "metadata": {
        "id": "4V28EpGxon-0",
        "outputId": "6c7f6490-6b78-4d05-dc84-2ebfa1c70c5e"
      },
      "source": [
        "a=np.array([[1,2],[3,2]])\n",
        "print(a)\n",
        "b = np.linalg.det(a)\n",
        "print(b)"
      ],
      "execution_count": null,
      "outputs": [
        {
          "output_type": "stream",
          "text": [
            "[[1, 2], [3, 2]]\n",
            "-4.000000000000001\n"
          ],
          "name": "stdout"
        }
      ]
    },
    {
      "cell_type": "markdown",
      "metadata": {
        "id": "ANaU6GKbon-3"
      },
      "source": [
        "<font size=4 face = 'Calibri' >  ранг матрицы"
      ]
    },
    {
      "cell_type": "code",
      "metadata": {
        "id": "rZc2m12Mon-4",
        "outputId": "4bab94cc-7370-457b-bade-2e2cc55d3413"
      },
      "source": [
        "print(np.linalg.matrix_rank(a))"
      ],
      "execution_count": null,
      "outputs": [
        {
          "output_type": "stream",
          "text": [
            "2\n"
          ],
          "name": "stdout"
        }
      ]
    },
    {
      "cell_type": "code",
      "metadata": {
        "id": "ZV-R2ZWron-6",
        "outputId": "1d9a428d-7138-4413-e934-f88c7a631105"
      },
      "source": [
        "print (np.linalg.norm(a))"
      ],
      "execution_count": null,
      "outputs": [
        {
          "output_type": "stream",
          "text": [
            "4.242640687119285\n"
          ],
          "name": "stdout"
        }
      ]
    },
    {
      "cell_type": "markdown",
      "metadata": {
        "id": "Qxi1ZUS9on-8"
      },
      "source": [
        "<font size=4 face = 'Calibri' >  вычисление числа обусловленности матрицы ( $ || A||*||A^{-1} ||$)  "
      ]
    },
    {
      "cell_type": "code",
      "metadata": {
        "id": "-knvNc1Lon-8",
        "outputId": "a4dd4a6f-38e5-4a4b-d3b6-30d06459c93a"
      },
      "source": [
        "print(np.linalg.cond(a))\n",
        "print(np.linalg.norm(a)*np.linalg.norm(np.linalg.inv(a)))"
      ],
      "execution_count": null,
      "outputs": [
        {
          "output_type": "stream",
          "text": [
            "4.26556443707464\n",
            "4.499999999999999\n"
          ],
          "name": "stdout"
        }
      ]
    },
    {
      "cell_type": "code",
      "metadata": {
        "id": "L9Zauw6uon--",
        "outputId": "edc5bf0d-d739-4d0a-f6f1-10751a59b945"
      },
      "source": [
        "a=np.array([[1,2],[3,2],[3,4]])\n",
        "print(np.linalg.matrix_rank(a))\n",
        "print(np.linalg.cond(a))\n"
      ],
      "execution_count": null,
      "outputs": [
        {
          "output_type": "stream",
          "text": [
            "2\n",
            "5.5664696235939815\n"
          ],
          "name": "stdout"
        }
      ]
    },
    {
      "cell_type": "markdown",
      "metadata": {
        "id": "MYBmRHt-on_A"
      },
      "source": [
        "### Упражнение"
      ]
    },
    {
      "cell_type": "markdown",
      "metadata": {
        "id": "H-6TB3lPon_B"
      },
      "source": [
        "<font size=4 face = 'Calibri' >  \n",
        "Сделать вывод о том, как в приведенных ниже примерах вид матрицы влияет на число обусловленности  \n",
        "\n",
        "<font size=4 face = 'Calibri' >  \n",
        "число обусловленности - определяет то, насколько небольшое изменение ее параметры (например определитель)\n",
        "если матрица представляет входные данные нейронной сети, то обусловленность характеризует насколько результат работы нейронной сети будут стабилен при небольшом изменении входных данных\n",
        "\n",
        "<font size=4 face = 'Calibri' >  \n",
        "если данные плохо обусловлены, то это значит, что они сильно коррелируют и использовать такую выборку напрямую нельзя, надо проводить регуляризацию или иные меры по стабилизации выборки.\n"
      ]
    },
    {
      "cell_type": "code",
      "metadata": {
        "id": "btg1cLJFon_B",
        "outputId": "f562be65-2a85-4d9d-9bc0-c3c001eb4150"
      },
      "source": [
        "print('\\n zero case \\n')\n",
        "\n",
        "a=np.array([[1,2,2],[3,2,2],[2,8,3]])\n",
        "print(a)\n",
        "print(np.linalg.matrix_rank(a))\n",
        "print(np.linalg.cond(a))\n",
        "\n",
        "print('\\n first case \\n')\n",
        "\n",
        "a=np.array([[1,2,2],[3,2,2],[2,4,4]])\n",
        "print(a)\n",
        "print(np.linalg.matrix_rank(a))\n",
        "print(np.linalg.cond(a))\n",
        "\n",
        "\n",
        "print('\\n second case \\n')\n",
        "\n",
        "a=np.array([[1,2,2],[3,2,2],[2,3.9997,4.005]])\n",
        "print(a)\n",
        "print(np.linalg.matrix_rank(a))\n",
        "print(np.linalg.cond(a))\n",
        "\n",
        "print('\\n third case \\n')\n",
        "\n",
        "a=np.array([[1,0.1,0.1,0.1,0.1],\n",
        "            [1,0.1,0.1,0.1,0.1],\n",
        "            [1,0.1,0.1,0.1,0.1],\n",
        "            [1,0.1,0.1,0.1,0.1],\n",
        "            [1,0.1,0.1,0.1,0.1009]  ])\n",
        "print(a)\n",
        "print(np.linalg.matrix_rank(a))\n",
        "print(np.linalg.cond(a))\n",
        "\n",
        "\n",
        "print('\\n forth case \\n')\n",
        "\n",
        "a=np.array([[1e-9,0,0],\n",
        "            [0,1e-6,0],\n",
        "            [0,1e-12,0]])\n",
        "print(a)\n",
        "print(np.linalg.matrix_rank(a))\n",
        "print(np.linalg.cond(a))\n",
        "\n",
        "print('\\n fifth case \\n')\n",
        "\n",
        "a=np.array([[1e-0,0,1e-1],\n",
        "            [0,1e-1,0],\n",
        "            [0,1e-3,1e-44]])\n",
        "print(a)\n",
        "print(np.linalg.matrix_rank(a))\n",
        "print(np.linalg.cond(a))\n",
        "\n",
        "print('\\n sixth case \\n')\n",
        "\n",
        "a=np.array([[1e-0,0,1e-1],\n",
        "            [0,1e-1,0],\n",
        "            [0,1e-3,1e-4]])\n",
        "print(a)\n",
        "print(np.linalg.matrix_rank(a))\n",
        "print(np.linalg.cond(a))\n",
        "\n"
      ],
      "execution_count": null,
      "outputs": [
        {
          "output_type": "stream",
          "text": [
            "\n",
            " zero case \n",
            "\n",
            "[[1 2 2]\n",
            " [3 2 2]\n",
            " [2 8 3]]\n",
            "3\n",
            "12.066400584913998\n",
            "\n",
            " first case \n",
            "\n",
            "[[1 2 2]\n",
            " [3 2 2]\n",
            " [2 4 4]]\n",
            "2\n",
            "inf\n",
            "\n",
            " second case \n",
            "\n",
            "[[1.     2.     2.    ]\n",
            " [3.     2.     2.    ]\n",
            " [2.     3.9997 4.005 ]]\n",
            "3\n",
            "4599.330788755894\n",
            "\n",
            " third case \n",
            "\n",
            "[[1.     0.1    0.1    0.1    0.1   ]\n",
            " [1.     0.1    0.1    0.1    0.1   ]\n",
            " [1.     0.1    0.1    0.1    0.1   ]\n",
            " [1.     0.1    0.1    0.1    0.1   ]\n",
            " [1.     0.1    0.1    0.1    0.1009]]\n",
            "2\n",
            "4.259261762492862e+35\n",
            "\n",
            " forth case \n",
            "\n",
            "[[1.e-09 0.e+00 0.e+00]\n",
            " [0.e+00 1.e-06 0.e+00]\n",
            " [0.e+00 1.e-12 0.e+00]]\n",
            "2\n",
            "inf\n",
            "\n",
            " fifth case \n",
            "\n",
            "[[1.e+00 0.e+00 1.e-01]\n",
            " [0.e+00 1.e-01 0.e+00]\n",
            " [0.e+00 1.e-03 1.e-44]]\n",
            "2\n",
            "inf\n",
            "\n",
            " sixth case \n",
            "\n",
            "[[1.e+00 0.e+00 1.e-01]\n",
            " [0.e+00 1.e-01 0.e+00]\n",
            " [0.e+00 1.e-03 1.e-04]]\n",
            "3\n",
            "10100.50498886565\n"
          ],
          "name": "stdout"
        }
      ]
    },
    {
      "cell_type": "markdown",
      "metadata": {
        "id": "QO5hYQWron_D"
      },
      "source": [
        "# Примеры операций с матрицами\n",
        "\n",
        "<font size=4 face = 'Calibri' >  слайсы матриц"
      ]
    },
    {
      "cell_type": "code",
      "metadata": {
        "id": "sqzBClXXon_D",
        "outputId": "5f64d0c7-09c6-4c4f-838f-0116843f28d8"
      },
      "source": [
        "a=np.array([[1,2,5],[3,2,4],[7,6,46]])\n",
        "print(a)\n",
        "\n",
        "\n",
        "print ('first element, %d'%(a[0,0]))\n",
        "\n",
        "print ('first row '+str(a[0,:]))\n",
        "\n",
        "print ('first colmn '+str(a[:,0]))\n",
        "\n",
        "print ('slice '+str(a[1:3,2]))\n"
      ],
      "execution_count": null,
      "outputs": [
        {
          "output_type": "stream",
          "text": [
            "[[ 1  2  5]\n",
            " [ 3  2  4]\n",
            " [ 7  6 46]]\n",
            "first element, 1\n",
            "first row [1 2 5]\n",
            "first colmn [1 3 7]\n",
            "slice [ 4 46]\n"
          ],
          "name": "stdout"
        }
      ]
    },
    {
      "cell_type": "markdown",
      "metadata": {
        "id": "boBZ22n9on_F"
      },
      "source": [
        "<font size=4 face = 'Calibri' >  слияние (конкотинация) матриц"
      ]
    },
    {
      "cell_type": "code",
      "metadata": {
        "scrolled": true,
        "id": "zKQZsfReon_G",
        "outputId": "05945cbf-1676-4f9e-b805-7103180a2ba2"
      },
      "source": [
        "a = np.array([[1,2,5],[3,2,4],[7,6,5]])\n",
        "b = np.array([[35],[20],[100]])\n",
        "\n",
        "print('\\n horizontal concatenation \\n')\n",
        "c = np.hstack((b,a))\n",
        "print(c)\n",
        "\n",
        "print('\\n vertical  concatenation \\n')\n",
        "c = np.vstack((b.transpose(),a))\n",
        "print(c)\n"
      ],
      "execution_count": null,
      "outputs": [
        {
          "output_type": "stream",
          "text": [
            "\n",
            " horizontal concatenation \n",
            "\n",
            "[[ 35   1   2   5]\n",
            " [ 20   3   2   4]\n",
            " [100   7   6   5]]\n",
            "\n",
            " vertical  concatenation \n",
            "\n",
            "[[ 35  20 100]\n",
            " [  1   2   5]\n",
            " [  3   2   4]\n",
            " [  7   6   5]]\n"
          ],
          "name": "stdout"
        }
      ]
    },
    {
      "cell_type": "code",
      "metadata": {
        "id": "TWM3VLHron_Q",
        "outputId": "d6f3802e-4e2b-43a3-ad82-a6fc70625e6d"
      },
      "source": [
        "a = np.array([[1,2,5],[3,2,4],[7,6,5]])\n",
        "print(a)\n",
        "print('size  = '+str(a.size))\n",
        "print('shape = '+str(a.shape))\n",
        "print('sum by colmns = '+str(np.sum(a,axis=0)))\n",
        "print('sum by rows   = '+str(np.sum(a,axis=1)))\n",
        "print('minimal row   = '+str(np.min(a,axis=1)))\n",
        "print('maximal element   = '+str(np.max(a)))\n"
      ],
      "execution_count": null,
      "outputs": [
        {
          "output_type": "stream",
          "text": [
            "[[1 2 5]\n",
            " [3 2 4]\n",
            " [7 6 5]]\n",
            "size  = 9\n",
            "shape = (3, 3)\n",
            "sum by colmns = [11 10 14]\n",
            "sum by rows   = [ 8  9 18]\n",
            "minimal row   = [1 2 5]\n",
            "maximal element   = 7\n",
            "maximum element along columns   = [2 2 0]\n"
          ],
          "name": "stdout"
        }
      ]
    },
    {
      "cell_type": "markdown",
      "metadata": {
        "id": "jcLc32GHon_x"
      },
      "source": [
        "### Упражнение"
      ]
    },
    {
      "cell_type": "markdown",
      "metadata": {
        "id": "yr2tVGQmon_0"
      },
      "source": [
        "<font size=4 face = 'Calibri' >  написать функцию, позволяющую найти максимальное значение в матрице\n"
      ]
    },
    {
      "cell_type": "code",
      "metadata": {
        "id": "RxjIQt2don_7"
      },
      "source": [
        "#place your code hear\n",
        "\n",
        "\n"
      ],
      "execution_count": null,
      "outputs": []
    },
    {
      "cell_type": "markdown",
      "metadata": {
        "id": "xlq52F-_on_-"
      },
      "source": [
        "# Линейная регрессия в NumPy"
      ]
    },
    {
      "cell_type": "markdown",
      "metadata": {
        "id": "qmsVIvhBon_-"
      },
      "source": [
        "<font size=4 face = 'Calibri' >  пусть задана следующая зависимость"
      ]
    },
    {
      "cell_type": "code",
      "metadata": {
        "id": "zk3Kg-olon__"
      },
      "source": [
        "x = np.linspace(0,50,50)\n",
        "\n",
        "a = [1,0.4]\n",
        "#y_pure = a[0]*np.sin(2*np.pi*10*x/100)+a[1]*np.sin(2*np.pi*20*x/100)+a[2]*np.sin(2*np.pi*30*x/100)\n",
        "y_pure = a[0]*x+a[1]"
      ],
      "execution_count": null,
      "outputs": []
    },
    {
      "cell_type": "markdown",
      "metadata": {
        "id": "I3EjU1wwooAB"
      },
      "source": [
        "<font size=4 face = 'Calibri' >  ее можно визуализировать при помощи модуля matplotlib.pyplot"
      ]
    },
    {
      "cell_type": "code",
      "metadata": {
        "id": "8SAk2JPkooAC",
        "outputId": "fdd20152-d56d-494e-ecae-1f2d51f643ed"
      },
      "source": [
        "# the little script below is allowing to plot the figure\n",
        "\n",
        "# matplotlib is the special library for plot figures\n",
        "import matplotlib.pyplot as plt  \n",
        "\n",
        " # create figure\n",
        "fig=plt.figure()       \n",
        "\n",
        "# create subplot for our purposes\n",
        "canv= fig.add_subplot(111) \n",
        "\n",
        "\n",
        "# now we cal plot our relation\n",
        "canv.plot(x,y_pure, label='pure y(x)')\n",
        "\n",
        "# set the designations for axes \n",
        "canv.set_xlabel('x')\n",
        "canv.set_ylabel('y_pure')\n",
        "\n",
        "# name of figure\n",
        "plt.title('y(x)')\n",
        "\n",
        "#show our figure\n",
        "plt.show()"
      ],
      "execution_count": null,
      "outputs": [
        {
          "output_type": "display_data",
          "data": {
            "image/png": "[encoded data removed]",
            "text/plain": [
              "<Figure size 432x288 with 1 Axes>"
            ]
          },
          "metadata": {
            "tags": [],
            "needs_background": "light"
          }
        }
      ]
    },
    {
      "cell_type": "markdown",
      "metadata": {
        "id": "WIzSCvNMooAG"
      },
      "source": [
        "<font size=4 face = 'Calibri' >  Для функции можно добавить шумы - промоделировав случайное измерение ее значений"
      ]
    },
    {
      "cell_type": "code",
      "metadata": {
        "id": "UtfuG6ZXooAG"
      },
      "source": [
        "mean_noise = 0  # mean value of noises (i.e. expected value)\n",
        "\n",
        "std_noise  = 0.48 # standaed deviation of noises (i.e. square root of variance)\n",
        "\n",
        "# create noises with normal distribution ( Gaussian white noises )\n",
        "noise = np.random.normal(loc = mean_noise, scale = std_noise, size = y_pure.shape)\n",
        "\n",
        "# add noises\n",
        "y = y_pure+noise"
      ],
      "execution_count": null,
      "outputs": []
    },
    {
      "cell_type": "code",
      "metadata": {
        "id": "fRwj8ZwDooAU",
        "outputId": "a40fad7f-faf7-446d-c04d-b49d639d3464"
      },
      "source": [
        "#  now we can see what we obtain\n",
        "\n",
        "fig=plt.figure(figsize=(10,10))\n",
        "canv= fig.add_subplot(111) \n",
        "\n",
        "canv.plot(x,y_pure, label='pure y(x)')\n",
        "canv.plot(x,noise,  label='white noises')\n",
        "canv.plot(x,y, 's', label='y(x) with noises (i.e. measured vaules)')\n",
        "canv.set_xlabel('x')\n",
        "canv.set_ylabel('y')\n",
        "canv.legend(fontsize = 20)\n",
        "plt.title('y(x)')\n",
        "plt.show()"
      ],
      "execution_count": null,
      "outputs": [
        {
          "output_type": "display_data",
          "data": {
            "image/png": "[encoded data removed]",
            "text/plain": [
              "<Figure size 720x720 with 1 Axes>"
            ]
          },
          "metadata": {
            "tags": [],
            "needs_background": "light"
          }
        }
      ]
    },
    {
      "cell_type": "markdown",
      "metadata": {
        "id": "3socFppFooAW"
      },
      "source": [
        "##### оценка параметров зависимости (коэффициентов a) может быть проведена следующим образом\n",
        "\\begin{equation}\n",
        "X = \n",
        "\\begin{bmatrix}\n",
        "1\\ x_1\\\\\n",
        "1\\ x_2\\\\\n",
        "...\\ ... \\\\\n",
        "1\\ x_N\\\\\n",
        "\\end{bmatrix}\n",
        "\\end{equation}\n",
        "\n",
        "##### или таким образом\n",
        "\\begin{equation}\n",
        "\\begin{bmatrix}\n",
        "y_1\\\\\n",
        "y_2\\\\\n",
        " ... \\\\\n",
        "y_N\\\\\n",
        "\\end{bmatrix}\n",
        " =\n",
        "\\begin{bmatrix}\n",
        "1\\  x_1\\\\\n",
        "1\\  x_2\\\\\n",
        "...\\ ... \\\\\\\n",
        "1\\  x_N\\\\\n",
        "\\end{bmatrix}\n",
        "\\begin{bmatrix}\n",
        "a_0\\\\ a_1\\\\\n",
        "\\end{bmatrix}\\rightarrow Y=XA\n",
        "\\end{equation}"
      ]
    },
    {
      "cell_type": "markdown",
      "metadata": {
        "id": "PQoZsHE-ooAW"
      },
      "source": [
        "##### решение может быть записано как\n",
        "\\begin{equation}\n",
        "A=(XX^T)^{-1}XY=X^+Y\n",
        "\\end{equation}"
      ]
    },
    {
      "cell_type": "code",
      "metadata": {
        "id": "R0lsKV_0ooAX",
        "outputId": "72dc9414-1059-45ec-a157-efe03134a4cd"
      },
      "source": [
        "\n",
        "# create matrix X\n",
        "X=np.vstack((np.ones(x.size),x.transpose()))\n",
        "print(X.shape)\n",
        "\n",
        "# create transposed matrix X\n",
        "XT=np.transpose(X)\n",
        "print(XT.shape)\n",
        "\n",
        "# create transposed matrix Y\n",
        "Y = y.transpose()\n",
        "print(Y.shape)"
      ],
      "execution_count": null,
      "outputs": [
        {
          "output_type": "stream",
          "text": [
            "(2, 50)\n",
            "(50, 2)\n",
            "(50,)\n"
          ],
          "name": "stdout"
        }
      ]
    },
    {
      "cell_type": "code",
      "metadata": {
        "id": "SQ6GDgeaooAd",
        "outputId": "4d444cb7-6d36-46c1-ebcc-b66abe58aca4"
      },
      "source": [
        "\n",
        "# calculate pseudo inverce matrix X\n",
        "XXT = (np.dot(X,XT))\n",
        "X_plus = np.dot(np.linalg.inv(XXT),X)\n",
        "\n",
        "# estimate parameters\n",
        "A=X_plus.dot(Y)  \n",
        "print(A)"
      ],
      "execution_count": null,
      "outputs": [
        {
          "output_type": "stream",
          "text": [
            "[0.27897748 1.0018179 ]\n"
          ],
          "name": "stdout"
        }
      ]
    },
    {
      "cell_type": "markdown",
      "metadata": {
        "id": "EcdN-ej5ooAf"
      },
      "source": [
        "##### теперь можно посмотреть как выглядит построенная прямая"
      ]
    },
    {
      "cell_type": "code",
      "metadata": {
        "id": "jy32XO95ooAg",
        "outputId": "72771736-cfd5-4c18-8844-e47661ba4381"
      },
      "source": [
        "y_restr = A[1]*x+A[0]\n",
        "\n",
        "fig=plt.figure(figsize=(10,10))\n",
        "canv= fig.add_subplot(111) \n",
        "\n",
        "canv.plot(x,y_pure, label='pure y(x)')\n",
        "canv.plot(x,y_restr,  label='restricted y(x) by regression')\n",
        "canv.plot(x,y, 's', label='y(x) with noises (i.e. measured vaules)')\n",
        "canv.set_xlabel('x')\n",
        "canv.set_ylabel('y')\n",
        "canv.legend(fontsize = 20)\n",
        "plt.title('y(x)')\n",
        "plt.show()"
      ],
      "execution_count": null,
      "outputs": [
        {
          "output_type": "display_data",
          "data": {
            "image/png": "[encoded data removed]",
            "text/plain": [
              "<Figure size 720x720 with 1 Axes>"
            ]
          },
          "metadata": {
            "tags": [],
            "needs_background": "light"
          }
        }
      ]
    },
    {
      "cell_type": "markdown",
      "metadata": {
        "id": "XnVKb3S4ooAk"
      },
      "source": [
        "###### Ниже приведен пример симуляции, заключенный в функции\n",
        "###### также добавлены шумы к X"
      ]
    },
    {
      "cell_type": "code",
      "metadata": {
        "id": "M8lbQFTDooAk"
      },
      "source": [
        "def create_noised_relation(a,N,mean_x,std_x,mean_y,std_y):\n",
        "    ''' \n",
        "    function for create a linear dependence \n",
        "            y = a_1*x+a_0 \n",
        "            for noised x and y\n",
        "            \n",
        "    params:\n",
        "        * mean_x - mean value of noise\n",
        "        * std_x  - standard deviation of noises (square root of variance)\n",
        "        * mean_y - mean value of noise\n",
        "        * std_y  - standard deviation of noises (square root of variance)        \n",
        "        * N      - number of samples\n",
        "        * a      - desired coefficients\n",
        "        \n",
        "    return:\n",
        "        * y,x    - measured results      \n",
        "            \n",
        "    '''\n",
        "    \n",
        "    #for the first create pure relation\n",
        "    x_pure  = np.arange(N)\n",
        "    y_pure  = a[1]*x_pure+a[0]\n",
        "    \n",
        "    # create noises\n",
        "    noise_x = np.random.normal(loc = mean_x, scale = std_x, size = x_pure.shape)\n",
        "    noise_y = np.random.normal(loc = mean_y, scale = std_y, size = y_pure.shape)\n",
        "    \n",
        "    #create outputs\n",
        "    x = x_pure+noise_x\n",
        "    y = y_pure+noise_y\n",
        "    \n",
        "    return x,y"
      ],
      "execution_count": null,
      "outputs": []
    },
    {
      "cell_type": "code",
      "metadata": {
        "id": "ISgX9njMooAm"
      },
      "source": [
        "def lin_reg_estimator(x,y):\n",
        "    ''' \n",
        "    The function for estimate the parameters a of regression y=a_0*x+a_1\n",
        "    \n",
        "    params:\n",
        "        * x  - input parameters (like samples)\n",
        "        * y  - measured results\n",
        "        \n",
        "    return:\n",
        "        * A  - the matrix of estimated parameters\n",
        "        * y_rest - restricted relation\n",
        "    '''\n",
        "    #create arrays for leas mean square estimation\n",
        "    X = np.vstack((np.ones(x.size),x.transpose()))\n",
        "    XT= np.transpose(X)\n",
        "    Y = y.transpose()  \n",
        "    \n",
        "    #performe estimation\n",
        "    XXT    = (np.dot(X,XT))\n",
        "    X_plus = np.dot(np.linalg.inv(XXT),X)\n",
        "    A      = X_plus.dot(Y)\n",
        "    \n",
        "    # restricted relation\n",
        "    y_restr  = A[1]*x+A[0]\n",
        "    \n",
        "    #return results\n",
        "    return A, y_restr"
      ],
      "execution_count": null,
      "outputs": []
    },
    {
      "cell_type": "code",
      "metadata": {
        "id": "ieAByKzHooAw"
      },
      "source": [
        "def plot_regression_results(x, y, y_res):\n",
        "    ''' \n",
        "    Procedure for visualization of obtained results\n",
        "    \n",
        "    param:\n",
        "        * x,y - measured results\n",
        "        * y_res - restricted relation\n",
        "    '''\n",
        "    \n",
        "    #create figure with specified size\n",
        "    fig=plt.figure(figsize=(10,10))    \n",
        "    \n",
        "    #create subplot for our figure\n",
        "    canv= fig.add_subplot(111) \n",
        "    \n",
        "    #plot the results\n",
        "    canv.plot(x,y_res,     label='restricted y(x) by regression')\n",
        "    canv.plot(x,y,    's', label='y(x) measured')\n",
        "    \n",
        "    #specify axes\n",
        "    canv.set_xlabel('x')\n",
        "    canv.set_ylabel('y')\n",
        "    \n",
        "    #add legent \n",
        "    canv.legend(fontsize = 20)\n",
        "    \n",
        "    #add title\n",
        "    plt.title('y(x)')\n",
        "    \n",
        "    #draw figure\n",
        "    plt.show()"
      ],
      "execution_count": null,
      "outputs": []
    },
    {
      "cell_type": "code",
      "metadata": {
        "id": "YoYtfBS0ooA0"
      },
      "source": [
        "def RSE_calc(y_measured, y_estimated):\n",
        "    '''\n",
        "    Function for calculate square of residuals between of measured and estimated value\n",
        "       (Residual Standard Error, RSE)\n",
        "       \n",
        "        RSE = (sum([y_measured-y_estimated]^2)/N)^1/2)\n",
        "        \n",
        "    param:\n",
        "        * y_measured, y_estimated \n",
        "    return:\n",
        "        * RSE value\n",
        "    '''\n",
        "    R2 = sum([(y_meas_i-y_est_i)**2 for (y_meas_i,y_est_i) in zip (y_measured, y_estimated)])\n",
        "    \n",
        "    return (R2/np.size(y_measured))**0.5"
      ],
      "execution_count": null,
      "outputs": []
    },
    {
      "cell_type": "code",
      "metadata": {
        "id": "LmUwnE6aooA3",
        "outputId": "8bbe0b07-54cc-4460-9c13-fb634f61904d"
      },
      "source": [
        "import numpy as np\n",
        "import matplotlib.pyplot as plt\n",
        "\n",
        "\n",
        "std_x  = 0.8\n",
        "mean_x = 0\n",
        "\n",
        "std_y  = 0.8\n",
        "mean_y = 0\n",
        "\n",
        "N = 100\n",
        "\n",
        "a = np.array([1,0.8])\n",
        "\n",
        "x,y = create_noised_relation(a, N, mean_x, std_x, mean_y, std_y )\n",
        "\n",
        "A_est,y_rest = lin_reg_estimator(x,y)\n",
        "\n",
        "plot_regression_results(x,y,y_rest)\n",
        "\n",
        "print('RSE = %.3f'%(RSE_calc(y, y_rest )))"
      ],
      "execution_count": null,
      "outputs": [
        {
          "output_type": "display_data",
          "data": {
            "image/png": "[encoded data removed]",
            "text/plain": [
              "<Figure size 720x720 with 1 Axes>"
            ]
          },
          "metadata": {
            "tags": [],
            "needs_background": "light"
          }
        },
        {
          "output_type": "stream",
          "text": [
            "RSE = 1.079\n"
          ],
          "name": "stdout"
        }
      ]
    },
    {
      "cell_type": "markdown",
      "metadata": {
        "id": "vQu0dxtvooA4"
      },
      "source": [
        "# Упражнеие \n"
      ]
    },
    {
      "cell_type": "markdown",
      "metadata": {
        "id": "QK1pu_KOooA5"
      },
      "source": [
        "<font size=4 face = 'Calibri' >   посмотреть результат работы симуляции в зависимости от соотношения между the std и mean values и RSE\n"
      ]
    },
    {
      "cell_type": "markdown",
      "metadata": {
        "id": "qc2llepmooA5"
      },
      "source": [
        "# Мультирегрессия\n",
        "<font size=4 face = 'Calibri' >  \n",
        "\n",
        "пример ниже показывает как может быть расчитана мультирегрессия"
      ]
    },
    {
      "cell_type": "code",
      "metadata": {
        "id": "9FOh7AbpooA5",
        "outputId": "153c2ba1-341d-4b2b-c7a5-052850735faa"
      },
      "source": [
        "import numpy as np\n",
        "\n",
        "std_y  = 0.8\n",
        "mean_y = 0\n",
        "\n",
        "    \n",
        "c1,c2 = 5.0,2.0\n",
        "\n",
        "x_pure  = np.arange(1,11)/10.0\n",
        "x1_pure = np.exp(-x_pure)\n",
        "x2_pure = x_pure\n",
        "\n",
        "y_pure = c1*x1_pure+c2*x2_pure\n",
        "\n",
        "noise_y   = np.random.normal(loc = mean_y, scale = std_y,   size = y_pure.shape)\n",
        "\n",
        "y  = y_pure+noise_y\n",
        "\n",
        "X = np.column_stack((x1_pure,x2_pure))\n",
        "\n",
        "# built-in function for linear regression\n",
        "c,resid,rank,sigma = np.linalg.lstsq(X,y)\n",
        "\n",
        "print(c)"
      ],
      "execution_count": null,
      "outputs": [
        {
          "output_type": "stream",
          "text": [
            "[4.9938745  2.47260943]\n"
          ],
          "name": "stdout"
        },
        {
          "output_type": "stream",
          "text": [
            "F:\\Anaconda3\\lib\\site-packages\\ipykernel_launcher.py:22: FutureWarning: `rcond` parameter will change to the default of machine precision times ``max(M, N)`` where M and N are the input matrix dimensions.\n",
            "To use the future default and silence this warning we advise to pass `rcond=None`, to keep using the old, explicitly pass `rcond=-1`.\n"
          ],
          "name": "stderr"
        }
      ]
    },
    {
      "cell_type": "markdown",
      "metadata": {
        "id": "BIL8Z7X2ooA_"
      },
      "source": [
        "#### Упражнение"
      ]
    },
    {
      "cell_type": "markdown",
      "metadata": {
        "id": "Ln0K5B0FooA_"
      },
      "source": [
        "<font size=4 face = 'Calibri' >  добавить шумы для x1 и x2 и посмотреть как это влияет на результат"
      ]
    },
    {
      "cell_type": "code",
      "metadata": {
        "id": "MH52zFW3ooA_"
      },
      "source": [
        ""
      ],
      "execution_count": null,
      "outputs": []
    },
    {
      "cell_type": "markdown",
      "metadata": {
        "id": "Ku1vjxlXooBB"
      },
      "source": [
        "# Модули SciPy\n",
        "\n",
        "#### SciPy   расширяет функционал NumPy\n",
        "##### в таблице ниже приведены некоторые из его библиотек:"
      ]
    },
    {
      "cell_type": "markdown",
      "metadata": {
        "id": "rEDWns9FooBB"
      },
      "source": [
        "Модуль|Для чего используется\n",
        "------|-----------------------\n",
        "scipy.constants| Набор математических и физических констант\n",
        "scipy.special|Много специальных функций для математической физики, такие как: Эйри, эллиптические, Бесселя, гамма, бета, гипергеометрические, параболического цилиндра, Матьё, шаровидной волны, Струве, Кельвина.\n",
        "    scipy.integrate |\tФункции для работы с численным интегрированием используя методы трапеции, Симпсона, Ромберга и другие. Также предоставляет методы для работы с полными дифференциальными уравнениями.   \n",
        "scipy.optimize\t| Стандартные методы поиска максимума/минимума для работы с обобщенными пользовательскими функциями. Включенные алгоритмы: Нелдера — Мида, Поулла ( Powell's), сопряженных градиентов, Бройдена — Флетчера — Гольдфарба — Шанно, наименьших квадратов, условной оптимизации, имитации отжига, полного перебора, Брента, Ньютона, бисекции, Бройдена, Андерсона и линейного поиска.\n",
        "scipy.linalg |\tБолее широкий функционал для работы с линейной алгеброй чем в NumPy. Предоставляет больше возможностей для использования специальных и быстрых функций, для специфических объектов (Например: трёхдиагональная матрица). Включенные методы: поиск невырожденной матрицы, поиск определителя, решение линейных систем уравнений, расчета норм и псевдообратной матрицы, спектрального разложения, сингулярного разложения, LU-разложения, разложения Холецкого, QR-разложения, разложения Шура и много других математических операций для работы с матрицами.\n",
        "scipy.sparse |\tФункции для работы с большими разреженными матрицами\n",
        "scipy.interpolate |\tМетоды и классы для интерполяции объектов, которые могут быть использованы для дискретных числовых данных. Линейная и сплайновая (Прим. переводчика: математическое представление плавных кривых) интерполяция доступна для одно- и двух-мерных наборов данных.\n",
        "scipy.fftpack |\tМетоды для обработки преобразований Фурье.\n",
        "scipy.signal  |\tМетоды для обработки сигналов, например: свертка функций, корреляция, дискретное преобразование Фурье, сглаживающий B-сплайн, фильтрация, и т.д и т.п.\n",
        "scipy.stats |\tБольшая библиотека статистических функций и распределений для работы с наборами данных."
      ]
    },
    {
      "cell_type": "code",
      "metadata": {
        "id": "D62wymfmooBC"
      },
      "source": [
        "import scipy as sp"
      ],
      "execution_count": null,
      "outputs": []
    },
    {
      "cell_type": "markdown",
      "metadata": {
        "id": "anlTpc3AooBE"
      },
      "source": [
        "###### пример использования интерполяции"
      ]
    },
    {
      "cell_type": "code",
      "metadata": {
        "id": "Ml6-SwF8ooBE",
        "outputId": "c7f240f8-0820-4a10-bd96-d758f46e4322"
      },
      "source": [
        "# Generate data\n",
        "import numpy as np\n",
        "np.random.seed(0)\n",
        "measured_time = np.linspace(0, 1, 10)\n",
        "noise = 1e-1 * (np.random.random(10)*2 - 1)\n",
        "measures = np.sin(2 * np.pi * measured_time) + noise\n",
        "\n",
        "# Interpolate it to new time points\n",
        "from scipy.interpolate import interp1d\n",
        "linear_interp = interp1d(measured_time, measures)\n",
        "interpolation_time = np.linspace(0, 1, 50)\n",
        "linear_results = linear_interp(interpolation_time)\n",
        "cubic_interp = interp1d(measured_time, measures, kind='cubic')\n",
        "cubic_results = cubic_interp(interpolation_time)\n",
        "\n",
        "# Plot the data and the interpolation\n",
        "from matplotlib import pyplot as plt\n",
        "plt.figure(figsize=(6, 4))\n",
        "plt.plot(measured_time, measures, 'o', ms=6, label='measures')\n",
        "plt.plot(interpolation_time, linear_results, label='linear interp')\n",
        "plt.plot(interpolation_time, cubic_results, label='cubic interp')\n",
        "plt.legend()\n",
        "plt.show()\n"
      ],
      "execution_count": null,
      "outputs": [
        {
          "output_type": "display_data",
          "data": {
            "image/png": "[encoded data removed]",
            "text/plain": [
              "<Figure size 432x288 with 1 Axes>"
            ]
          },
          "metadata": {
            "tags": [],
            "needs_background": "light"
          }
        }
      ]
    },
    {
      "cell_type": "markdown",
      "metadata": {
        "id": "n5DYp_OuooBG"
      },
      "source": [
        "###### пример с использованием оптимизации\n"
      ]
    },
    {
      "cell_type": "code",
      "metadata": {
        "id": "aJWwK7hEooBG",
        "outputId": "e90575fd-4eab-4837-f73d-712e7df04c81"
      },
      "source": [
        "import numpy as np\n",
        "\n",
        "# Seed the random number generator for reproducibility\n",
        "np.random.seed(0)\n",
        "\n",
        "x_data = np.linspace(-5, 5, num=50)\n",
        "y_data = 2.9 * np.sin(1.5 * x_data) + np.random.normal(size=50)\n",
        "\n",
        "# And plot it\n",
        "import matplotlib.pyplot as plt\n",
        "plt.figure(figsize=(6, 4))\n",
        "plt.scatter(x_data, y_data)\n"
      ],
      "execution_count": null,
      "outputs": [
        {
          "output_type": "execute_result",
          "data": {
            "text/plain": [
              "<matplotlib.collections.PathCollection at 0x167d58587f0>"
            ]
          },
          "metadata": {
            "tags": []
          },
          "execution_count": 23
        },
        {
          "output_type": "display_data",
          "data": {
            "image/png": "[encoded data removed]",
            "text/plain": [
              "<Figure size 432x288 with 1 Axes>"
            ]
          },
          "metadata": {
            "tags": [],
            "needs_background": "light"
          }
        }
      ]
    },
    {
      "cell_type": "code",
      "metadata": {
        "id": "djtcQKzHooBJ",
        "outputId": "6a13073f-1d6f-476c-e5d2-d272157687b2"
      },
      "source": [
        "from scipy import optimize\n",
        "\n",
        "def test_func(x, a, b):\n",
        "    return a * np.sin(b * x)\n",
        "\n",
        "params, params_covariance = optimize.curve_fit(test_func, x_data, y_data,\n",
        "                                               p0=[2, 2])\n",
        "\n",
        "plt.figure(figsize=(6, 4))\n",
        "plt.scatter(x_data, y_data, label='Data')\n",
        "plt.plot(x_data, test_func(x_data, params[0], params[1]),\n",
        "         label='Fitted function')\n",
        "\n",
        "plt.legend(loc='best')\n",
        "\n",
        "plt.show()\n",
        "\n",
        "\n",
        "print(params)"
      ],
      "execution_count": null,
      "outputs": [
        {
          "output_type": "display_data",
          "data": {
            "image/png": "[encoded data removed]",
            "text/plain": [
              "<Figure size 432x288 with 1 Axes>"
            ]
          },
          "metadata": {
            "tags": [],
            "needs_background": "light"
          }
        },
        {
          "output_type": "stream",
          "text": [
            "[3.05931973 1.45754553]\n"
          ],
          "name": "stdout"
        }
      ]
    },
    {
      "cell_type": "markdown",
      "metadata": {
        "id": "JjVNag2IooBM"
      },
      "source": [
        "#### Использование оптимизации для нахождения минимума по методу градиентного спуска\n"
      ]
    },
    {
      "cell_type": "code",
      "metadata": {
        "id": "QJDeeMZcooBN",
        "outputId": "2739a883-884c-4932-aa96-c6ebac394d95"
      },
      "source": [
        "import numpy as np\n",
        "import matplotlib.pyplot as plt\n",
        "\n",
        "def f(x):\n",
        "    return x**2 + 10*np.sin(x)\n",
        "\n",
        "\n",
        "x = np.arange(-10, 10, 0.1)\n",
        "plt.plot(x, f(x))"
      ],
      "execution_count": null,
      "outputs": [
        {
          "output_type": "execute_result",
          "data": {
            "text/plain": [
              "[<matplotlib.lines.Line2D at 0x167d5d521d0>]"
            ]
          },
          "metadata": {
            "tags": []
          },
          "execution_count": 28
        },
        {
          "output_type": "display_data",
          "data": {
            "image/png": "[encoded data removed]",
            "text/plain": [
              "<Figure size 432x288 with 1 Axes>"
            ]
          },
          "metadata": {
            "tags": [],
            "needs_background": "light"
          }
        }
      ]
    },
    {
      "cell_type": "code",
      "metadata": {
        "id": "L6RoFgc0ooBQ",
        "outputId": "67644420-0060-47f5-ac93-78f84f914c21"
      },
      "source": [
        "from scipy import optimize\n",
        "\n",
        "# The default (Nelder Mead)\n",
        "print(optimize.minimize(f, x0=0))  # x0 - начальное приближение (откуда считать)"
      ],
      "execution_count": null,
      "outputs": [
        {
          "output_type": "stream",
          "text": [
            "      fun: -7.945823375615215\n",
            " hess_inv: array([[0.08589237]])\n",
            "      jac: array([-1.1920929e-06])\n",
            "  message: 'Optimization terminated successfully.'\n",
            "     nfev: 18\n",
            "      nit: 5\n",
            "     njev: 6\n",
            "   status: 0\n",
            "  success: True\n",
            "        x: array([-1.30644012])\n"
          ],
          "name": "stdout"
        }
      ]
    },
    {
      "cell_type": "code",
      "metadata": {
        "id": "SG0uuWRPooBS",
        "outputId": "8789d9e7-3e7b-47d3-b205-77a67839aa00"
      },
      "source": [
        "print(optimize.minimize(f, x0=0, method=\"L-BFGS-B\"))"
      ],
      "execution_count": null,
      "outputs": [
        {
          "output_type": "stream",
          "text": [
            "      fun: array([-7.94582338])\n",
            " hess_inv: <1x1 LbfgsInvHessProduct with dtype=float64>\n",
            "      jac: array([-1.42108547e-06])\n",
            "  message: b'CONVERGENCE: NORM_OF_PROJECTED_GRADIENT_<=_PGTOL'\n",
            "     nfev: 12\n",
            "      nit: 5\n",
            "   status: 0\n",
            "  success: True\n",
            "        x: array([-1.30644013])\n"
          ],
          "name": "stdout"
        }
      ]
    },
    {
      "cell_type": "markdown",
      "metadata": {
        "id": "7bnIsYxNooBT"
      },
      "source": [
        "### Упражнение\n",
        "<font size=4 face = 'Calibri' >  \n",
        "\n",
        "аппроксимировать кривую данных (температуры) по измерениям, найти точки минимума\n",
        "\n",
        "аппроксимацию провести при помощи зависимости \n",
        "$$ t = t_0 + A*cos(2\\pi\\frac{\\tau}{T}+\\varphi_0)$$\n",
        "* где \n",
        "    * $t$ - температура\n",
        "    * $t_0$ - смещение температуры\n",
        "    * $A$ -  коэффициент (амплитуда)\n",
        "    * $T$ - период (12 месяцев)\n",
        "    * $\\tau$ - временной отсчет (месяц)\n",
        "    * $\\varphi_0$ - коэффициент (фаза зависимости)"
      ]
    },
    {
      "cell_type": "code",
      "metadata": {
        "id": "wj06kPVqooBU",
        "outputId": "b7ea02a4-5061-4e08-b5c2-4e7829d3f96b"
      },
      "source": [
        "import numpy as np\n",
        "\n",
        "temp_max = 60-np.array([17,  19,  21,  28,  33,  38, 37,  37,  31,  23,  19,  18])\n",
        "temp_min = 70-np.array([-62, -59, -56, -46, -32, -18, -9, -13, -25, -46, -52, -58])\n",
        "\n",
        "import matplotlib.pyplot as plt\n",
        "months = np.arange(12)\n",
        "plt.plot(months, temp_max, 'ro')\n",
        "plt.plot(months, temp_min, 'bo')\n",
        "plt.xlabel('Month')\n",
        "plt.ylabel('Min and max temperature')"
      ],
      "execution_count": null,
      "outputs": [
        {
          "output_type": "execute_result",
          "data": {
            "text/plain": [
              "Text(0,0.5,'Min and max temperature')"
            ]
          },
          "metadata": {
            "tags": []
          },
          "execution_count": 68
        },
        {
          "output_type": "display_data",
          "data": {
            "image/png": "[encoded data removed]",
            "text/plain": [
              "<Figure size 432x288 with 1 Axes>"
            ]
          },
          "metadata": {
            "tags": [],
            "needs_background": "light"
          }
        }
      ]
    },
    {
      "cell_type": "markdown",
      "metadata": {
        "id": "l3VnQqxMooBV"
      },
      "source": [
        "<font size=4 face = 'Calibri' >  схожее решение если возникли вопросы\n",
        "https://www.scipy-lectures.org/intro/scipy/auto_examples/solutions/plot_curvefit_temperature_data.html#sphx-glr-intro-scipy-auto-examples-solutions-plot-curvefit-temperature-data-py"
      ]
    },
    {
      "cell_type": "code",
      "metadata": {
        "id": "huW9QJSBooBW",
        "outputId": "7286a38c-c608-4828-b44e-40f6fa3721f5"
      },
      "source": [
        "from scipy import optimize\n",
        "\n",
        "def yearly_temps(tau, t0, A, T, phi0): \n",
        "    out_rel = #place your code here\n",
        "    return (out_rel)\n",
        "\n",
        "initial_values_max_t = [0,0,0] # значения лучше поменять на те, которые позволяют получить более точные результаты\n",
        "\n",
        "initial_values_min_t = [0,0,0]\n",
        "\n",
        "res_max, _ = optimize.curve_fit(yearly_temps, months,  temp_max, initial_values_max_t)\n",
        "\n",
        "res_min, _ = optimize.curve_fit(yearly_temps, months,  temp_min, initial_values_min_t)\n",
        "\n",
        "print (res_max)\n",
        "\n",
        "print (res_min)\n"
      ],
      "execution_count": null,
      "outputs": [
        {
          "output_type": "stream",
          "text": [
            "[ 32.37074149 -10.63955648  10.86653728]\n",
            "[107.71075225  25.20712455   7.48066965]\n"
          ],
          "name": "stdout"
        }
      ]
    },
    {
      "cell_type": "code",
      "metadata": {
        "id": "7fm6aJa7ooBX",
        "outputId": "bf50327d-0d19-48f4-bc29-b92c542b1213"
      },
      "source": [
        "days = np.linspace(0, 12, num=365)\n",
        "\n",
        "plt.figure()\n",
        "plt.plot(months, temp_max, 'ro')\n",
        "plt.plot(days, yearly_temps(days, *res_max), 'r-')\n",
        "plt.plot(months, temp_min, 'bo')\n",
        "plt.plot(days, yearly_temps(days, *res_min), 'b-')\n",
        "plt.xlabel('Month')\n",
        "plt.ylabel('Temperature ($^\\circ$C)')\n",
        "\n",
        "plt.show()"
      ],
      "execution_count": null,
      "outputs": [
        {
          "output_type": "display_data",
          "data": {
            "image/png": "[encoded data removed]",
            "text/plain": [
              "<Figure size 432x288 with 1 Axes>"
            ]
          },
          "metadata": {
            "tags": [],
            "needs_background": "light"
          }
        }
      ]
    },
    {
      "cell_type": "markdown",
      "metadata": {
        "id": "aOBSz2CGooBa"
      },
      "source": [
        "<font size=4 face = 'Calibri' >  Больше примеров работы с модулями scipy, numpy и matplotlib можно найти на сайте\n",
        "https://www.scipy-lectures.org/"
      ]
    },
    {
      "cell_type": "markdown",
      "metadata": {
        "id": "s9ocP4q8ooBa"
      },
      "source": [
        "https://www.scipy-lectures.org/intro/matplotlib/index.html - matplotlib\n",
        "\n",
        "    https://www.scipy-lectures.org/intro/numpy/index.html - numpy\n",
        "    \n",
        "        https://www.scipy-lectures.org/intro/scipy.html - scipy\n",
        "        \n",
        "        при нажатии на большенство примеров можно посмотреть соответствующий им код"
      ]
    },
    {
      "cell_type": "code",
      "metadata": {
        "id": "cb2Dil4ZooBb"
      },
      "source": [
        ""
      ],
      "execution_count": null,
      "outputs": []
    },
    {
      "cell_type": "code",
      "metadata": {
        "id": "lBRFQhCPooBe"
      },
      "source": [
        ""
      ],
      "execution_count": null,
      "outputs": []
    }
  ]
}