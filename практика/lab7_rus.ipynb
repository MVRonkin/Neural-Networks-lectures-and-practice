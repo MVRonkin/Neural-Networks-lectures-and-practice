{
 "cells": [
  {
   "cell_type": "markdown",
   "metadata": {},
   "source": [
    "# Введение в Keras\n",
    "---"
   ]
  },
  {
   "cell_type": "markdown",
   "metadata": {},
   "source": [
    "<font size =4 face = 'Calibri'>\n",
    "\n",
    "### Table of content\n",
    "\n",
    "* [1. Установка Keras](#1.-Установка-Keras)\n",
    "* [2. Последовательная модель Keras](#2.-Последовательная-модель-Keras)\n",
    "    * [2.2 Тренировка модели](#2.2-Тренировка-модели)\n",
    "    * [2.3 Предсказание при помощи модели](#2.3-Предсказание-при-помощи-модели)\n",
    "    * [2.4 Упражнения](#2.4-Упражнения)\n",
    "* [3.  Исследование Автоэнкодреа](#3.-Исследование-автоэнкодера-в-Keras)\n",
    "    * [3.1 Принцип работы Автоэнкодреа](#3.1-Принцип-работы-Автоэнкодреа)\n",
    "    * [3.2 Обучение авоэнкодера](#3.2-Обучение-авоэнкодера)\n",
    "    * [3.3 Упражнения](#3.3-Упражнения)  \n",
    "* [4. Генеративно - состязательные сети (GAN)](#4.-Генеративно-состязательные-сети-(Generative-Adversarial-Network,-GAN))\n",
    "    * [4.1 Основы работы GAN](#4.1-Основы-работы-GAN)\n",
    "    * [4.2 Создание ГАН (генератора и дискреминатора) ](#4.2-Создание-ГАН-(генератора-и-дискреминатора))\n",
    "    * [4.3 Тренировка GAN](#4.3-Тренировка-GAN)\n",
    "    * [4.4 Упражнения](#4.4-Упражнения)\n",
    "    \n",
    "    "
   ]
  },
  {
   "cell_type": "markdown",
   "metadata": {},
   "source": [
    "- - -\n",
    "<font size =3>\n",
    "\n",
    "# 1. Установка Keras\n",
    "- - -\n"
   ]
  },
  {
   "cell_type": "markdown",
   "metadata": {},
   "source": [
    "[Go to content](#Table-of-content)"
   ]
  },
  {
   "cell_type": "markdown",
   "metadata": {},
   "source": [
    "<font size=4 face = 'Calibri' >  \n",
    "\n",
    "Керас - это высоко-уровневые API с беэкэндом Tensorflow и Tehan для разработки нейронных сетей"
   ]
  },
  {
   "cell_type": "markdown",
   "metadata": {},
   "source": [
    "<font size=4.5 face = 'Calibri' >  \n",
    "\n",
    "Для прохождения данной лабораторной работы необходимо выполнитнить один из двух вариантов\n",
    "\n",
    "<font size=4.5 face = 'Calibri' >  \n",
    " 1. установить библиотеки tensorflow версии 1.х и библиотеку Keras\n",
    " \n",
    "<font size=4.5 face = 'Calibri' >   \n",
    " 2. запустить эту лабораторную работу в [Google CoLab](https://colab.research.google.com/) (рекомендуется)\n",
    " "
   ]
  },
  {
   "cell_type": "markdown",
   "metadata": {},
   "source": [
    "<font size=4 face = 'Calibri' >   информацию по установке  tensorflow также можно найти, например тут https://techz.io/anaconda-install-tensorflow/"
   ]
  },
  {
   "cell_type": "markdown",
   "metadata": {},
   "source": [
    "<font size=4 face = 'Calibri' >  \n",
    "справка по Keras [Keras cheat sheet](https://s3.amazonaws.com/assets.datacamp.com/blog_assets/Keras_Cheat_Sheet_Python.pdf)"
   ]
  },
  {
   "cell_type": "markdown",
   "metadata": {},
   "source": [
    "<font size =3 font-family= 'Linux Libertine O'>\n",
    "    \n",
    "    \n",
    "в данном репозиторие можно найти большое количество примеров\n",
    "\n",
    "https://github.com/leriomaggio/deep-learning-keras-tensorflow\n",
    "\n",
    "также можно найти их [тут](https://keras.io/getting-started/sequential-model-guide/)"
   ]
  },
  {
   "cell_type": "code",
   "execution_count": null,
   "metadata": {},
   "outputs": [],
   "source": [
    "!pip isntall keras"
   ]
  },
  {
   "cell_type": "markdown",
   "metadata": {},
   "source": [
    " *******\n",
    "# 2. Последовательная модель Keras \n",
    " *******"
   ]
  },
  {
   "cell_type": "markdown",
   "metadata": {},
   "source": [
    "[Go to content](#Table-of-content)"
   ]
  },
  {
   "cell_type": "code",
   "execution_count": 21,
   "metadata": {
    "scrolled": true
   },
   "outputs": [
    {
     "ename": "AttributeError",
     "evalue": "module 'keras.backend.tensorflow_backend' has no attribute '_is_tf_1'",
     "output_type": "error",
     "traceback": [
      "\u001b[1;31m---------------------------------------------------------------------------\u001b[0m",
      "\u001b[1;31mAttributeError\u001b[0m                            Traceback (most recent call last)",
      "\u001b[1;32m<ipython-input-21-88d96843a926>\u001b[0m in \u001b[0;36m<module>\u001b[1;34m\u001b[0m\n\u001b[1;32m----> 1\u001b[1;33m \u001b[1;32mimport\u001b[0m \u001b[0mkeras\u001b[0m\u001b[1;33m\u001b[0m\u001b[1;33m\u001b[0m\u001b[0m\n\u001b[0m",
      "\u001b[1;32m~\\Anaconda3\\lib\\site-packages\\keras\\__init__.py\u001b[0m in \u001b[0;36m<module>\u001b[1;34m\u001b[0m\n\u001b[0;32m      1\u001b[0m \u001b[1;32mfrom\u001b[0m \u001b[0m__future__\u001b[0m \u001b[1;32mimport\u001b[0m \u001b[0mabsolute_import\u001b[0m\u001b[1;33m\u001b[0m\u001b[1;33m\u001b[0m\u001b[0m\n\u001b[0;32m      2\u001b[0m \u001b[1;33m\u001b[0m\u001b[0m\n\u001b[1;32m----> 3\u001b[1;33m \u001b[1;32mfrom\u001b[0m \u001b[1;33m.\u001b[0m \u001b[1;32mimport\u001b[0m \u001b[0mutils\u001b[0m\u001b[1;33m\u001b[0m\u001b[1;33m\u001b[0m\u001b[0m\n\u001b[0m\u001b[0;32m      4\u001b[0m \u001b[1;32mfrom\u001b[0m \u001b[1;33m.\u001b[0m \u001b[1;32mimport\u001b[0m \u001b[0mactivations\u001b[0m\u001b[1;33m\u001b[0m\u001b[1;33m\u001b[0m\u001b[0m\n\u001b[0;32m      5\u001b[0m \u001b[1;32mfrom\u001b[0m \u001b[1;33m.\u001b[0m \u001b[1;32mimport\u001b[0m \u001b[0mapplications\u001b[0m\u001b[1;33m\u001b[0m\u001b[1;33m\u001b[0m\u001b[0m\n",
      "\u001b[1;32m~\\Anaconda3\\lib\\site-packages\\keras\\utils\\__init__.py\u001b[0m in \u001b[0;36m<module>\u001b[1;34m\u001b[0m\n\u001b[0;32m     25\u001b[0m \u001b[1;32mfrom\u001b[0m \u001b[1;33m.\u001b[0m\u001b[0mnp_utils\u001b[0m \u001b[1;32mimport\u001b[0m \u001b[0mto_categorical\u001b[0m\u001b[1;33m\u001b[0m\u001b[1;33m\u001b[0m\u001b[0m\n\u001b[0;32m     26\u001b[0m \u001b[1;32mfrom\u001b[0m \u001b[1;33m.\u001b[0m\u001b[0mnp_utils\u001b[0m \u001b[1;32mimport\u001b[0m \u001b[0mnormalize\u001b[0m\u001b[1;33m\u001b[0m\u001b[1;33m\u001b[0m\u001b[0m\n\u001b[1;32m---> 27\u001b[1;33m \u001b[1;32mfrom\u001b[0m \u001b[1;33m.\u001b[0m\u001b[0mmulti_gpu_utils\u001b[0m \u001b[1;32mimport\u001b[0m \u001b[0mmulti_gpu_model\u001b[0m\u001b[1;33m\u001b[0m\u001b[1;33m\u001b[0m\u001b[0m\n\u001b[0m",
      "\u001b[1;32m~\\Anaconda3\\lib\\site-packages\\keras\\utils\\multi_gpu_utils.py\u001b[0m in \u001b[0;36m<module>\u001b[1;34m\u001b[0m\n\u001b[0;32m      5\u001b[0m \u001b[1;32mfrom\u001b[0m \u001b[0m__future__\u001b[0m \u001b[1;32mimport\u001b[0m \u001b[0mprint_function\u001b[0m\u001b[1;33m\u001b[0m\u001b[1;33m\u001b[0m\u001b[0m\n\u001b[0;32m      6\u001b[0m \u001b[1;33m\u001b[0m\u001b[0m\n\u001b[1;32m----> 7\u001b[1;33m \u001b[1;32mfrom\u001b[0m \u001b[1;33m.\u001b[0m\u001b[1;33m.\u001b[0m\u001b[0mlayers\u001b[0m\u001b[1;33m.\u001b[0m\u001b[0mmerge\u001b[0m \u001b[1;32mimport\u001b[0m \u001b[0mconcatenate\u001b[0m\u001b[1;33m\u001b[0m\u001b[1;33m\u001b[0m\u001b[0m\n\u001b[0m\u001b[0;32m      8\u001b[0m \u001b[1;32mfrom\u001b[0m \u001b[1;33m.\u001b[0m\u001b[1;33m.\u001b[0m \u001b[1;32mimport\u001b[0m \u001b[0mbackend\u001b[0m \u001b[1;32mas\u001b[0m \u001b[0mK\u001b[0m\u001b[1;33m\u001b[0m\u001b[1;33m\u001b[0m\u001b[0m\n\u001b[0;32m      9\u001b[0m \u001b[1;32mfrom\u001b[0m \u001b[1;33m.\u001b[0m\u001b[1;33m.\u001b[0m\u001b[0mlayers\u001b[0m\u001b[1;33m.\u001b[0m\u001b[0mcore\u001b[0m \u001b[1;32mimport\u001b[0m \u001b[0mLambda\u001b[0m\u001b[1;33m\u001b[0m\u001b[1;33m\u001b[0m\u001b[0m\n",
      "\u001b[1;32m~\\Anaconda3\\lib\\site-packages\\keras\\layers\\__init__.py\u001b[0m in \u001b[0;36m<module>\u001b[1;34m\u001b[0m\n\u001b[0;32m      3\u001b[0m \u001b[1;32mfrom\u001b[0m \u001b[1;33m.\u001b[0m\u001b[1;33m.\u001b[0m\u001b[0mutils\u001b[0m\u001b[1;33m.\u001b[0m\u001b[0mgeneric_utils\u001b[0m \u001b[1;32mimport\u001b[0m \u001b[0mdeserialize_keras_object\u001b[0m\u001b[1;33m\u001b[0m\u001b[1;33m\u001b[0m\u001b[0m\n\u001b[0;32m      4\u001b[0m \u001b[1;32mfrom\u001b[0m \u001b[1;33m.\u001b[0m\u001b[1;33m.\u001b[0m\u001b[0mengine\u001b[0m\u001b[1;33m.\u001b[0m\u001b[0mbase_layer\u001b[0m \u001b[1;32mimport\u001b[0m \u001b[0mLayer\u001b[0m\u001b[1;33m\u001b[0m\u001b[1;33m\u001b[0m\u001b[0m\n\u001b[1;32m----> 5\u001b[1;33m \u001b[1;32mfrom\u001b[0m \u001b[1;33m.\u001b[0m\u001b[1;33m.\u001b[0m\u001b[0mengine\u001b[0m \u001b[1;32mimport\u001b[0m \u001b[0mInput\u001b[0m\u001b[1;33m\u001b[0m\u001b[1;33m\u001b[0m\u001b[0m\n\u001b[0m\u001b[0;32m      6\u001b[0m \u001b[1;32mfrom\u001b[0m \u001b[1;33m.\u001b[0m\u001b[1;33m.\u001b[0m\u001b[0mengine\u001b[0m \u001b[1;32mimport\u001b[0m \u001b[0mInputLayer\u001b[0m\u001b[1;33m\u001b[0m\u001b[1;33m\u001b[0m\u001b[0m\n\u001b[0;32m      7\u001b[0m \u001b[1;32mfrom\u001b[0m \u001b[1;33m.\u001b[0m\u001b[1;33m.\u001b[0m\u001b[0mengine\u001b[0m\u001b[1;33m.\u001b[0m\u001b[0mbase_layer\u001b[0m \u001b[1;32mimport\u001b[0m \u001b[0mInputSpec\u001b[0m\u001b[1;33m\u001b[0m\u001b[1;33m\u001b[0m\u001b[0m\n",
      "\u001b[1;32m~\\Anaconda3\\lib\\site-packages\\keras\\engine\\__init__.py\u001b[0m in \u001b[0;36m<module>\u001b[1;34m\u001b[0m\n\u001b[0;32m      6\u001b[0m \u001b[1;32mfrom\u001b[0m \u001b[1;33m.\u001b[0m\u001b[0mbase_layer\u001b[0m \u001b[1;32mimport\u001b[0m \u001b[0mLayer\u001b[0m\u001b[1;33m\u001b[0m\u001b[1;33m\u001b[0m\u001b[0m\n\u001b[0;32m      7\u001b[0m \u001b[1;32mfrom\u001b[0m \u001b[1;33m.\u001b[0m\u001b[0mnetwork\u001b[0m \u001b[1;32mimport\u001b[0m \u001b[0mget_source_inputs\u001b[0m\u001b[1;33m\u001b[0m\u001b[1;33m\u001b[0m\u001b[0m\n\u001b[1;32m----> 8\u001b[1;33m \u001b[1;32mfrom\u001b[0m \u001b[1;33m.\u001b[0m\u001b[0mtraining\u001b[0m \u001b[1;32mimport\u001b[0m \u001b[0mModel\u001b[0m\u001b[1;33m\u001b[0m\u001b[1;33m\u001b[0m\u001b[0m\n\u001b[0m",
      "\u001b[1;32m~\\Anaconda3\\lib\\site-packages\\keras\\engine\\training.py\u001b[0m in \u001b[0;36m<module>\u001b[1;34m\u001b[0m\n\u001b[0;32m     19\u001b[0m \u001b[1;32mfrom\u001b[0m \u001b[1;33m.\u001b[0m\u001b[0mtraining_utils\u001b[0m \u001b[1;32mimport\u001b[0m \u001b[0mstandardize_weights\u001b[0m\u001b[1;33m\u001b[0m\u001b[1;33m\u001b[0m\u001b[0m\n\u001b[0;32m     20\u001b[0m \u001b[1;32mfrom\u001b[0m \u001b[1;33m.\u001b[0m\u001b[0mtraining_utils\u001b[0m \u001b[1;32mimport\u001b[0m \u001b[0mweighted_masked_objective\u001b[0m\u001b[1;33m\u001b[0m\u001b[1;33m\u001b[0m\u001b[0m\n\u001b[1;32m---> 21\u001b[1;33m \u001b[1;32mfrom\u001b[0m \u001b[1;33m.\u001b[0m \u001b[1;32mimport\u001b[0m \u001b[0mtraining_arrays\u001b[0m\u001b[1;33m\u001b[0m\u001b[1;33m\u001b[0m\u001b[0m\n\u001b[0m\u001b[0;32m     22\u001b[0m \u001b[1;32mfrom\u001b[0m \u001b[1;33m.\u001b[0m \u001b[1;32mimport\u001b[0m \u001b[0mtraining_generator\u001b[0m\u001b[1;33m\u001b[0m\u001b[1;33m\u001b[0m\u001b[0m\n\u001b[0;32m     23\u001b[0m \u001b[1;32mfrom\u001b[0m \u001b[1;33m.\u001b[0m\u001b[1;33m.\u001b[0m \u001b[1;32mimport\u001b[0m \u001b[0mbackend\u001b[0m \u001b[1;32mas\u001b[0m \u001b[0mK\u001b[0m\u001b[1;33m\u001b[0m\u001b[1;33m\u001b[0m\u001b[0m\n",
      "\u001b[1;32m~\\Anaconda3\\lib\\site-packages\\keras\\engine\\training_arrays.py\u001b[0m in \u001b[0;36m<module>\u001b[1;34m\u001b[0m\n\u001b[0;32m     12\u001b[0m \u001b[1;32mfrom\u001b[0m \u001b[1;33m.\u001b[0m\u001b[0mtraining_utils\u001b[0m \u001b[1;32mimport\u001b[0m \u001b[0mcheck_num_samples\u001b[0m\u001b[1;33m\u001b[0m\u001b[1;33m\u001b[0m\u001b[0m\n\u001b[0;32m     13\u001b[0m \u001b[1;32mfrom\u001b[0m \u001b[1;33m.\u001b[0m\u001b[1;33m.\u001b[0m \u001b[1;32mimport\u001b[0m \u001b[0mbackend\u001b[0m \u001b[1;32mas\u001b[0m \u001b[0mK\u001b[0m\u001b[1;33m\u001b[0m\u001b[1;33m\u001b[0m\u001b[0m\n\u001b[1;32m---> 14\u001b[1;33m \u001b[1;32mfrom\u001b[0m \u001b[1;33m.\u001b[0m\u001b[1;33m.\u001b[0m \u001b[1;32mimport\u001b[0m \u001b[0mcallbacks\u001b[0m \u001b[1;32mas\u001b[0m \u001b[0mcbks\u001b[0m\u001b[1;33m\u001b[0m\u001b[1;33m\u001b[0m\u001b[0m\n\u001b[0m\u001b[0;32m     15\u001b[0m \u001b[1;32mfrom\u001b[0m \u001b[1;33m.\u001b[0m\u001b[1;33m.\u001b[0m\u001b[0mutils\u001b[0m\u001b[1;33m.\u001b[0m\u001b[0mgeneric_utils\u001b[0m \u001b[1;32mimport\u001b[0m \u001b[0mProgbar\u001b[0m\u001b[1;33m\u001b[0m\u001b[1;33m\u001b[0m\u001b[0m\n\u001b[0;32m     16\u001b[0m \u001b[1;32mfrom\u001b[0m \u001b[1;33m.\u001b[0m\u001b[1;33m.\u001b[0m\u001b[0mutils\u001b[0m\u001b[1;33m.\u001b[0m\u001b[0mgeneric_utils\u001b[0m \u001b[1;32mimport\u001b[0m \u001b[0mslice_arrays\u001b[0m\u001b[1;33m\u001b[0m\u001b[1;33m\u001b[0m\u001b[0m\n",
      "\u001b[1;32m~\\Anaconda3\\lib\\site-packages\\keras\\callbacks\\__init__.py\u001b[0m in \u001b[0;36m<module>\u001b[1;34m\u001b[0m\n\u001b[0;32m     17\u001b[0m \u001b[1;32mfrom\u001b[0m \u001b[1;33m.\u001b[0m\u001b[1;33m.\u001b[0m \u001b[1;32mimport\u001b[0m \u001b[0mbackend\u001b[0m \u001b[1;32mas\u001b[0m \u001b[0mK\u001b[0m\u001b[1;33m\u001b[0m\u001b[1;33m\u001b[0m\u001b[0m\n\u001b[0;32m     18\u001b[0m \u001b[1;33m\u001b[0m\u001b[0m\n\u001b[1;32m---> 19\u001b[1;33m \u001b[1;32mif\u001b[0m \u001b[0mK\u001b[0m\u001b[1;33m.\u001b[0m\u001b[0mbackend\u001b[0m\u001b[1;33m(\u001b[0m\u001b[1;33m)\u001b[0m \u001b[1;33m==\u001b[0m \u001b[1;34m'tensorflow'\u001b[0m \u001b[1;32mand\u001b[0m \u001b[1;32mnot\u001b[0m \u001b[0mK\u001b[0m\u001b[1;33m.\u001b[0m\u001b[0mtensorflow_backend\u001b[0m\u001b[1;33m.\u001b[0m\u001b[0m_is_tf_1\u001b[0m\u001b[1;33m(\u001b[0m\u001b[1;33m)\u001b[0m\u001b[1;33m:\u001b[0m\u001b[1;33m\u001b[0m\u001b[1;33m\u001b[0m\u001b[0m\n\u001b[0m\u001b[0;32m     20\u001b[0m     \u001b[1;32mfrom\u001b[0m \u001b[1;33m.\u001b[0m\u001b[0mtensorboard_v2\u001b[0m \u001b[1;32mimport\u001b[0m \u001b[0mTensorBoard\u001b[0m\u001b[1;33m\u001b[0m\u001b[1;33m\u001b[0m\u001b[0m\n\u001b[0;32m     21\u001b[0m \u001b[1;32melse\u001b[0m\u001b[1;33m:\u001b[0m\u001b[1;33m\u001b[0m\u001b[1;33m\u001b[0m\u001b[0m\n",
      "\u001b[1;31mAttributeError\u001b[0m: module 'keras.backend.tensorflow_backend' has no attribute '_is_tf_1'"
     ]
    }
   ],
   "source": [
    "import keras"
   ]
  },
  {
   "cell_type": "markdown",
   "metadata": {},
   "source": [
    "<font size=4 face = 'Calibri' style='Line-height : 1.5em'>  \n",
    "    \n",
    "Sequential() это самая простая модель в Keras, является последовательной моделью, в которй автоматически все последующие слои связаны с предыдущими. \n",
    "\n",
    "\n",
    "\n",
    "\n",
    "\n",
    "> **!**При этом вручную можно изменить модель и например сделать слои ResNET.\n",
    "\n",
    "\n",
    "\n"
   ]
  },
  {
   "cell_type": "code",
   "execution_count": 2,
   "metadata": {},
   "outputs": [
    {
     "ename": "ModuleNotFoundError",
     "evalue": "No module named 'tf'",
     "output_type": "error",
     "traceback": [
      "\u001b[1;31m---------------------------------------------------------------------------\u001b[0m",
      "\u001b[1;31mModuleNotFoundError\u001b[0m                       Traceback (most recent call last)",
      "\u001b[1;32m<ipython-input-2-5a993a523ef3>\u001b[0m in \u001b[0;36m<module>\u001b[1;34m\u001b[0m\n\u001b[1;32m----> 1\u001b[1;33m \u001b[1;32mfrom\u001b[0m \u001b[0mtf\u001b[0m\u001b[1;33m.\u001b[0m\u001b[0mkeras\u001b[0m\u001b[1;33m.\u001b[0m\u001b[0mmodels\u001b[0m \u001b[1;32mimport\u001b[0m \u001b[0mSequential\u001b[0m\u001b[1;33m\u001b[0m\u001b[1;33m\u001b[0m\u001b[0m\n\u001b[0m\u001b[0;32m      2\u001b[0m \u001b[1;32mfrom\u001b[0m \u001b[0mtf\u001b[0m\u001b[1;33m.\u001b[0m\u001b[0mkeras\u001b[0m\u001b[1;33m.\u001b[0m\u001b[0mlayers\u001b[0m \u001b[1;32mimport\u001b[0m \u001b[0mDense\u001b[0m\u001b[1;33m\u001b[0m\u001b[1;33m\u001b[0m\u001b[0m\n",
      "\u001b[1;31mModuleNotFoundError\u001b[0m: No module named 'tf'"
     ]
    }
   ],
   "source": [
    "from keras.models import Sequential\n",
    "from keras.layers import Dense"
   ]
  },
  {
   "cell_type": "markdown",
   "metadata": {},
   "source": [
    "<font size=6 face = 'Calibri' style='Line-height : 1.5em'>  \n",
    "Загрузка данных\n",
    "    "
   ]
  },
  {
   "cell_type": "code",
   "execution_count": 57,
   "metadata": {},
   "outputs": [
    {
     "name": "stdout",
     "output_type": "stream",
     "text": [
      "(1340, 2) (1340,)\n"
     ]
    },
    {
     "data": {
      "image/png": "[encoded data removed]",
      "text/plain": [
       "<Figure size 576x432 with 1 Axes>"
      ]
     },
     "metadata": {
      "needs_background": "light"
     },
     "output_type": "display_data"
    }
   ],
   "source": [
    "import sklearn\n",
    "from sklearn.datasets import make_moons\n",
    "from sklearn.datasets import make_blobs\n",
    "from sklearn.model_selection import train_test_split\n",
    "import matplotlib.pyplot as plt\n",
    "\n",
    "X,Y = make_moons(n_samples=2000, noise=0.15)\n",
    "\n",
    "X_train,X_test,Y_train,Y_test = train_test_split(X,Y, test_size=0.33, random_state=42)\n",
    "\n",
    "\n",
    "print(X_train.shape, Y_train.shape)\n",
    "\n",
    "plt.figure(figsize=(8,6))\n",
    "\n",
    "plt.scatter(X[:,0],X[:,1], c=Y)\n",
    "\n",
    "plt.scatter(X[:, 0], X[:, 1], c=Y)\n",
    "\n",
    "plt.show()\n"
   ]
  },
  {
   "cell_type": "markdown",
   "metadata": {},
   "source": [
    "<font size=4 face = 'Calibri' style='Line-height : 1.5em'>  \n",
    "\n",
    "Описание сети - мы будем использовать простую полносвязную `Dense` сеть\n",
    "сеть состоит из 3 слоев 1 входной, 1 внутренний и 1 выходной"
   ]
  },
  {
   "cell_type": "code",
   "execution_count": 5,
   "metadata": {},
   "outputs": [],
   "source": [
    "def model_init(X_train):\n",
    "    model = Sequential()\n",
    "    model.add(Dense(10, input_dim=X_train.shape[1], activation='relu'))\n",
    "    model.add(Dense(5, activation='relu'))\n",
    "    model.add(Dense(1, activation='sigmoid'))\n",
    "    return model"
   ]
  },
  {
   "cell_type": "markdown",
   "metadata": {},
   "source": [
    "слой dense имеет следующую структуру \n",
    "```python \n",
    "Dense([units - output dimention, \n",
    "       activation - activation function, \n",
    "       input_dim - inputs dimention])\n",
    "```"
   ]
  },
  {
   "cell_type": "markdown",
   "metadata": {},
   "source": [
    "<font size=4 face = 'Calibri' style='Line-height : 1.5em'>  \n",
    "    \n",
    "в модели один выход, принимающий значения между 1 и 0 (бинарная классификация). \n",
    "\n"
   ]
  },
  {
   "cell_type": "markdown",
   "metadata": {},
   "source": [
    "<font size=4 face = 'Calibri' style='Line-height : 1.5em'>  \n",
    "    \n",
    "следующая процедура позволяет посмотреть как выглядит модель"
   ]
  },
  {
   "cell_type": "code",
   "execution_count": 1,
   "metadata": {},
   "outputs": [
    {
     "ename": "NameError",
     "evalue": "name 'model' is not defined",
     "output_type": "error",
     "traceback": [
      "\u001b[1;31m---------------------------------------------------------------------------\u001b[0m",
      "\u001b[1;31mNameError\u001b[0m                                 Traceback (most recent call last)",
      "\u001b[1;32m<ipython-input-1-5f15418b3570>\u001b[0m in \u001b[0;36m<module>\u001b[1;34m\u001b[0m\n\u001b[1;32m----> 1\u001b[1;33m \u001b[0mmodel\u001b[0m\u001b[1;33m.\u001b[0m\u001b[0msummary\u001b[0m\u001b[1;33m(\u001b[0m\u001b[1;33m)\u001b[0m\u001b[1;33m\u001b[0m\u001b[0m\n\u001b[0m",
      "\u001b[1;31mNameError\u001b[0m: name 'model' is not defined"
     ]
    }
   ],
   "source": [
    "model.summary()"
   ]
  },
  {
   "cell_type": "markdown",
   "metadata": {},
   "source": [
    "## 2.2 Тренировка модели"
   ]
  },
  {
   "cell_type": "markdown",
   "metadata": {},
   "source": [
    "<font size =3>\n",
    "\n",
    "**!** теперь можно потренировать модель"
   ]
  },
  {
   "cell_type": "markdown",
   "metadata": {},
   "source": [
    "<font size =3>       \n",
    "* EPOCHS     - число эпох тренировки\n",
    "\n",
    "<font size =3>     \n",
    "* BATCH_SIZE - размер пакета (батча) для итерации\n",
    "\n",
    "<font size =3>     \n",
    "* LR         - скорость обучения"
   ]
  },
  {
   "cell_type": "code",
   "execution_count": 28,
   "metadata": {},
   "outputs": [],
   "source": [
    "EPOCHS     = 300\n",
    "BATCH_SIZE = 10\n",
    "LR         = 1e-3       "
   ]
  },
  {
   "cell_type": "markdown",
   "metadata": {},
   "source": [
    "<font size =4>  выбор метода градиентного спуска"
   ]
  },
  {
   "cell_type": "code",
   "execution_count": 4,
   "metadata": {},
   "outputs": [],
   "source": [
    "from keras.optimizers import adam "
   ]
  },
  {
   "cell_type": "markdown",
   "metadata": {},
   "source": [
    "<font size=4 face = 'Calibri' style='Line-height : 1.5em'>  \n",
    "инициализация моедли,\n",
    "выбираем метод:\n",
    "* метод граидентного спуска  (optimizer)\n",
    "* функцию потерь (loss)\n",
    "* метрику оценки качества сети (metrics) "
   ]
  },
  {
   "cell_type": "code",
   "execution_count": 30,
   "metadata": {
    "scrolled": true
   },
   "outputs": [
    {
     "name": "stdout",
     "output_type": "stream",
     "text": [
      "compiled\n"
     ]
    }
   ],
   "source": [
    "model = model_init(X_train)\n",
    "# Compile model\n",
    "model.compile(loss='binary_crossentropy', optimizer=adam(lr=LR), metrics=['accuracy'])\n",
    "print('compiled')"
   ]
  },
  {
   "cell_type": "markdown",
   "metadata": {},
   "source": [
    "<font size =4>  процедура тренировки"
   ]
  },
  {
   "cell_type": "code",
   "execution_count": 31,
   "metadata": {},
   "outputs": [
    {
     "name": "stdout",
     "output_type": "stream",
     "text": [
      "Train on 1340 samples, validate on 660 samples\n",
      "Epoch 1/300\n",
      "1340/1340 [==============================] - 1s 968us/step - loss: 0.6728 - acc: 0.6224 - val_loss: 0.5554 - val_acc: 0.8667\n",
      "Epoch 2/300\n",
      "1340/1340 [==============================] - 0s 287us/step - loss: 0.4918 - acc: 0.8575 - val_loss: 0.4104 - val_acc: 0.8803\n",
      "Epoch 3/300\n",
      "1340/1340 [==============================] - 0s 283us/step - loss: 0.3692 - acc: 0.8612 - val_loss: 0.3201 - val_acc: 0.8818\n",
      "Epoch 4/300\n",
      "1340/1340 [==============================] - 0s 277us/step - loss: 0.3125 - acc: 0.8679 - val_loss: 0.2858 - val_acc: 0.8879\n",
      "Epoch 5/300\n",
      "1340/1340 [==============================] - 0s 199us/step - loss: 0.2895 - acc: 0.8746 - val_loss: 0.2703 - val_acc: 0.8909\n",
      "Epoch 6/300\n",
      "1340/1340 [==============================] - 0s 278us/step - loss: 0.2759 - acc: 0.8799 - val_loss: 0.2571 - val_acc: 0.8924\n",
      "Epoch 7/300\n",
      "1340/1340 [==============================] - 0s 302us/step - loss: 0.2652 - acc: 0.8828 - val_loss: 0.2462 - val_acc: 0.8955\n",
      "Epoch 8/300\n",
      "1340/1340 [==============================] - 0s 275us/step - loss: 0.2565 - acc: 0.8858 - val_loss: 0.2377 - val_acc: 0.8939\n",
      "Epoch 9/300\n",
      "1340/1340 [==============================] - 0s 207us/step - loss: 0.2483 - acc: 0.8888 - val_loss: 0.2308 - val_acc: 0.9000\n",
      "Epoch 10/300\n",
      "1340/1340 [==============================] - 0s 246us/step - loss: 0.2409 - acc: 0.8888 - val_loss: 0.2232 - val_acc: 0.9015\n",
      "Epoch 11/300\n",
      "1340/1340 [==============================] - 0s 210us/step - loss: 0.2347 - acc: 0.8910 - val_loss: 0.2196 - val_acc: 0.9045\n",
      "Epoch 12/300\n",
      "1340/1340 [==============================] - 0s 231us/step - loss: 0.2288 - acc: 0.8940 - val_loss: 0.2119 - val_acc: 0.9091\n",
      "Epoch 13/300\n",
      "1340/1340 [==============================] - 0s 234us/step - loss: 0.2233 - acc: 0.9007 - val_loss: 0.2074 - val_acc: 0.9106\n",
      "Epoch 14/300\n",
      "1340/1340 [==============================] - 0s 208us/step - loss: 0.2174 - acc: 0.8978 - val_loss: 0.2044 - val_acc: 0.9106\n",
      "Epoch 15/300\n",
      "1340/1340 [==============================] - 0s 206us/step - loss: 0.2118 - acc: 0.9037 - val_loss: 0.2025 - val_acc: 0.9045\n",
      "Epoch 16/300\n",
      "1340/1340 [==============================] - 0s 231us/step - loss: 0.2056 - acc: 0.9090 - val_loss: 0.1912 - val_acc: 0.9182\n",
      "Epoch 17/300\n",
      "1340/1340 [==============================] - 0s 216us/step - loss: 0.1986 - acc: 0.9104 - val_loss: 0.1853 - val_acc: 0.9182\n",
      "Epoch 18/300\n",
      "1340/1340 [==============================] - 0s 243us/step - loss: 0.1930 - acc: 0.9112 - val_loss: 0.1781 - val_acc: 0.9182\n",
      "Epoch 19/300\n",
      "1340/1340 [==============================] - 0s 240us/step - loss: 0.1856 - acc: 0.9194 - val_loss: 0.1815 - val_acc: 0.9182\n",
      "Epoch 20/300\n",
      "1340/1340 [==============================] - 0s 331us/step - loss: 0.1792 - acc: 0.9261 - val_loss: 0.1710 - val_acc: 0.9258\n",
      "Epoch 21/300\n",
      "1340/1340 [==============================] - 0s 254us/step - loss: 0.1723 - acc: 0.9246 - val_loss: 0.1573 - val_acc: 0.9318\n",
      "Epoch 22/300\n",
      "1340/1340 [==============================] - 0s 231us/step - loss: 0.1643 - acc: 0.9276 - val_loss: 0.1530 - val_acc: 0.9379\n",
      "Epoch 23/300\n",
      "1340/1340 [==============================] - 0s 196us/step - loss: 0.1577 - acc: 0.9313 - val_loss: 0.1451 - val_acc: 0.9394\n",
      "Epoch 24/300\n",
      "1340/1340 [==============================] - 0s 214us/step - loss: 0.1506 - acc: 0.9343 - val_loss: 0.1376 - val_acc: 0.9409\n",
      "Epoch 25/300\n",
      "1340/1340 [==============================] - 0s 219us/step - loss: 0.1423 - acc: 0.9396 - val_loss: 0.1272 - val_acc: 0.9455\n",
      "Epoch 26/300\n",
      "1340/1340 [==============================] - 0s 220us/step - loss: 0.1323 - acc: 0.9507 - val_loss: 0.1149 - val_acc: 0.9591\n",
      "Epoch 27/300\n",
      "1340/1340 [==============================] - 0s 207us/step - loss: 0.1218 - acc: 0.9582 - val_loss: 0.1059 - val_acc: 0.9636\n",
      "Epoch 28/300\n",
      "1340/1340 [==============================] - 0s 216us/step - loss: 0.1125 - acc: 0.9597 - val_loss: 0.0974 - val_acc: 0.9712\n",
      "Epoch 29/300\n",
      "1340/1340 [==============================] - 0s 231us/step - loss: 0.1042 - acc: 0.9642 - val_loss: 0.0912 - val_acc: 0.9727\n",
      "Epoch 30/300\n",
      "1340/1340 [==============================] - 0s 215us/step - loss: 0.0967 - acc: 0.9709 - val_loss: 0.0852 - val_acc: 0.9788\n",
      "Epoch 31/300\n",
      "1340/1340 [==============================] - 0s 206us/step - loss: 0.0889 - acc: 0.9746 - val_loss: 0.0749 - val_acc: 0.9773\n",
      "Epoch 32/300\n",
      "1340/1340 [==============================] - 0s 241us/step - loss: 0.0833 - acc: 0.9739 - val_loss: 0.0732 - val_acc: 0.9803\n",
      "Epoch 33/300\n",
      "1340/1340 [==============================] - 0s 227us/step - loss: 0.0783 - acc: 0.9754 - val_loss: 0.0684 - val_acc: 0.9818\n",
      "Epoch 34/300\n",
      "1340/1340 [==============================] - 0s 221us/step - loss: 0.0736 - acc: 0.9806 - val_loss: 0.0610 - val_acc: 0.9848\n",
      "Epoch 35/300\n",
      "1340/1340 [==============================] - 0s 209us/step - loss: 0.0683 - acc: 0.9821 - val_loss: 0.0553 - val_acc: 0.9848\n",
      "Epoch 36/300\n",
      "1340/1340 [==============================] - 0s 257us/step - loss: 0.0642 - acc: 0.9821 - val_loss: 0.0513 - val_acc: 0.9879\n",
      "Epoch 37/300\n",
      "1340/1340 [==============================] - 0s 238us/step - loss: 0.0603 - acc: 0.9836 - val_loss: 0.0497 - val_acc: 0.9879\n",
      "Epoch 38/300\n",
      "1340/1340 [==============================] - 0s 200us/step - loss: 0.0572 - acc: 0.9881 - val_loss: 0.0452 - val_acc: 0.9879\n",
      "Epoch 39/300\n",
      "1340/1340 [==============================] - 0s 237us/step - loss: 0.0536 - acc: 0.9858 - val_loss: 0.0427 - val_acc: 0.9894\n",
      "Epoch 40/300\n",
      "1340/1340 [==============================] - 0s 209us/step - loss: 0.0515 - acc: 0.9858 - val_loss: 0.0423 - val_acc: 0.9924\n",
      "Epoch 41/300\n",
      "1340/1340 [==============================] - 0s 223us/step - loss: 0.0492 - acc: 0.9888 - val_loss: 0.0386 - val_acc: 0.9939\n",
      "Epoch 42/300\n",
      "1340/1340 [==============================] - 0s 228us/step - loss: 0.0471 - acc: 0.9896 - val_loss: 0.0382 - val_acc: 0.9909\n",
      "Epoch 43/300\n",
      "1340/1340 [==============================] - 0s 200us/step - loss: 0.0453 - acc: 0.9903 - val_loss: 0.0349 - val_acc: 0.9955\n",
      "Epoch 44/300\n",
      "1340/1340 [==============================] - 0s 283us/step - loss: 0.0434 - acc: 0.9896 - val_loss: 0.0360 - val_acc: 0.9924\n",
      "Epoch 45/300\n",
      "1340/1340 [==============================] - 0s 244us/step - loss: 0.0421 - acc: 0.9910 - val_loss: 0.0330 - val_acc: 0.9955\n",
      "Epoch 46/300\n",
      "1340/1340 [==============================] - 0s 213us/step - loss: 0.0413 - acc: 0.9903 - val_loss: 0.0306 - val_acc: 0.9939\n",
      "Epoch 47/300\n",
      "1340/1340 [==============================] - 0s 242us/step - loss: 0.0395 - acc: 0.9910 - val_loss: 0.0308 - val_acc: 0.9924\n",
      "Epoch 48/300\n",
      "1340/1340 [==============================] - 0s 220us/step - loss: 0.0383 - acc: 0.9925 - val_loss: 0.0294 - val_acc: 0.9924\n",
      "Epoch 49/300\n",
      "1340/1340 [==============================] - 0s 198us/step - loss: 0.0372 - acc: 0.9918 - val_loss: 0.0275 - val_acc: 0.9924\n",
      "Epoch 50/300\n",
      "1340/1340 [==============================] - 0s 309us/step - loss: 0.0363 - acc: 0.9918 - val_loss: 0.0264 - val_acc: 0.9955\n",
      "Epoch 51/300\n",
      "1340/1340 [==============================] - 0s 353us/step - loss: 0.0359 - acc: 0.9910 - val_loss: 0.0256 - val_acc: 0.9924\n",
      "Epoch 52/300\n",
      "1340/1340 [==============================] - 0s 278us/step - loss: 0.0347 - acc: 0.9925 - val_loss: 0.0253 - val_acc: 0.9939\n",
      "Epoch 53/300\n",
      "1340/1340 [==============================] - 0s 322us/step - loss: 0.0337 - acc: 0.9918 - val_loss: 0.0249 - val_acc: 0.9924\n",
      "Epoch 54/300\n",
      "1340/1340 [==============================] - 0s 243us/step - loss: 0.0335 - acc: 0.9910 - val_loss: 0.0275 - val_acc: 0.9924\n",
      "Epoch 55/300\n",
      "1340/1340 [==============================] - 0s 263us/step - loss: 0.0330 - acc: 0.9910 - val_loss: 0.0237 - val_acc: 0.9939\n",
      "Epoch 56/300\n",
      "1340/1340 [==============================] - 0s 264us/step - loss: 0.0321 - acc: 0.9918 - val_loss: 0.0239 - val_acc: 0.9924\n",
      "Epoch 57/300\n",
      "1340/1340 [==============================] - 0s 307us/step - loss: 0.0318 - acc: 0.9918 - val_loss: 0.0232 - val_acc: 0.9939\n",
      "Epoch 58/300\n",
      "1340/1340 [==============================] - 0s 224us/step - loss: 0.0303 - acc: 0.9918 - val_loss: 0.0217 - val_acc: 0.9939\n",
      "Epoch 59/300\n",
      "1340/1340 [==============================] - 0s 272us/step - loss: 0.0310 - acc: 0.9903 - val_loss: 0.0217 - val_acc: 0.9939\n",
      "Epoch 60/300\n"
     ]
    },
    {
     "name": "stdout",
     "output_type": "stream",
     "text": [
      "1340/1340 [==============================] - 0s 284us/step - loss: 0.0302 - acc: 0.9918 - val_loss: 0.0252 - val_acc: 0.9924\n",
      "Epoch 61/300\n",
      "1340/1340 [==============================] - 0s 199us/step - loss: 0.0304 - acc: 0.9933 - val_loss: 0.0212 - val_acc: 0.9939\n",
      "Epoch 62/300\n",
      "1340/1340 [==============================] - 0s 266us/step - loss: 0.0291 - acc: 0.9925 - val_loss: 0.0202 - val_acc: 0.9924\n",
      "Epoch 63/300\n",
      "1340/1340 [==============================] - 0s 185us/step - loss: 0.0291 - acc: 0.9925 - val_loss: 0.0207 - val_acc: 0.9924\n",
      "Epoch 64/300\n",
      "1340/1340 [==============================] - 0s 210us/step - loss: 0.0290 - acc: 0.9925 - val_loss: 0.0212 - val_acc: 0.9924\n",
      "Epoch 65/300\n",
      "1340/1340 [==============================] - 0s 204us/step - loss: 0.0288 - acc: 0.9918 - val_loss: 0.0194 - val_acc: 0.9924\n",
      "Epoch 66/300\n",
      "1340/1340 [==============================] - 0s 222us/step - loss: 0.0284 - acc: 0.9910 - val_loss: 0.0201 - val_acc: 0.9924\n",
      "Epoch 67/300\n",
      "1340/1340 [==============================] - 0s 171us/step - loss: 0.0278 - acc: 0.9903 - val_loss: 0.0199 - val_acc: 0.9924\n",
      "Epoch 68/300\n",
      "1340/1340 [==============================] - 0s 195us/step - loss: 0.0280 - acc: 0.9925 - val_loss: 0.0199 - val_acc: 0.9939\n",
      "Epoch 69/300\n",
      "1340/1340 [==============================] - 0s 210us/step - loss: 0.0277 - acc: 0.9910 - val_loss: 0.0203 - val_acc: 0.9924\n",
      "Epoch 70/300\n",
      "1340/1340 [==============================] - 0s 191us/step - loss: 0.0269 - acc: 0.9918 - val_loss: 0.0184 - val_acc: 0.9924\n",
      "Epoch 71/300\n",
      "1340/1340 [==============================] - 0s 181us/step - loss: 0.0272 - acc: 0.9910 - val_loss: 0.0201 - val_acc: 0.9924\n",
      "Epoch 72/300\n",
      "1340/1340 [==============================] - 0s 190us/step - loss: 0.0269 - acc: 0.9918 - val_loss: 0.0203 - val_acc: 0.9924\n",
      "Epoch 73/300\n",
      "1340/1340 [==============================] - 0s 185us/step - loss: 0.0274 - acc: 0.9910 - val_loss: 0.0199 - val_acc: 0.9924\n",
      "Epoch 74/300\n",
      "1340/1340 [==============================] - 0s 190us/step - loss: 0.0265 - acc: 0.9925 - val_loss: 0.0179 - val_acc: 0.9939\n",
      "Epoch 75/300\n",
      "1340/1340 [==============================] - 0s 172us/step - loss: 0.0263 - acc: 0.9925 - val_loss: 0.0174 - val_acc: 0.9939\n",
      "Epoch 76/300\n",
      "1340/1340 [==============================] - 0s 184us/step - loss: 0.0272 - acc: 0.9903 - val_loss: 0.0186 - val_acc: 0.9939\n",
      "Epoch 77/300\n",
      "1340/1340 [==============================] - 0s 187us/step - loss: 0.0259 - acc: 0.9925 - val_loss: 0.0190 - val_acc: 0.9924\n",
      "Epoch 78/300\n",
      "1340/1340 [==============================] - 0s 191us/step - loss: 0.0260 - acc: 0.9910 - val_loss: 0.0182 - val_acc: 0.9924\n",
      "Epoch 79/300\n",
      "1340/1340 [==============================] - 0s 187us/step - loss: 0.0263 - acc: 0.9925 - val_loss: 0.0186 - val_acc: 0.9924\n",
      "Epoch 80/300\n",
      "1340/1340 [==============================] - 0s 202us/step - loss: 0.0259 - acc: 0.9918 - val_loss: 0.0181 - val_acc: 0.9924\n",
      "Epoch 81/300\n",
      "1340/1340 [==============================] - 0s 206us/step - loss: 0.0255 - acc: 0.9925 - val_loss: 0.0196 - val_acc: 0.9924\n",
      "Epoch 82/300\n",
      "1340/1340 [==============================] - 0s 206us/step - loss: 0.0257 - acc: 0.9910 - val_loss: 0.0181 - val_acc: 0.9924\n",
      "Epoch 83/300\n",
      "1340/1340 [==============================] - 0s 195us/step - loss: 0.0258 - acc: 0.9918 - val_loss: 0.0175 - val_acc: 0.9924\n",
      "Epoch 84/300\n",
      "1340/1340 [==============================] - 0s 199us/step - loss: 0.0252 - acc: 0.9910 - val_loss: 0.0166 - val_acc: 0.9924\n",
      "Epoch 85/300\n",
      "1340/1340 [==============================] - 0s 201us/step - loss: 0.0252 - acc: 0.9910 - val_loss: 0.0167 - val_acc: 0.9924\n",
      "Epoch 86/300\n",
      "1340/1340 [==============================] - 0s 196us/step - loss: 0.0249 - acc: 0.9918 - val_loss: 0.0167 - val_acc: 0.9924\n",
      "Epoch 87/300\n",
      "1340/1340 [==============================] - 0s 204us/step - loss: 0.0255 - acc: 0.9910 - val_loss: 0.0162 - val_acc: 0.9924\n",
      "Epoch 88/300\n",
      "1340/1340 [==============================] - 0s 195us/step - loss: 0.0252 - acc: 0.9910 - val_loss: 0.0160 - val_acc: 0.9924\n",
      "Epoch 89/300\n",
      "1340/1340 [==============================] - 0s 313us/step - loss: 0.0247 - acc: 0.9903 - val_loss: 0.0174 - val_acc: 0.9924\n",
      "Epoch 90/300\n",
      "1340/1340 [==============================] - 0s 240us/step - loss: 0.0250 - acc: 0.9933 - val_loss: 0.0162 - val_acc: 0.9924\n",
      "Epoch 91/300\n",
      "1340/1340 [==============================] - 0s 212us/step - loss: 0.0244 - acc: 0.9933 - val_loss: 0.0163 - val_acc: 0.9939\n",
      "Epoch 92/300\n",
      "1340/1340 [==============================] - 0s 287us/step - loss: 0.0251 - acc: 0.9910 - val_loss: 0.0160 - val_acc: 0.9939\n",
      "Epoch 93/300\n",
      "1340/1340 [==============================] - ETA: 0s - loss: 0.0241 - acc: 0.992 - 0s 325us/step - loss: 0.0248 - acc: 0.9910 - val_loss: 0.0159 - val_acc: 0.9924\n",
      "Epoch 94/300\n",
      "1340/1340 [==============================] - 0s 319us/step - loss: 0.0251 - acc: 0.9910 - val_loss: 0.0194 - val_acc: 0.9924\n",
      "Epoch 95/300\n",
      "1340/1340 [==============================] - 0s 317us/step - loss: 0.0245 - acc: 0.9918 - val_loss: 0.0171 - val_acc: 0.9924\n",
      "Epoch 96/300\n",
      "1340/1340 [==============================] - 0s 262us/step - loss: 0.0247 - acc: 0.9925 - val_loss: 0.0162 - val_acc: 0.9924\n",
      "Epoch 97/300\n",
      "1340/1340 [==============================] - 0s 244us/step - loss: 0.0246 - acc: 0.9903 - val_loss: 0.0161 - val_acc: 0.9924\n",
      "Epoch 98/300\n",
      "1340/1340 [==============================] - 0s 238us/step - loss: 0.0242 - acc: 0.9910 - val_loss: 0.0171 - val_acc: 0.9924\n",
      "Epoch 99/300\n",
      "1340/1340 [==============================] - 0s 296us/step - loss: 0.0240 - acc: 0.9910 - val_loss: 0.0169 - val_acc: 0.9924\n",
      "Epoch 100/300\n",
      "1340/1340 [==============================] - 0s 348us/step - loss: 0.0245 - acc: 0.9918 - val_loss: 0.0170 - val_acc: 0.9924\n",
      "Epoch 101/300\n",
      "1340/1340 [==============================] - 0s 240us/step - loss: 0.0245 - acc: 0.9918 - val_loss: 0.0170 - val_acc: 0.9909\n",
      "Epoch 102/300\n",
      "1340/1340 [==============================] - 0s 197us/step - loss: 0.0240 - acc: 0.9918 - val_loss: 0.0159 - val_acc: 0.9909\n",
      "Epoch 103/300\n",
      "1340/1340 [==============================] - 0s 197us/step - loss: 0.0245 - acc: 0.9910 - val_loss: 0.0162 - val_acc: 0.9924\n",
      "Epoch 104/300\n",
      "1340/1340 [==============================] - 0s 216us/step - loss: 0.0238 - acc: 0.9918 - val_loss: 0.0162 - val_acc: 0.9939\n",
      "Epoch 105/300\n",
      "1340/1340 [==============================] - 0s 197us/step - loss: 0.0239 - acc: 0.9910 - val_loss: 0.0159 - val_acc: 0.9909\n",
      "Epoch 106/300\n",
      "1340/1340 [==============================] - 0s 213us/step - loss: 0.0235 - acc: 0.9918 - val_loss: 0.0184 - val_acc: 0.9909\n",
      "Epoch 107/300\n",
      "1340/1340 [==============================] - 0s 288us/step - loss: 0.0237 - acc: 0.9940 - val_loss: 0.0154 - val_acc: 0.9924\n",
      "Epoch 108/300\n",
      "1340/1340 [==============================] - 1s 377us/step - loss: 0.0241 - acc: 0.9925 - val_loss: 0.0163 - val_acc: 0.9909\n",
      "Epoch 109/300\n",
      "1340/1340 [==============================] - 0s 253us/step - loss: 0.0230 - acc: 0.9925 - val_loss: 0.0152 - val_acc: 0.9939\n",
      "Epoch 110/300\n",
      "1340/1340 [==============================] - 0s 204us/step - loss: 0.0251 - acc: 0.9910 - val_loss: 0.0159 - val_acc: 0.9924\n",
      "Epoch 111/300\n",
      "1340/1340 [==============================] - 0s 255us/step - loss: 0.0243 - acc: 0.9910 - val_loss: 0.0172 - val_acc: 0.9909\n",
      "Epoch 112/300\n",
      "1340/1340 [==============================] - 0s 225us/step - loss: 0.0240 - acc: 0.9925 - val_loss: 0.0171 - val_acc: 0.9924\n",
      "Epoch 113/300\n",
      "1340/1340 [==============================] - 0s 293us/step - loss: 0.0243 - acc: 0.9918 - val_loss: 0.0177 - val_acc: 0.9924\n",
      "Epoch 114/300\n",
      "1340/1340 [==============================] - 0s 240us/step - loss: 0.0238 - acc: 0.9903 - val_loss: 0.0187 - val_acc: 0.9924\n",
      "Epoch 115/300\n",
      "1340/1340 [==============================] - 0s 193us/step - loss: 0.0232 - acc: 0.9933 - val_loss: 0.0167 - val_acc: 0.9924\n",
      "Epoch 116/300\n",
      "1340/1340 [==============================] - 0s 275us/step - loss: 0.0238 - acc: 0.9918 - val_loss: 0.0162 - val_acc: 0.9909\n",
      "Epoch 117/300\n",
      "1340/1340 [==============================] - 0s 327us/step - loss: 0.0234 - acc: 0.9910 - val_loss: 0.0154 - val_acc: 0.9909\n",
      "Epoch 118/300\n",
      "1340/1340 [==============================] - 0s 251us/step - loss: 0.0239 - acc: 0.9910 - val_loss: 0.0171 - val_acc: 0.9909\n",
      "Epoch 119/300\n"
     ]
    },
    {
     "name": "stdout",
     "output_type": "stream",
     "text": [
      "1340/1340 [==============================] - 0s 223us/step - loss: 0.0236 - acc: 0.9918 - val_loss: 0.0169 - val_acc: 0.9909\n",
      "Epoch 120/300\n",
      "1340/1340 [==============================] - 0s 196us/step - loss: 0.0231 - acc: 0.9918 - val_loss: 0.0176 - val_acc: 0.9909\n",
      "Epoch 121/300\n",
      "1340/1340 [==============================] - 0s 188us/step - loss: 0.0227 - acc: 0.9925 - val_loss: 0.0185 - val_acc: 0.9909\n",
      "Epoch 122/300\n",
      "1340/1340 [==============================] - 0s 202us/step - loss: 0.0236 - acc: 0.9925 - val_loss: 0.0169 - val_acc: 0.9924\n",
      "Epoch 123/300\n",
      "1340/1340 [==============================] - 0s 204us/step - loss: 0.0232 - acc: 0.9910 - val_loss: 0.0152 - val_acc: 0.9939\n",
      "Epoch 124/300\n",
      "1340/1340 [==============================] - 0s 195us/step - loss: 0.0232 - acc: 0.9925 - val_loss: 0.0165 - val_acc: 0.9924\n",
      "Epoch 125/300\n",
      "1340/1340 [==============================] - 0s 210us/step - loss: 0.0230 - acc: 0.9918 - val_loss: 0.0164 - val_acc: 0.9939\n",
      "Epoch 126/300\n",
      "1340/1340 [==============================] - 0s 207us/step - loss: 0.0234 - acc: 0.9918 - val_loss: 0.0171 - val_acc: 0.9909\n",
      "Epoch 127/300\n",
      "1340/1340 [==============================] - 0s 210us/step - loss: 0.0231 - acc: 0.9933 - val_loss: 0.0159 - val_acc: 0.9939\n",
      "Epoch 128/300\n",
      "1340/1340 [==============================] - 0s 196us/step - loss: 0.0240 - acc: 0.9918 - val_loss: 0.0156 - val_acc: 0.9924\n",
      "Epoch 129/300\n",
      "1340/1340 [==============================] - 0s 298us/step - loss: 0.0228 - acc: 0.9918 - val_loss: 0.0157 - val_acc: 0.9909\n",
      "Epoch 130/300\n",
      "1340/1340 [==============================] - 0s 276us/step - loss: 0.0230 - acc: 0.9903 - val_loss: 0.0160 - val_acc: 0.9924\n",
      "Epoch 131/300\n",
      "1340/1340 [==============================] - 0s 266us/step - loss: 0.0229 - acc: 0.9903 - val_loss: 0.0171 - val_acc: 0.9909\n",
      "Epoch 132/300\n",
      "1340/1340 [==============================] - 0s 331us/step - loss: 0.0232 - acc: 0.9918 - val_loss: 0.0159 - val_acc: 0.9909\n",
      "Epoch 133/300\n",
      "1340/1340 [==============================] - 0s 243us/step - loss: 0.0225 - acc: 0.9925 - val_loss: 0.0151 - val_acc: 0.9909\n",
      "Epoch 134/300\n",
      "1340/1340 [==============================] - 0s 350us/step - loss: 0.0228 - acc: 0.9910 - val_loss: 0.0165 - val_acc: 0.9909\n",
      "Epoch 135/300\n",
      "1340/1340 [==============================] - 0s 249us/step - loss: 0.0231 - acc: 0.9918 - val_loss: 0.0184 - val_acc: 0.9909\n",
      "Epoch 136/300\n",
      "1340/1340 [==============================] - 1s 378us/step - loss: 0.0228 - acc: 0.9918 - val_loss: 0.0161 - val_acc: 0.9909\n",
      "Epoch 137/300\n",
      "1340/1340 [==============================] - 0s 236us/step - loss: 0.0228 - acc: 0.9925 - val_loss: 0.0167 - val_acc: 0.9924\n",
      "Epoch 138/300\n",
      "1340/1340 [==============================] - 0s 318us/step - loss: 0.0226 - acc: 0.9910 - val_loss: 0.0171 - val_acc: 0.9909\n",
      "Epoch 139/300\n",
      "1340/1340 [==============================] - 0s 275us/step - loss: 0.0226 - acc: 0.9925 - val_loss: 0.0148 - val_acc: 0.9924\n",
      "Epoch 140/300\n",
      "1340/1340 [==============================] - 0s 211us/step - loss: 0.0223 - acc: 0.9903 - val_loss: 0.0177 - val_acc: 0.9909\n",
      "Epoch 141/300\n",
      "1340/1340 [==============================] - 0s 240us/step - loss: 0.0224 - acc: 0.9925 - val_loss: 0.0158 - val_acc: 0.9909\n",
      "Epoch 142/300\n",
      "1340/1340 [==============================] - 0s 225us/step - loss: 0.0219 - acc: 0.9918 - val_loss: 0.0149 - val_acc: 0.9939\n",
      "Epoch 143/300\n",
      "1340/1340 [==============================] - 0s 254us/step - loss: 0.0226 - acc: 0.9918 - val_loss: 0.0154 - val_acc: 0.9924\n",
      "Epoch 144/300\n",
      "1340/1340 [==============================] - 0s 239us/step - loss: 0.0224 - acc: 0.9918 - val_loss: 0.0178 - val_acc: 0.9909\n",
      "Epoch 145/300\n",
      "1340/1340 [==============================] - 0s 234us/step - loss: 0.0223 - acc: 0.9918 - val_loss: 0.0165 - val_acc: 0.9909\n",
      "Epoch 146/300\n",
      "1340/1340 [==============================] - 0s 207us/step - loss: 0.0222 - acc: 0.9918 - val_loss: 0.0156 - val_acc: 0.9924\n",
      "Epoch 147/300\n",
      "1340/1340 [==============================] - 0s 240us/step - loss: 0.0223 - acc: 0.9918 - val_loss: 0.0152 - val_acc: 0.9909\n",
      "Epoch 148/300\n",
      "1340/1340 [==============================] - 0s 229us/step - loss: 0.0229 - acc: 0.9918 - val_loss: 0.0162 - val_acc: 0.9924\n",
      "Epoch 149/300\n",
      "1340/1340 [==============================] - 0s 234us/step - loss: 0.0217 - acc: 0.9918 - val_loss: 0.0157 - val_acc: 0.9939\n",
      "Epoch 150/300\n",
      "1340/1340 [==============================] - 0s 211us/step - loss: 0.0229 - acc: 0.9918 - val_loss: 0.0171 - val_acc: 0.9924\n",
      "Epoch 151/300\n",
      "1340/1340 [==============================] - 0s 280us/step - loss: 0.0223 - acc: 0.9933 - val_loss: 0.0158 - val_acc: 0.9909\n",
      "Epoch 152/300\n",
      "1340/1340 [==============================] - 0s 228us/step - loss: 0.0229 - acc: 0.9925 - val_loss: 0.0156 - val_acc: 0.9909\n",
      "Epoch 153/300\n",
      "1340/1340 [==============================] - 0s 313us/step - loss: 0.0213 - acc: 0.9933 - val_loss: 0.0151 - val_acc: 0.9939\n",
      "Epoch 154/300\n",
      "1340/1340 [==============================] - 0s 234us/step - loss: 0.0226 - acc: 0.9918 - val_loss: 0.0156 - val_acc: 0.9939\n",
      "Epoch 155/300\n",
      "1340/1340 [==============================] - 0s 249us/step - loss: 0.0233 - acc: 0.9903 - val_loss: 0.0165 - val_acc: 0.9924\n",
      "Epoch 156/300\n",
      "1340/1340 [==============================] - 0s 277us/step - loss: 0.0220 - acc: 0.9925 - val_loss: 0.0166 - val_acc: 0.9909\n",
      "Epoch 157/300\n",
      "1340/1340 [==============================] - 0s 275us/step - loss: 0.0216 - acc: 0.9933 - val_loss: 0.0162 - val_acc: 0.9909\n",
      "Epoch 158/300\n",
      "1340/1340 [==============================] - 0s 249us/step - loss: 0.0214 - acc: 0.9918 - val_loss: 0.0157 - val_acc: 0.9939\n",
      "Epoch 159/300\n",
      "1340/1340 [==============================] - 0s 245us/step - loss: 0.0221 - acc: 0.9910 - val_loss: 0.0152 - val_acc: 0.9909\n",
      "Epoch 160/300\n",
      "1340/1340 [==============================] - 0s 248us/step - loss: 0.0216 - acc: 0.9918 - val_loss: 0.0168 - val_acc: 0.9909\n",
      "Epoch 161/300\n",
      "1340/1340 [==============================] - 0s 278us/step - loss: 0.0217 - acc: 0.9925 - val_loss: 0.0170 - val_acc: 0.9909\n",
      "Epoch 162/300\n",
      "1340/1340 [==============================] - 0s 230us/step - loss: 0.0214 - acc: 0.9918 - val_loss: 0.0172 - val_acc: 0.9924\n",
      "Epoch 163/300\n",
      "1340/1340 [==============================] - 0s 252us/step - loss: 0.0214 - acc: 0.9918 - val_loss: 0.0161 - val_acc: 0.9924\n",
      "Epoch 164/300\n",
      "1340/1340 [==============================] - 0s 241us/step - loss: 0.0217 - acc: 0.9910 - val_loss: 0.0184 - val_acc: 0.9924\n",
      "Epoch 165/300\n",
      "1340/1340 [==============================] - 0s 243us/step - loss: 0.0225 - acc: 0.9918 - val_loss: 0.0193 - val_acc: 0.9909\n",
      "Epoch 166/300\n",
      "1340/1340 [==============================] - 0s 240us/step - loss: 0.0219 - acc: 0.9940 - val_loss: 0.0202 - val_acc: 0.9909\n",
      "Epoch 167/300\n",
      "1340/1340 [==============================] - 0s 241us/step - loss: 0.0213 - acc: 0.9925 - val_loss: 0.0161 - val_acc: 0.9909\n",
      "Epoch 168/300\n",
      "1340/1340 [==============================] - 0s 249us/step - loss: 0.0218 - acc: 0.9918 - val_loss: 0.0163 - val_acc: 0.9909\n",
      "Epoch 169/300\n",
      "1340/1340 [==============================] - 0s 245us/step - loss: 0.0216 - acc: 0.9918 - val_loss: 0.0170 - val_acc: 0.9909\n",
      "Epoch 170/300\n",
      "1340/1340 [==============================] - 0s 234us/step - loss: 0.0214 - acc: 0.9918 - val_loss: 0.0164 - val_acc: 0.9909\n",
      "Epoch 171/300\n",
      "1340/1340 [==============================] - 0s 246us/step - loss: 0.0210 - acc: 0.9918 - val_loss: 0.0153 - val_acc: 0.9909\n",
      "Epoch 172/300\n",
      "1340/1340 [==============================] - 0s 254us/step - loss: 0.0218 - acc: 0.9918 - val_loss: 0.0155 - val_acc: 0.9909\n",
      "Epoch 173/300\n",
      "1340/1340 [==============================] - 0s 268us/step - loss: 0.0212 - acc: 0.9925 - val_loss: 0.0169 - val_acc: 0.9924\n",
      "Epoch 174/300\n",
      "1340/1340 [==============================] - 0s 258us/step - loss: 0.0217 - acc: 0.9910 - val_loss: 0.0167 - val_acc: 0.9909\n",
      "Epoch 175/300\n",
      "1340/1340 [==============================] - 0s 246us/step - loss: 0.0208 - acc: 0.9918 - val_loss: 0.0155 - val_acc: 0.9939\n",
      "Epoch 176/300\n",
      "1340/1340 [==============================] - 0s 252us/step - loss: 0.0213 - acc: 0.9918 - val_loss: 0.0170 - val_acc: 0.9924\n",
      "Epoch 177/300\n",
      "1340/1340 [==============================] - 0s 240us/step - loss: 0.0215 - acc: 0.9910 - val_loss: 0.0165 - val_acc: 0.9939\n",
      "Epoch 178/300\n"
     ]
    },
    {
     "name": "stdout",
     "output_type": "stream",
     "text": [
      "1340/1340 [==============================] - 0s 207us/step - loss: 0.0206 - acc: 0.9918 - val_loss: 0.0191 - val_acc: 0.9909\n",
      "Epoch 179/300\n",
      "1340/1340 [==============================] - 0s 181us/step - loss: 0.0212 - acc: 0.9940 - val_loss: 0.0160 - val_acc: 0.9924\n",
      "Epoch 180/300\n",
      "1340/1340 [==============================] - 0s 190us/step - loss: 0.0212 - acc: 0.9925 - val_loss: 0.0164 - val_acc: 0.9939\n",
      "Epoch 181/300\n",
      "1340/1340 [==============================] - 0s 184us/step - loss: 0.0208 - acc: 0.9910 - val_loss: 0.0160 - val_acc: 0.9939\n",
      "Epoch 182/300\n",
      "1340/1340 [==============================] - 0s 190us/step - loss: 0.0218 - acc: 0.9925 - val_loss: 0.0162 - val_acc: 0.9909\n",
      "Epoch 183/300\n",
      "1340/1340 [==============================] - 0s 170us/step - loss: 0.0214 - acc: 0.9918 - val_loss: 0.0167 - val_acc: 0.9909\n",
      "Epoch 184/300\n",
      "1340/1340 [==============================] - 0s 196us/step - loss: 0.0209 - acc: 0.9918 - val_loss: 0.0158 - val_acc: 0.9909\n",
      "Epoch 185/300\n",
      "1340/1340 [==============================] - 0s 193us/step - loss: 0.0212 - acc: 0.9918 - val_loss: 0.0164 - val_acc: 0.9909\n",
      "Epoch 186/300\n",
      "1340/1340 [==============================] - 0s 189us/step - loss: 0.0211 - acc: 0.9933 - val_loss: 0.0178 - val_acc: 0.9909\n",
      "Epoch 187/300\n",
      "1340/1340 [==============================] - 0s 187us/step - loss: 0.0205 - acc: 0.9925 - val_loss: 0.0156 - val_acc: 0.9939\n",
      "Epoch 188/300\n",
      "1340/1340 [==============================] - 0s 189us/step - loss: 0.0214 - acc: 0.9933 - val_loss: 0.0159 - val_acc: 0.9909\n",
      "Epoch 189/300\n",
      "1340/1340 [==============================] - 0s 189us/step - loss: 0.0212 - acc: 0.9925 - val_loss: 0.0169 - val_acc: 0.9909\n",
      "Epoch 190/300\n",
      "1340/1340 [==============================] - 0s 188us/step - loss: 0.0213 - acc: 0.9918 - val_loss: 0.0171 - val_acc: 0.9909\n",
      "Epoch 191/300\n",
      "1340/1340 [==============================] - 0s 234us/step - loss: 0.0209 - acc: 0.9918 - val_loss: 0.0180 - val_acc: 0.9909\n",
      "Epoch 192/300\n",
      "1340/1340 [==============================] - 0s 284us/step - loss: 0.0212 - acc: 0.9925 - val_loss: 0.0198 - val_acc: 0.9909\n",
      "Epoch 193/300\n",
      "1340/1340 [==============================] - 0s 187us/step - loss: 0.0210 - acc: 0.9925 - val_loss: 0.0161 - val_acc: 0.9909\n",
      "Epoch 194/300\n",
      "1340/1340 [==============================] - 0s 190us/step - loss: 0.0209 - acc: 0.9918 - val_loss: 0.0166 - val_acc: 0.9909\n",
      "Epoch 195/300\n",
      "1340/1340 [==============================] - 0s 193us/step - loss: 0.0212 - acc: 0.9918 - val_loss: 0.0162 - val_acc: 0.9909\n",
      "Epoch 196/300\n",
      "1340/1340 [==============================] - 0s 194us/step - loss: 0.0214 - acc: 0.9918 - val_loss: 0.0157 - val_acc: 0.9924\n",
      "Epoch 197/300\n",
      "1340/1340 [==============================] - 0s 185us/step - loss: 0.0210 - acc: 0.9918 - val_loss: 0.0173 - val_acc: 0.9909\n",
      "Epoch 198/300\n",
      "1340/1340 [==============================] - 0s 191us/step - loss: 0.0209 - acc: 0.9925 - val_loss: 0.0171 - val_acc: 0.9924\n",
      "Epoch 199/300\n",
      "1340/1340 [==============================] - 0s 190us/step - loss: 0.0213 - acc: 0.9925 - val_loss: 0.0168 - val_acc: 0.9909\n",
      "Epoch 200/300\n",
      "1340/1340 [==============================] - 0s 184us/step - loss: 0.0210 - acc: 0.9918 - val_loss: 0.0174 - val_acc: 0.9939\n",
      "Epoch 201/300\n",
      "1340/1340 [==============================] - 0s 189us/step - loss: 0.0209 - acc: 0.9918 - val_loss: 0.0169 - val_acc: 0.9909\n",
      "Epoch 202/300\n",
      "1340/1340 [==============================] - 0s 214us/step - loss: 0.0212 - acc: 0.9925 - val_loss: 0.0185 - val_acc: 0.9924\n",
      "Epoch 203/300\n",
      "1340/1340 [==============================] - 0s 184us/step - loss: 0.0205 - acc: 0.9940 - val_loss: 0.0154 - val_acc: 0.9939\n",
      "Epoch 204/300\n",
      "1340/1340 [==============================] - 0s 187us/step - loss: 0.0208 - acc: 0.9910 - val_loss: 0.0173 - val_acc: 0.9939\n",
      "Epoch 205/300\n",
      "1340/1340 [==============================] - 0s 196us/step - loss: 0.0213 - acc: 0.9910 - val_loss: 0.0159 - val_acc: 0.9939\n",
      "Epoch 206/300\n",
      "1340/1340 [==============================] - 0s 195us/step - loss: 0.0211 - acc: 0.9940 - val_loss: 0.0162 - val_acc: 0.9909\n",
      "Epoch 207/300\n",
      "1340/1340 [==============================] - 0s 193us/step - loss: 0.0214 - acc: 0.9933 - val_loss: 0.0182 - val_acc: 0.9909\n",
      "Epoch 208/300\n",
      "1340/1340 [==============================] - 0s 188us/step - loss: 0.0213 - acc: 0.9933 - val_loss: 0.0186 - val_acc: 0.9924\n",
      "Epoch 209/300\n",
      "1340/1340 [==============================] - 0s 201us/step - loss: 0.0206 - acc: 0.9918 - val_loss: 0.0163 - val_acc: 0.9924\n",
      "Epoch 210/300\n",
      "1340/1340 [==============================] - 0s 197us/step - loss: 0.0206 - acc: 0.9918 - val_loss: 0.0184 - val_acc: 0.9909\n",
      "Epoch 211/300\n",
      "1340/1340 [==============================] - 0s 190us/step - loss: 0.0212 - acc: 0.9918 - val_loss: 0.0171 - val_acc: 0.9924\n",
      "Epoch 212/300\n",
      "1340/1340 [==============================] - 0s 199us/step - loss: 0.0207 - acc: 0.9925 - val_loss: 0.0185 - val_acc: 0.9909\n",
      "Epoch 213/300\n",
      "1340/1340 [==============================] - 0s 186us/step - loss: 0.0210 - acc: 0.9918 - val_loss: 0.0174 - val_acc: 0.9924\n",
      "Epoch 214/300\n",
      "1340/1340 [==============================] - 0s 208us/step - loss: 0.0206 - acc: 0.9896 - val_loss: 0.0184 - val_acc: 0.9909\n",
      "Epoch 215/300\n",
      "1340/1340 [==============================] - 0s 200us/step - loss: 0.0210 - acc: 0.9925 - val_loss: 0.0171 - val_acc: 0.9924\n",
      "Epoch 216/300\n",
      "1340/1340 [==============================] - 0s 190us/step - loss: 0.0199 - acc: 0.9933 - val_loss: 0.0203 - val_acc: 0.9909\n",
      "Epoch 217/300\n",
      "1340/1340 [==============================] - 0s 197us/step - loss: 0.0219 - acc: 0.9933 - val_loss: 0.0176 - val_acc: 0.9909\n",
      "Epoch 218/300\n",
      "1340/1340 [==============================] - 0s 202us/step - loss: 0.0208 - acc: 0.9925 - val_loss: 0.0164 - val_acc: 0.9909\n",
      "Epoch 219/300\n",
      "1340/1340 [==============================] - 0s 189us/step - loss: 0.0204 - acc: 0.9933 - val_loss: 0.0156 - val_acc: 0.9955\n",
      "Epoch 220/300\n",
      "1340/1340 [==============================] - 0s 211us/step - loss: 0.0211 - acc: 0.9918 - val_loss: 0.0172 - val_acc: 0.9924\n",
      "Epoch 221/300\n",
      "1340/1340 [==============================] - 0s 199us/step - loss: 0.0205 - acc: 0.9933 - val_loss: 0.0171 - val_acc: 0.9909\n",
      "Epoch 222/300\n",
      "1340/1340 [==============================] - 0s 200us/step - loss: 0.0212 - acc: 0.9910 - val_loss: 0.0171 - val_acc: 0.9909\n",
      "Epoch 223/300\n",
      "1340/1340 [==============================] - 0s 195us/step - loss: 0.0207 - acc: 0.9925 - val_loss: 0.0170 - val_acc: 0.9909\n",
      "Epoch 224/300\n",
      "1340/1340 [==============================] - 0s 210us/step - loss: 0.0210 - acc: 0.9925 - val_loss: 0.0168 - val_acc: 0.9939\n",
      "Epoch 225/300\n",
      "1340/1340 [==============================] - 0s 245us/step - loss: 0.0208 - acc: 0.9933 - val_loss: 0.0151 - val_acc: 0.9924\n",
      "Epoch 226/300\n",
      "1340/1340 [==============================] - 0s 202us/step - loss: 0.0210 - acc: 0.9918 - val_loss: 0.0162 - val_acc: 0.9939\n",
      "Epoch 227/300\n",
      "1340/1340 [==============================] - 0s 266us/step - loss: 0.0210 - acc: 0.9933 - val_loss: 0.0154 - val_acc: 0.9955\n",
      "Epoch 228/300\n",
      "1340/1340 [==============================] - 0s 229us/step - loss: 0.0213 - acc: 0.9910 - val_loss: 0.0169 - val_acc: 0.9909\n",
      "Epoch 229/300\n",
      "1340/1340 [==============================] - 0s 207us/step - loss: 0.0205 - acc: 0.9925 - val_loss: 0.0164 - val_acc: 0.9909\n",
      "Epoch 230/300\n",
      "1340/1340 [==============================] - 0s 236us/step - loss: 0.0207 - acc: 0.9925 - val_loss: 0.0178 - val_acc: 0.9909\n",
      "Epoch 231/300\n",
      "1340/1340 [==============================] - 0s 210us/step - loss: 0.0206 - acc: 0.9903 - val_loss: 0.0155 - val_acc: 0.9924\n",
      "Epoch 232/300\n",
      "1340/1340 [==============================] - 0s 225us/step - loss: 0.0211 - acc: 0.9918 - val_loss: 0.0171 - val_acc: 0.9939\n",
      "Epoch 233/300\n",
      "1340/1340 [==============================] - 0s 234us/step - loss: 0.0213 - acc: 0.9925 - val_loss: 0.0175 - val_acc: 0.9909\n",
      "Epoch 234/300\n",
      "1340/1340 [==============================] - 0s 212us/step - loss: 0.0214 - acc: 0.9948 - val_loss: 0.0167 - val_acc: 0.9909\n",
      "Epoch 235/300\n",
      "1340/1340 [==============================] - 0s 250us/step - loss: 0.0207 - acc: 0.9933 - val_loss: 0.0171 - val_acc: 0.9924\n",
      "Epoch 236/300\n",
      "1340/1340 [==============================] - 0s 234us/step - loss: 0.0208 - acc: 0.9918 - val_loss: 0.0196 - val_acc: 0.9924\n",
      "Epoch 237/300\n"
     ]
    },
    {
     "name": "stdout",
     "output_type": "stream",
     "text": [
      "1340/1340 [==============================] - 0s 203us/step - loss: 0.0202 - acc: 0.9933 - val_loss: 0.0162 - val_acc: 0.9955\n",
      "Epoch 238/300\n",
      "1340/1340 [==============================] - 0s 194us/step - loss: 0.0202 - acc: 0.9910 - val_loss: 0.0181 - val_acc: 0.9909\n",
      "Epoch 239/300\n",
      "1340/1340 [==============================] - 0s 199us/step - loss: 0.0203 - acc: 0.9925 - val_loss: 0.0181 - val_acc: 0.9909\n",
      "Epoch 240/300\n",
      "1340/1340 [==============================] - 0s 196us/step - loss: 0.0208 - acc: 0.9933 - val_loss: 0.0159 - val_acc: 0.9939\n",
      "Epoch 241/300\n",
      "1340/1340 [==============================] - 0s 187us/step - loss: 0.0202 - acc: 0.9933 - val_loss: 0.0149 - val_acc: 0.9939\n",
      "Epoch 242/300\n",
      "1340/1340 [==============================] - 0s 199us/step - loss: 0.0225 - acc: 0.9918 - val_loss: 0.0177 - val_acc: 0.9924\n",
      "Epoch 243/300\n",
      "1340/1340 [==============================] - 0s 202us/step - loss: 0.0210 - acc: 0.9925 - val_loss: 0.0187 - val_acc: 0.9909\n",
      "Epoch 244/300\n",
      "1340/1340 [==============================] - 0s 187us/step - loss: 0.0204 - acc: 0.9918 - val_loss: 0.0151 - val_acc: 0.9939\n",
      "Epoch 245/300\n",
      "1340/1340 [==============================] - 0s 219us/step - loss: 0.0210 - acc: 0.9910 - val_loss: 0.0176 - val_acc: 0.9909\n",
      "Epoch 246/300\n",
      "1340/1340 [==============================] - 0s 210us/step - loss: 0.0204 - acc: 0.9933 - val_loss: 0.0171 - val_acc: 0.9909\n",
      "Epoch 247/300\n",
      "1340/1340 [==============================] - 0s 204us/step - loss: 0.0206 - acc: 0.9925 - val_loss: 0.0178 - val_acc: 0.9909\n",
      "Epoch 248/300\n",
      "1340/1340 [==============================] - 0s 181us/step - loss: 0.0207 - acc: 0.9918 - val_loss: 0.0161 - val_acc: 0.9955\n",
      "Epoch 249/300\n",
      "1340/1340 [==============================] - 0s 193us/step - loss: 0.0207 - acc: 0.9933 - val_loss: 0.0169 - val_acc: 0.9939\n",
      "Epoch 250/300\n",
      "1340/1340 [==============================] - 0s 358us/step - loss: 0.0202 - acc: 0.9940 - val_loss: 0.0166 - val_acc: 0.9939\n",
      "Epoch 251/300\n",
      "1340/1340 [==============================] - 0s 315us/step - loss: 0.0209 - acc: 0.9903 - val_loss: 0.0166 - val_acc: 0.9939\n",
      "Epoch 252/300\n",
      "1340/1340 [==============================] - 0s 249us/step - loss: 0.0205 - acc: 0.9925 - val_loss: 0.0177 - val_acc: 0.9909\n",
      "Epoch 253/300\n",
      "1340/1340 [==============================] - 0s 354us/step - loss: 0.0211 - acc: 0.9925 - val_loss: 0.0185 - val_acc: 0.9909\n",
      "Epoch 254/300\n",
      "1340/1340 [==============================] - 0s 276us/step - loss: 0.0214 - acc: 0.9918 - val_loss: 0.0167 - val_acc: 0.9924\n",
      "Epoch 255/300\n",
      "1340/1340 [==============================] - 0s 245us/step - loss: 0.0205 - acc: 0.9933 - val_loss: 0.0169 - val_acc: 0.9909\n",
      "Epoch 256/300\n",
      "1340/1340 [==============================] - 0s 198us/step - loss: 0.0210 - acc: 0.9918 - val_loss: 0.0169 - val_acc: 0.9909\n",
      "Epoch 257/300\n",
      "1340/1340 [==============================] - 0s 187us/step - loss: 0.0206 - acc: 0.9933 - val_loss: 0.0190 - val_acc: 0.9909\n",
      "Epoch 258/300\n",
      "1340/1340 [==============================] - 0s 197us/step - loss: 0.0205 - acc: 0.9925 - val_loss: 0.0169 - val_acc: 0.9909\n",
      "Epoch 259/300\n",
      "1340/1340 [==============================] - ETA: 0s - loss: 0.0199 - acc: 0.9943 - 0s 213us/step - loss: 0.0206 - acc: 0.9933 - val_loss: 0.0152 - val_acc: 0.9939\n",
      "Epoch 260/300\n",
      "1340/1340 [==============================] - 0s 216us/step - loss: 0.0208 - acc: 0.9925 - val_loss: 0.0181 - val_acc: 0.9909\n",
      "Epoch 261/300\n",
      "1340/1340 [==============================] - 0s 186us/step - loss: 0.0206 - acc: 0.9933 - val_loss: 0.0178 - val_acc: 0.9909\n",
      "Epoch 262/300\n",
      "1340/1340 [==============================] - 0s 202us/step - loss: 0.0202 - acc: 0.9925 - val_loss: 0.0165 - val_acc: 0.9924\n",
      "Epoch 263/300\n",
      "1340/1340 [==============================] - 0s 197us/step - loss: 0.0209 - acc: 0.9918 - val_loss: 0.0156 - val_acc: 0.9924\n",
      "Epoch 264/300\n",
      "1340/1340 [==============================] - 0s 190us/step - loss: 0.0201 - acc: 0.9918 - val_loss: 0.0184 - val_acc: 0.9909\n",
      "Epoch 265/300\n",
      "1340/1340 [==============================] - 0s 199us/step - loss: 0.0210 - acc: 0.9940 - val_loss: 0.0163 - val_acc: 0.9939\n",
      "Epoch 266/300\n",
      "1340/1340 [==============================] - 0s 189us/step - loss: 0.0203 - acc: 0.9933 - val_loss: 0.0171 - val_acc: 0.9909\n",
      "Epoch 267/300\n",
      "1340/1340 [==============================] - 0s 196us/step - loss: 0.0210 - acc: 0.9925 - val_loss: 0.0174 - val_acc: 0.9909\n",
      "Epoch 268/300\n",
      "1340/1340 [==============================] - 0s 193us/step - loss: 0.0201 - acc: 0.9925 - val_loss: 0.0176 - val_acc: 0.9909\n",
      "Epoch 269/300\n",
      "1340/1340 [==============================] - 0s 200us/step - loss: 0.0209 - acc: 0.9918 - val_loss: 0.0196 - val_acc: 0.9924\n",
      "Epoch 270/300\n",
      "1340/1340 [==============================] - 0s 202us/step - loss: 0.0211 - acc: 0.9925 - val_loss: 0.0179 - val_acc: 0.9909\n",
      "Epoch 271/300\n",
      "1340/1340 [==============================] - 0s 199us/step - loss: 0.0201 - acc: 0.9925 - val_loss: 0.0188 - val_acc: 0.9909\n",
      "Epoch 272/300\n",
      "1340/1340 [==============================] - 0s 202us/step - loss: 0.0207 - acc: 0.9918 - val_loss: 0.0178 - val_acc: 0.9909\n",
      "Epoch 273/300\n",
      "1340/1340 [==============================] - 0s 199us/step - loss: 0.0206 - acc: 0.9918 - val_loss: 0.0174 - val_acc: 0.9955\n",
      "Epoch 274/300\n",
      "1340/1340 [==============================] - 0s 197us/step - loss: 0.0206 - acc: 0.9925 - val_loss: 0.0174 - val_acc: 0.9909\n",
      "Epoch 275/300\n",
      "1340/1340 [==============================] - 0s 201us/step - loss: 0.0206 - acc: 0.9925 - val_loss: 0.0166 - val_acc: 0.9939\n",
      "Epoch 276/300\n",
      "1340/1340 [==============================] - 0s 212us/step - loss: 0.0207 - acc: 0.9918 - val_loss: 0.0178 - val_acc: 0.9939\n",
      "Epoch 277/300\n",
      "1340/1340 [==============================] - 0s 205us/step - loss: 0.0207 - acc: 0.9910 - val_loss: 0.0236 - val_acc: 0.9894\n",
      "Epoch 278/300\n",
      "1340/1340 [==============================] - 0s 201us/step - loss: 0.0209 - acc: 0.9933 - val_loss: 0.0181 - val_acc: 0.9909\n",
      "Epoch 279/300\n",
      "1340/1340 [==============================] - 0s 201us/step - loss: 0.0204 - acc: 0.9925 - val_loss: 0.0172 - val_acc: 0.9909\n",
      "Epoch 280/300\n",
      "1340/1340 [==============================] - 0s 199us/step - loss: 0.0205 - acc: 0.9925 - val_loss: 0.0163 - val_acc: 0.9939\n",
      "Epoch 281/300\n",
      "1340/1340 [==============================] - 0s 206us/step - loss: 0.0203 - acc: 0.9925 - val_loss: 0.0160 - val_acc: 0.9955\n",
      "Epoch 282/300\n",
      "1340/1340 [==============================] - 0s 202us/step - loss: 0.0205 - acc: 0.9925 - val_loss: 0.0184 - val_acc: 0.9909\n",
      "Epoch 283/300\n",
      "1340/1340 [==============================] - 0s 202us/step - loss: 0.0202 - acc: 0.9925 - val_loss: 0.0178 - val_acc: 0.9924\n",
      "Epoch 284/300\n",
      "1340/1340 [==============================] - 0s 289us/step - loss: 0.0205 - acc: 0.9918 - val_loss: 0.0167 - val_acc: 0.9939\n",
      "Epoch 285/300\n",
      "1340/1340 [==============================] - 1s 384us/step - loss: 0.0206 - acc: 0.9918 - val_loss: 0.0178 - val_acc: 0.9939\n",
      "Epoch 286/300\n",
      "1340/1340 [==============================] - 0s 241us/step - loss: 0.0203 - acc: 0.9933 - val_loss: 0.0175 - val_acc: 0.9909\n",
      "Epoch 287/300\n",
      "1340/1340 [==============================] - 0s 332us/step - loss: 0.0203 - acc: 0.9925 - val_loss: 0.0194 - val_acc: 0.9909\n",
      "Epoch 288/300\n",
      "1340/1340 [==============================] - 0s 193us/step - loss: 0.0204 - acc: 0.9933 - val_loss: 0.0177 - val_acc: 0.9939\n",
      "Epoch 289/300\n",
      "1340/1340 [==============================] - 0s 297us/step - loss: 0.0203 - acc: 0.9933 - val_loss: 0.0173 - val_acc: 0.9909\n",
      "Epoch 290/300\n",
      "1340/1340 [==============================] - 0s 231us/step - loss: 0.0205 - acc: 0.9933 - val_loss: 0.0185 - val_acc: 0.9939\n",
      "Epoch 291/300\n",
      "1340/1340 [==============================] - 0s 230us/step - loss: 0.0198 - acc: 0.9925 - val_loss: 0.0194 - val_acc: 0.9909\n",
      "Epoch 292/300\n",
      "1340/1340 [==============================] - 0s 197us/step - loss: 0.0205 - acc: 0.9933 - val_loss: 0.0182 - val_acc: 0.9909\n",
      "Epoch 293/300\n",
      "1340/1340 [==============================] - 0s 203us/step - loss: 0.0212 - acc: 0.9910 - val_loss: 0.0183 - val_acc: 0.9939\n",
      "Epoch 294/300\n",
      "1340/1340 [==============================] - 0s 207us/step - loss: 0.0205 - acc: 0.9918 - val_loss: 0.0170 - val_acc: 0.9939\n",
      "Epoch 295/300\n",
      "1340/1340 [==============================] - 0s 231us/step - loss: 0.0204 - acc: 0.9925 - val_loss: 0.0170 - val_acc: 0.9909\n"
     ]
    },
    {
     "name": "stdout",
     "output_type": "stream",
     "text": [
      "Epoch 296/300\n",
      "1340/1340 [==============================] - 0s 193us/step - loss: 0.0207 - acc: 0.9918 - val_loss: 0.0183 - val_acc: 0.9909\n",
      "Epoch 297/300\n",
      "1340/1340 [==============================] - 0s 167us/step - loss: 0.0203 - acc: 0.9918 - val_loss: 0.0200 - val_acc: 0.9909\n",
      "Epoch 298/300\n",
      "1340/1340 [==============================] - 0s 186us/step - loss: 0.0204 - acc: 0.9925 - val_loss: 0.0181 - val_acc: 0.9924\n",
      "Epoch 299/300\n",
      "1340/1340 [==============================] - 0s 183us/step - loss: 0.0203 - acc: 0.9933 - val_loss: 0.0181 - val_acc: 0.9924\n",
      "Epoch 300/300\n",
      "1340/1340 [==============================] - 0s 189us/step - loss: 0.0208 - acc: 0.9925 - val_loss: 0.0192 - val_acc: 0.9909\n",
      "data fit to model\n"
     ]
    }
   ],
   "source": [
    "# Fit the model\n",
    "result = model.fit(X_train, \n",
    "                   Y_train, \n",
    "                   epochs=EPOCHS, \n",
    "                   batch_size=BATCH_SIZE,\n",
    "                   verbose=1,\n",
    "                   validation_data = (X_test, Y_test) )\n",
    "print('data fit to model')"
   ]
  },
  {
   "cell_type": "markdown",
   "metadata": {},
   "source": [
    "<font size=4 face = 'Calibri' style='Line-height : 1.5em'> \n",
    "    \n",
    "**ПО окончанию тренировки можно оценить точность следующим кодом.**\n",
    "\n"
   ]
  },
  {
   "cell_type": "code",
   "execution_count": 32,
   "metadata": {},
   "outputs": [
    {
     "name": "stdout",
     "output_type": "stream",
     "text": [
      "660/660 [==============================] - 0s 38us/step\n",
      "\n",
      "acc: 99.09%\n"
     ]
    }
   ],
   "source": [
    "# evaluate the model\n",
    "scores = model.evaluate(X_test,Y_test)\n",
    "print(\"\\n%s: %.2f%%\" % (model.metrics_names[1], scores[1]*100))"
   ]
  },
  {
   "cell_type": "markdown",
   "metadata": {},
   "source": [
    "<font size=4.5 face = 'Calibri' style='Line-height : 1.5em'> \n",
    "\n",
    "А также можно посмотреть процесс обучения на графике, например можно посмотреть потери и метрику точность  \n",
    "\n",
    "\n",
    "Все, что вы хотели бы посмотреть надо прописывать в коде тренировке"
   ]
  },
  {
   "cell_type": "code",
   "execution_count": 33,
   "metadata": {},
   "outputs": [
    {
     "name": "stdout",
     "output_type": "stream",
     "text": [
      "0.9922885554742259\n",
      "0.020764750667348748\n",
      "0.991919189992577\n",
      "0.019202608995383896\n"
     ]
    }
   ],
   "source": [
    "import numpy as np\n",
    "print(np.mean(result.history[\"acc\"][-1:-10:-1]))\n",
    "print((result.history[\"loss\"][-1]))\n",
    "print(np.mean(result.history[\"val_acc\"][-1:-10:-1]))\n",
    "print((result.history[\"val_loss\"][-1]))"
   ]
  },
  {
   "cell_type": "code",
   "execution_count": 34,
   "metadata": {},
   "outputs": [],
   "source": [
    "def plot_history(network_history, fp = 0, lp = -1):\n",
    "    plt.figure()\n",
    "    plt.xlabel('Epochs')\n",
    "    plt.ylabel('Loss')\n",
    "    plt.plot(network_history.history['loss'][fp:lp])\n",
    "    plt.plot(network_history.history['val_loss'][fp:lp])\n",
    "    plt.legend(['Training', 'Validation'])\n",
    "\n",
    "    plt.figure()\n",
    "    plt.xlabel('Epochs')\n",
    "    plt.ylabel('Accuracy')\n",
    "    plt.plot(network_history.history['acc'][fp:lp])\n",
    "    plt.plot(network_history.history['val_acc'][fp:lp])\n",
    "    plt.legend(['Training', 'Validation'], loc='lower right')\n",
    "    plt.show()"
   ]
  },
  {
   "cell_type": "code",
   "execution_count": 35,
   "metadata": {
    "scrolled": false
   },
   "outputs": [
    {
     "data": {
      "image/png": "[encoded data removed]",
      "text/plain": [
       "<Figure size 432x288 with 1 Axes>"
      ]
     },
     "metadata": {
      "needs_background": "light"
     },
     "output_type": "display_data"
    },
    {
     "data": {
      "image/png": "[encoded data removed]",
      "text/plain": [
       "<Figure size 432x288 with 1 Axes>"
      ]
     },
     "metadata": {
      "needs_background": "light"
     },
     "output_type": "display_data"
    }
   ],
   "source": [
    "import matplotlib.pyplot as plt\n",
    "\n",
    "\n",
    "plot_history(result,10)\n",
    " \n",
    "#plt.show()\n"
   ]
  },
  {
   "cell_type": "markdown",
   "metadata": {},
   "source": [
    "<font size = 4>\n",
    "Из анализа графика видно, что мы переобучили модель, так как на валидационном наборе данных точность несколько ниже, чтобы этого избижать можно использовать метод ранней остановки (``early_stop``)"
   ]
  },
  {
   "cell_type": "code",
   "execution_count": 43,
   "metadata": {},
   "outputs": [
    {
     "name": "stdout",
     "output_type": "stream",
     "text": [
      "compiled\n",
      "Train on 1340 samples, validate on 660 samples\n",
      "Epoch 1/300\n",
      "1340/1340 [==============================] - 1s 706us/step - loss: 0.5371 - acc: 0.8299 - val_loss: 0.4503 - val_acc: 0.8818\n",
      "Epoch 2/300\n",
      "1340/1340 [==============================] - 0s 210us/step - loss: 0.3938 - acc: 0.8612 - val_loss: 0.3390 - val_acc: 0.8818\n",
      "Epoch 3/300\n",
      "1340/1340 [==============================] - 0s 195us/step - loss: 0.3240 - acc: 0.8657 - val_loss: 0.2946 - val_acc: 0.8864\n",
      "Epoch 4/300\n",
      "1340/1340 [==============================] - 0s 372us/step - loss: 0.2972 - acc: 0.8724 - val_loss: 0.2765 - val_acc: 0.8894\n",
      "Epoch 5/300\n",
      "1340/1340 [==============================] - 0s 238us/step - loss: 0.2848 - acc: 0.8791 - val_loss: 0.2687 - val_acc: 0.8879\n",
      "Epoch 6/300\n",
      "1340/1340 [==============================] - 0s 252us/step - loss: 0.2762 - acc: 0.8784 - val_loss: 0.2570 - val_acc: 0.8939\n",
      "Epoch 7/300\n",
      "1340/1340 [==============================] - 0s 232us/step - loss: 0.2717 - acc: 0.8799 - val_loss: 0.2536 - val_acc: 0.8939\n",
      "Epoch 8/300\n",
      "1340/1340 [==============================] - 0s 235us/step - loss: 0.2665 - acc: 0.8813 - val_loss: 0.2509 - val_acc: 0.8939\n",
      "Epoch 9/300\n",
      "1340/1340 [==============================] - 0s 202us/step - loss: 0.2626 - acc: 0.8813 - val_loss: 0.2444 - val_acc: 0.8924\n",
      "Epoch 10/300\n",
      "1340/1340 [==============================] - 0s 225us/step - loss: 0.2578 - acc: 0.8836 - val_loss: 0.2378 - val_acc: 0.8939\n",
      "Epoch 11/300\n",
      "1340/1340 [==============================] - 0s 204us/step - loss: 0.2553 - acc: 0.8843 - val_loss: 0.2352 - val_acc: 0.8939\n",
      "Epoch 12/300\n",
      "1340/1340 [==============================] - 0s 204us/step - loss: 0.2512 - acc: 0.8836 - val_loss: 0.2330 - val_acc: 0.8955\n",
      "Epoch 13/300\n",
      "1340/1340 [==============================] - 0s 268us/step - loss: 0.2481 - acc: 0.8866 - val_loss: 0.2285 - val_acc: 0.8955\n",
      "Epoch 14/300\n",
      "1340/1340 [==============================] - 0s 276us/step - loss: 0.2450 - acc: 0.8873 - val_loss: 0.2292 - val_acc: 0.8939\n",
      "Epoch 15/300\n",
      "1340/1340 [==============================] - 0s 240us/step - loss: 0.2417 - acc: 0.8843 - val_loss: 0.2227 - val_acc: 0.9000\n",
      "Epoch 16/300\n",
      "1340/1340 [==============================] - 0s 243us/step - loss: 0.2407 - acc: 0.8858 - val_loss: 0.2198 - val_acc: 0.8970\n",
      "Epoch 17/300\n",
      "1340/1340 [==============================] - 0s 235us/step - loss: 0.2384 - acc: 0.8873 - val_loss: 0.2237 - val_acc: 0.8939\n",
      "Epoch 18/300\n",
      "1340/1340 [==============================] - 0s 213us/step - loss: 0.2357 - acc: 0.8888 - val_loss: 0.2178 - val_acc: 0.9030\n",
      "Epoch 19/300\n",
      "1340/1340 [==============================] - 0s 232us/step - loss: 0.2337 - acc: 0.8933 - val_loss: 0.2158 - val_acc: 0.9030\n",
      "Epoch 20/300\n",
      "1340/1340 [==============================] - 0s 210us/step - loss: 0.2323 - acc: 0.8933 - val_loss: 0.2184 - val_acc: 0.8970\n",
      "Epoch 21/300\n",
      "1340/1340 [==============================] - 0s 310us/step - loss: 0.2289 - acc: 0.8963 - val_loss: 0.2179 - val_acc: 0.8955\n",
      "Epoch 22/300\n",
      "1340/1340 [==============================] - 0s 269us/step - loss: 0.2274 - acc: 0.8985 - val_loss: 0.2130 - val_acc: 0.8985\n",
      "Epoch 23/300\n",
      "1340/1340 [==============================] - 0s 282us/step - loss: 0.2252 - acc: 0.9000 - val_loss: 0.2091 - val_acc: 0.9091\n",
      "Epoch 24/300\n",
      "1340/1340 [==============================] - 0s 249us/step - loss: 0.2231 - acc: 0.9037 - val_loss: 0.2119 - val_acc: 0.8985\n",
      "Epoch 25/300\n",
      "1340/1340 [==============================] - 0s 297us/step - loss: 0.2219 - acc: 0.9067 - val_loss: 0.2057 - val_acc: 0.9106\n",
      "Epoch 26/300\n",
      "1340/1340 [==============================] - 0s 237us/step - loss: 0.2189 - acc: 0.9045 - val_loss: 0.2027 - val_acc: 0.9121\n",
      "Epoch 27/300\n",
      "1340/1340 [==============================] - 0s 243us/step - loss: 0.2161 - acc: 0.9067 - val_loss: 0.2016 - val_acc: 0.9106\n",
      "Epoch 28/300\n",
      "1340/1340 [==============================] - 0s 246us/step - loss: 0.2122 - acc: 0.9082 - val_loss: 0.1956 - val_acc: 0.9136\n",
      "Epoch 29/300\n",
      "1340/1340 [==============================] - 1s 417us/step - loss: 0.2107 - acc: 0.9090 - val_loss: 0.1959 - val_acc: 0.9152\n",
      "Epoch 30/300\n",
      "1340/1340 [==============================] - 0s 294us/step - loss: 0.2082 - acc: 0.9082 - val_loss: 0.1904 - val_acc: 0.9182\n",
      "Epoch 31/300\n",
      "1340/1340 [==============================] - 0s 354us/step - loss: 0.2044 - acc: 0.9142 - val_loss: 0.1923 - val_acc: 0.9136\n",
      "Epoch 32/300\n",
      "1340/1340 [==============================] - 0s 247us/step - loss: 0.2007 - acc: 0.9172 - val_loss: 0.1855 - val_acc: 0.9242\n",
      "Epoch 33/300\n",
      "1340/1340 [==============================] - 0s 361us/step - loss: 0.1983 - acc: 0.9157 - val_loss: 0.1826 - val_acc: 0.9258\n",
      "Epoch 34/300\n",
      "1340/1340 [==============================] - 1s 394us/step - loss: 0.1938 - acc: 0.9187 - val_loss: 0.1789 - val_acc: 0.9273\n",
      "Epoch 35/300\n",
      "1340/1340 [==============================] - 0s 287us/step - loss: 0.1889 - acc: 0.9201 - val_loss: 0.1768 - val_acc: 0.9273\n",
      "Epoch 36/300\n",
      "1340/1340 [==============================] - 0s 245us/step - loss: 0.1836 - acc: 0.9216 - val_loss: 0.1729 - val_acc: 0.9288\n",
      "Epoch 37/300\n",
      "1340/1340 [==============================] - 0s 250us/step - loss: 0.1784 - acc: 0.9239 - val_loss: 0.1669 - val_acc: 0.9318\n",
      "Epoch 38/300\n",
      "1340/1340 [==============================] - 0s 239us/step - loss: 0.1732 - acc: 0.9284 - val_loss: 0.1609 - val_acc: 0.9348\n",
      "Epoch 39/300\n",
      "1340/1340 [==============================] - 0s 271us/step - loss: 0.1665 - acc: 0.9306 - val_loss: 0.1641 - val_acc: 0.9318\n",
      "Epoch 40/300\n",
      "1340/1340 [==============================] - 0s 246us/step - loss: 0.1611 - acc: 0.9343 - val_loss: 0.1505 - val_acc: 0.9424\n",
      "Epoch 41/300\n",
      "1340/1340 [==============================] - 0s 252us/step - loss: 0.1555 - acc: 0.9373 - val_loss: 0.1495 - val_acc: 0.9394\n",
      "Epoch 42/300\n",
      "1340/1340 [==============================] - 0s 301us/step - loss: 0.1481 - acc: 0.9396 - val_loss: 0.1388 - val_acc: 0.9455\n",
      "Epoch 43/300\n",
      "1340/1340 [==============================] - 0s 252us/step - loss: 0.1425 - acc: 0.9485 - val_loss: 0.1336 - val_acc: 0.9470\n",
      "Epoch 44/300\n",
      "1340/1340 [==============================] - 0s 229us/step - loss: 0.1356 - acc: 0.9522 - val_loss: 0.1312 - val_acc: 0.9470\n",
      "Epoch 45/300\n",
      "1340/1340 [==============================] - 0s 256us/step - loss: 0.1298 - acc: 0.9545 - val_loss: 0.1198 - val_acc: 0.9545\n",
      "Epoch 46/300\n",
      "1340/1340 [==============================] - 0s 274us/step - loss: 0.1233 - acc: 0.9560 - val_loss: 0.1137 - val_acc: 0.9561\n",
      "Epoch 47/300\n",
      "1340/1340 [==============================] - 0s 246us/step - loss: 0.1173 - acc: 0.9582 - val_loss: 0.1067 - val_acc: 0.9621\n",
      "Epoch 48/300\n",
      "1340/1340 [==============================] - 0s 246us/step - loss: 0.1111 - acc: 0.9649 - val_loss: 0.1018 - val_acc: 0.9636\n",
      "Epoch 49/300\n",
      "1340/1340 [==============================] - 0s 240us/step - loss: 0.1051 - acc: 0.9642 - val_loss: 0.0956 - val_acc: 0.9712\n",
      "Epoch 50/300\n",
      "1340/1340 [==============================] - 0s 245us/step - loss: 0.1001 - acc: 0.9694 - val_loss: 0.0911 - val_acc: 0.9773\n",
      "Epoch 51/300\n",
      "1340/1340 [==============================] - 0s 210us/step - loss: 0.0947 - acc: 0.9709 - val_loss: 0.0869 - val_acc: 0.9788\n",
      "Epoch 52/300\n",
      "1340/1340 [==============================] - 0s 290us/step - loss: 0.0904 - acc: 0.9731 - val_loss: 0.0802 - val_acc: 0.9803\n",
      "Epoch 53/300\n",
      "1340/1340 [==============================] - 0s 283us/step - loss: 0.0861 - acc: 0.9769 - val_loss: 0.0771 - val_acc: 0.9803\n",
      "Epoch 54/300\n",
      "1340/1340 [==============================] - 0s 243us/step - loss: 0.0818 - acc: 0.9776 - val_loss: 0.0747 - val_acc: 0.9803\n",
      "Epoch 55/300\n",
      "1340/1340 [==============================] - 0s 323us/step - loss: 0.0777 - acc: 0.9799 - val_loss: 0.0677 - val_acc: 0.9788\n",
      "Epoch 56/300\n",
      "1340/1340 [==============================] - 0s 253us/step - loss: 0.0743 - acc: 0.9799 - val_loss: 0.0647 - val_acc: 0.9788\n",
      "Epoch 57/300\n",
      "1340/1340 [==============================] - 0s 256us/step - loss: 0.0710 - acc: 0.9799 - val_loss: 0.0614 - val_acc: 0.9788\n",
      "Epoch 58/300\n",
      "1340/1340 [==============================] - 0s 275us/step - loss: 0.0678 - acc: 0.9836 - val_loss: 0.0578 - val_acc: 0.9803\n",
      "Epoch 59/300\n",
      "1340/1340 [==============================] - 0s 249us/step - loss: 0.0652 - acc: 0.9821 - val_loss: 0.0571 - val_acc: 0.9848\n",
      "Epoch 60/300\n"
     ]
    },
    {
     "name": "stdout",
     "output_type": "stream",
     "text": [
      "1340/1340 [==============================] - 0s 310us/step - loss: 0.0632 - acc: 0.9828 - val_loss: 0.0545 - val_acc: 0.9864\n",
      "Epoch 61/300\n",
      "1340/1340 [==============================] - 0s 174us/step - loss: 0.0601 - acc: 0.9836 - val_loss: 0.0517 - val_acc: 0.9864\n",
      "Epoch 62/300\n",
      "1340/1340 [==============================] - 0s 183us/step - loss: 0.0579 - acc: 0.9851 - val_loss: 0.0525 - val_acc: 0.9894\n",
      "Epoch 63/300\n",
      "1340/1340 [==============================] - 0s 176us/step - loss: 0.0553 - acc: 0.9873 - val_loss: 0.0459 - val_acc: 0.9879\n",
      "Epoch 64/300\n",
      "1340/1340 [==============================] - 0s 198us/step - loss: 0.0541 - acc: 0.9851 - val_loss: 0.0447 - val_acc: 0.9894\n",
      "Epoch 65/300\n",
      "1340/1340 [==============================] - 0s 187us/step - loss: 0.0521 - acc: 0.9873 - val_loss: 0.0454 - val_acc: 0.9909\n",
      "Epoch 66/300\n",
      "1340/1340 [==============================] - 0s 183us/step - loss: 0.0504 - acc: 0.9873 - val_loss: 0.0406 - val_acc: 0.9894\n",
      "Epoch 67/300\n",
      "1340/1340 [==============================] - 0s 185us/step - loss: 0.0492 - acc: 0.9888 - val_loss: 0.0392 - val_acc: 0.9894\n",
      "Epoch 68/300\n",
      "1340/1340 [==============================] - 0s 181us/step - loss: 0.0472 - acc: 0.9866 - val_loss: 0.0425 - val_acc: 0.9909\n",
      "Epoch 69/300\n",
      "1340/1340 [==============================] - 0s 190us/step - loss: 0.0467 - acc: 0.9888 - val_loss: 0.0367 - val_acc: 0.9924\n",
      "Epoch 70/300\n",
      "1340/1340 [==============================] - 0s 184us/step - loss: 0.0449 - acc: 0.9881 - val_loss: 0.0352 - val_acc: 0.9924\n",
      "Epoch 71/300\n",
      "1340/1340 [==============================] - 0s 189us/step - loss: 0.0449 - acc: 0.9858 - val_loss: 0.0355 - val_acc: 0.9909\n",
      "Epoch 72/300\n",
      "1340/1340 [==============================] - 0s 172us/step - loss: 0.0431 - acc: 0.9910 - val_loss: 0.0332 - val_acc: 0.9939\n",
      "Epoch 73/300\n",
      "1340/1340 [==============================] - 0s 352us/step - loss: 0.0423 - acc: 0.9910 - val_loss: 0.0341 - val_acc: 0.9909\n",
      "Epoch 74/300\n",
      "1340/1340 [==============================] - 0s 293us/step - loss: 0.0412 - acc: 0.9918 - val_loss: 0.0325 - val_acc: 0.9955\n",
      "Epoch 75/300\n",
      "1340/1340 [==============================] - 0s 240us/step - loss: 0.0403 - acc: 0.9910 - val_loss: 0.0338 - val_acc: 0.9924\n",
      "Epoch 76/300\n",
      "1340/1340 [==============================] - 0s 188us/step - loss: 0.0399 - acc: 0.9896 - val_loss: 0.0355 - val_acc: 0.9924\n",
      "Epoch 77/300\n",
      "1340/1340 [==============================] - 0s 192us/step - loss: 0.0389 - acc: 0.9903 - val_loss: 0.0302 - val_acc: 0.9955\n",
      "Epoch 78/300\n",
      "1340/1340 [==============================] - 0s 203us/step - loss: 0.0382 - acc: 0.9903 - val_loss: 0.0295 - val_acc: 0.9955\n",
      "Epoch 79/300\n",
      "1340/1340 [==============================] - 0s 188us/step - loss: 0.0374 - acc: 0.9896 - val_loss: 0.0288 - val_acc: 0.9955\n",
      "Epoch 80/300\n",
      "1340/1340 [==============================] - 0s 216us/step - loss: 0.0367 - acc: 0.9910 - val_loss: 0.0304 - val_acc: 0.9939\n",
      "Epoch 81/300\n",
      "1340/1340 [==============================] - 0s 190us/step - loss: 0.0365 - acc: 0.9903 - val_loss: 0.0290 - val_acc: 0.9955\n",
      "Epoch 82/300\n",
      "1340/1340 [==============================] - 0s 190us/step - loss: 0.0359 - acc: 0.9910 - val_loss: 0.0273 - val_acc: 0.9955\n",
      "Epoch 83/300\n",
      "1340/1340 [==============================] - 0s 191us/step - loss: 0.0355 - acc: 0.9903 - val_loss: 0.0269 - val_acc: 0.9955\n",
      "Epoch 84/300\n",
      "1340/1340 [==============================] - 0s 195us/step - loss: 0.0350 - acc: 0.9918 - val_loss: 0.0259 - val_acc: 0.9955\n",
      "Epoch 85/300\n",
      "1340/1340 [==============================] - 0s 194us/step - loss: 0.0345 - acc: 0.9903 - val_loss: 0.0257 - val_acc: 0.9955\n",
      "Epoch 86/300\n",
      "1340/1340 [==============================] - 0s 361us/step - loss: 0.0340 - acc: 0.9903 - val_loss: 0.0265 - val_acc: 0.9955\n",
      "Epoch 87/300\n",
      "1340/1340 [==============================] - 0s 193us/step - loss: 0.0331 - acc: 0.9910 - val_loss: 0.0243 - val_acc: 0.9955\n",
      "Epoch 88/300\n",
      "1340/1340 [==============================] - 0s 196us/step - loss: 0.0338 - acc: 0.9896 - val_loss: 0.0245 - val_acc: 0.9955\n",
      "Epoch 89/300\n",
      "1340/1340 [==============================] - 0s 192us/step - loss: 0.0328 - acc: 0.9918 - val_loss: 0.0246 - val_acc: 0.9955\n",
      "Epoch 90/300\n",
      "1340/1340 [==============================] - 0s 186us/step - loss: 0.0323 - acc: 0.9918 - val_loss: 0.0230 - val_acc: 0.9955\n",
      "Epoch 91/300\n",
      "1340/1340 [==============================] - 0s 196us/step - loss: 0.0317 - acc: 0.9918 - val_loss: 0.0246 - val_acc: 0.9939\n",
      "Epoch 92/300\n",
      "1340/1340 [==============================] - 0s 184us/step - loss: 0.0336 - acc: 0.9910 - val_loss: 0.0255 - val_acc: 0.9939\n",
      "Epoch 93/300\n",
      "1340/1340 [==============================] - 0s 193us/step - loss: 0.0318 - acc: 0.9918 - val_loss: 0.0233 - val_acc: 0.9955\n",
      "Epoch 94/300\n",
      "1340/1340 [==============================] - 0s 210us/step - loss: 0.0316 - acc: 0.9925 - val_loss: 0.0224 - val_acc: 0.9955\n",
      "Epoch 95/300\n",
      "1340/1340 [==============================] - 0s 197us/step - loss: 0.0305 - acc: 0.9918 - val_loss: 0.0247 - val_acc: 0.9939\n",
      "Epoch 96/300\n",
      "1340/1340 [==============================] - 0s 206us/step - loss: 0.0304 - acc: 0.9918 - val_loss: 0.0237 - val_acc: 0.9939\n",
      "Epoch 97/300\n",
      "1340/1340 [==============================] - 0s 191us/step - loss: 0.0301 - acc: 0.9925 - val_loss: 0.0211 - val_acc: 0.9955\n",
      "Epoch 98/300\n",
      "1340/1340 [==============================] - 0s 194us/step - loss: 0.0304 - acc: 0.9918 - val_loss: 0.0225 - val_acc: 0.9939\n",
      "Epoch 99/300\n",
      "1340/1340 [==============================] - 0s 187us/step - loss: 0.0301 - acc: 0.9933 - val_loss: 0.0211 - val_acc: 0.9955\n",
      "Epoch 100/300\n",
      "1340/1340 [==============================] - 0s 195us/step - loss: 0.0293 - acc: 0.9910 - val_loss: 0.0212 - val_acc: 0.9955\n",
      "Epoch 101/300\n",
      "1340/1340 [==============================] - 0s 197us/step - loss: 0.0298 - acc: 0.9925 - val_loss: 0.0221 - val_acc: 0.9939\n",
      "Epoch 102/300\n",
      "1340/1340 [==============================] - 0s 199us/step - loss: 0.0292 - acc: 0.9918 - val_loss: 0.0210 - val_acc: 0.9955\n",
      "Epoch 103/300\n",
      "1340/1340 [==============================] - 0s 200us/step - loss: 0.0289 - acc: 0.9910 - val_loss: 0.0214 - val_acc: 0.9955\n",
      "Epoch 104/300\n",
      "1340/1340 [==============================] - 0s 196us/step - loss: 0.0291 - acc: 0.9918 - val_loss: 0.0230 - val_acc: 0.9939\n",
      "Epoch 105/300\n",
      "1340/1340 [==============================] - 0s 202us/step - loss: 0.0290 - acc: 0.9925 - val_loss: 0.0237 - val_acc: 0.9939\n",
      "Epoch 106/300\n",
      "1340/1340 [==============================] - 0s 204us/step - loss: 0.0293 - acc: 0.9910 - val_loss: 0.0218 - val_acc: 0.9939\n",
      "Epoch 00106: early stopping\n"
     ]
    }
   ],
   "source": [
    "model = model_init(X_train)\n",
    "model.compile(loss='binary_crossentropy', optimizer=adam(lr=LR), metrics=['accuracy'])\n",
    "print('compiled')\n",
    "\n",
    "\n",
    "early_stop = keras.callbacks.EarlyStopping(monitor='val_loss', patience=4, verbose=1)\n",
    "   \n",
    "result = model.fit(X_train, \n",
    "          Y_train, \n",
    "          epochs=EPOCHS, \n",
    "          batch_size=BATCH_SIZE,\n",
    "          verbose=1,\n",
    "          validation_data = (X_test, Y_test),  \n",
    "          callbacks=[early_stop])"
   ]
  },
  {
   "cell_type": "code",
   "execution_count": 44,
   "metadata": {
    "scrolled": true
   },
   "outputs": [
    {
     "data": {
      "image/png": "[encoded data removed]",
      "text/plain": [
       "<Figure size 432x288 with 1 Axes>"
      ]
     },
     "metadata": {
      "needs_background": "light"
     },
     "output_type": "display_data"
    },
    {
     "data": {
      "image/png": "[encoded data removed]",
      "text/plain": [
       "<Figure size 432x288 with 1 Axes>"
      ]
     },
     "metadata": {
      "needs_background": "light"
     },
     "output_type": "display_data"
    }
   ],
   "source": [
    "import matplotlib.pyplot as plt\n",
    "plot_history(result,0)"
   ]
  },
  {
   "cell_type": "code",
   "execution_count": 46,
   "metadata": {},
   "outputs": [
    {
     "name": "stdout",
     "output_type": "stream",
     "text": [
      "660/660 [==============================] - 0s 35us/step\n",
      "\n",
      "acc: 99.39%\n"
     ]
    }
   ],
   "source": [
    "# evaluate the model\n",
    "scores = model.evaluate(X_test,Y_test)\n",
    "print(\"\\n%s: %.2f%%\" % (model.metrics_names[1], scores[1]*100))"
   ]
  },
  {
   "cell_type": "markdown",
   "metadata": {},
   "source": [
    "<font size=4 color = brown> Как видите  надо было всего лишь 100 эпох, а не 300"
   ]
  },
  {
   "cell_type": "markdown",
   "metadata": {},
   "source": [
    " "
   ]
  },
  {
   "cell_type": "markdown",
   "metadata": {},
   "source": [
    "данный код позволяет сохранить модель"
   ]
  },
  {
   "cell_type": "code",
   "execution_count": 7,
   "metadata": {},
   "outputs": [
    {
     "ename": "NameError",
     "evalue": "name 'model' is not defined",
     "output_type": "error",
     "traceback": [
      "\u001b[1;31m---------------------------------------------------------------------------\u001b[0m",
      "\u001b[1;31mNameError\u001b[0m                                 Traceback (most recent call last)",
      "\u001b[1;32m<ipython-input-7-228e85abc235>\u001b[0m in \u001b[0;36m<module>\u001b[1;34m\u001b[0m\n\u001b[0;32m      1\u001b[0m \u001b[0mmodel_path\u001b[0m \u001b[1;33m=\u001b[0m \u001b[1;34mr'seq_model.hdf5'\u001b[0m\u001b[1;33m\u001b[0m\u001b[1;33m\u001b[0m\u001b[0m\n\u001b[1;32m----> 2\u001b[1;33m \u001b[0mmodel\u001b[0m\u001b[1;33m.\u001b[0m\u001b[0msave\u001b[0m\u001b[1;33m(\u001b[0m\u001b[0mmodel_path\u001b[0m\u001b[1;33m)\u001b[0m\u001b[1;33m\u001b[0m\u001b[1;33m\u001b[0m\u001b[0m\n\u001b[0m",
      "\u001b[1;31mNameError\u001b[0m: name 'model' is not defined"
     ]
    }
   ],
   "source": [
    "model_path = r'seq_model.hdf5'\n",
    "model.save(model_path)"
   ]
  },
  {
   "cell_type": "markdown",
   "metadata": {},
   "source": [
    "## 2.3 Предсказание при помощи модели"
   ]
  },
  {
   "cell_type": "markdown",
   "metadata": {},
   "source": [
    "теперь можно загрузить модель обратно и использовать ее для предсказаия класса"
   ]
  },
  {
   "cell_type": "code",
   "execution_count": 50,
   "metadata": {},
   "outputs": [],
   "source": [
    "from keras.models import load_model"
   ]
  },
  {
   "cell_type": "code",
   "execution_count": 51,
   "metadata": {},
   "outputs": [],
   "source": [
    "model = load_model(model_path)"
   ]
  },
  {
   "cell_type": "code",
   "execution_count": 52,
   "metadata": {},
   "outputs": [
    {
     "name": "stdout",
     "output_type": "stream",
     "text": [
      "[1 0 0 0 1 0 1 0 1 1 0 1 1 1 0 1 1 0 1 1 1 0 1 0 0 1 0 0 0 0 1 0 0 1 0 1 1\n",
      " 1 0 0]\n",
      "[1 0 0 0 1 0 1 0 1 1 0 1 1 1 0 1 1 0 1 1 1 0 1 0 0 1 0 0 0 0 1 0 0 1 0 1 1\n",
      " 1 0 0]\n"
     ]
    }
   ],
   "source": [
    "\n",
    "predicted = np.squeeze(np.round(model.predict(X_test))).astype(int)\n",
    "                                                 \n",
    "print(predicted[:40])\n",
    "\n",
    "print(Y_test[:40])"
   ]
  },
  {
   "cell_type": "markdown",
   "metadata": {},
   "source": [
    "  "
   ]
  },
  {
   "cell_type": "markdown",
   "metadata": {},
   "source": [
    "## 2.4 Упражнения"
   ]
  },
  {
   "cell_type": "markdown",
   "metadata": {},
   "source": [
    "<font size=3>\n",
    "    \n",
    "1. Исследовать модель, изменяя параметры и добавляя слои и их регуляризацию и инициализацию слоев, например дроп-ауту, батч-нормализацию или L2 регуляризацию\n",
    "\n"
   ]
  },
  {
   "cell_type": "code",
   "execution_count": 20,
   "metadata": {},
   "outputs": [],
   "source": [
    "#"
   ]
  },
  {
   "cell_type": "markdown",
   "metadata": {},
   "source": [
    "**! вы можете добавлять реугляризацию при помощи следующих процедур** \n",
    "\n",
    "**1.** Дропауты\n",
    " \n",
    "```python\n",
    "keras.layers.Dropout(rate, noise_shape=None, seed=None)\n",
    "```\n",
    "**2.** Батч-нормализация\n",
    "```python\n",
    "keras.layers.BatchNormalization()\n",
    "```\n",
    "\n",
    "**3.** L регуляризация (регуляризация в классическом смысле) \n",
    "```python\n",
    "keras.regularizers.l1(0.)\n",
    "keras.regularizers.l2(0.)\n",
    "keras.regularizers.l1_l2(l1=0.01, l2=0.01)\n",
    "```\n",
    "регуляризация указывается послойно\n",
    " ```python\n",
    "Dense(..., \n",
    "      kernel_regularizer=keras.regularizers.l1(0.) )\n",
    "```\n",
    "**4.** Инициализация весов\n",
    "```python\n",
    "keras.initializers.he_normal()\n",
    "keras.initializers.he_uniform()\n",
    "keras.initializers.glorot_uniform() # it is the same as Xavier \n",
    "keras.initializers.glorot_normal() # it is the same as Xavier \n",
    "keras.initializers.Zeros()\n",
    "and e.t.c\n",
    "```\n",
    "инициализация указывается послойно\n",
    " ```python\n",
    "Dense(..., \n",
    "      kernel_initializer=keras.initializers.he_normal()\n",
    "      bias_initializer = keras.initializers.Zeros  )\n",
    "```\n",
    "\n"
   ]
  },
  {
   "cell_type": "markdown",
   "metadata": {},
   "source": [
    "**!** \n",
    "Также вы можете использовать свои варианты, при помощи следующего кода\n",
    "```python\n",
    "from keras import backend as K\n",
    "\n",
    "def my_init(shape, dtype=None):\n",
    "    return K.random_normal(shape, dtype=dtype)\n",
    "\n",
    "model.add(Dense(64, kernel_initializer=my_init))\n",
    "```\n",
    "\n",
    "\n",
    "Для более полной информации смотрите оффициальную справку по Keras"
   ]
  },
  {
   "cell_type": "code",
   "execution_count": 19,
   "metadata": {},
   "outputs": [],
   "source": [
    "#"
   ]
  },
  {
   "cell_type": "markdown",
   "metadata": {},
   "source": [
    "- - -\n",
    "# 3. Исследование автоэнкодера в Keras \n",
    "- - - "
   ]
  },
  {
   "cell_type": "markdown",
   "metadata": {},
   "source": [
    "[Go to content](#Table-of-content)"
   ]
  },
  {
   "cell_type": "markdown",
   "metadata": {},
   "source": [
    "## 3.1 Принцип работы Автоэнкодреа"
   ]
  },
  {
   "cell_type": "markdown",
   "metadata": {},
   "source": [
    "Исследоваия по данному вопросу можно найти [тут на Github](https://github.com/ramhiser/Keras-Tutorials) и [официальный пример от Keras](https://blog.keras.io/building-autoencoders-in-keras.html)"
   ]
  },
  {
   "cell_type": "markdown",
   "metadata": {},
   "source": [
    "<font size =3 face ='Calibri' >\n",
    "\n",
    "Авто-энкодер это специальный вид сетей для обучения без учителя, при этом главная цель таких сетей - это научится повторять вход на выход нетривиально, то есть так, чтобы скрытый слой не повторял входной. \n",
    "\n",
    "Авто-энкодеры получили широкое распространения для предобучения сетей, а также для таких целей, как, например, фильртация шума или сжатие данных (скрытм слоем, потом разкодировка в выходной слой)"
   ]
  },
  {
   "cell_type": "markdown",
   "metadata": {},
   "source": [
    "![autoencoder.jpg](http://res.cloudinary.com/dyd911kmh/image/upload/f_auto,q_auto:best/v1522830223/AutoEncoder_kfqad1.png)"
   ]
  },
  {
   "cell_type": "markdown",
   "metadata": {},
   "source": [
    "теперь рассмотрим пример. "
   ]
  },
  {
   "cell_type": "code",
   "execution_count": 27,
   "metadata": {},
   "outputs": [],
   "source": [
    "import keras\n",
    "\n",
    "from keras.layers import Input, Dense, Flatten, Reshape\n",
    "from keras.models import Model, Sequential\n",
    "\n",
    "from keras.datasets import mnist\n",
    "import numpy as np"
   ]
  },
  {
   "cell_type": "code",
   "execution_count": 28,
   "metadata": {},
   "outputs": [
    {
     "name": "stdout",
     "output_type": "stream",
     "text": [
      "(60000, 28, 28) (10000, 28, 28)\n"
     ]
    }
   ],
   "source": [
    "# Loads the training and test data sets (ignoring class labels)\n",
    "(x_train, _), (x_test, _) = mnist.load_data()\n",
    "\n",
    "# Scales the training and test data to range between 0 and 1.\n",
    "max_value = float(x_train.max())\n",
    "\n",
    "x_train = x_train.astype('float32') / max_value\n",
    "x_test = x_test.astype('float32') / max_value\n",
    "\n",
    "print(x_train.shape, x_test.shape)"
   ]
  },
  {
   "cell_type": "code",
   "execution_count": 29,
   "metadata": {},
   "outputs": [
    {
     "data": {
      "text/plain": [
       "((60000, 784), (10000, 784))"
      ]
     },
     "execution_count": 29,
     "metadata": {},
     "output_type": "execute_result"
    }
   ],
   "source": [
    "x_train = x_train.reshape((len(x_train), np.prod(x_train.shape[1:])))\n",
    "x_test = x_test.reshape((len(x_test), np.prod(x_test.shape[1:])))\n",
    "\n",
    "(x_train.shape, x_test.shape)"
   ]
  },
  {
   "cell_type": "code",
   "execution_count": 30,
   "metadata": {},
   "outputs": [],
   "source": [
    "def vanila_AE(X, encoding_dim=32):\n",
    "    \n",
    "    input_dim = X.shape[1] # input dimension = 784   \n",
    "\n",
    "    autoencoder = Sequential()\n",
    "    autoencoder.add(Dense(encoding_dim, \n",
    "                          input_shape=(input_dim,), \n",
    "                          activation='relu'))\n",
    "    \n",
    "    autoencoder.add(Dense(input_dim, \n",
    "                          input_shape=(encoding_dim,),\n",
    "                          activation='sigmoid'))\n",
    "    \n",
    "    ompression_factor = float(input_dim) / encoding_dim\n",
    "    return autoencoder,  compression_factor\n",
    "    \n"
   ]
  },
  {
   "cell_type": "code",
   "execution_count": 31,
   "metadata": {
    "scrolled": true
   },
   "outputs": [
    {
     "name": "stdout",
     "output_type": "stream",
     "text": [
      "Compression factor: 24.5\n",
      "_________________________________________________________________\n",
      "Layer (type)                 Output Shape              Param #   \n",
      "=================================================================\n",
      "dense_5 (Dense)              (None, 32)                25120     \n",
      "_________________________________________________________________\n",
      "dense_6 (Dense)              (None, 784)               25872     \n",
      "=================================================================\n",
      "Total params: 50,992\n",
      "Trainable params: 50,992\n",
      "Non-trainable params: 0\n",
      "_________________________________________________________________\n"
     ]
    }
   ],
   "source": [
    "autoencoder, cf = vanila_AE(x_train, encoding_dim=32)\n",
    "print(\"Compression factor: %s\" % cf)\n",
    "autoencoder.summary()\n"
   ]
  },
  {
   "cell_type": "markdown",
   "metadata": {},
   "source": [
    "  "
   ]
  },
  {
   "cell_type": "markdown",
   "metadata": {},
   "source": [
    " "
   ]
  },
  {
   "cell_type": "markdown",
   "metadata": {},
   "source": [
    "<font size = 4>\n",
    "теперь у нас автоэенкодер как на картинке ниже"
   ]
  },
  {
   "cell_type": "markdown",
   "metadata": {},
   "source": [
    "![Vanila-Auto_encoder.png](https://www.researchgate.net/profile/Guillaume-Alexandre_Bilodeau/publication/327434418/figure/fig2/AS:667345727025158@1536119028351/Diagram-showing-a-Vanilla-Autoencoder.png)"
   ]
  },
  {
   "cell_type": "markdown",
   "metadata": {},
   "source": [
    "<font size =3>\n",
    "\n",
    "Теперь можно отдельно создать кодирующую чать\n"
   ]
  },
  {
   "cell_type": "code",
   "execution_count": 8,
   "metadata": {},
   "outputs": [],
   "source": [
    "def get_encoder(X, autoencoder ):\n",
    "    \n",
    "    input_dim = X.shape[1] # input dimension = 784  \n",
    "    \n",
    "    input_img = Input(shape=(input_dim,))\n",
    "\n",
    "    encoder_layer = autoencoder.layers[0]\n",
    "\n",
    "    encoder = Model(input_img, encoder_layer(input_img))\n",
    "\n",
    "    return encoder"
   ]
  },
  {
   "cell_type": "code",
   "execution_count": 9,
   "metadata": {},
   "outputs": [
    {
     "ename": "NameError",
     "evalue": "name 'x_train' is not defined",
     "output_type": "error",
     "traceback": [
      "\u001b[1;31m---------------------------------------------------------------------------\u001b[0m",
      "\u001b[1;31mNameError\u001b[0m                                 Traceback (most recent call last)",
      "\u001b[1;32m<ipython-input-9-b834a0447133>\u001b[0m in \u001b[0;36m<module>\u001b[1;34m\u001b[0m\n\u001b[1;32m----> 1\u001b[1;33m \u001b[0mencoder\u001b[0m \u001b[1;33m=\u001b[0m \u001b[0mget_encoder\u001b[0m\u001b[1;33m(\u001b[0m\u001b[0mx_train\u001b[0m\u001b[1;33m,\u001b[0m \u001b[0mautoencoder\u001b[0m \u001b[1;33m)\u001b[0m\u001b[1;33m\u001b[0m\u001b[1;33m\u001b[0m\u001b[0m\n\u001b[0m\u001b[0;32m      2\u001b[0m \u001b[0mprint\u001b[0m\u001b[1;33m(\u001b[0m\u001b[0mencoder\u001b[0m\u001b[1;33m.\u001b[0m\u001b[0msummary\u001b[0m\u001b[1;33m(\u001b[0m\u001b[1;33m)\u001b[0m\u001b[1;33m)\u001b[0m\u001b[1;33m\u001b[0m\u001b[1;33m\u001b[0m\u001b[0m\n",
      "\u001b[1;31mNameError\u001b[0m: name 'x_train' is not defined"
     ]
    }
   ],
   "source": [
    "encoder = get_encoder(x_train, autoencoder )\n",
    "print(encoder.summary())"
   ]
  },
  {
   "cell_type": "markdown",
   "metadata": {},
   "source": [
    "<font size =4>\n",
    "\n",
    "кодер имеет структуру как на картинке\n",
    "![encoder-RBM](https://skymind.ai/images/wiki/two_layer_RBM.png)"
   ]
  },
  {
   "cell_type": "markdown",
   "metadata": {},
   "source": [
    "## 3.2 Обучение авоэнкодера"
   ]
  },
  {
   "cell_type": "code",
   "execution_count": 10,
   "metadata": {},
   "outputs": [],
   "source": [
    "from keras.optimizers import adam "
   ]
  },
  {
   "cell_type": "code",
   "execution_count": 47,
   "metadata": {},
   "outputs": [],
   "source": [
    "LR=1e-3\n",
    "EPOCHS = 5\n",
    "BATCH = 100"
   ]
  },
  {
   "cell_type": "code",
   "execution_count": 48,
   "metadata": {},
   "outputs": [
    {
     "name": "stdout",
     "output_type": "stream",
     "text": [
      "Train on 60000 samples, validate on 10000 samples\n",
      "Epoch 1/5\n",
      "60000/60000 [==============================] - 12s 192us/step - loss: 0.2144 - val_loss: 0.1494\n",
      "Epoch 2/5\n",
      "60000/60000 [==============================] - 12s 194us/step - loss: 0.1333 - val_loss: 0.1185\n",
      "Epoch 3/5\n",
      "60000/60000 [==============================] - 11s 184us/step - loss: 0.1124 - val_loss: 0.1049\n",
      "Epoch 4/5\n",
      "60000/60000 [==============================] - 12s 198us/step - loss: 0.1026 - val_loss: 0.0982\n",
      "Epoch 5/5\n",
      "60000/60000 [==============================] - 12s 200us/step - loss: 0.0978 - val_loss: 0.0951\n"
     ]
    },
    {
     "data": {
      "text/plain": [
       "<keras.callbacks.History at 0x14d77d68>"
      ]
     },
     "execution_count": 48,
     "metadata": {},
     "output_type": "execute_result"
    }
   ],
   "source": [
    "autoencoder,_ = vanila_AE(x_train, encoding_dim=32)\n",
    "\n",
    "autoencoder.compile(loss='binary_crossentropy', \n",
    "              optimizer=adam(lr=LR))\n",
    "\n",
    "\n",
    "autoencoder.fit(x_train, \n",
    "                x_train,\n",
    "                epochs      = EPOCHS,\n",
    "                batch_size  = BATCH,\n",
    "                shuffle     = True,\n",
    "                verbose     = True,\n",
    "                validation_data = (x_test, x_test))"
   ]
  },
  {
   "cell_type": "markdown",
   "metadata": {},
   "source": [
    " "
   ]
  },
  {
   "cell_type": "markdown",
   "metadata": {},
   "source": [
    "выделение кодера для того, чтобы посмотреть как он кодирует"
   ]
  },
  {
   "cell_type": "code",
   "execution_count": 3,
   "metadata": {},
   "outputs": [
    {
     "ename": "NameError",
     "evalue": "name 'get_encoder' is not defined",
     "output_type": "error",
     "traceback": [
      "\u001b[1;31m---------------------------------------------------------------------------\u001b[0m",
      "\u001b[1;31mNameError\u001b[0m                                 Traceback (most recent call last)",
      "\u001b[1;32m<ipython-input-3-76f6ef86defd>\u001b[0m in \u001b[0;36m<module>\u001b[1;34m\u001b[0m\n\u001b[1;32m----> 1\u001b[1;33m \u001b[0mencoder\u001b[0m \u001b[1;33m=\u001b[0m \u001b[0mget_encoder\u001b[0m\u001b[1;33m(\u001b[0m\u001b[0mx_test\u001b[0m\u001b[1;33m,\u001b[0m \u001b[0mautoencoder\u001b[0m \u001b[1;33m)\u001b[0m\u001b[1;33m\u001b[0m\u001b[0m\n\u001b[0m",
      "\u001b[1;31mNameError\u001b[0m: name 'get_encoder' is not defined"
     ]
    }
   ],
   "source": [
    "encoder = get_encoder(x_test, autoencoder )"
   ]
  },
  {
   "cell_type": "markdown",
   "metadata": {},
   "source": [
    "предсказание"
   ]
  },
  {
   "cell_type": "code",
   "execution_count": 50,
   "metadata": {},
   "outputs": [],
   "source": [
    "encoded_imgs = encoder.predict(x_test)\n",
    "decoded_imgs = autoencoder.predict(x_test)"
   ]
  },
  {
   "cell_type": "markdown",
   "metadata": {},
   "source": [
    "<font size = 4 face = 'Arial' >\n",
    "    \n",
    "**тест результатов на случайных изображениях**"
   ]
  },
  {
   "cell_type": "code",
   "execution_count": 53,
   "metadata": {},
   "outputs": [],
   "source": [
    "n_images = 10\n",
    "np.random.seed(42)\n",
    "random_test_images = np.random.randint(x_test.shape[0], size=n_images)"
   ]
  },
  {
   "cell_type": "markdown",
   "metadata": {},
   "source": [
    "визуализация результатов"
   ]
  },
  {
   "cell_type": "code",
   "execution_count": 51,
   "metadata": {},
   "outputs": [
    {
     "data": {
      "image/png": "[encoded data removed]",
      "text/plain": [
       "<Figure size 1296x288 with 30 Axes>"
      ]
     },
     "metadata": {
      "needs_background": "light"
     },
     "output_type": "display_data"
    }
   ],
   "source": [
    "import matplotlib.pyplot as plt\n",
    "\n",
    "\n",
    "plt.figure(figsize=(18, 4))\n",
    "\n",
    "for i, image_idx in enumerate(random_test_images):\n",
    "    # plot original image\n",
    "    ax = plt.subplot(3, num_images, i + 1)\n",
    "    plt.imshow(x_test[image_idx].reshape(28, 28))\n",
    "    plt.gray()\n",
    "    ax.get_xaxis().set_visible(False)\n",
    "    ax.get_yaxis().set_visible(False)\n",
    "    \n",
    "    # plot encoded image\n",
    "    ax = plt.subplot(3, num_images, num_images + i + 1)\n",
    "    plt.imshow(encoded_imgs[image_idx].reshape(8, 4))\n",
    "    plt.gray()\n",
    "    ax.get_xaxis().set_visible(False)\n",
    "    ax.get_yaxis().set_visible(False)\n",
    "\n",
    "    # plot reconstructed image\n",
    "    ax = plt.subplot(3, num_images, 2*num_images + i + 1)\n",
    "    plt.imshow(decoded_imgs[image_idx].reshape(28, 28))\n",
    "    plt.gray()\n",
    "    ax.get_xaxis().set_visible(False)\n",
    "    ax.get_yaxis().set_visible(False)\n",
    "plt.show()"
   ]
  },
  {
   "cell_type": "markdown",
   "metadata": {},
   "source": [
    "## 3.3 Упражнения"
   ]
  },
  {
   "cell_type": "markdown",
   "metadata": {},
   "source": [
    "<font size=4  face = 'Calibri' style='Line-height : 1.5em'>  \n",
    "    \n",
    "**1.** преорбазовать модель в  <font size = 5> **deep autoencoder** </font> (добавить слои регуляризацию и тп), посмотреть как это скажится на результатах"
   ]
  },
  {
   "cell_type": "code",
   "execution_count": 15,
   "metadata": {},
   "outputs": [],
   "source": [
    "#"
   ]
  },
  {
   "cell_type": "markdown",
   "metadata": {},
   "source": [
    "<font size=4  face = 'Calibri' style='Line-height : 1.5em'>  \n",
    "    \n",
    "**2.** создать сверточный автоэнкодер  (<font size = 5> **convolution autoencoder** </font> ) (заменить полносвязные слои на сверточные) и посмотреть как это скажется на результате"
   ]
  },
  {
   "cell_type": "code",
   "execution_count": 16,
   "metadata": {},
   "outputs": [],
   "source": [
    "#"
   ]
  },
  {
   "cell_type": "markdown",
   "metadata": {},
   "source": [
    "<font size =4 face = 'Calibry' style='Line-height:1.5em'>\n",
    "\n",
    "    \n",
    "**для создания сверточных слоев можно использовать следующие процедуры** \n",
    "**1.** for encoder use the follow layers:\n",
    "\n",
    "**Convolution 2D layer**\n",
    "```python \n",
    "    keras.layers.Conv2D(\n",
    "            filters, \n",
    "            kernel_size, \n",
    "            activation, \n",
    "             padding)\n",
    "``` \n",
    "**Maxpooling 2D layer**\n",
    "\n",
    "```python \n",
    "    keras.layers.MaxPooling2D(\n",
    "                    pool_size, \n",
    "                    strides,\n",
    "                    padding)\n",
    "```\n",
    "\n",
    "**Upsampling 2D layer**\n",
    "\n",
    "```python \n",
    "    keras.layers.UpSampling2D(\n",
    "                    pool_size, \n",
    "                    interpolation)\n",
    "```"
   ]
  },
  {
   "cell_type": "markdown",
   "metadata": {},
   "source": [
    " "
   ]
  },
  {
   "cell_type": "markdown",
   "metadata": {},
   "source": [
    "<font size=4 face = 'Calibri' style='Line-height : 1.5em'>  \n",
    "\n",
    "**3.** Cоздать фильтрующий автоэнкодер <font size =5 >**de-noise autoencoder** </font> (при этом надо добавить доп. слой добавления шумов в модель,\n",
    " скрытый слой дложен быть шире входного) и исследовать свойства такой модели\n"
   ]
  },
  {
   "cell_type": "code",
   "execution_count": 17,
   "metadata": {},
   "outputs": [],
   "source": [
    "#"
   ]
  },
  {
   "cell_type": "markdown",
   "metadata": {},
   "source": [
    "## В качестве примера привожу готовую реализацию сверточной сети:\n",
    "- - -\n",
    ">> \n",
    "\n",
    "```python \n",
    "def CNN_init(inputShape, n_classes, hyperparams):\n",
    "     '''\n",
    "        Функция создания модели сверточной нейронной сети для обучения \n",
    "\n",
    "        Входные аргументы:\n",
    "            inputShape  - размер входной выборки,\n",
    "                размер должен быть (AxAx1), \n",
    "                где A – размер изображения.\n",
    "\n",
    "            n_classes   – число классов \n",
    "\n",
    "            hyperparams – словарь гиперпараметров\n",
    "                hyperparams = \\\n",
    "                    {'DROPOUT':0.008,# % дропаута\n",
    "                     'L2RATE':0.002, # коэффициент регуляризации\n",
    "                     'IMAGE_SIZE’:28,# сторона квадратного изображения\n",
    "                     'SIZE_LAYER_COF': 4 # размер входного слоя 4*imSize\n",
    "                      }\n",
    "        Выход:\n",
    "            model – модель сверточной сети\n",
    "    '''   \n",
    "    dropout_rate = hyperparams['DROPOUT']\n",
    "    l2rate       = hyperparams['L2RATE']\n",
    "    imSize       = hyperparams['IMAGE_SIZE']\n",
    "    size_layer   = hyperparams['SIZE_LAYER_COF']*imSize\n",
    "\n",
    "    model = Sequential()   \n",
    "\n",
    "    if(len(np.asarray(inputShape.shape)  )<3:\n",
    "        inputShape = (imSize, imSize,1)\n",
    "       \n",
    "    # 1\n",
    "    model.add(Conv2D(size_layer, \n",
    "                     kernel_size = 3, \n",
    "                     strides     = 1, \n",
    "                     activation  = 'linear',\n",
    "                     kernel_regularizer = keras.regularizers.l2(l2rate),\n",
    "                     input_shape = inputShape ))\n",
    "    model.add(BatchNormalization())\n",
    "    model.add(Activation('relu')) \n",
    "    model.add(MaxPooling2D(pool_size = (2, 2),strides = 2))\n",
    "    \n",
    "    # 2\n",
    "    model.add(Dropout(dropout_rate))    \n",
    "    model.add(Conv2D(size_layer, \n",
    "                     kernel_size = 3,\n",
    "                     strides     = 1, \n",
    "                     kernel_regularizer=keras.regularizers.l2(l2rate),\n",
    "                     activation  = 'linear'))   \n",
    "    model.add(BatchNormalization())\n",
    "    model.add(Activation('relu')) \n",
    "    model.add(MaxPooling2D(pool_size = (2, 2),strides = 2))\n",
    "       \n",
    "    # 3\n",
    "    model.add(Dropout(dropout_rate))\n",
    "    model.add(Conv2D(size_layer//2, \n",
    "                     kernel_size = 3,\n",
    "                     strides     = 1, \n",
    "                     kernel_regularizer = keras.regularizers.l2(l2rate),\n",
    "                     activation  = 'linear'))   \n",
    "    model.add(BatchNormalization())\n",
    "    model.add(Activation('relu')) \n",
    "    model.add(MaxPooling2D(pool_size = (2, 2),strides = 2))\n",
    "    \n",
    "    #4\n",
    "    model.add(Flatten())\n",
    "    \n",
    "    #5\n",
    "    model.add(Dense(size_layer//2, activation = 'linear'))\n",
    "    model.add(BatchNormalization())\n",
    "    model.add(Activation('relu')) \n",
    "    model.add(Dropout(dropout_rate))\n",
    "    \n",
    "    #6\n",
    "    model.add(Dense(size_layer         = n_classes, \n",
    "                    activation         = 'softmax',\n",
    "                    kernel_regularizer = keras.regularizers.l2(l2rate),\n",
    "                    kernel_initializer = keras.initializers.glorot_uniform(),\n",
    "                    bias_initializer   = keras.initializers.Zeros())) \n",
    "    \n",
    "    return model  \n",
    "\n",
    "#---------------------------------------------\n",
    "hyperparams = \\\n",
    "    {'DROPOUT':0.008,# % дропаута\n",
    "     'L2RATE':0.002, # коэффициент регуляризации\n",
    "     'IMAGE_SIZE':28,# сторона квадратного изображения\n",
    "     'SIZE_LAYER_COF': 4 # размер входного слоя 4*imSize\n",
    "    }    \n",
    "CNN = CNN_init(inputShape = (28,28,1), n_classes=10, hyperparams)     \n",
    "CNN.compile(loss      = 'sparse_categorical_crossentropy', \n",
    "            optimizer = adam(lr = LR), \n",
    "            metrics   = ['accuracy'])\n",
    "CNNm.summary()\n",
    "             \n",
    "```   \n",
    "- - - \n",
    ">>\n"
   ]
  },
  {
   "cell_type": "markdown",
   "metadata": {},
   "source": [
    "- - -\n",
    "# 4. Генеративно-состязательные сети (Generative Adversarial Network, GAN)\n",
    "- - -\n"
   ]
  },
  {
   "cell_type": "markdown",
   "metadata": {},
   "source": [
    "[Go to content](#Table-of-content)"
   ]
  },
  {
   "cell_type": "markdown",
   "metadata": {},
   "source": [
    " Генеративно-состязательные сети (Generative Adversarial Network, GAN)\n",
    "## 4.1 Основы работы GAN"
   ]
  },
  {
   "cell_type": "markdown",
   "metadata": {},
   "source": [
    "<font size=4  face = 'Calibri' style='Line-height : 1.5em'>  \n",
    "\n",
    "GAN - генеративно-состязательная сеть - это специальный вид сетей, для генерации данных из шума (напр. белого или равномерного):\n",
    "\n",
    "1. Основная цель сети при обучении- подобрать веса так, чтобы шум приобрел форму заданных данных, то есть создать соответствующий данным фильтр.  \n",
    "\n",
    "    \n",
    "2. сеть использует 2 под-сети: дискриминатор и генератор, цель первой - научится классифицировать где реальные данные, а где шум, цель второй - научится обманывать дикриминатор. \n",
    "\n",
    " "
   ]
  },
  {
   "cell_type": "markdown",
   "metadata": {},
   "source": [
    "<font size=4 face='Calibri' color = black|brown>\n",
    "принцип работы показан ниже"
   ]
  },
  {
   "cell_type": "markdown",
   "metadata": {},
   "source": [
    "![GAN-basic](https://camo.githubusercontent.com/912e1ea2c0ed056db1fd96cf45752decb74e6844/68747470733a2f2f646f63732e676f6f676c652e636f6d2f75633f69643d30427934517678416b41694e4363476c345645524d4f55644e543055)"
   ]
  },
  {
   "cell_type": "markdown",
   "metadata": {},
   "source": [
    "<font size=4 face='Calibri' color = black style='Line-height:1.5em'>\n",
    "\n",
    "см. также следующие исследования [это](https://github.com/T-Almeida/GAN-study/blob/master/01-%20GAN-2014-IanGoodfellow%20(GAN)%20-%20Keras%20implementation.ipynb) (и в дополнение \n",
    "[тут](https://github.com/erschmidt/Jupyter-GAN), \n",
    "[тут](https://github.com/tjwei/GANotebooks), \n",
    "[тут](https://github.com/T-Almeida/GAN-study),\n",
    "[тут](https://github.com/eriklindernoren/Keras-GAN)\n",
    "и широкое исследование\n",
    "[тут](https://github.com/wiseodd/generative-models ))"
   ]
  },
  {
   "cell_type": "markdown",
   "metadata": {},
   "source": [
    "<font size=4 face='Calibri' color = black style='Line-height:1.5em'>\n",
    "    \n",
    "импорт"
   ]
  },
  {
   "cell_type": "code",
   "execution_count": 1,
   "metadata": {},
   "outputs": [],
   "source": [
    "from numpy.random import seed\n",
    "seed(42)\n",
    "\n",
    "from tensorflow import set_random_seed\n",
    "set_random_seed(42)\n",
    "\n",
    "##imports\n",
    "import tensorflow as tf\n",
    "%matplotlib inline\n",
    "import matplotlib.pyplot as plt\n",
    "import tensorflow as tf\n",
    "import numpy as np\n",
    "import os\n",
    "import tensorflow.keras.backend as K\n"
   ]
  },
  {
   "cell_type": "code",
   "execution_count": 2,
   "metadata": {},
   "outputs": [],
   "source": [
    "from tensorflow.keras import Model,Input\n",
    "from tensorflow.keras.layers import Dense,Activation,LeakyReLU, BatchNormalization\n",
    "from tensorflow.keras.optimizers import Adam\n",
    "\n",
    "from functools import reduce"
   ]
  },
  {
   "cell_type": "code",
   "execution_count": 3,
   "metadata": {},
   "outputs": [],
   "source": [
    "#reset graph using during notebook development\n",
    "K.clear_session()"
   ]
  },
  {
   "cell_type": "markdown",
   "metadata": {},
   "source": [
    "<font size=4 face='Calibri' color = black style='Line-height:1.5em'>\n",
    "    \n",
    "набор данных"
   ]
  },
  {
   "cell_type": "code",
   "execution_count": 4,
   "metadata": {},
   "outputs": [],
   "source": [
    "(x_train,y_train),(x_test,y_test) = tf.keras.datasets.mnist.load_data()"
   ]
  },
  {
   "cell_type": "code",
   "execution_count": 5,
   "metadata": {},
   "outputs": [
    {
     "name": "stdout",
     "output_type": "stream",
     "text": [
      "(60000, 28, 28)\n"
     ]
    }
   ],
   "source": [
    "print(x_train.shape)"
   ]
  },
  {
   "cell_type": "code",
   "execution_count": 6,
   "metadata": {},
   "outputs": [
    {
     "name": "stdout",
     "output_type": "stream",
     "text": [
      "(28, 28)\n",
      "784\n"
     ]
    }
   ],
   "source": [
    "IMAGE_SIZE     = x_train.shape[1:]\n",
    "IMAGE_1D_SIZE  = reduce(lambda a,b:a*b,  x_train.shape[1:])\n",
    "\n",
    "print(IMAGE_SIZE)\n",
    "print(IMAGE_1D_SIZE)"
   ]
  },
  {
   "cell_type": "code",
   "execution_count": 7,
   "metadata": {},
   "outputs": [],
   "source": [
    "x_train = x_train.reshape([-1,IMAGE_1D_SIZE]).astype('float32')\n",
    "x_test  = x_test.reshape([-1,IMAGE_1D_SIZE]).astype('float32')"
   ]
  },
  {
   "cell_type": "code",
   "execution_count": 8,
   "metadata": {},
   "outputs": [
    {
     "name": "stdout",
     "output_type": "stream",
     "text": [
      "Shape of the training images (60000, 784)\n"
     ]
    }
   ],
   "source": [
    "#rescale the image to [0-1] range\n",
    "x_train = x_train/ 255\n",
    "x_test  = x_test/ 255\n",
    "\n",
    "print(\"Shape of the training images\",x_train.shape)"
   ]
  },
  {
   "cell_type": "markdown",
   "metadata": {},
   "source": [
    "<font size=4 face='Calibri' color = black style='Line-height:1.5em'>\n",
    "    \n",
    "визуализация"
   ]
  },
  {
   "cell_type": "code",
   "execution_count": 9,
   "metadata": {},
   "outputs": [],
   "source": [
    "def plot_mnist_images(data, img_shape = IMAGE_SIZE):\n",
    "    \n",
    "    imgs = data.reshape(-1,img_shape[0],img_shape[1])   \n",
    "    \n",
    "    edge_of_imgs = int(np.sqrt(data.shape[0]))\n",
    "    \n",
    "    n_of_imgs = (edge_of_imgs)**2\n",
    "\n",
    "    fig = plt.figure(figsize=(4, 4)) # create fugure \n",
    "\n",
    "    fig.subplots_adjust(left=0, right=1, bottom=0, top=1, hspace=0.05, wspace=0.05)\n",
    "\n",
    "    plt.cla()\n",
    "    \n",
    "    for i in range(n_of_imgs):\n",
    "\n",
    "        ax = fig.add_subplot(edge_of_imgs, edge_of_imgs, i + 1, xticks=[], yticks=[])\n",
    "\n",
    "        ax.imshow(imgs[i,:], cmap='binary')\n",
    "    \n",
    "    # Show the plot\n",
    "    plt.show()"
   ]
  },
  {
   "cell_type": "code",
   "execution_count": 10,
   "metadata": {
    "scrolled": true
   },
   "outputs": [
    {
     "data": {
      "image/png": "[encoded data removed]",
      "text/plain": [
       "<Figure size 288x288 with 10 Axes>"
      ]
     },
     "metadata": {
      "needs_background": "light"
     },
     "output_type": "display_data"
    }
   ],
   "source": [
    "plot_mnist_images(x_train[:9], (28,28))"
   ]
  },
  {
   "cell_type": "markdown",
   "metadata": {},
   "source": [
    "## 4.2 Создание ГАН (генератора и дискреминатора) "
   ]
  },
  {
   "cell_type": "markdown",
   "metadata": {},
   "source": [
    "<font size=4 face='Calibri' style='Line-height:1.5em'>\n",
    "\n",
    "будем использовать шум размерности 100"
   ]
  },
  {
   "cell_type": "code",
   "execution_count": 12,
   "metadata": {},
   "outputs": [],
   "source": [
    "#Dimention of random vector using for sampling\n",
    "Z_SHAPE = 100"
   ]
  },
  {
   "cell_type": "markdown",
   "metadata": {},
   "source": [
    "генератор"
   ]
  },
  {
   "cell_type": "code",
   "execution_count": 14,
   "metadata": {},
   "outputs": [
    {
     "name": "stdout",
     "output_type": "stream",
     "text": [
      "_________________________________________________________________\n",
      "Layer (type)                 Output Shape              Param #   \n",
      "=================================================================\n",
      "g_input (InputLayer)         (None, 100)               0         \n",
      "_________________________________________________________________\n",
      "dense (Dense)                (None, 128)               12928     \n",
      "_________________________________________________________________\n",
      "activation (Activation)      (None, 128)               0         \n",
      "_________________________________________________________________\n",
      "dense_1 (Dense)              (None, 784)               101136    \n",
      "_________________________________________________________________\n",
      "activation_1 (Activation)    (None, 784)               0         \n",
      "=================================================================\n",
      "Total params: 114,064\n",
      "Trainable params: 114,064\n",
      "Non-trainable params: 0\n",
      "_________________________________________________________________\n"
     ]
    }
   ],
   "source": [
    "#unput layer\n",
    "g_input = Input(shape=[Z_SHAPE], name=\"g_input\")\n",
    "\n",
    "#hidden layer\n",
    "H = Dense(128)(g_input)\n",
    "H = Activation('relu')(H)\n",
    "\n",
    "#output layer\n",
    "g_output = Dense(IMAGE_1D_SIZE)(H)\n",
    "g_output = Activation('sigmoid')(g_output)\n",
    "\n",
    "#compil midel\n",
    "generator = Model(g_input,g_output, name=\"generator\")\n",
    "\n",
    "# see what obtained\n",
    "generator.summary()\n"
   ]
  },
  {
   "cell_type": "markdown",
   "metadata": {},
   "source": [
    "<font size=4  face = 'Calibri' style='Line-height : 1.5em'>  \n",
    "    \n",
    "дискриминатор - классифицирующая сеть "
   ]
  },
  {
   "cell_type": "code",
   "execution_count": 15,
   "metadata": {},
   "outputs": [
    {
     "name": "stdout",
     "output_type": "stream",
     "text": [
      "_________________________________________________________________\n",
      "Layer (type)                 Output Shape              Param #   \n",
      "=================================================================\n",
      "d_input (InputLayer)         (None, 784)               0         \n",
      "_________________________________________________________________\n",
      "dense_2 (Dense)              (None, 128)               100480    \n",
      "_________________________________________________________________\n",
      "activation_2 (Activation)    (None, 128)               0         \n",
      "_________________________________________________________________\n",
      "dense_3 (Dense)              (None, 1)                 129       \n",
      "_________________________________________________________________\n",
      "activation_3 (Activation)    (None, 1)                 0         \n",
      "=================================================================\n",
      "Total params: 100,609\n",
      "Trainable params: 100,609\n",
      "Non-trainable params: 0\n",
      "_________________________________________________________________\n"
     ]
    }
   ],
   "source": [
    "#input layer\n",
    "d_input = Input(shape=[IMAGE_1D_SIZE],  name=\"d_input\")\n",
    "\n",
    "#hidden layer\n",
    "H = Dense(128)(d_input)\n",
    "H = Activation('relu')(H)\n",
    "\n",
    "#output layer\n",
    "d_output = Dense(1)(H)\n",
    "d_output = Activation('sigmoid')(d_output)\n",
    "\n",
    "# create model\n",
    "discriminator = Model(d_input,d_output, name=\"discriminator\")\n",
    "\n",
    "#compil midel\n",
    "d_optimizer = Adam(lr=0.001)\n",
    "discriminator.compile(loss='binary_crossentropy', optimizer=d_optimizer)\n",
    "\n",
    "# see what obtained\n",
    "discriminator.summary()"
   ]
  },
  {
   "cell_type": "markdown",
   "metadata": {},
   "source": [
    "<font size=4  face = 'Calibri' style='Line-height : 1.5em'> \n",
    "\n",
    "функция, чтобы сделать слои нетренируемыми \n",
    "\n",
    "\n"
   ]
  },
  {
   "cell_type": "markdown",
   "metadata": {},
   "source": [
    "<font size=4  face = 'Calibri' style='Line-height : 1.5em'> \n",
    "\n",
    "**NOTE**\n",
    "мы будем использовать дискриминатор с фиксированными параметрами при обучении генератора"
   ]
  },
  {
   "cell_type": "markdown",
   "metadata": {},
   "source": [
    "<font size=4  face = 'Calibri' style='Line-height : 1.3em' color=red> \n",
    "\n",
    "в силу некоторых технических недочетов keras имено тут надо замораживать слои"
   ]
  },
  {
   "cell_type": "code",
   "execution_count": 16,
   "metadata": {},
   "outputs": [],
   "source": [
    "def make_trainable(net, val=True):\n",
    "    net.trainable = val\n",
    "    for l in net.layers:\n",
    "        l.trainable = val\n",
    "\n",
    "# Freeze weights in the discriminator for adversarial training\n",
    "make_trainable(discriminator, False)\n"
   ]
  },
  {
   "cell_type": "markdown",
   "metadata": {},
   "source": [
    "<font size=4  face = 'Calibri' style='Line-height : 1.5em'> \n",
    "\n",
    "сам ГАН"
   ]
  },
  {
   "cell_type": "code",
   "execution_count": 17,
   "metadata": {},
   "outputs": [
    {
     "name": "stdout",
     "output_type": "stream",
     "text": [
      "_________________________________________________________________\n",
      "Layer (type)                 Output Shape              Param #   \n",
      "=================================================================\n",
      "gan_z_input (InputLayer)     (None, 100)               0         \n",
      "_________________________________________________________________\n",
      "generator (Model)            (None, 784)               114064    \n",
      "_________________________________________________________________\n",
      "discriminator (Model)        (None, 1)                 100609    \n",
      "=================================================================\n",
      "Total params: 214,673\n",
      "Trainable params: 114,064\n",
      "Non-trainable params: 100,609\n",
      "_________________________________________________________________\n"
     ]
    }
   ],
   "source": [
    "# Build stacked GAN model to train the generator\n",
    "gan_input = Input(shape=[Z_SHAPE], name=\"gan_z_input\")\n",
    "gan_fake_samples = generator(gan_input)\n",
    "gan_output = discriminator(gan_fake_samples)\n",
    "\n",
    "#create model \n",
    "gan = Model(gan_input, gan_output, name=\"generator_adversarial\")\n",
    "\n",
    "#compile model \n",
    "gan_optimizer = Adam(lr=0.001)\n",
    "gan.compile(loss='binary_crossentropy', optimizer=gan_optimizer)\n",
    "\n",
    "# see the model\n",
    "gan.summary()"
   ]
  },
  {
   "cell_type": "markdown",
   "metadata": {},
   "source": [
    "## 4.3 Тренировка GAN"
   ]
  },
  {
   "cell_type": "markdown",
   "metadata": {},
   "source": [
    "<font size=4  face = 'Calibri' style='Line-height : 1.5em'>  \n",
    "    \n",
    " процедура тренировки состоит из 2 \n",
    " этапов\n",
    " </font>\n",
    " \n",
    " \n",
    "1 этап - генерация изображений генератором \n",
    "и присвоение им класса 0 и выборка реальных изображений с классом 1 и обучение дискриминатора на сформированном наборе данных.\n",
    "\n",
    "\n",
    "2 этап - обучение генератора с фиксированным дискриминатором генерировать данные из шума."
   ]
  },
  {
   "cell_type": "markdown",
   "metadata": {},
   "source": [
    "\n",
    "\n",
    "<font size =5 face = 'Calibri' >    \n",
    "    \n",
    "функция, для создания шума на входе генератора"
   ]
  },
  {
   "cell_type": "code",
   "execution_count": 19,
   "metadata": {},
   "outputs": [],
   "source": [
    "def random_Z(m, n=Z_SHAPE):\n",
    "    return np.random.uniform(-1., 1., size=[m, n])    "
   ]
  },
  {
   "cell_type": "markdown",
   "metadata": {},
   "source": [
    "<font size =5 face = 'Calibri' >\n",
    "    \n",
    "вспомогательные процедуры"
   ]
  },
  {
   "cell_type": "code",
   "execution_count": 20,
   "metadata": {},
   "outputs": [],
   "source": [
    "#save losses \n",
    "losses = {}\n",
    "losses[\"gan_loss\"] = []\n",
    "losses[\"d_loss\"]   = []"
   ]
  },
  {
   "cell_type": "markdown",
   "metadata": {},
   "source": [
    "<font size =5 face = 'Calibri' >\n",
    "    \n",
    "    \n",
    "**тренеровка** "
   ]
  },
  {
   "cell_type": "code",
   "execution_count": 22,
   "metadata": {
    "scrolled": true
   },
   "outputs": [
    {
     "name": "stdout",
     "output_type": "stream",
     "text": [
      "Discriminator loss:  0.29918635\n",
      "Generator loss: 3.747555\n"
     ]
    },
    {
     "data": {
      "image/png": "[encoded data removed]",
      "text/plain": [
       "<Figure size 288x288 with 10 Axes>"
      ]
     },
     "metadata": {
      "needs_background": "light"
     },
     "output_type": "display_data"
    },
    {
     "name": "stdout",
     "output_type": "stream",
     "text": [
      "Discriminator loss:  0.34445345\n",
      "Generator loss: 3.0470865\n"
     ]
    },
    {
     "data": {
      "image/png": "[encoded data removed]",
      "text/plain": [
       "<Figure size 288x288 with 10 Axes>"
      ]
     },
     "metadata": {
      "needs_background": "light"
     },
     "output_type": "display_data"
    },
    {
     "name": "stdout",
     "output_type": "stream",
     "text": [
      "Discriminator loss:  0.35156074\n",
      "Generator loss: 2.7249665\n"
     ]
    },
    {
     "data": {
      "image/png": "[encoded data removed]",
      "text/plain": [
       "<Figure size 288x288 with 10 Axes>"
      ]
     },
     "metadata": {
      "needs_background": "light"
     },
     "output_type": "display_data"
    },
    {
     "name": "stdout",
     "output_type": "stream",
     "text": [
      "Discriminator loss:  0.43849242\n",
      "Generator loss: 2.3149114\n"
     ]
    },
    {
     "data": {
      "image/png": "[encoded data removed]",
      "text/plain": [
       "<Figure size 288x288 with 10 Axes>"
      ]
     },
     "metadata": {
      "needs_background": "light"
     },
     "output_type": "display_data"
    },
    {
     "name": "stdout",
     "output_type": "stream",
     "text": [
      "Discriminator loss:  0.29594195\n",
      "Generator loss: 2.8674092\n"
     ]
    },
    {
     "data": {
      "image/png": "[encoded data removed]",
      "text/plain": [
       "<Figure size 288x288 with 10 Axes>"
      ]
     },
     "metadata": {
      "needs_background": "light"
     },
     "output_type": "display_data"
    },
    {
     "name": "stdout",
     "output_type": "stream",
     "text": [
      "Discriminator loss:  0.38314658\n",
      "Generator loss: 2.408444\n"
     ]
    },
    {
     "data": {
      "image/png": "[encoded data removed]",
      "text/plain": [
       "<Figure size 288x288 with 10 Axes>"
      ]
     },
     "metadata": {
      "needs_background": "light"
     },
     "output_type": "display_data"
    },
    {
     "name": "stdout",
     "output_type": "stream",
     "text": [
      "Discriminator loss:  0.2883997\n",
      "Generator loss: 2.7571168\n"
     ]
    },
    {
     "data": {
      "image/png": "[encoded data removed]",
      "text/plain": [
       "<Figure size 288x288 with 10 Axes>"
      ]
     },
     "metadata": {
      "needs_background": "light"
     },
     "output_type": "display_data"
    },
    {
     "name": "stdout",
     "output_type": "stream",
     "text": [
      "Discriminator loss:  0.39752102\n",
      "Generator loss: 1.7469094\n"
     ]
    },
    {
     "data": {
      "image/png": "[encoded data removed]",
      "text/plain": [
       "<Figure size 288x288 with 10 Axes>"
      ]
     },
     "metadata": {
      "needs_background": "light"
     },
     "output_type": "display_data"
    },
    {
     "name": "stdout",
     "output_type": "stream",
     "text": [
      "Discriminator loss:  0.41310924\n",
      "Generator loss: 2.1446662\n"
     ]
    },
    {
     "data": {
      "image/png": "[encoded data removed]",
      "text/plain": [
       "<Figure size 288x288 with 10 Axes>"
      ]
     },
     "metadata": {
      "needs_background": "light"
     },
     "output_type": "display_data"
    },
    {
     "name": "stdout",
     "output_type": "stream",
     "text": [
      "Discriminator loss:  0.31860298\n",
      "Generator loss: 2.1491573\n"
     ]
    },
    {
     "data": {
      "image/png": "[encoded data removed]",
      "text/plain": [
       "<Figure size 288x288 with 10 Axes>"
      ]
     },
     "metadata": {
      "needs_background": "light"
     },
     "output_type": "display_data"
    },
    {
     "name": "stdout",
     "output_type": "stream",
     "text": [
      "Discriminator loss:  0.3985697\n",
      "Generator loss: 1.8961341\n"
     ]
    },
    {
     "data": {
      "image/png": "[encoded data removed]",
      "text/plain": [
       "<Figure size 288x288 with 10 Axes>"
      ]
     },
     "metadata": {
      "needs_background": "light"
     },
     "output_type": "display_data"
    },
    {
     "name": "stdout",
     "output_type": "stream",
     "text": [
      "Discriminator loss:  0.34212732\n",
      "Generator loss: 2.3782015\n"
     ]
    },
    {
     "data": {
      "image/png": "[encoded data removed]",
      "text/plain": [
       "<Figure size 288x288 with 10 Axes>"
      ]
     },
     "metadata": {
      "needs_background": "light"
     },
     "output_type": "display_data"
    },
    {
     "name": "stdout",
     "output_type": "stream",
     "text": [
      "Discriminator loss:  0.31089497\n",
      "Generator loss: 2.4200706\n"
     ]
    },
    {
     "data": {
      "image/png": "[encoded data removed]",
      "text/plain": [
       "<Figure size 288x288 with 10 Axes>"
      ]
     },
     "metadata": {
      "needs_background": "light"
     },
     "output_type": "display_data"
    },
    {
     "name": "stdout",
     "output_type": "stream",
     "text": [
      "Discriminator loss:  0.35902715\n",
      "Generator loss: 2.4125984\n"
     ]
    },
    {
     "data": {
      "image/png": "[encoded data removed]",
      "text/plain": [
       "<Figure size 288x288 with 10 Axes>"
      ]
     },
     "metadata": {
      "needs_background": "light"
     },
     "output_type": "display_data"
    },
    {
     "name": "stdout",
     "output_type": "stream",
     "text": [
      "Discriminator loss:  0.39257678\n",
      "Generator loss: 1.9832001\n"
     ]
    },
    {
     "data": {
      "image/png": "[encoded data removed]",
      "text/plain": [
       "<Figure size 288x288 with 10 Axes>"
      ]
     },
     "metadata": {
      "needs_background": "light"
     },
     "output_type": "display_data"
    },
    {
     "name": "stdout",
     "output_type": "stream",
     "text": [
      "Discriminator loss:  0.37778705\n",
      "Generator loss: 2.2485747\n"
     ]
    },
    {
     "data": {
      "image/png": "[encoded data removed]",
      "text/plain": [
       "<Figure size 288x288 with 10 Axes>"
      ]
     },
     "metadata": {
      "needs_background": "light"
     },
     "output_type": "display_data"
    },
    {
     "name": "stdout",
     "output_type": "stream",
     "text": [
      "Discriminator loss:  0.43833795\n",
      "Generator loss: 1.9376869\n"
     ]
    },
    {
     "data": {
      "image/png": "[encoded data removed]",
      "text/plain": [
       "<Figure size 288x288 with 10 Axes>"
      ]
     },
     "metadata": {
      "needs_background": "light"
     },
     "output_type": "display_data"
    },
    {
     "name": "stdout",
     "output_type": "stream",
     "text": [
      "Discriminator loss:  0.39354604\n",
      "Generator loss: 2.1546361\n"
     ]
    },
    {
     "data": {
      "image/png": "[encoded data removed]",
      "text/plain": [
       "<Figure size 288x288 with 10 Axes>"
      ]
     },
     "metadata": {
      "needs_background": "light"
     },
     "output_type": "display_data"
    },
    {
     "name": "stdout",
     "output_type": "stream",
     "text": [
      "Discriminator loss:  0.36735097\n",
      "Generator loss: 2.1618223\n"
     ]
    },
    {
     "data": {
      "image/png": "[encoded data removed]",
      "text/plain": [
       "<Figure size 288x288 with 10 Axes>"
      ]
     },
     "metadata": {
      "needs_background": "light"
     },
     "output_type": "display_data"
    },
    {
     "name": "stdout",
     "output_type": "stream",
     "text": [
      "Discriminator loss:  0.35748142\n",
      "Generator loss: 1.9400382\n"
     ]
    },
    {
     "data": {
      "image/png": "[encoded data removed]",
      "text/plain": [
       "<Figure size 288x288 with 10 Axes>"
      ]
     },
     "metadata": {
      "needs_background": "light"
     },
     "output_type": "display_data"
    }
   ],
   "source": [
    "batch_size = 256 #must be multiple of 2\n",
    "epochs     = 20000\n",
    "\n",
    "\n",
    "#save losses \n",
    "losses = {}\n",
    "losses[\"gan_loss\"] = []\n",
    "losses[\"d_loss\"] = []\n",
    "\n",
    "for i in range(epochs):\n",
    "    \n",
    "    #generate images\n",
    "    synthetic_images = generator.predict_on_batch(random_Z(batch_size))\n",
    "    \n",
    "    #select from tranning set\n",
    "    real_images = x_train[np.random.randint(0,x_train.shape[0],size=batch_size),:]\n",
    "    \n",
    "    d_x = np.concatenate((synthetic_images, real_images))\n",
    "    d_y = np.zeros([2*batch_size,1])\n",
    "    \n",
    "    d_y[batch_size:] = 1 #second half of the batch are true images so have label 1 and fake (first half) have label 0\n",
    "        \n",
    "    #first discriminator\n",
    "    make_trainable(discriminator,True)\n",
    "    d_loss = discriminator.train_on_batch(d_x,d_y)\n",
    "    \n",
    "    #second generator in adversarail faction\n",
    "    gan_x = random_Z(2*batch_size)\n",
    "    gan_y = np.ones([2*batch_size,1])\n",
    "\n",
    "    make_trainable(discriminator,False)\n",
    "    gan_loss = gan.train_on_batch(gan_x,gan_y)\n",
    "    \n",
    "    losses[\"gan_loss\"] += [gan_loss]\n",
    "    losses[\"d_loss\"]   += [d_loss]\n",
    "\n",
    "    \n",
    "    if i%(epochs/20) == 0:\n",
    "        print(\"Epoch: \",i)\n",
    "        print(\"Discriminator loss: \",d_loss)\n",
    "        print(\"Generator loss:\",gan_loss)\n",
    "        \n",
    "        #sample 9 images from generator\n",
    "        generated_images = generator.predict_on_batch(random_Z(9))\n",
    "        plot_mnist_images(generated_images)\n"
   ]
  },
  {
   "cell_type": "markdown",
   "metadata": {},
   "source": [
    "<font size =5 face = 'Calibri' >\n",
    "    \n",
    "сохранение модели\n"
   ]
  },
  {
   "cell_type": "code",
   "execution_count": 23,
   "metadata": {},
   "outputs": [],
   "source": [
    "#Save models\n",
    "gan.save('gan.hdf5')\n",
    "discriminator.save('discriminator.h5py')"
   ]
  },
  {
   "cell_type": "markdown",
   "metadata": {},
   "source": [
    "<font size =5 face = 'Calibri' >\n",
    "    \n",
    "Кривая обучения"
   ]
  },
  {
   "cell_type": "code",
   "execution_count": 24,
   "metadata": {},
   "outputs": [
    {
     "name": "stdout",
     "output_type": "stream",
     "text": [
      "Discriminator loss:  0.479488\n",
      "Generator loss: 2.0033152\n",
      "\n",
      " Plot learning curves \n",
      "\n"
     ]
    },
    {
     "data": {
      "image/png": "[encoded data removed]",
      "text/plain": [
       "<Figure size 432x288 with 1 Axes>"
      ]
     },
     "metadata": {
      "needs_background": "light"
     },
     "output_type": "display_data"
    }
   ],
   "source": [
    "print(\"Discriminator loss: \",d_loss)\n",
    "print(\"Generator loss:\",gan_loss)\n",
    "\n",
    "print(\"\\n Plot learning curves \\n\")\n",
    "\n",
    "plt.plot(losses[\"gan_loss\"], label='discriminitive loss')\n",
    "plt.plot(losses[\"d_loss\"], label='generative loss')\n",
    "plt.legend()\n",
    "plt.show()"
   ]
  },
  {
   "cell_type": "markdown",
   "metadata": {},
   "source": [
    "<font size =5 face = 'Calibri' >\n",
    "\n",
    "**резуьлтат обучения**\n",
    "\n",
    "создадим 9 изображений из шума (`random_Z(9)`)"
   ]
  },
  {
   "cell_type": "code",
   "execution_count": 25,
   "metadata": {},
   "outputs": [
    {
     "data": {
      "image/png": "[encoded data removed]",
      "text/plain": [
       "<Figure size 288x288 with 10 Axes>"
      ]
     },
     "metadata": {
      "needs_background": "light"
     },
     "output_type": "display_data"
    }
   ],
   "source": [
    "generated_images = generator.predict_on_batch(random_Z(9))\n",
    "plot_mnist_images(generated_images)"
   ]
  },
  {
   "cell_type": "markdown",
   "metadata": {},
   "source": [
    "## 4.4 Упражнения"
   ]
  },
  {
   "cell_type": "markdown",
   "metadata": {},
   "source": [
    "<font size =4 face = 'Calibri' >\n",
    "    \n",
    "**1.**  исследовать ГАН в зависимости от параметров модели и числа слоев"
   ]
  },
  {
   "cell_type": "code",
   "execution_count": 18,
   "metadata": {},
   "outputs": [],
   "source": [
    "#"
   ]
  },
  {
   "cell_type": "markdown",
   "metadata": {},
   "source": [
    "\n",
    "</font> <font size =4 face = 'Calibri' style='Line-heght:1.5em'>\n",
    "    \n",
    "**2.** преорбазовать модель в сверточный ГАН"
   ]
  },
  {
   "cell_type": "code",
   "execution_count": null,
   "metadata": {},
   "outputs": [],
   "source": [
    "#"
   ]
  }
 ],
 "metadata": {
  "kernelspec": {
   "display_name": "Python 3",
   "language": "python",
   "name": "python3"
  },
  "language_info": {
   "codemirror_mode": {
    "name": "ipython",
    "version": 3
   },
   "file_extension": ".py",
   "mimetype": "text/x-python",
   "name": "python",
   "nbconvert_exporter": "python",
   "pygments_lexer": "ipython3",
   "version": "3.7.4"
  }
 },
 "nbformat": 4,
 "nbformat_minor": 2
}
