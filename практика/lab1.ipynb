{
 "cells": [
  {
   "cell_type": "markdown",
   "metadata": {},
   "source": [
    "# Введение в Python"
   ]
  },
  {
   "cell_type": "markdown",
   "metadata": {},
   "source": [
    "<font size=4 face = 'Calibri' >  \n",
    "Питон высокоурвневый интерпитируемый язык программирования со строгой динамической типизацией"
   ]
  },
  {
   "cell_type": "markdown",
   "metadata": {},
   "source": [
    "<font size=4 face = 'Calibri' >  \n",
    "    \n",
    "Jupyter - браузерная среда разработки на Python\n",
    "\n",
    "\n",
    "Также Jupyter поддерживает и иные интерпритируемые языки проргаммирования "
   ]
  },
  {
   "cell_type": "markdown",
   "metadata": {},
   "source": [
    "<font size=4 face = 'Calibri' >  \n",
    "    \n",
    "\n",
    "в Jupyter весь код делется на ячейки, существует 4 типа ячеек:\n",
    "* код (code)\n",
    "* комментарий (markdown)\n",
    "* заголовок (header)\n",
    "* черновик (raw)"
   ]
  },
  {
   "cell_type": "code",
   "execution_count": 2,
   "metadata": {},
   "outputs": [
    {
     "name": "stdout",
     "output_type": "stream",
     "text": [
      "Hellow, world!\n"
     ]
    }
   ],
   "source": [
    "''' пример ячейки кода с комментариями This is long coment'''\n",
    "print ('Hellow, world!') # this is short coment"
   ]
  },
  {
   "cell_type": "markdown",
   "metadata": {},
   "source": [
    "## Типы данных в  python"
   ]
  },
  {
   "cell_type": "code",
   "execution_count": 3,
   "metadata": {},
   "outputs": [
    {
     "name": "stdout",
     "output_type": "stream",
     "text": [
      "7\n"
     ]
    }
   ],
   "source": [
    "''' int '''\n",
    "myint = 7\n",
    "print(myint)"
   ]
  },
  {
   "cell_type": "code",
   "execution_count": 5,
   "metadata": {},
   "outputs": [
    {
     "name": "stdout",
     "output_type": "stream",
     "text": [
      "7.0\n",
      "7.0\n"
     ]
    }
   ],
   "source": [
    "''' float '''\n",
    "myfloat = 7.0 # dot mean that you want float type \n",
    "print(myfloat)\n",
    "myfloat = float(7) # outher method for set float\n",
    "print(myfloat)"
   ]
  },
  {
   "cell_type": "code",
   "execution_count": 7,
   "metadata": {},
   "outputs": [
    {
     "name": "stdout",
     "output_type": "stream",
     "text": [
      "hello\n",
      "hello\n",
      "Don't worry about apostrophes\n"
     ]
    }
   ],
   "source": [
    "'''string '''\n",
    "mystring = 'hello'  # stirng of char variables can be set in ' <string>' form\n",
    "print(mystring)\n",
    "mystring = \"hello\"\n",
    "print(mystring)    # stirng of char variables can be set in \"<string>\"  form\n",
    "mystring = \"Don't worry about apostrophes if you use double apostrophes\"\n",
    "print(mystring)"
   ]
  },
  {
   "cell_type": "markdown",
   "metadata": {},
   "source": [
    "<font size=4 face = 'Calibri' >  \n",
    "простые операции"
   ]
  },
  {
   "cell_type": "code",
   "execution_count": 8,
   "metadata": {},
   "outputs": [
    {
     "name": "stdout",
     "output_type": "stream",
     "text": [
      "3\n",
      "hello world\n"
     ]
    }
   ],
   "source": [
    "\n",
    "one = 1\n",
    "two = 2\n",
    "three = one + two\n",
    "print(three)\n",
    "\n",
    "hello = \"hello\"\n",
    "world = \"world\"\n",
    "helloworld = hello + \" \" + world\n",
    "print(helloworld)"
   ]
  },
  {
   "cell_type": "code",
   "execution_count": 9,
   "metadata": {
    "scrolled": true
   },
   "outputs": [
    {
     "name": "stdout",
     "output_type": "stream",
     "text": [
      "3 4\n"
     ]
    }
   ],
   "source": [
    "a, b = 3, 4\n",
    "print(a,b)"
   ]
  },
  {
   "cell_type": "markdown",
   "metadata": {},
   "source": [
    "## операции в Python"
   ]
  },
  {
   "cell_type": "markdown",
   "metadata": {},
   "source": [
    "### оперция if"
   ]
  },
  {
   "cell_type": "code",
   "execution_count": 60,
   "metadata": {},
   "outputs": [
    {
     "name": "stdout",
     "output_type": "stream",
     "text": [
      "this is string\n",
      "this will be printed in any case \n"
     ]
    }
   ],
   "source": [
    "''' conditional operations could be implemented by operator if'''\n",
    "mystring = 'this is string'\n",
    "myint = 7\n",
    "myfloat = 7.9\n",
    "\n",
    "\n",
    "'''type operation return type of data\n",
    "   for separate subprogram use tabulation or 4 spaces\n",
    "   after operators like if use : to point where subprogram begin '''\n",
    "if type(mystring)==str:\n",
    "    print (mystring) # if mystring has strint type (str)\n",
    "\n",
    "# the level of indents point to the level of operation   \n",
    "print ('this will be printed in any case ')\n",
    "    \n"
   ]
  },
  {
   "cell_type": "code",
   "execution_count": 58,
   "metadata": {},
   "outputs": [
    {
     "name": "stdout",
     "output_type": "stream",
     "text": [
      "this integer number = 7\n"
     ]
    }
   ],
   "source": [
    "''' for multi conditions case you may use elif operator to switch between cases '''\n",
    "if type(myint)==str:\n",
    "    print (\" this condition coudn't be implemented\" )  \n",
    "elif type(myint)==int :\n",
    "    print (\"this integer number = \"+str(myint)) #operation str(x) return x of string type\n",
    "  \n",
    "\n",
    "    "
   ]
  },
  {
   "cell_type": "code",
   "execution_count": 59,
   "metadata": {},
   "outputs": [
    {
     "name": "stdout",
     "output_type": "stream",
     "text": [
      "this float number = 7.9\n"
     ]
    }
   ],
   "source": [
    "''' outher opertor is else '''\n",
    "if type(myfloat)==str:\n",
    "    print (\" this condition coudn't be implemented\" )  \n",
    "elif type(myfloat)==int :\n",
    "    print (\"this integer number = \"+str(myint))    \n",
    "else:\n",
    "    print (\"this float number = \"+str(myfloat))  "
   ]
  },
  {
   "cell_type": "code",
   "execution_count": 57,
   "metadata": {},
   "outputs": [
    {
     "name": "stdout",
     "output_type": "stream",
     "text": [
      "7\n"
     ]
    }
   ],
   "source": [
    "if type(myint) and myint>6: # you may use a several conditions \n",
    "    print (myint)"
   ]
  },
  {
   "cell_type": "code",
   "execution_count": 54,
   "metadata": {
    "scrolled": true
   },
   "outputs": [
    {
     "ename": "IndentationError",
     "evalue": "unexpected indent (<ipython-input-54-d275a939befd>, line 2)",
     "output_type": "error",
     "traceback": [
      "\u001b[1;36m  File \u001b[1;32m\"<ipython-input-54-d275a939befd>\"\u001b[1;36m, line \u001b[1;32m2\u001b[0m\n\u001b[1;33m    '''the long comments with oцn indentation call IndentationError'''\u001b[0m\n\u001b[1;37m    ^\u001b[0m\n\u001b[1;31mIndentationError\u001b[0m\u001b[1;31m:\u001b[0m unexpected indent\n"
     ]
    }
   ],
   "source": [
    "mystring = 'this is string'\n",
    " '''the long comments with oцn indentation call IndentationError'''\n",
    "print(mystring) "
   ]
  },
  {
   "cell_type": "markdown",
   "metadata": {},
   "source": [
    "## Упражнения\n",
    "\n",
    "создать строку, целое и цисло с плавоющей запятой. \n",
    "\n",
    "строка должна быть названа \"mystring\" и включать слово \"hello\".\n",
    "\n",
    "цисло с плавоющей запятой должно быть названо myfloat и быть равно 10.0.\n",
    "\n",
    "целое число должно быть названо myint и быть равно 20.\n",
    "\n"
   ]
  },
  {
   "cell_type": "code",
   "execution_count": 44,
   "metadata": {},
   "outputs": [],
   "source": [
    "# change this code\n",
    "mystring = None\n",
    "myfloat = None\n",
    "myint = None\n",
    "\n",
    "# testing code\n",
    "if mystring == \"hello\":\n",
    "    print(\"String: %s\" % mystring)\n",
    "if isinstance(myfloat, float) and myfloat == 10.0:\n",
    "    print(\"Float: %f\" % myfloat)\n",
    "if isinstance(myint, int) and myint == 20:\n",
    "    print(\"Integer: %d\" % myint)"
   ]
  },
  {
   "cell_type": "markdown",
   "metadata": {},
   "source": [
    "# Типы данных многих переменных (массивы)"
   ]
  },
  {
   "cell_type": "markdown",
   "metadata": {},
   "source": [
    "<font size=4 face = 'Calibri' >    \n",
    "тип данных лист (список, list) - похож на массив в других языках программирования.\n",
    "    \n",
    "<font size=4 face = 'Calibri' >    \n",
    "Они могут содержать любой тип переменной, и они могут содержать столько переменных, сколько пожелаете.    \n",
    "<font size=4 face = 'Calibri' >    \n",
    "Ниже приведены примеры задания списков."
   ]
  },
  {
   "cell_type": "code",
   "execution_count": 5,
   "metadata": {},
   "outputs": [
    {
     "name": "stdout",
     "output_type": "stream",
     "text": [
      "1\n",
      "2\n",
      "3\n",
      "[2, 3]\n",
      "[2]\n",
      "['string_element1', 'string_element2']\n",
      "[[2], ['string_element1', 'string_element2']]\n"
     ]
    }
   ],
   "source": [
    "mylist = list()  # this mean empty list\n",
    "mylist.append(1) # each list has a number of methods\n",
    "mylist.append(2) # mthod append means that you want to add new element in list\n",
    "mylist.append(3)\n",
    "print(mylist[0]) # prints 1\n",
    "print(mylist[1]) # prints 2\n",
    "print(mylist[2]) # prints 3\n",
    "mylist.pop(0) # you may remove an element by this method, 0 means first element   \n",
    "print(mylist)\n",
    "mylist.pop() # without arguments you remove last element  \n",
    "print(mylist)\n",
    "\n",
    "mylist2=[] # squrebrakets is the alternative method for create a list\n",
    "mylist2.append('string_element1') # strings also can be separate elements\n",
    "mylist2.append('string_element2')\n",
    "print(mylist2)\n",
    "print([mylist,mylist2]) # you may set a list of lists"
   ]
  },
  {
   "cell_type": "markdown",
   "metadata": {},
   "source": [
    "<font size=4 face = 'Calibri' >  \n",
    "Самые простые операции с листами могут быть проведены в циклах"
   ]
  },
  {
   "cell_type": "code",
   "execution_count": 6,
   "metadata": {},
   "outputs": [
    {
     "name": "stdout",
     "output_type": "stream",
     "text": [
      "2\n"
     ]
    }
   ],
   "source": [
    "# For is is the simple cycle \n",
    "for i in range(0,len(mylist),1):  #it means (i=0;i<length(mylist);i++)   \n",
    "    print(mylist[i]) # you may call each element of list by point it in square brakets []\n",
    "    \n",
    "    "
   ]
  },
  {
   "cell_type": "code",
   "execution_count": 7,
   "metadata": {},
   "outputs": [
    {
     "name": "stdout",
     "output_type": "stream",
     "text": [
      "2\n"
     ]
    }
   ],
   "source": [
    "''' более простой путь работы со списком'''\n",
    "for x in mylist:   \n",
    "    print(x)"
   ]
  },
  {
   "cell_type": "code",
   "execution_count": 9,
   "metadata": {},
   "outputs": [
    {
     "ename": "IndexError",
     "evalue": "list index out of range",
     "output_type": "error",
     "traceback": [
      "\u001b[1;31m---------------------------------------------------------------------------\u001b[0m",
      "\u001b[1;31mIndexError\u001b[0m                                Traceback (most recent call last)",
      "\u001b[1;32m<ipython-input-9-998c60738270>\u001b[0m in \u001b[0;36m<module>\u001b[1;34m\u001b[0m\n\u001b[0;32m      3\u001b[0m \u001b[1;33m\u001b[0m\u001b[0m\n\u001b[0;32m      4\u001b[0m \u001b[0mmylist\u001b[0m \u001b[1;33m=\u001b[0m \u001b[1;33m[\u001b[0m\u001b[1;36m1\u001b[0m\u001b[1;33m,\u001b[0m\u001b[1;36m2\u001b[0m\u001b[1;33m,\u001b[0m\u001b[1;36m3\u001b[0m\u001b[1;33m]\u001b[0m\u001b[1;33m\u001b[0m\u001b[0m\n\u001b[1;32m----> 5\u001b[1;33m \u001b[0mprint\u001b[0m\u001b[1;33m(\u001b[0m\u001b[0mmylist\u001b[0m\u001b[1;33m[\u001b[0m\u001b[1;36m10\u001b[0m\u001b[1;33m]\u001b[0m\u001b[1;33m)\u001b[0m\u001b[1;33m\u001b[0m\u001b[0m\n\u001b[0m",
      "\u001b[1;31mIndexError\u001b[0m: list index out of range"
     ]
    }
   ],
   "source": [
    "'''\n",
    "    пример неправильного доступа к элементами списка\n",
    "'''\n",
    "\n",
    "mylist = [1,2,3]\n",
    "print(mylist[10])\n"
   ]
  },
  {
   "cell_type": "code",
   "execution_count": 10,
   "metadata": {},
   "outputs": [
    {
     "name": "stdout",
     "output_type": "stream",
     "text": [
      "[1, 2, 3]\n",
      "[2, 3]\n"
     ]
    }
   ],
   "source": [
    "'''пример работы со срезами списка '''\n",
    "mylist = [1,2,3,4,5,6,7,8,9,10]\n",
    "print(mylist[0:3])\n",
    "print(mylist[1:3])"
   ]
  },
  {
   "cell_type": "code",
   "execution_count": 17,
   "metadata": {},
   "outputs": [
    {
     "name": "stdout",
     "output_type": "stream",
     "text": [
      "10\n",
      "[6, 7, 8, 9]\n",
      "[6, 7, 8]\n"
     ]
    }
   ],
   "source": [
    "print(mylist[-1])    # -1 means that you want last element\n",
    "print(mylist[5:-1])  # the last element doesn't taken into account if you get a slice\n",
    "print(mylist[5:-2])  # this notation means that you want elements form 5 to -3"
   ]
  },
  {
   "cell_type": "markdown",
   "metadata": {},
   "source": [
    "## Упражнения\n",
    "\n",
    "Добавить числа 1,2,3 и строки 'hello' и 'world' в соответствующие массивы используюя метод \"append\". \n",
    "\n",
    "также добавить в переменную name2 второй элемент из списка \n"
   ]
  },
  {
   "cell_type": "code",
   "execution_count": null,
   "metadata": {},
   "outputs": [],
   "source": [
    "numbers = []\n",
    "strings = []\n",
    "names = [\"John\", \"Eric\", \"Jessica\"]\n",
    "\n",
    "# write your code here\n",
    "name2 = None\n",
    "''' use the brackets operator [] for make access for list elements. \n",
    "    Note that the index is zero-based, \n",
    "    so if you want to access the second item in the list, its index will be 1.'''\n",
    "\n",
    "# this code should write out the filled arrays and the second name in the names list (Eric).\n",
    "print(numbers)\n",
    "print(strings)\n",
    "print(\"The second name on the names list is %s\" % name2) "
   ]
  },
  {
   "cell_type": "markdown",
   "metadata": {},
   "source": [
    "\n",
    "\n",
    "## Другие типы массивов в Питоне\n",
    "\n",
    "<font size=4 face = 'Calibri' > \n",
    "* tuple - неизменый тип\n",
    "* dictionary - содержит словари\n",
    "* set  - содержит только уникальные элементы."
   ]
  },
  {
   "cell_type": "code",
   "execution_count": 70,
   "metadata": {},
   "outputs": [
    {
     "name": "stdout",
     "output_type": "stream",
     "text": [
      "(1, 3, 4)\n"
     ]
    }
   ],
   "source": [
    "#tuple\n",
    "tuple_1 = tuple()\n",
    "tuple_1=(1,3,4)\n",
    "print(tuple_1)"
   ]
  },
  {
   "cell_type": "code",
   "execution_count": 69,
   "metadata": {},
   "outputs": [
    {
     "ename": "TypeError",
     "evalue": "'tuple' object does not support item assignment",
     "output_type": "error",
     "traceback": [
      "\u001b[1;31m---------------------------------------------------------------------------\u001b[0m",
      "\u001b[1;31mTypeError\u001b[0m                                 Traceback (most recent call last)",
      "\u001b[1;32m<ipython-input-69-7e48418b7f58>\u001b[0m in \u001b[0;36m<module>\u001b[1;34m()\u001b[0m\n\u001b[0;32m      1\u001b[0m \u001b[1;31m#if you  try to change tuple_1 element\u001b[0m\u001b[1;33m\u001b[0m\u001b[1;33m\u001b[0m\u001b[0m\n\u001b[1;32m----> 2\u001b[1;33m \u001b[0mtuple_1\u001b[0m\u001b[1;33m[\u001b[0m\u001b[1;36m1\u001b[0m\u001b[1;33m]\u001b[0m\u001b[1;33m=\u001b[0m\u001b[0mtuple_1\u001b[0m\u001b[1;33m[\u001b[0m\u001b[1;36m1\u001b[0m\u001b[1;33m]\u001b[0m\u001b[1;33m+\u001b[0m\u001b[0mtuple_1\u001b[0m\u001b[1;33m[\u001b[0m\u001b[1;36m0\u001b[0m\u001b[1;33m]\u001b[0m\u001b[1;33m\u001b[0m\u001b[0m\n\u001b[0m\u001b[0;32m      3\u001b[0m \u001b[0mprint\u001b[0m\u001b[1;33m(\u001b[0m\u001b[0mtuple_1\u001b[0m\u001b[1;33m)\u001b[0m\u001b[1;33m\u001b[0m\u001b[0m\n",
      "\u001b[1;31mTypeError\u001b[0m: 'tuple' object does not support item assignment"
     ]
    }
   ],
   "source": [
    "#if you  try to change tuple_1 element you get TypeError\n",
    "tuple_1[1]=tuple_1[1]+tuple_1[0]\n",
    "print(tuple_1)"
   ]
  },
  {
   "cell_type": "code",
   "execution_count": 86,
   "metadata": {},
   "outputs": [
    {
     "name": "stdout",
     "output_type": "stream",
     "text": [
      "{1, 2, 3}\n",
      "{1, 2}\n",
      "(1, 1, 1, 1, 2)\n",
      "{1, 2}\n"
     ]
    }
   ],
   "source": [
    "set_1 =set()\n",
    "set1 = {1,2,3}\n",
    "print (set1)\n",
    "\n",
    "set2 = {1,1,1,1,2} # set can contain only  non-recurring elements\n",
    "print (set2)\n",
    "\n",
    "tup1=(1,1,1,1,2)\n",
    "set3= set(tup1)\n",
    "print (tup1)\n",
    "print (set3)\n",
    "\n"
   ]
  },
  {
   "cell_type": "code",
   "execution_count": 79,
   "metadata": {},
   "outputs": [
    {
     "name": "stdout",
     "output_type": "stream",
     "text": [
      "{'b': 2, 'a': 1}\n",
      "dict_keys(['b', 'a'])\n",
      "dict_values([2, 1])\n",
      "1\n",
      "{'a': 2}\n"
     ]
    }
   ],
   "source": [
    "dict_1 = dict()\n",
    "dict_1 = {'a':1,'b':2}\n",
    "print(dict_1)\n",
    "print(dict_1.keys())   # dictionary has keys \n",
    "print(dict_1.values()) # and values which can be get by corresponding methods\n",
    "\n",
    "print(dict_1['a']) # you may call elements by it keys\n",
    "\n",
    "dict_2 = {'a':1,'a':2} #dict is a kind of set with keys, and it can contain only non-recurring elements\n",
    "print(dict_2)"
   ]
  },
  {
   "cell_type": "markdown",
   "metadata": {},
   "source": [
    "# Базовые операции"
   ]
  },
  {
   "cell_type": "markdown",
   "metadata": {},
   "source": [
    "<font size=4 face = 'Calibri' > \n",
    "сумма, умножение, деление"
   ]
  },
  {
   "cell_type": "code",
   "execution_count": 3,
   "metadata": {},
   "outputs": [
    {
     "name": "stdout",
     "output_type": "stream",
     "text": [
      "2.5\n"
     ]
    }
   ],
   "source": [
    "number = 1 + 2 * 3 / 4.0\n",
    "print(number)"
   ]
  },
  {
   "cell_type": "markdown",
   "metadata": {},
   "source": [
    "<font size=4 face = 'Calibri' > остаток от деления"
   ]
  },
  {
   "cell_type": "code",
   "execution_count": 27,
   "metadata": {},
   "outputs": [
    {
     "name": "stdout",
     "output_type": "stream",
     "text": [
      "2\n"
     ]
    }
   ],
   "source": [
    "remainder = 11 % 3\n",
    "print(remainder)"
   ]
  },
  {
   "cell_type": "markdown",
   "metadata": {},
   "source": [
    "<font size=4 face = 'Calibri' > операция возведения в степень"
   ]
  },
  {
   "cell_type": "code",
   "execution_count": 31,
   "metadata": {},
   "outputs": [
    {
     "name": "stdout",
     "output_type": "stream",
     "text": [
      "[49, 8]\n"
     ]
    }
   ],
   "source": [
    "squared = 7 ** 2\n",
    "cubed = 2 ** 3\n",
    "print([squared,cubed] )"
   ]
  },
  {
   "cell_type": "markdown",
   "metadata": {},
   "source": [
    "<font size=4 face = 'Calibri' > конкотенация (сложение) строк"
   ]
  },
  {
   "cell_type": "code",
   "execution_count": 11,
   "metadata": {},
   "outputs": [
    {
     "name": "stdout",
     "output_type": "stream",
     "text": [
      "hello world\n"
     ]
    }
   ],
   "source": [
    "helloworld = \"hello\" + \" \" + \"world\"\n",
    "print(helloworld)"
   ]
  },
  {
   "cell_type": "markdown",
   "metadata": {},
   "source": [
    "<font size=4 face = 'Calibri' > умножение строк"
   ]
  },
  {
   "cell_type": "code",
   "execution_count": 33,
   "metadata": {},
   "outputs": [
    {
     "name": "stdout",
     "output_type": "stream",
     "text": [
      "hellohellohellohellohellohellohellohellohellohello\n"
     ]
    }
   ],
   "source": [
    "lotsofhellos = \"hello\" * 10\n",
    "print(lotsofhellos)"
   ]
  },
  {
   "cell_type": "markdown",
   "metadata": {},
   "source": [
    "<font size=4 face = 'Calibri' >  операции со списками"
   ]
  },
  {
   "cell_type": "code",
   "execution_count": 12,
   "metadata": {},
   "outputs": [
    {
     "name": "stdout",
     "output_type": "stream",
     "text": [
      "[1, 3, 5, 7, 2, 4, 6, 8]\n"
     ]
    }
   ],
   "source": [
    "even_numbers = [2,4,6,8]\n",
    "odd_numbers = [1,3,5,7]\n",
    "all_numbers = odd_numbers + even_numbers\n",
    "print(all_numbers)"
   ]
  },
  {
   "cell_type": "markdown",
   "metadata": {},
   "source": [
    "<font size=4 face = 'Calibri' >  еще пример операций\n"
   ]
  },
  {
   "cell_type": "code",
   "execution_count": 35,
   "metadata": {},
   "outputs": [
    {
     "name": "stdout",
     "output_type": "stream",
     "text": [
      "[1, 2, 3, 1, 2, 3, 1, 2, 3]\n"
     ]
    }
   ],
   "source": [
    "print([1,2,3] * 3)"
   ]
  },
  {
   "cell_type": "markdown",
   "metadata": {},
   "source": [
    "## Упражнения\n",
    "<font size=4 face = 'Calibri' > \n",
    "\n",
    "создать листы x_list и y_list, с 10 элементами  x и y.\n",
    " \n",
    " создать big_list, содержащий  x и y, 10 раз."
   ]
  },
  {
   "cell_type": "code",
   "execution_count": null,
   "metadata": {},
   "outputs": [],
   "source": [
    "x = object()\n",
    "y = object()\n",
    "\n",
    "# TODO: change this code\n",
    "x_list = [x]\n",
    "y_list = [y]\n",
    "big_list = []\n",
    "\n",
    "print(\"x_list contains %d objects\" % len(x_list))\n",
    "print(\"y_list contains %d objects\" % len(y_list))\n",
    "print(\"big_list contains %d objects\" % len(big_list))\n",
    "\n",
    "# testing code\n",
    "if x_list.count(x) == 10 and y_list.count(y) == 10:\n",
    "    print(\"Almost there...\")\n",
    "if big_list.count(x) == 10 and big_list.count(y) == 10:\n",
    "    print(\"Great!\")"
   ]
  },
  {
   "cell_type": "markdown",
   "metadata": {},
   "source": [
    "# Форматирование строк"
   ]
  },
  {
   "cell_type": "markdown",
   "metadata": {},
   "source": [
    "<font size=4 face = 'Calibri' > \n",
    "Сиподобное форматирование (использование %)\n",
    "\n",
    "\n"
   ]
  },
  {
   "cell_type": "code",
   "execution_count": 61,
   "metadata": {},
   "outputs": [
    {
     "name": "stdout",
     "output_type": "stream",
     "text": [
      "Hello, John!\n"
     ]
    }
   ],
   "source": [
    "# This prints out \"Hello, John!\"\n",
    "name = \"John\"\n",
    "print(\"Hello, %s!\" % name)"
   ]
  },
  {
   "cell_type": "markdown",
   "metadata": {},
   "source": [
    "<font size=4 face = 'Calibri' >  пример с несколькими аргументами"
   ]
  },
  {
   "cell_type": "code",
   "execution_count": 62,
   "metadata": {},
   "outputs": [
    {
     "name": "stdout",
     "output_type": "stream",
     "text": [
      "John is 23 years old.\n"
     ]
    }
   ],
   "source": [
    "# This prints out \"John is 23 years old.\"\n",
    "name = \"John\"\n",
    "age = 23\n",
    "print(\"%s is %d years old.\" % (name, age))"
   ]
  },
  {
   "cell_type": "markdown",
   "metadata": {},
   "source": [
    "<font size=4 face = 'Calibri' >   пример со списком"
   ]
  },
  {
   "cell_type": "code",
   "execution_count": 63,
   "metadata": {},
   "outputs": [
    {
     "name": "stdout",
     "output_type": "stream",
     "text": [
      "A list: [1, 2, 3]\n"
     ]
    }
   ],
   "source": [
    "# This prints out: A list: [1, 2, 3]\n",
    "mylist = [1,2,3]\n",
    "print(\"A list: %s\" % mylist)"
   ]
  },
  {
   "cell_type": "markdown",
   "metadata": {},
   "source": [
    "<font size=4 face = 'Calibri' >  \n",
    "базовые аргументы\n",
    "\n",
    "* %s - String \n",
    "\n",
    "* %d - Int\n",
    "\n",
    "* %f - Float \n",
    "\n",
    "* %.<number of digits>f - Float c числом знаков.\n",
    "\n"
   ]
  },
  {
   "cell_type": "code",
   "execution_count": 5,
   "metadata": {},
   "outputs": [
    {
     "name": "stdout",
     "output_type": "stream",
     "text": [
      "13\n",
      "4\n",
      "Hello\n",
      "Hlo\n",
      "!dlrow ,olleH\n",
      "HELLO, WORLD!\n",
      "hello, world!\n",
      "['Hello', 'world!']\n",
      "Hello\n"
     ]
    }
   ],
   "source": [
    "'''you may index string or take it length'''\n",
    "astring = \"Hello, world!\"\n",
    "\n",
    "print(len(astring)) \n",
    "print(astring.index(\"o\")) # Python start indexes at 0 instead of 1. So the index of \"o\" is 4 insted of 5.\n",
    "print(astring[0:5])       # last index doesn't taken into account\n",
    "print(astring[0:6:2])     # the step of slice can be pointed as third operator\n",
    "print(astring[::-1])      # you can also reverse string\n",
    "\n",
    "print(astring.upper())    # make string in upper cases\n",
    "print(astring.lower())\n",
    "\n",
    "print(astring.split(', ')) #also you make split string\n",
    "list1=['H','e','l','l','o']\n",
    "print(\"\".join(list1))     # or join list of char into string"
   ]
  },
  {
   "cell_type": "code",
   "execution_count": 6,
   "metadata": {},
   "outputs": [
    {
     "name": "stdout",
     "output_type": "stream",
     "text": [
      "String starts with 'Hello'. Good!\n",
      "String ends with 'world!'. Good!\n"
     ]
    }
   ],
   "source": [
    "# Check how a string starts\n",
    "if astring.startswith(\"Hello\"):\n",
    "    print(\"String starts with 'Hello'. Good!\")\n",
    "\n",
    "# Check how a string ends\n",
    "if astring.endswith(\"world!\"):\n",
    "    print(\"String ends with 'world!'. Good!\")"
   ]
  },
  {
   "cell_type": "code",
   "execution_count": 7,
   "metadata": {},
   "outputs": [
    {
     "name": "stdout",
     "output_type": "stream",
     "text": [
      "д\n"
     ]
    }
   ],
   "source": [
    "a = input() # by this command you may ask to put a string  \n",
    "#press \"enter\" after you finish "
   ]
  },
  {
   "cell_type": "code",
   "execution_count": 8,
   "metadata": {},
   "outputs": [
    {
     "name": "stdout",
     "output_type": "stream",
     "text": [
      "д\n"
     ]
    }
   ],
   "source": [
    "print(a) #try what you input"
   ]
  },
  {
   "cell_type": "markdown",
   "metadata": {},
   "source": [
    "## Упражнение\n",
    "\n",
    "записать строку, которая выводит \"Hello John Doe,. Your current balance is $53.44.\" используя строку Hello \n"
   ]
  },
  {
   "cell_type": "code",
   "execution_count": null,
   "metadata": {},
   "outputs": [],
   "source": [
    "data = (\"John\", \"Doe\", 53.44)\n",
    "format_string = \"Hello\"\n",
    "\n",
    "print(format_string % data)"
   ]
  },
  {
   "cell_type": "markdown",
   "metadata": {},
   "source": [
    "## Упражнение\n",
    "\n",
    "исправить ошибку в коде\n"
   ]
  },
  {
   "cell_type": "code",
   "execution_count": null,
   "metadata": {},
   "outputs": [],
   "source": [
    "s = \"Hey there! what should this string be?\"\n",
    "# Length should be 20\n",
    "print(\"Length of s = %d\" % len(s))\n",
    "\n",
    "# First occurrence of \"a\" should be at index 8\n",
    "print(\"The first occurrence of the letter a = %d\" % s.index(\"a\"))\n",
    "\n",
    "# Number of a's should be 2\n",
    "print(\"a occurs %d times\" % s.count(\"a\"))\n",
    "\n",
    "# Slicing the string into bits\n",
    "print(\"The first five characters are '%s'\" % s[:5]) # Start to 5\n",
    "print(\"The next five characters are '%s'\" % s[5:10]) # 5 to 10\n",
    "print(\"The thirteenth character is '%s'\" % s[12]) # Just number 12\n",
    "print(\"The characters with odd index are '%s'\" %s[1::2]) #(0-based indexing)\n",
    "print(\"The last five characters are '%s'\" % s[-5:]) # 5th-from-last to end\n",
    "\n",
    "# Convert everything to uppercase\n",
    "print(\"String in uppercase: %s\" % s.upper())\n",
    "\n",
    "# Convert everything to lowercase\n",
    "print(\"String in lowercase: %s\" % s.lower())\n",
    "\n",
    "# Check how a string starts\n",
    "if s.startswith(\"Str\"):\n",
    "    print(\"String starts with 'Str'. Good!\")\n",
    "\n",
    "# Check how a string ends\n",
    "if s.endswith(\"ome!\"):\n",
    "    print(\"String ends with 'ome!'. Good!\")\n",
    "\n",
    "# Split the string into three separate strings,\n",
    "# each containing only a word\n",
    "print(\"Split the words of the string: %s\" % s.split(\" \"))"
   ]
  },
  {
   "cell_type": "markdown",
   "metadata": {},
   "source": [
    "# Функции"
   ]
  },
  {
   "cell_type": "markdown",
   "metadata": {},
   "source": [
    "<font size=4 face = 'Calibri' > функции позволяют упрощать код и делить его на блоки.\n",
    "\n",
    "\n"
   ]
  },
  {
   "cell_type": "markdown",
   "metadata": {},
   "source": [
    "<font size=4 face = 'Calibri' >\n",
    "Блок функции имеет следующий формат\n",
    "\n",
    "\n",
    "* def block_head(arguments):\n",
    "      1st block line\n",
    "      2nd block line\n",
    "      ...     \n",
    "      return outputs  \n",
    "\n",
    "* где \n",
    "        def - оператор объявления функции \n",
    "        после проблеа идет название функции, \n",
    "        аргументы в скобках \n",
    "        двоеточие, для обозначения начала блока\n",
    "        вконце блока может быть оператор return для описания того, что функция возвращает\n",
    "\n",
    "каждый блок дложен иметь отстутп, равный 4 проблеам\n",
    "\n"
   ]
  },
  {
   "cell_type": "code",
   "execution_count": 3,
   "metadata": {},
   "outputs": [],
   "source": [
    "'''function without arguments '''\n",
    "def my_function():\n",
    "    print(\"Hello From My Function!\")"
   ]
  },
  {
   "cell_type": "markdown",
   "metadata": {},
   "source": [
    "<font size=4 face = 'Calibri' >пример вызова функции без аргументов\n"
   ]
  },
  {
   "cell_type": "code",
   "execution_count": 4,
   "metadata": {},
   "outputs": [
    {
     "name": "stdout",
     "output_type": "stream",
     "text": [
      "Hello From My Function!\n"
     ]
    }
   ],
   "source": [
    "my_function()"
   ]
  },
  {
   "cell_type": "code",
   "execution_count": 5,
   "metadata": {},
   "outputs": [],
   "source": [
    "'''the function with arguments'''\n",
    "def my_function_with_args(username, greeting):\n",
    "    print(\"Hello, %s , From My Function!, I wish you %s\"%(username, greeting))"
   ]
  },
  {
   "cell_type": "code",
   "execution_count": 6,
   "metadata": {},
   "outputs": [
    {
     "name": "stdout",
     "output_type": "stream",
     "text": [
      "Hello, USER , From My Function!, I wish you HELLOW\n"
     ]
    }
   ],
   "source": [
    "my_function_with_args('USER','HELLOW')"
   ]
  },
  {
   "cell_type": "markdown",
   "metadata": {},
   "source": [
    "<font size=4 face = 'Calibri' >пример функции с аргументами"
   ]
  },
  {
   "cell_type": "code",
   "execution_count": 16,
   "metadata": {},
   "outputs": [],
   "source": [
    "def sum_two_numbers(a, b):\n",
    "    return a + b"
   ]
  },
  {
   "cell_type": "code",
   "execution_count": 17,
   "metadata": {},
   "outputs": [
    {
     "name": "stdout",
     "output_type": "stream",
     "text": [
      "This is your answer, 2\n"
     ]
    }
   ],
   "source": [
    "\"\"\"let's try to get an answer\"\"\"\n",
    "\n",
    "c = sum_two_numbers(1,1)\n",
    "print('This is your answer, %i' %c)"
   ]
  },
  {
   "cell_type": "markdown",
   "metadata": {},
   "source": [
    "<font size=4 face = 'Calibri' >можно также указывать тип данных (для удобстава, необязательно!)"
   ]
  },
  {
   "cell_type": "code",
   "execution_count": 36,
   "metadata": {},
   "outputs": [
    {
     "name": "stdout",
     "output_type": "stream",
     "text": [
      "This is your answer, 2.5\n"
     ]
    }
   ],
   "source": [
    "def sum_two_numbers_types(a:int, b:int)->int:\n",
    "    return a + b\n",
    "\n",
    "c = sum_two_numbers_types(1,1.5)\n",
    "print('This is your answer, %.1f' %c)\n"
   ]
  },
  {
   "cell_type": "markdown",
   "metadata": {},
   "source": [
    "## Упражнение"
   ]
  },
  {
   "cell_type": "markdown",
   "metadata": {},
   "source": [
    "\n",
    "1. создать функцию list_benefits() возращающую строки: \"More organized code\", \"More readable code\", \"Easier code reuse\", \"Allowing programmers to share and connect code together\"\n",
    "\n",
    "\n",
    "2. создать функцию build_sentence(info) с аргументом типа string и возвращающую предложение, начинающееся с входной строки и заканчивающееся \" is a benefit of functions!\"\n"
   ]
  },
  {
   "cell_type": "code",
   "execution_count": null,
   "metadata": {},
   "outputs": [],
   "source": [
    "# Modify this function to return a list of strings as defined above\n",
    "def list_benefits():\n",
    "    pass\n",
    "\n",
    "# Modify this function to concatenate to each benefit - \" is a benefit of functions!\"\n",
    "def build_sentence(benefit):\n",
    "    pass\n",
    "\n",
    "def name_the_benefits_of_functions():\n",
    "    list_of_benefits = list_benefits()\n",
    "    for benefit in list_of_benefits:\n",
    "        print(build_sentence(benefit))\n",
    "\n",
    "name_the_benefits_of_functions()"
   ]
  },
  {
   "cell_type": "markdown",
   "metadata": {},
   "source": [
    "# Циклы"
   ]
  },
  {
   "cell_type": "markdown",
   "metadata": {},
   "source": [
    "<font size=4 face = 'Calibri' >В питоне два основных типа циклов for и loop"
   ]
  },
  {
   "cell_type": "code",
   "execution_count": 45,
   "metadata": {},
   "outputs": [
    {
     "name": "stdout",
     "output_type": "stream",
     "text": [
      "first  loop step 0\n",
      "first  loop step 1\n",
      "first  loop step 2\n",
      "first  loop step 3\n",
      "first  loop step 4\n",
      "\t second loop step 9\n",
      "\t second loop step 10\n",
      "\t second loop step 11\n",
      "\t\t third  loop step 15\n",
      "\t\t third  loop step 20\n",
      "\t\t third  loop step 25\n"
     ]
    }
   ],
   "source": [
    "'''range with one argument menas the range from 0 to argument value-1'''\n",
    "for i in range(5):\n",
    "    print('first  loop step %i'%i)\n",
    "\n",
    "'''range with two arguments menas the range from first to  second argument value-1'''    \n",
    "for i in range(9,12):\n",
    "    print('\\t second loop step %i'%i) # \\t means one tabulated indent\n",
    "\n",
    "'''range with three arguments menas the range from first to second argument value-1 with step equal to the third elemts'''     \n",
    "for i in range(15,30,5):\n",
    "    print('\\t\\t third  loop step %i'%i)    \n"
   ]
  },
  {
   "cell_type": "markdown",
   "metadata": {},
   "source": [
    "<font size=4 face = 'Calibri' >циклы могут переберать элементы списков напрямую"
   ]
  },
  {
   "cell_type": "code",
   "execution_count": 9,
   "metadata": {},
   "outputs": [
    {
     "name": "stdout",
     "output_type": "stream",
     "text": [
      "the current element of list: 0\n",
      "the current element of list: 1\n",
      "the current element of list: 2\n",
      "the current element of list: a\n",
      "the current element of list: [0, 12]\n",
      "the current element of list: {'a': 1, 'b': 2}\n"
     ]
    }
   ],
   "source": [
    "a = [0,1,2,'a',[0,12],{'a':1,'b':2}]\n",
    "\n",
    "for ai in a:\n",
    "    print ('the current element of list: '+str(ai))"
   ]
  },
  {
   "cell_type": "markdown",
   "metadata": {},
   "source": [
    "<font size=4 face = 'Calibri' >можно также переберать одновременно елементы списка и их номера"
   ]
  },
  {
   "cell_type": "code",
   "execution_count": 205,
   "metadata": {},
   "outputs": [
    {
     "name": "stdout",
     "output_type": "stream",
     "text": [
      "the current element of list: a has index 0\n",
      "the current element of list: b has index 1\n",
      "the current element of list: c has index 2\n"
     ]
    }
   ],
   "source": [
    "a = ['a','b','c']\n",
    "b = ['12','13','14','15']\n",
    "\n",
    "''' enumerate list elements by function enumerate() and print it indexes  '''\n",
    "for i,ai in enumerate(a):\n",
    "    print ('the current element of list: '+str(ai)+' has index '+str(i))\n",
    "\n",
    "\n",
    "\n"
   ]
  },
  {
   "cell_type": "code",
   "execution_count": 204,
   "metadata": {},
   "outputs": [
    {
     "name": "stdout",
     "output_type": "stream",
     "text": [
      "\n",
      " lists \n",
      "\n",
      "* the current element of first list: a\n",
      "* \t the current element of second list: 12\n",
      "* the current element of first list: b\n",
      "* \t the current element of second list: 13\n",
      "* the current element of first list: c\n",
      "* \t the current element of second list: 14\n"
     ]
    }
   ],
   "source": [
    "print('\\n lists \\n') # sing \\n means start for a new string\n",
    "\n",
    "'''  union a several of lists by function zip() '''    \n",
    "for ai,bi in zip(a,b):\n",
    "    print ('* the current element of first list: '+str(ai)+'\\n'+'* \\t the current element of second list: '+str(bi))\n",
    "\n"
   ]
  },
  {
   "cell_type": "code",
   "execution_count": 206,
   "metadata": {},
   "outputs": [
    {
     "name": "stdout",
     "output_type": "stream",
     "text": [
      "\n",
      " list and tuple \n",
      "\n",
      "* the current element of list: a\n",
      "* \t the current element of tuple: x\n",
      "* the current element of list: b\n",
      "* \t the current element of tuple: y\n",
      "* the current element of list: c\n",
      "* \t the current element of tuple: z\n"
     ]
    }
   ],
   "source": [
    "print('\\n list and tuple \\n')\n",
    "\n",
    "c=('x','y','z')  #tuple\n",
    "'''  union a  list and a tuple by function zip() '''    \n",
    "for ai,ci in zip(a,c):\n",
    "    print ('* the current element of list: '+str(ai)+'\\n'+'* \\t the current element of tuple: '+str(ci))\n",
    "    \n",
    "    \n"
   ]
  },
  {
   "cell_type": "code",
   "execution_count": 207,
   "metadata": {},
   "outputs": [
    {
     "name": "stdout",
     "output_type": "stream",
     "text": [
      "\n",
      " list and dictionary \n",
      "\n",
      "* the current element of list: a\n",
      "* \t the current element of dict: ('z', 3)\n",
      "* the current element of list: b\n",
      "* \t the current element of dict: ('x', 1)\n",
      "* the current element of list: c\n",
      "* \t the current element of dict: ('y', 2)\n"
     ]
    }
   ],
   "source": [
    "print('\\n list and dictionary \\n')\n",
    "\n",
    "d={'x':1,'y':2,'z':3 } #dictionary\n",
    "\n",
    "'''  union a  list and a dictionary items by function zip() '''    \n",
    "for ai,di in zip(a,d.items()):  # method items for dictionary return a list of tuples in form: [(key, value) ... ]\n",
    "    print ('* the current element of list: '+str(ai)+'\\n'+'* \\t the current element of dict: '+str(di))    "
   ]
  },
  {
   "cell_type": "markdown",
   "metadata": {},
   "source": [
    "пример работы while"
   ]
  },
  {
   "cell_type": "code",
   "execution_count": 70,
   "metadata": {},
   "outputs": [
    {
     "name": "stdout",
     "output_type": "stream",
     "text": [
      "0\n",
      "1\n",
      "2\n",
      "3\n",
      "4\n"
     ]
    }
   ],
   "source": [
    "count = 0\n",
    "while count < 5:\n",
    "    print(count)\n",
    "    count += 1  # This is the same as count = count + 1"
   ]
  },
  {
   "cell_type": "markdown",
   "metadata": {},
   "source": [
    "<font size=4 face = 'Calibri' >пример использования  операций остановки и продолжения в циклах \n"
   ]
  },
  {
   "cell_type": "code",
   "execution_count": 77,
   "metadata": {},
   "outputs": [
    {
     "name": "stdout",
     "output_type": "stream",
     "text": [
      "0\n",
      "1\n",
      "2\n",
      "3\n",
      "4\n",
      "\n",
      "\n",
      "1\n",
      "3\n",
      "5\n",
      "7\n",
      "9\n"
     ]
    }
   ],
   "source": [
    "count = 0\n",
    "while True: # this condition my seemed to be always true, \n",
    "            # but we can stop loop by using break with some condition\n",
    "    print(count)\n",
    "    count += 1\n",
    "    \n",
    "    '''condition for stop loop if count exceed 5'''\n",
    "    if count >= 5:  \n",
    "        break\n",
    "print('\\n')\n",
    "\n",
    "\n",
    "# Prints out only odd numbers - 1,3,5,7,9\n",
    "for x in range(10):\n",
    "    \n",
    "    # Check if x is even\n",
    "    #condition for continue subprogram for this cycle \n",
    "    if x % 2 == 0:\n",
    "        continue  # if x is odd program will return to the start of cycle\n",
    "    print(x) "
   ]
  },
  {
   "cell_type": "markdown",
   "metadata": {},
   "source": [
    "<font size=4 face = 'Calibri' >пример использования оператора else c циклом"
   ]
  },
  {
   "cell_type": "code",
   "execution_count": 76,
   "metadata": {},
   "outputs": [
    {
     "name": "stdout",
     "output_type": "stream",
     "text": [
      "0\n",
      "1\n",
      "2\n",
      "3\n",
      "4\n",
      "count value reached 5\n",
      "\n",
      "\n",
      "1\n",
      "2\n",
      "3\n",
      "4\n"
     ]
    }
   ],
   "source": [
    "# Prints out 0,1,2,3,4 and then it prints \"count value reached 5\"\n",
    "\n",
    "count=0\n",
    "while(count<5):\n",
    "    print(count)\n",
    "    count +=1\n",
    "else:\n",
    "    print(\"count value reached %d\" %(count))\n",
    "\n",
    "    print('\\n')\n",
    "# Prints out 1,2,3,4\n",
    "for i in range(1, 10):\n",
    "    if(i%5==0):\n",
    "        break\n",
    "    print(i)\n",
    "else:\n",
    "    print(\"this is not printed because for loop is terminated because of break but not due to fail in condition\")"
   ]
  },
  {
   "cell_type": "markdown",
   "metadata": {},
   "source": [
    "## Упражнение"
   ]
  },
  {
   "cell_type": "markdown",
   "metadata": {},
   "source": [
    "<font size=4 face = 'Calibri' >написать функцию выводяющую четные числа из заданного массива пока не будет достигнуто число 237"
   ]
  },
  {
   "cell_type": "code",
   "execution_count": 78,
   "metadata": {},
   "outputs": [],
   "source": [
    "numbers = [\n",
    "    951, 402, 984, 651, 360, 69, 408, 319, 601, 485, 980, 507, 725, 547, 544,\n",
    "    615, 83, 165, 141, 501, 263, 617, 865, 575, 219, 390, 984, 592, 236, 105, 942, 941,\n",
    "    386, 462, 47, 418, 907, 344, 236, 375, 823, 566, 597, 978, 328, 615, 953, 345,\n",
    "    399, 162, 758, 219, 918, 237, 412, 566, 826, 248, 866, 950, 626, 949, 687, 217,\n",
    "    815, 67, 104, 58, 512, 24, 892, 894, 767, 553, 81, 379, 843, 831, 445, 742, 717,\n",
    "    958, 609, 842, 451, 688, 753, 854, 685, 93, 857, 440, 380, 126, 721, 328, 753, 470,\n",
    "    743, 527\n",
    "]\n",
    "\n",
    "#type your program below\n",
    "\n",
    " \n",
    "#don't forget to check the results"
   ]
  },
  {
   "cell_type": "markdown",
   "metadata": {},
   "source": [
    "# Модули в питоне"
   ]
  },
  {
   "cell_type": "markdown",
   "metadata": {},
   "source": [
    "<font size=4 face = 'Calibri' >питон позволяет работать с модулями (библиотеками) как с классами или функциями"
   ]
  },
  {
   "cell_type": "code",
   "execution_count": 247,
   "metadata": {},
   "outputs": [],
   "source": [
    "# you may import each module by macros import \n",
    "#modules  can be imported with assigning them some pseudonims \n",
    "import  cmath as cm\n",
    "import functools as ft\n",
    "\n",
    "#or you may import midules without this one\n",
    "import  json\n",
    "\n",
    "#in additional you may import submodules by macros  from\n",
    "import os\n",
    "from os import path\n",
    "\n",
    "#also you may import all submodules and functions from one module\n",
    "from os import *\n"
   ]
  },
  {
   "cell_type": "markdown",
   "metadata": {},
   "source": [
    "<font size=4 face = 'Calibri' >пример работы с вызыванными модулями"
   ]
  },
  {
   "cell_type": "code",
   "execution_count": 248,
   "metadata": {},
   "outputs": [
    {
     "name": "stdout",
     "output_type": "stream",
     "text": [
      "(5.000000000000001+8.660254037844386j)\n",
      "0.7853981633974483\n"
     ]
    }
   ],
   "source": [
    "r=10 # complex number module\n",
    "phi=cm.pi/3  #phase\n",
    "c = cm.rect(r, phi) # retuen complex number\n",
    "print(c)\n",
    "\n",
    "z=10+10j # create complex number\n",
    "print(cm.phase(z)) #return the phase of complex number"
   ]
  },
  {
   "cell_type": "code",
   "execution_count": 254,
   "metadata": {},
   "outputs": [
    {
     "name": "stdout",
     "output_type": "stream",
     "text": [
      "type of the json.dumps output is <class 'str'>\n",
      "\n",
      "[1,2,3,{\"6\":7,\"4\":5}]\n",
      "\n",
      "[1!2!3!{\"6\"@7!\"4\"@5}]\n",
      "\n",
      "{\"a\": 0, \"b\": 0, \"c\": 0}\n"
     ]
    }
   ],
   "source": [
    "c =json.dumps([1,2,3,{'4': 5, '6': 7}], separators=(',', ':'))\n",
    "\n",
    "print('type of the json.dumps output is %s'%type(c))  # check the type of output\n",
    "print()\n",
    "print((c))\n",
    "\n",
    "print()\n",
    "c =json.dumps([1,2,3,{'4': 5, '6': 7}], separators=('!', '@'))\n",
    "print((c))\n",
    "print()\n",
    "print(json.dumps({\"c\": 0, \"b\": 0, \"a\": 0}, sort_keys=True))"
   ]
  },
  {
   "cell_type": "markdown",
   "metadata": {},
   "source": [
    "## Упражнение "
   ]
  },
  {
   "cell_type": "markdown",
   "metadata": {},
   "source": [
    "<font size=4 face = 'Calibri' >вызвать модуль math с псевдонимом mt и вывести на экрна число pi из данного модуля"
   ]
  },
  {
   "cell_type": "code",
   "execution_count": null,
   "metadata": {},
   "outputs": [],
   "source": [
    "#place your code here"
   ]
  },
  {
   "cell_type": "code",
   "execution_count": null,
   "metadata": {},
   "outputs": [],
   "source": []
  },
  {
   "cell_type": "markdown",
   "metadata": {},
   "source": [
    "# Генераторы"
   ]
  },
  {
   "cell_type": "markdown",
   "metadata": {},
   "source": [
    "<font size=4 face = 'Calibri' > генераторы - специальный тип процедур в Питоне, позволяющий вызывать условно следующие объекты каждый раз при вызове генераторы"
   ]
  },
  {
   "cell_type": "code",
   "execution_count": 125,
   "metadata": {},
   "outputs": [
    {
     "name": "stdout",
     "output_type": "stream",
     "text": [
      "And the next number is... 0!\n",
      "And the next number is... 1!\n",
      "And the next number is... 2!\n",
      "And the next number is... 3!\n",
      "And the next number is... 4!\n",
      "And the next number is... 5!\n",
      "And the next number is... 99!\n",
      "\n",
      "And the next number is... 0!\n",
      "And the next number is... 2!\n",
      "And the next number is... 4!\n",
      "And the next number is... 6!\n",
      "And the next number is... 8!\n",
      "And the next number is... 10!\n",
      "\n",
      "0, And the next numbers are... 0 , and 1 !\n",
      "1, And the next numbers are... 2 , and 3 !\n",
      "2, And the next numbers are... 4 , and 5 !\n",
      "3, And the next numbers are... 6 , and 7 !\n",
      "4, And the next numbers are... 8 , and 9 !\n",
      "5, And the next numbers are... 10 , and 11 !\n",
      "6, And the next numbers are... 12 , and 13 !\n",
      "7, And the next numbers are... 14 , and 15 !\n",
      "8, And the next numbers are... 16 , and 17 !\n",
      "9, And the next numbers are... 18 , and 19 !\n"
     ]
    }
   ],
   "source": [
    "a=range(100)\n",
    "\n",
    "def genetor_f():\n",
    "    # returns 6 numbers \n",
    "    for i in range(6):\n",
    "        yield a[i]\n",
    "    # returns a 7th \n",
    "    yield a[-1]\n",
    "\n",
    "# this cycle decide how many values form genetor_function will be taken \n",
    "for number in genetor_f():\n",
    "       print(\"And the next number is... %d!\" %(number))\n",
    "        \n",
    "''' the generators can be set with arguments '''        \n",
    "def genetor_f(scale:int)->int:\n",
    "    for i in range(6):\n",
    "        yield a[i]*scale\n",
    "        \n",
    "        \n",
    "print()\n",
    "# this cycle decide how many values form genetor_function will be taken \n",
    "for number in genetor_f(2):\n",
    "       print(\"And the next number is... %d!\" %(number))        \n",
    "\n",
    "        \n",
    "''' the generators can return more than one value '''        \n",
    "def genetor_f():\n",
    "    for i in range(1,len(a),2):\n",
    "        yield a[i-1],a[i]\n",
    "        \n",
    "print()\n",
    "# this cycle decide how many values form genetor_function will be taken \n",
    "for i,(number1,number2) in enumerate(genetor_f()):\n",
    "       print(\"%d, And the next numbers are... %d , and %d !\" %(i,number1,number2)) \n",
    "       if (i>=9):\n",
    "        break;"
   ]
  },
  {
   "cell_type": "markdown",
   "metadata": {},
   "source": [
    "<font size=4 face = 'Calibri' > также генераторы (альтернативный вызов)"
   ]
  },
  {
   "cell_type": "code",
   "execution_count": 151,
   "metadata": {},
   "outputs": [
    {
     "name": "stdout",
     "output_type": "stream",
     "text": [
      "And the next number is... 0!\n",
      "And the next number is... 1!\n",
      "And the next number is... 2!\n",
      "And the next number is... 3!\n",
      "And the next number is... 4!\n",
      "And the next number is... 5!\n",
      "And the next number is... 6!\n",
      "And the next number is... 7!\n",
      "And the next number is... 8!\n",
      "And the next number is... 9!\n"
     ]
    }
   ],
   "source": [
    "a=range(300)\n",
    "c=(ai for ai in a if ai<10)\n",
    "\n",
    "for number in c:\n",
    "    print(\"And the next number is... %d!\" %(number)) \n",
    "    "
   ]
  },
  {
   "cell_type": "markdown",
   "metadata": {},
   "source": [
    "# Упражнение"
   ]
  },
  {
   "cell_type": "markdown",
   "metadata": {},
   "source": [
    "<font size=4 face = 'Calibri' > написать генетор для последовательности Фибоначи\n",
    "\n",
    "$f(t)=f(t-1)+f(t-2)$, $f(0)=1$, $f(1)=1$\n"
   ]
  },
  {
   "cell_type": "code",
   "execution_count": null,
   "metadata": {},
   "outputs": [],
   "source": [
    "#type your program below\n",
    "\n",
    " \n",
    "#don't forget to check the results"
   ]
  },
  {
   "cell_type": "markdown",
   "metadata": {},
   "source": [
    "#  Лямбда функции (анонимные функции)"
   ]
  },
  {
   "cell_type": "markdown",
   "metadata": {},
   "source": [
    "<font size=4 face = 'Calibri' > анонимные функции - это возможность вызова функций в любом месте кода, а также дань  лямбда-исчислению - основе математической теории языков проргаммирования (функциональному программированию)\n",
    "\n",
    "синтаксис\n",
    "\n",
    "$< имя - функции-(опционально)>$=$lambda$ $<аргументы>$ $:$ $<выражение>$\n",
    "\n",
    "\n",
    "($lambda$ $<arguments>$ $:$ $<expression>$)($<values of arguments>$) - анонимный вызов\n",
    "\n",
    "$<function name (optional)>$($<values of arguments>$) - традиционный вызов\n"
   ]
  },
  {
   "cell_type": "code",
   "execution_count": 126,
   "metadata": {},
   "outputs": [
    {
     "name": "stdout",
     "output_type": "stream",
     "text": [
      "5\n",
      "5\n"
     ]
    }
   ],
   "source": [
    "'''the follow two ways are equal'''\n",
    "def add_val(a,b):\n",
    "    return (a+b)\n",
    "\n",
    "'''lambda functions have special syntaxis'''\n",
    "add_l=lambda a,b: a+b \n",
    "\n",
    "print(add_val(2,3))\n",
    "print(add_l(2,3))\n"
   ]
  },
  {
   "cell_type": "markdown",
   "metadata": {},
   "source": [
    "<font size=4 face = 'Calibri' >  примеры использования лямбда функций"
   ]
  },
  {
   "cell_type": "code",
   "execution_count": 147,
   "metadata": {},
   "outputs": [
    {
     "name": "stdout",
     "output_type": "stream",
     "text": [
      "[2, 4, 6, 8, 10]\n",
      "[2, 3, 4, 5, 6]\n",
      "[5, 10, 15, 20, 25]\n"
     ]
    }
   ],
   "source": [
    "a=[1,2,3,4,5]\n",
    "b=[1,1,1,1,1]\n",
    "\n",
    "''' you may call lambda functions instantly in the form \n",
    "      (lambda <arguments>:<body of a function>)(<values of arguments>)'''\n",
    "d=[(lambda x:x*2)(ai) for ai in a]\n",
    "print(d)\n",
    "\n",
    "c=[(lambda x,y:x+y)(ai,bi) for (ai,bi) in zip(a,b)]\n",
    "print(c)\n",
    "\n",
    "e=[(lambda x,y:x*y)(ai,5) for ai in a]\n",
    "print(e)\n"
   ]
  },
  {
   "cell_type": "markdown",
   "metadata": {},
   "source": [
    "<font size=4 face = 'Calibri' >  использование в генераторах"
   ]
  },
  {
   "cell_type": "code",
   "execution_count": 155,
   "metadata": {},
   "outputs": [
    {
     "name": "stdout",
     "output_type": "stream",
     "text": [
      "0\n",
      "2\n",
      "4\n",
      "6\n",
      "8\n",
      "10\n",
      "12\n",
      "14\n",
      "16\n",
      "18\n"
     ]
    }
   ],
   "source": [
    "a=range(10)\n",
    "f = ((lambda x:x*2)(ai) for ai in a)\n",
    "for numb in f:\n",
    "    print(numb) "
   ]
  },
  {
   "cell_type": "markdown",
   "metadata": {},
   "source": [
    "в условиях"
   ]
  },
  {
   "cell_type": "code",
   "execution_count": 162,
   "metadata": {},
   "outputs": [
    {
     "name": "stdout",
     "output_type": "stream",
     "text": [
      "0\n",
      "2\n",
      "4\n",
      "6\n",
      "8\n",
      "5\n",
      "6\n",
      "7\n",
      "8\n",
      "9\n"
     ]
    }
   ],
   "source": [
    "a=range(10)\n",
    "f = ((lambda x:x*2 if x<5 else x)(ai) for ai in a)\n",
    "\n",
    "\n",
    "for numb in f:\n",
    "    print(numb) \n",
    "     "
   ]
  },
  {
   "cell_type": "markdown",
   "metadata": {},
   "source": [
    "# Упражнение"
   ]
  },
  {
   "cell_type": "markdown",
   "metadata": {},
   "source": [
    "1. переписать в виде ламбда функций"
   ]
  },
  {
   "cell_type": "code",
   "execution_count": 172,
   "metadata": {},
   "outputs": [
    {
     "name": "stdout",
     "output_type": "stream",
     "text": [
      "[0, 1, 4, 9, 16, 25, 36, 49, 64, 81]\n"
     ]
    }
   ],
   "source": [
    "def pow_val(a,b):\n",
    "    return a**b\n",
    "\n",
    "def create_array_of_squares(size_of_array):\n",
    "    c= []\n",
    "    for i in range (size_of_array):\n",
    "        c.append(pow_val(i,2))\n",
    "    return c\n",
    "        \n",
    "arr=create_array_of_squares(10)        \n",
    "print (arr)\n",
    "\n",
    "\n",
    "#type you program below\n",
    "\n",
    "\n",
    "#don't forget to check the results"
   ]
  },
  {
   "cell_type": "markdown",
   "metadata": {},
   "source": [
    "2. переписать с использованием генераторов"
   ]
  },
  {
   "cell_type": "code",
   "execution_count": 174,
   "metadata": {},
   "outputs": [
    {
     "name": "stdout",
     "output_type": "stream",
     "text": [
      "[0, 1, 4, 9, 16, 25, 36, 49, 64, 81]\n"
     ]
    }
   ],
   "source": [
    "def range_of_squares(size_of_array):\n",
    "    for i in range (size_of_array):\n",
    "        yield(pow_val(i,2))\n",
    "\n",
    "        \n",
    "arr=[num for num in range_of_squares(10)]        \n",
    "print (arr)\n",
    "\n",
    "\n",
    "#type you program below\n",
    "\n",
    "\n",
    "#don't forget to check the results"
   ]
  },
  {
   "cell_type": "markdown",
   "metadata": {},
   "source": [
    "# Функциональные инструменты"
   ]
  },
  {
   "cell_type": "markdown",
   "metadata": {},
   "source": [
    "методы функционального программирования в Питоне"
   ]
  },
  {
   "cell_type": "markdown",
   "metadata": {},
   "source": [
    "map - метод отображения операции к масиву $map(<function>,<array>)$ "
   ]
  },
  {
   "cell_type": "code",
   "execution_count": 196,
   "metadata": {},
   "outputs": [
    {
     "name": "stdout",
     "output_type": "stream",
     "text": [
      "input numbers\n",
      "[1, 2, 3, 4, 5, 6, 7]\n",
      "chars\n",
      "['1', '2', '3', '4', '5', '6', '7']\n",
      "tuple of doubled numbers\n",
      "(2, 4, 6, 8, 10, 12, 14)\n",
      "set of sum of doubled numbers and inputs\n",
      "{3, 6, 9, 12, 15, 18, 21}\n"
     ]
    }
   ],
   "source": [
    "print('input numbers')\n",
    "a=[1,2,3,4,5,6,7]\n",
    "print(a)\n",
    "\n",
    "print('chars')\n",
    "c=list(map(str,a)) #expression return a list of chars made from array a\n",
    "print(c)\n",
    "\n",
    "print('tuple of doubled numbers')\n",
    "d=tuple(map(lambda x:x*2, a)) #expression return a tuple of doubled values\n",
    "print(d)\n",
    "\n",
    "\n",
    "print('set of sum of doubled numbers and inputs')\n",
    "e= set(map(lambda x,y:x+y, a,d))\n",
    "print(e)\n",
    "\n"
   ]
  },
  {
   "cell_type": "markdown",
   "metadata": {},
   "source": [
    "filter - метод выборки из масивов $filter(<condition>,<array>)$"
   ]
  },
  {
   "cell_type": "code",
   "execution_count": 193,
   "metadata": {},
   "outputs": [
    {
     "name": "stdout",
     "output_type": "stream",
     "text": [
      "input numbers\n",
      "[1, 2, 3, 4, 5, 6, 7]\n",
      "numbers<5\n",
      "[1, 2, 3, 4]\n",
      "odd numbers\n",
      "[1, 3, 5, 7]\n"
     ]
    }
   ],
   "source": [
    "print('input numbers')\n",
    "a=[1,2,3,4,5,6,7]\n",
    "print(a)\n",
    "\n",
    "print('numbers<5')\n",
    "c= list(filter(lambda x:x<5, a))\n",
    "print(c)\n",
    "\n",
    "print('odd numbers')\n",
    "c= list(filter(lambda x:x%2!=0, a))\n",
    "print(c)"
   ]
  },
  {
   "cell_type": "markdown",
   "metadata": {},
   "source": [
    "# Упражнение"
   ]
  },
  {
   "cell_type": "markdown",
   "metadata": {},
   "source": [
    "переписать с использованием фильтров"
   ]
  },
  {
   "cell_type": "code",
   "execution_count": 198,
   "metadata": {},
   "outputs": [
    {
     "name": "stdout",
     "output_type": "stream",
     "text": [
      "['this is 1', 'this is 2', 'this is 3', 'this is 4', 'this is 5', 'this is 6', 'this is 7']\n"
     ]
    }
   ],
   "source": [
    "# 1.\n",
    "c=['this is '+str(ai) for ai in a]\n",
    "print(c)\n",
    "\n",
    "#type you program below\n",
    "\n",
    "\n",
    "#don't forget to check the results"
   ]
  },
  {
   "cell_type": "code",
   "execution_count": 199,
   "metadata": {},
   "outputs": [
    {
     "name": "stdout",
     "output_type": "stream",
     "text": [
      "[1, 2, 3]\n"
     ]
    }
   ],
   "source": [
    "# 2.\n",
    "c=[ai for ai in a if ai<4]\n",
    "print(c)\n",
    "\n",
    "#type you program below\n",
    "\n",
    "\n",
    "#don't forget to check the results"
   ]
  },
  {
   "cell_type": "code",
   "execution_count": 202,
   "metadata": {},
   "outputs": [
    {
     "name": "stdout",
     "output_type": "stream",
     "text": [
      "['0-th element = a1', '1-th element = b2', '2-th element = c3']\n"
     ]
    }
   ],
   "source": [
    "# 3.\n",
    "a=[1,2,3,4]\n",
    "b=['a','b','c','d']\n",
    "c=['%d-th element = %s%d'%(i,bi,ai) for i,(ai,bi) in enumerate(zip(a,b)) if ai<4]\n",
    "print(c)\n",
    "\n",
    "#type you program below  \n",
    "\n",
    "\n",
    "#don't forget to check the results"
   ]
  },
  {
   "cell_type": "markdown",
   "metadata": {},
   "source": [
    "## Упражнение\n",
    "переписать следующий код  для случаев комплексных массивов"
   ]
  },
  {
   "cell_type": "code",
   "execution_count": 2,
   "metadata": {
    "scrolled": true
   },
   "outputs": [
    {
     "name": "stdout",
     "output_type": "stream",
     "text": [
      "10\n"
     ]
    }
   ],
   "source": [
    "import functools as ft\n",
    "a=[1,2,3,4]\n",
    "#functools.reduce\n",
    "\n",
    "#function work like map, but return the operation made on two sequential elements of iterable object\n",
    "c =ft.reduce(lambda x,y:x+y,a) \n",
    "print(c)"
   ]
  },
  {
   "cell_type": "code",
   "execution_count": null,
   "metadata": {},
   "outputs": [],
   "source": [
    "#type you program below  \n",
    "\n",
    "\n",
    "#don't forget to check the results"
   ]
  },
  {
   "cell_type": "code",
   "execution_count": null,
   "metadata": {},
   "outputs": [],
   "source": []
  }
 ],
 "metadata": {
  "kernelspec": {
   "display_name": "Python 3",
   "language": "python",
   "name": "python3"
  },
  "language_info": {
   "codemirror_mode": {
    "name": "ipython",
    "version": 3
   },
   "file_extension": ".py",
   "mimetype": "text/x-python",
   "name": "python",
   "nbconvert_exporter": "python",
   "pygments_lexer": "ipython3",
   "version": "3.5.4"
  }
 },
 "nbformat": 4,
 "nbformat_minor": 2
}
